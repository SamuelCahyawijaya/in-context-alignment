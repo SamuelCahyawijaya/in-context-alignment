{
 "cells": [
  {
   "cell_type": "code",
   "execution_count": 1,
   "id": "54f39529-44af-440d-b721-a06d1424fce4",
   "metadata": {},
   "outputs": [],
   "source": [
    "import os, sys\n",
    "import random\n",
    "import pandas as pd\n",
    "import numpy as np\n",
    "import torch\n",
    "import datasets\n",
    "from datasets import load_dataset"
   ]
  },
  {
   "cell_type": "code",
   "execution_count": 2,
   "id": "ba7fe3d9-884c-4465-a513-c25631bb119b",
   "metadata": {},
   "outputs": [],
   "source": [
    "# Download XNLI Data\n",
    "!wget https://dl.fbaipublicfiles.com/XNLI/XNLI-1.0.zip\n",
    "!unzip XNLI-1.0.zip"
   ]
  },
  {
   "cell_type": "markdown",
   "id": "7538b05f-6644-4ef2-9b03-127cc5d5e65e",
   "metadata": {},
   "source": [
    "# Load Dataset"
   ]
  },
  {
   "cell_type": "code",
   "execution_count": 3,
   "id": "a738ba5a-624f-4428-8f13-992fcf9d977f",
   "metadata": {
    "scrolled": true,
    "tags": []
   },
   "outputs": [
    {
     "name": "stderr",
     "output_type": "stream",
     "text": [
      "Found cached dataset nusatranslation_senti (/home/samuel/.cache/huggingface/datasets/indonlp___nusatranslation_senti/nusatranslation_senti_btk_nusantara_text/1.0.0/84380b9fe1509e8d8d8c7c3c6d475f39181456c63a2fad48e88ceb95a642c952)\n"
     ]
    },
    {
     "data": {
      "application/vnd.jupyter.widget-view+json": {
       "model_id": "80c352f6a81e41078aafb629dc467211",
       "version_major": 2,
       "version_minor": 0
      },
      "text/plain": [
       "  0%|          | 0/3 [00:00<?, ?it/s]"
      ]
     },
     "metadata": {},
     "output_type": "display_data"
    },
    {
     "name": "stderr",
     "output_type": "stream",
     "text": [
      "Found cached dataset nusatranslation_senti (/home/samuel/.cache/huggingface/datasets/indonlp___nusatranslation_senti/nusatranslation_senti_sun_nusantara_text/1.0.0/84380b9fe1509e8d8d8c7c3c6d475f39181456c63a2fad48e88ceb95a642c952)\n"
     ]
    },
    {
     "data": {
      "application/vnd.jupyter.widget-view+json": {
       "model_id": "e6e0f0582955446eb44cb05154667e87",
       "version_major": 2,
       "version_minor": 0
      },
      "text/plain": [
       "  0%|          | 0/3 [00:00<?, ?it/s]"
      ]
     },
     "metadata": {},
     "output_type": "display_data"
    },
    {
     "name": "stderr",
     "output_type": "stream",
     "text": [
      "Found cached dataset nusatranslation_senti (/home/samuel/.cache/huggingface/datasets/indonlp___nusatranslation_senti/nusatranslation_senti_jav_nusantara_text/1.0.0/84380b9fe1509e8d8d8c7c3c6d475f39181456c63a2fad48e88ceb95a642c952)\n"
     ]
    },
    {
     "data": {
      "application/vnd.jupyter.widget-view+json": {
       "model_id": "5936b41b39f64da296e054ee9a77ffa3",
       "version_major": 2,
       "version_minor": 0
      },
      "text/plain": [
       "  0%|          | 0/3 [00:00<?, ?it/s]"
      ]
     },
     "metadata": {},
     "output_type": "display_data"
    },
    {
     "name": "stderr",
     "output_type": "stream",
     "text": [
      "Found cached dataset nusatranslation_senti (/home/samuel/.cache/huggingface/datasets/indonlp___nusatranslation_senti/nusatranslation_senti_mad_nusantara_text/1.0.0/84380b9fe1509e8d8d8c7c3c6d475f39181456c63a2fad48e88ceb95a642c952)\n"
     ]
    },
    {
     "data": {
      "application/vnd.jupyter.widget-view+json": {
       "model_id": "529b320a7da34147a169bdc5fc34f84c",
       "version_major": 2,
       "version_minor": 0
      },
      "text/plain": [
       "  0%|          | 0/3 [00:00<?, ?it/s]"
      ]
     },
     "metadata": {},
     "output_type": "display_data"
    },
    {
     "name": "stderr",
     "output_type": "stream",
     "text": [
      "Found cached dataset nusatranslation_senti (/home/samuel/.cache/huggingface/datasets/indonlp___nusatranslation_senti/nusatranslation_senti_mak_nusantara_text/1.0.0/84380b9fe1509e8d8d8c7c3c6d475f39181456c63a2fad48e88ceb95a642c952)\n"
     ]
    },
    {
     "data": {
      "application/vnd.jupyter.widget-view+json": {
       "model_id": "f9edbd4f17484eccacd3f6204e335d7c",
       "version_major": 2,
       "version_minor": 0
      },
      "text/plain": [
       "  0%|          | 0/3 [00:00<?, ?it/s]"
      ]
     },
     "metadata": {},
     "output_type": "display_data"
    },
    {
     "name": "stderr",
     "output_type": "stream",
     "text": [
      "Found cached dataset nusatranslation_senti (/home/samuel/.cache/huggingface/datasets/indonlp___nusatranslation_senti/nusatranslation_senti_min_nusantara_text/1.0.0/84380b9fe1509e8d8d8c7c3c6d475f39181456c63a2fad48e88ceb95a642c952)\n"
     ]
    },
    {
     "data": {
      "application/vnd.jupyter.widget-view+json": {
       "model_id": "b325bd89b4524d4d88ba53b67214b7a4",
       "version_major": 2,
       "version_minor": 0
      },
      "text/plain": [
       "  0%|          | 0/3 [00:00<?, ?it/s]"
      ]
     },
     "metadata": {},
     "output_type": "display_data"
    },
    {
     "name": "stderr",
     "output_type": "stream",
     "text": [
      "Found cached dataset nusatranslation_mt (/home/samuel/.cache/huggingface/datasets/indonlp___nusatranslation_mt/nusatranslation_mt_btk_ind_nusantara_t2t/1.0.0/7bc55ca0431a2e37367c37eaadf3eb41305c25f22713b09932865f27d6b4c005)\n"
     ]
    },
    {
     "data": {
      "application/vnd.jupyter.widget-view+json": {
       "model_id": "d75fbfc7254848d0b806304e04d3f236",
       "version_major": 2,
       "version_minor": 0
      },
      "text/plain": [
       "  0%|          | 0/3 [00:00<?, ?it/s]"
      ]
     },
     "metadata": {},
     "output_type": "display_data"
    },
    {
     "name": "stderr",
     "output_type": "stream",
     "text": [
      "Found cached dataset nusatranslation_mt (/home/samuel/.cache/huggingface/datasets/indonlp___nusatranslation_mt/nusatranslation_mt_sun_ind_nusantara_t2t/1.0.0/7bc55ca0431a2e37367c37eaadf3eb41305c25f22713b09932865f27d6b4c005)\n"
     ]
    },
    {
     "data": {
      "application/vnd.jupyter.widget-view+json": {
       "model_id": "ed7f0c4c835f490b922c763384d36c95",
       "version_major": 2,
       "version_minor": 0
      },
      "text/plain": [
       "  0%|          | 0/3 [00:00<?, ?it/s]"
      ]
     },
     "metadata": {},
     "output_type": "display_data"
    },
    {
     "name": "stderr",
     "output_type": "stream",
     "text": [
      "Found cached dataset nusatranslation_mt (/home/samuel/.cache/huggingface/datasets/indonlp___nusatranslation_mt/nusatranslation_mt_jav_ind_nusantara_t2t/1.0.0/7bc55ca0431a2e37367c37eaadf3eb41305c25f22713b09932865f27d6b4c005)\n"
     ]
    },
    {
     "data": {
      "application/vnd.jupyter.widget-view+json": {
       "model_id": "828d6343f3b64381a3db328edd2c668a",
       "version_major": 2,
       "version_minor": 0
      },
      "text/plain": [
       "  0%|          | 0/3 [00:00<?, ?it/s]"
      ]
     },
     "metadata": {},
     "output_type": "display_data"
    },
    {
     "name": "stderr",
     "output_type": "stream",
     "text": [
      "Found cached dataset nusatranslation_mt (/home/samuel/.cache/huggingface/datasets/indonlp___nusatranslation_mt/nusatranslation_mt_mad_ind_nusantara_t2t/1.0.0/7bc55ca0431a2e37367c37eaadf3eb41305c25f22713b09932865f27d6b4c005)\n"
     ]
    },
    {
     "data": {
      "application/vnd.jupyter.widget-view+json": {
       "model_id": "1f6d7de1198f44359238a10a455109b2",
       "version_major": 2,
       "version_minor": 0
      },
      "text/plain": [
       "  0%|          | 0/3 [00:00<?, ?it/s]"
      ]
     },
     "metadata": {},
     "output_type": "display_data"
    },
    {
     "name": "stderr",
     "output_type": "stream",
     "text": [
      "Found cached dataset nusatranslation_mt (/home/samuel/.cache/huggingface/datasets/indonlp___nusatranslation_mt/nusatranslation_mt_mak_ind_nusantara_t2t/1.0.0/7bc55ca0431a2e37367c37eaadf3eb41305c25f22713b09932865f27d6b4c005)\n"
     ]
    },
    {
     "data": {
      "application/vnd.jupyter.widget-view+json": {
       "model_id": "d19293896aff4e81ba3e3f811f9b67f8",
       "version_major": 2,
       "version_minor": 0
      },
      "text/plain": [
       "  0%|          | 0/3 [00:00<?, ?it/s]"
      ]
     },
     "metadata": {},
     "output_type": "display_data"
    },
    {
     "name": "stderr",
     "output_type": "stream",
     "text": [
      "Found cached dataset nusatranslation_mt (/home/samuel/.cache/huggingface/datasets/indonlp___nusatranslation_mt/nusatranslation_mt_min_ind_nusantara_t2t/1.0.0/7bc55ca0431a2e37367c37eaadf3eb41305c25f22713b09932865f27d6b4c005)\n"
     ]
    },
    {
     "data": {
      "application/vnd.jupyter.widget-view+json": {
       "model_id": "fb572ec2cf754d53a6fa4ac62a65bac4",
       "version_major": 2,
       "version_minor": 0
      },
      "text/plain": [
       "  0%|          | 0/3 [00:00<?, ?it/s]"
      ]
     },
     "metadata": {},
     "output_type": "display_data"
    },
    {
     "name": "stderr",
     "output_type": "stream",
     "text": [
      "Found cached dataset nusa_x-senti (/home/samuel/.cache/huggingface/datasets/indonlp___nusa_x-senti/bbc/1.0.0/3477a395c5c7a09a74d897ceb96ebd2c3afbd1d7fad0c11d8b8026b8b08e3af5)\n"
     ]
    },
    {
     "data": {
      "application/vnd.jupyter.widget-view+json": {
       "model_id": "3e25b9659c7048d5a86bc913568606d0",
       "version_major": 2,
       "version_minor": 0
      },
      "text/plain": [
       "  0%|          | 0/3 [00:00<?, ?it/s]"
      ]
     },
     "metadata": {},
     "output_type": "display_data"
    },
    {
     "name": "stderr",
     "output_type": "stream",
     "text": [
      "Found cached dataset nusa_x-senti (/home/samuel/.cache/huggingface/datasets/indonlp___nusa_x-senti/sun/1.0.0/3477a395c5c7a09a74d897ceb96ebd2c3afbd1d7fad0c11d8b8026b8b08e3af5)\n"
     ]
    },
    {
     "data": {
      "application/vnd.jupyter.widget-view+json": {
       "model_id": "156c3efe7c884c9dafff389da7ffad80",
       "version_major": 2,
       "version_minor": 0
      },
      "text/plain": [
       "  0%|          | 0/3 [00:00<?, ?it/s]"
      ]
     },
     "metadata": {},
     "output_type": "display_data"
    },
    {
     "name": "stderr",
     "output_type": "stream",
     "text": [
      "Found cached dataset nusa_x-senti (/home/samuel/.cache/huggingface/datasets/indonlp___nusa_x-senti/jav/1.0.0/3477a395c5c7a09a74d897ceb96ebd2c3afbd1d7fad0c11d8b8026b8b08e3af5)\n"
     ]
    },
    {
     "data": {
      "application/vnd.jupyter.widget-view+json": {
       "model_id": "f91889f85c83418b805635750445e082",
       "version_major": 2,
       "version_minor": 0
      },
      "text/plain": [
       "  0%|          | 0/3 [00:00<?, ?it/s]"
      ]
     },
     "metadata": {},
     "output_type": "display_data"
    },
    {
     "name": "stderr",
     "output_type": "stream",
     "text": [
      "Found cached dataset nusa_x-senti (/home/samuel/.cache/huggingface/datasets/indonlp___nusa_x-senti/mad/1.0.0/3477a395c5c7a09a74d897ceb96ebd2c3afbd1d7fad0c11d8b8026b8b08e3af5)\n"
     ]
    },
    {
     "data": {
      "application/vnd.jupyter.widget-view+json": {
       "model_id": "fb8c8e07074042fbb0d872372a22bf28",
       "version_major": 2,
       "version_minor": 0
      },
      "text/plain": [
       "  0%|          | 0/3 [00:00<?, ?it/s]"
      ]
     },
     "metadata": {},
     "output_type": "display_data"
    },
    {
     "name": "stderr",
     "output_type": "stream",
     "text": [
      "Found cached dataset nusa_x-senti (/home/samuel/.cache/huggingface/datasets/indonlp___nusa_x-senti/bug/1.0.0/3477a395c5c7a09a74d897ceb96ebd2c3afbd1d7fad0c11d8b8026b8b08e3af5)\n"
     ]
    },
    {
     "data": {
      "application/vnd.jupyter.widget-view+json": {
       "model_id": "21651728d84d4afea251ac6e668db454",
       "version_major": 2,
       "version_minor": 0
      },
      "text/plain": [
       "  0%|          | 0/3 [00:00<?, ?it/s]"
      ]
     },
     "metadata": {},
     "output_type": "display_data"
    },
    {
     "name": "stderr",
     "output_type": "stream",
     "text": [
      "Found cached dataset nusa_x-senti (/home/samuel/.cache/huggingface/datasets/indonlp___nusa_x-senti/min/1.0.0/3477a395c5c7a09a74d897ceb96ebd2c3afbd1d7fad0c11d8b8026b8b08e3af5)\n"
     ]
    },
    {
     "data": {
      "application/vnd.jupyter.widget-view+json": {
       "model_id": "a8e2736da7ef4ba8a4c01bdc80d62034",
       "version_major": 2,
       "version_minor": 0
      },
      "text/plain": [
       "  0%|          | 0/3 [00:00<?, ?it/s]"
      ]
     },
     "metadata": {},
     "output_type": "display_data"
    },
    {
     "name": "stderr",
     "output_type": "stream",
     "text": [
      "Found cached dataset nusa_x-senti (/home/samuel/.cache/huggingface/datasets/indonlp___nusa_x-senti/ind/1.0.0/3477a395c5c7a09a74d897ceb96ebd2c3afbd1d7fad0c11d8b8026b8b08e3af5)\n"
     ]
    },
    {
     "data": {
      "application/vnd.jupyter.widget-view+json": {
       "model_id": "caaee0fdcbd248c3a5ea5daac88ca7ee",
       "version_major": 2,
       "version_minor": 0
      },
      "text/plain": [
       "  0%|          | 0/3 [00:00<?, ?it/s]"
      ]
     },
     "metadata": {},
     "output_type": "display_data"
    },
    {
     "name": "stderr",
     "output_type": "stream",
     "text": [
      "Found cached dataset nusa_x-senti (/home/samuel/.cache/huggingface/datasets/indonlp___nusa_x-senti/eng/1.0.0/3477a395c5c7a09a74d897ceb96ebd2c3afbd1d7fad0c11d8b8026b8b08e3af5)\n"
     ]
    },
    {
     "data": {
      "application/vnd.jupyter.widget-view+json": {
       "model_id": "520890548dd8408da1ea0260d13b4630",
       "version_major": 2,
       "version_minor": 0
      },
      "text/plain": [
       "  0%|          | 0/3 [00:00<?, ?it/s]"
      ]
     },
     "metadata": {},
     "output_type": "display_data"
    },
    {
     "name": "stderr",
     "output_type": "stream",
     "text": [
      "Found cached dataset nusa_x-mt (/home/samuel/.cache/huggingface/datasets/indonlp___nusa_x-mt/bbc-ind/1.0.0/875114470acfddba36384fe519329688cdf068ecbffed136c7d2a4c63f8e60d0)\n"
     ]
    },
    {
     "data": {
      "application/vnd.jupyter.widget-view+json": {
       "model_id": "30ed6bdc20214d6fb3f4019305d2f31b",
       "version_major": 2,
       "version_minor": 0
      },
      "text/plain": [
       "  0%|          | 0/3 [00:00<?, ?it/s]"
      ]
     },
     "metadata": {},
     "output_type": "display_data"
    },
    {
     "name": "stderr",
     "output_type": "stream",
     "text": [
      "Found cached dataset nusa_x-mt (/home/samuel/.cache/huggingface/datasets/indonlp___nusa_x-mt/sun-ind/1.0.0/875114470acfddba36384fe519329688cdf068ecbffed136c7d2a4c63f8e60d0)\n"
     ]
    },
    {
     "data": {
      "application/vnd.jupyter.widget-view+json": {
       "model_id": "5c7a59eef9b84f1890fc18ac92ff5d21",
       "version_major": 2,
       "version_minor": 0
      },
      "text/plain": [
       "  0%|          | 0/3 [00:00<?, ?it/s]"
      ]
     },
     "metadata": {},
     "output_type": "display_data"
    },
    {
     "name": "stderr",
     "output_type": "stream",
     "text": [
      "Found cached dataset nusa_x-mt (/home/samuel/.cache/huggingface/datasets/indonlp___nusa_x-mt/jav-ind/1.0.0/875114470acfddba36384fe519329688cdf068ecbffed136c7d2a4c63f8e60d0)\n"
     ]
    },
    {
     "data": {
      "application/vnd.jupyter.widget-view+json": {
       "model_id": "f2cc16c62f93454cb9f6ad979d140673",
       "version_major": 2,
       "version_minor": 0
      },
      "text/plain": [
       "  0%|          | 0/3 [00:00<?, ?it/s]"
      ]
     },
     "metadata": {},
     "output_type": "display_data"
    },
    {
     "name": "stderr",
     "output_type": "stream",
     "text": [
      "Found cached dataset nusa_x-mt (/home/samuel/.cache/huggingface/datasets/indonlp___nusa_x-mt/mad-ind/1.0.0/875114470acfddba36384fe519329688cdf068ecbffed136c7d2a4c63f8e60d0)\n"
     ]
    },
    {
     "data": {
      "application/vnd.jupyter.widget-view+json": {
       "model_id": "82c4b6f1f1e3410993a632c3119d0b0c",
       "version_major": 2,
       "version_minor": 0
      },
      "text/plain": [
       "  0%|          | 0/3 [00:00<?, ?it/s]"
      ]
     },
     "metadata": {},
     "output_type": "display_data"
    },
    {
     "name": "stderr",
     "output_type": "stream",
     "text": [
      "Found cached dataset nusa_x-mt (/home/samuel/.cache/huggingface/datasets/indonlp___nusa_x-mt/bug-ind/1.0.0/875114470acfddba36384fe519329688cdf068ecbffed136c7d2a4c63f8e60d0)\n"
     ]
    },
    {
     "data": {
      "application/vnd.jupyter.widget-view+json": {
       "model_id": "4a9927fd0ebf43be9c8887fe1d2fd20e",
       "version_major": 2,
       "version_minor": 0
      },
      "text/plain": [
       "  0%|          | 0/3 [00:00<?, ?it/s]"
      ]
     },
     "metadata": {},
     "output_type": "display_data"
    },
    {
     "name": "stderr",
     "output_type": "stream",
     "text": [
      "Found cached dataset nusa_x-mt (/home/samuel/.cache/huggingface/datasets/indonlp___nusa_x-mt/min-ind/1.0.0/875114470acfddba36384fe519329688cdf068ecbffed136c7d2a4c63f8e60d0)\n"
     ]
    },
    {
     "data": {
      "application/vnd.jupyter.widget-view+json": {
       "model_id": "87a37fa8d6e443b7a0d6f854633fb49d",
       "version_major": 2,
       "version_minor": 0
      },
      "text/plain": [
       "  0%|          | 0/3 [00:00<?, ?it/s]"
      ]
     },
     "metadata": {},
     "output_type": "display_data"
    },
    {
     "name": "stderr",
     "output_type": "stream",
     "text": [
      "Found cached dataset nusa_x-mt (/home/samuel/.cache/huggingface/datasets/indonlp___nusa_x-mt/bbc-eng/1.0.0/875114470acfddba36384fe519329688cdf068ecbffed136c7d2a4c63f8e60d0)\n"
     ]
    },
    {
     "data": {
      "application/vnd.jupyter.widget-view+json": {
       "model_id": "dcf77aec806441b1a1100c71ce4b7ef0",
       "version_major": 2,
       "version_minor": 0
      },
      "text/plain": [
       "  0%|          | 0/3 [00:00<?, ?it/s]"
      ]
     },
     "metadata": {},
     "output_type": "display_data"
    },
    {
     "name": "stderr",
     "output_type": "stream",
     "text": [
      "Found cached dataset nusa_x-mt (/home/samuel/.cache/huggingface/datasets/indonlp___nusa_x-mt/sun-eng/1.0.0/875114470acfddba36384fe519329688cdf068ecbffed136c7d2a4c63f8e60d0)\n"
     ]
    },
    {
     "data": {
      "application/vnd.jupyter.widget-view+json": {
       "model_id": "52f0b90581a542799e6d7a75396bf041",
       "version_major": 2,
       "version_minor": 0
      },
      "text/plain": [
       "  0%|          | 0/3 [00:00<?, ?it/s]"
      ]
     },
     "metadata": {},
     "output_type": "display_data"
    },
    {
     "name": "stderr",
     "output_type": "stream",
     "text": [
      "Found cached dataset nusa_x-mt (/home/samuel/.cache/huggingface/datasets/indonlp___nusa_x-mt/jav-eng/1.0.0/875114470acfddba36384fe519329688cdf068ecbffed136c7d2a4c63f8e60d0)\n"
     ]
    },
    {
     "data": {
      "application/vnd.jupyter.widget-view+json": {
       "model_id": "cd1795759c9f4cdab933a70c4dda1170",
       "version_major": 2,
       "version_minor": 0
      },
      "text/plain": [
       "  0%|          | 0/3 [00:00<?, ?it/s]"
      ]
     },
     "metadata": {},
     "output_type": "display_data"
    },
    {
     "name": "stderr",
     "output_type": "stream",
     "text": [
      "Found cached dataset nusa_x-mt (/home/samuel/.cache/huggingface/datasets/indonlp___nusa_x-mt/mad-eng/1.0.0/875114470acfddba36384fe519329688cdf068ecbffed136c7d2a4c63f8e60d0)\n"
     ]
    },
    {
     "data": {
      "application/vnd.jupyter.widget-view+json": {
       "model_id": "2085ce2af3bf411781bb332baba56ab5",
       "version_major": 2,
       "version_minor": 0
      },
      "text/plain": [
       "  0%|          | 0/3 [00:00<?, ?it/s]"
      ]
     },
     "metadata": {},
     "output_type": "display_data"
    },
    {
     "name": "stderr",
     "output_type": "stream",
     "text": [
      "Found cached dataset nusa_x-mt (/home/samuel/.cache/huggingface/datasets/indonlp___nusa_x-mt/bug-eng/1.0.0/875114470acfddba36384fe519329688cdf068ecbffed136c7d2a4c63f8e60d0)\n"
     ]
    },
    {
     "data": {
      "application/vnd.jupyter.widget-view+json": {
       "model_id": "ae78842527a241b283cdc87bffeacc59",
       "version_major": 2,
       "version_minor": 0
      },
      "text/plain": [
       "  0%|          | 0/3 [00:00<?, ?it/s]"
      ]
     },
     "metadata": {},
     "output_type": "display_data"
    },
    {
     "name": "stderr",
     "output_type": "stream",
     "text": [
      "Found cached dataset nusa_x-mt (/home/samuel/.cache/huggingface/datasets/indonlp___nusa_x-mt/min-eng/1.0.0/875114470acfddba36384fe519329688cdf068ecbffed136c7d2a4c63f8e60d0)\n"
     ]
    },
    {
     "data": {
      "application/vnd.jupyter.widget-view+json": {
       "model_id": "d513463f1a954cb5a7fb5b939f11d2e4",
       "version_major": 2,
       "version_minor": 0
      },
      "text/plain": [
       "  0%|          | 0/3 [00:00<?, ?it/s]"
      ]
     },
     "metadata": {},
     "output_type": "display_data"
    },
    {
     "name": "stderr",
     "output_type": "stream",
     "text": [
      "Found cached dataset masakhanews (/home/samuel/.cache/huggingface/datasets/masakhane___masakhanews/amh/1.0.0/c60334474cec1d13c0c3018e138cd8b60bc6443fa5e25258d65d990b2498403f)\n"
     ]
    },
    {
     "data": {
      "application/vnd.jupyter.widget-view+json": {
       "model_id": "bf6e33cae7be4fb9baf72f2aa2147bec",
       "version_major": 2,
       "version_minor": 0
      },
      "text/plain": [
       "  0%|          | 0/3 [00:00<?, ?it/s]"
      ]
     },
     "metadata": {},
     "output_type": "display_data"
    },
    {
     "name": "stderr",
     "output_type": "stream",
     "text": [
      "Found cached dataset masakhanews (/home/samuel/.cache/huggingface/datasets/masakhane___masakhanews/hau/1.0.0/c60334474cec1d13c0c3018e138cd8b60bc6443fa5e25258d65d990b2498403f)\n"
     ]
    },
    {
     "data": {
      "application/vnd.jupyter.widget-view+json": {
       "model_id": "c783220e4dd34992a502e177fcdbece5",
       "version_major": 2,
       "version_minor": 0
      },
      "text/plain": [
       "  0%|          | 0/3 [00:00<?, ?it/s]"
      ]
     },
     "metadata": {},
     "output_type": "display_data"
    },
    {
     "name": "stderr",
     "output_type": "stream",
     "text": [
      "Found cached dataset masakhanews (/home/samuel/.cache/huggingface/datasets/masakhane___masakhanews/ibo/1.0.0/c60334474cec1d13c0c3018e138cd8b60bc6443fa5e25258d65d990b2498403f)\n"
     ]
    },
    {
     "data": {
      "application/vnd.jupyter.widget-view+json": {
       "model_id": "4c196add138f4cbda3562b3af61d5d91",
       "version_major": 2,
       "version_minor": 0
      },
      "text/plain": [
       "  0%|          | 0/3 [00:00<?, ?it/s]"
      ]
     },
     "metadata": {},
     "output_type": "display_data"
    },
    {
     "name": "stderr",
     "output_type": "stream",
     "text": [
      "Found cached dataset masakhanews (/home/samuel/.cache/huggingface/datasets/masakhane___masakhanews/lug/1.0.0/c60334474cec1d13c0c3018e138cd8b60bc6443fa5e25258d65d990b2498403f)\n"
     ]
    },
    {
     "data": {
      "application/vnd.jupyter.widget-view+json": {
       "model_id": "c3ff51b05d35420487b9b5acda3f718e",
       "version_major": 2,
       "version_minor": 0
      },
      "text/plain": [
       "  0%|          | 0/3 [00:00<?, ?it/s]"
      ]
     },
     "metadata": {},
     "output_type": "display_data"
    },
    {
     "name": "stderr",
     "output_type": "stream",
     "text": [
      "Found cached dataset masakhanews (/home/samuel/.cache/huggingface/datasets/masakhane___masakhanews/pcm/1.0.0/c60334474cec1d13c0c3018e138cd8b60bc6443fa5e25258d65d990b2498403f)\n"
     ]
    },
    {
     "data": {
      "application/vnd.jupyter.widget-view+json": {
       "model_id": "8e9ed1aec45049d0ac11bad5159cf084",
       "version_major": 2,
       "version_minor": 0
      },
      "text/plain": [
       "  0%|          | 0/3 [00:00<?, ?it/s]"
      ]
     },
     "metadata": {},
     "output_type": "display_data"
    },
    {
     "name": "stderr",
     "output_type": "stream",
     "text": [
      "Found cached dataset masakhanews (/home/samuel/.cache/huggingface/datasets/masakhane___masakhanews/sna/1.0.0/c60334474cec1d13c0c3018e138cd8b60bc6443fa5e25258d65d990b2498403f)\n"
     ]
    },
    {
     "data": {
      "application/vnd.jupyter.widget-view+json": {
       "model_id": "9b585c4237c14c8d89d9116fea3c259b",
       "version_major": 2,
       "version_minor": 0
      },
      "text/plain": [
       "  0%|          | 0/3 [00:00<?, ?it/s]"
      ]
     },
     "metadata": {},
     "output_type": "display_data"
    },
    {
     "name": "stderr",
     "output_type": "stream",
     "text": [
      "Found cached dataset masakhanews (/home/samuel/.cache/huggingface/datasets/masakhane___masakhanews/swa/1.0.0/c60334474cec1d13c0c3018e138cd8b60bc6443fa5e25258d65d990b2498403f)\n"
     ]
    },
    {
     "data": {
      "application/vnd.jupyter.widget-view+json": {
       "model_id": "05c0434adc094ba3a019030f89f5ada9",
       "version_major": 2,
       "version_minor": 0
      },
      "text/plain": [
       "  0%|          | 0/3 [00:00<?, ?it/s]"
      ]
     },
     "metadata": {},
     "output_type": "display_data"
    },
    {
     "name": "stderr",
     "output_type": "stream",
     "text": [
      "Found cached dataset masakhanews (/home/samuel/.cache/huggingface/datasets/masakhane___masakhanews/xho/1.0.0/c60334474cec1d13c0c3018e138cd8b60bc6443fa5e25258d65d990b2498403f)\n"
     ]
    },
    {
     "data": {
      "application/vnd.jupyter.widget-view+json": {
       "model_id": "92f24c57dac447b2b1abe65863e81380",
       "version_major": 2,
       "version_minor": 0
      },
      "text/plain": [
       "  0%|          | 0/3 [00:00<?, ?it/s]"
      ]
     },
     "metadata": {},
     "output_type": "display_data"
    },
    {
     "name": "stderr",
     "output_type": "stream",
     "text": [
      "Found cached dataset masakhanews (/home/samuel/.cache/huggingface/datasets/masakhane___masakhanews/yor/1.0.0/c60334474cec1d13c0c3018e138cd8b60bc6443fa5e25258d65d990b2498403f)\n"
     ]
    },
    {
     "data": {
      "application/vnd.jupyter.widget-view+json": {
       "model_id": "45b7f17b3233486499a1f24075693a53",
       "version_major": 2,
       "version_minor": 0
      },
      "text/plain": [
       "  0%|          | 0/3 [00:00<?, ?it/s]"
      ]
     },
     "metadata": {},
     "output_type": "display_data"
    },
    {
     "name": "stderr",
     "output_type": "stream",
     "text": [
      "Found cached dataset masakhanews (/home/samuel/.cache/huggingface/datasets/masakhane___masakhanews/eng/1.0.0/c60334474cec1d13c0c3018e138cd8b60bc6443fa5e25258d65d990b2498403f)\n"
     ]
    },
    {
     "data": {
      "application/vnd.jupyter.widget-view+json": {
       "model_id": "f52fa42da3aa4c09a9464295a50efbaa",
       "version_major": 2,
       "version_minor": 0
      },
      "text/plain": [
       "  0%|          | 0/3 [00:00<?, ?it/s]"
      ]
     },
     "metadata": {},
     "output_type": "display_data"
    },
    {
     "name": "stderr",
     "output_type": "stream",
     "text": [
      "Found cached dataset mafand (/home/samuel/.cache/huggingface/datasets/masakhane___mafand/en-amh/1.0.0/9d9e4635f1deeddd2d72e959a6bcd39d9450d019c262e4c5d9a3d6f24387e937)\n"
     ]
    },
    {
     "data": {
      "application/vnd.jupyter.widget-view+json": {
       "model_id": "ef6ebcf008a5436c8120ac4391e56303",
       "version_major": 2,
       "version_minor": 0
      },
      "text/plain": [
       "  0%|          | 0/2 [00:00<?, ?it/s]"
      ]
     },
     "metadata": {},
     "output_type": "display_data"
    },
    {
     "name": "stderr",
     "output_type": "stream",
     "text": [
      "Found cached dataset mafand (/home/samuel/.cache/huggingface/datasets/masakhane___mafand/en-hau/1.0.0/9d9e4635f1deeddd2d72e959a6bcd39d9450d019c262e4c5d9a3d6f24387e937)\n"
     ]
    },
    {
     "data": {
      "application/vnd.jupyter.widget-view+json": {
       "model_id": "4ec66bc45dbb4bb48526168a3fdbe1f0",
       "version_major": 2,
       "version_minor": 0
      },
      "text/plain": [
       "  0%|          | 0/3 [00:00<?, ?it/s]"
      ]
     },
     "metadata": {},
     "output_type": "display_data"
    },
    {
     "name": "stderr",
     "output_type": "stream",
     "text": [
      "Found cached dataset mafand (/home/samuel/.cache/huggingface/datasets/masakhane___mafand/en-ibo/1.0.0/9d9e4635f1deeddd2d72e959a6bcd39d9450d019c262e4c5d9a3d6f24387e937)\n"
     ]
    },
    {
     "data": {
      "application/vnd.jupyter.widget-view+json": {
       "model_id": "7c5478084cb2496f937e3518f11ea9e0",
       "version_major": 2,
       "version_minor": 0
      },
      "text/plain": [
       "  0%|          | 0/3 [00:00<?, ?it/s]"
      ]
     },
     "metadata": {},
     "output_type": "display_data"
    },
    {
     "name": "stderr",
     "output_type": "stream",
     "text": [
      "Found cached dataset mafand (/home/samuel/.cache/huggingface/datasets/masakhane___mafand/en-lug/1.0.0/9d9e4635f1deeddd2d72e959a6bcd39d9450d019c262e4c5d9a3d6f24387e937)\n"
     ]
    },
    {
     "data": {
      "application/vnd.jupyter.widget-view+json": {
       "model_id": "490221d454834f8b8068ea83c7881a5a",
       "version_major": 2,
       "version_minor": 0
      },
      "text/plain": [
       "  0%|          | 0/3 [00:00<?, ?it/s]"
      ]
     },
     "metadata": {},
     "output_type": "display_data"
    },
    {
     "name": "stderr",
     "output_type": "stream",
     "text": [
      "Found cached dataset mafand (/home/samuel/.cache/huggingface/datasets/masakhane___mafand/en-pcm/1.0.0/9d9e4635f1deeddd2d72e959a6bcd39d9450d019c262e4c5d9a3d6f24387e937)\n"
     ]
    },
    {
     "data": {
      "application/vnd.jupyter.widget-view+json": {
       "model_id": "47492a75aeea49ee9e7a37cf771fcee0",
       "version_major": 2,
       "version_minor": 0
      },
      "text/plain": [
       "  0%|          | 0/3 [00:00<?, ?it/s]"
      ]
     },
     "metadata": {},
     "output_type": "display_data"
    },
    {
     "name": "stderr",
     "output_type": "stream",
     "text": [
      "Found cached dataset mafand (/home/samuel/.cache/huggingface/datasets/masakhane___mafand/en-sna/1.0.0/9d9e4635f1deeddd2d72e959a6bcd39d9450d019c262e4c5d9a3d6f24387e937)\n"
     ]
    },
    {
     "data": {
      "application/vnd.jupyter.widget-view+json": {
       "model_id": "a69569d59edc4663ac7fafd3a0414ced",
       "version_major": 2,
       "version_minor": 0
      },
      "text/plain": [
       "  0%|          | 0/2 [00:00<?, ?it/s]"
      ]
     },
     "metadata": {},
     "output_type": "display_data"
    },
    {
     "name": "stderr",
     "output_type": "stream",
     "text": [
      "Found cached dataset mafand (/home/samuel/.cache/huggingface/datasets/masakhane___mafand/en-swa/1.0.0/9d9e4635f1deeddd2d72e959a6bcd39d9450d019c262e4c5d9a3d6f24387e937)\n"
     ]
    },
    {
     "data": {
      "application/vnd.jupyter.widget-view+json": {
       "model_id": "00b0451c9a9f4f46a86ecc5f0648ccd2",
       "version_major": 2,
       "version_minor": 0
      },
      "text/plain": [
       "  0%|          | 0/3 [00:00<?, ?it/s]"
      ]
     },
     "metadata": {},
     "output_type": "display_data"
    },
    {
     "name": "stderr",
     "output_type": "stream",
     "text": [
      "Found cached dataset mafand (/home/samuel/.cache/huggingface/datasets/masakhane___mafand/en-xho/1.0.0/9d9e4635f1deeddd2d72e959a6bcd39d9450d019c262e4c5d9a3d6f24387e937)\n"
     ]
    },
    {
     "data": {
      "application/vnd.jupyter.widget-view+json": {
       "model_id": "87c25bde3bdb42519fed926c7bf6be85",
       "version_major": 2,
       "version_minor": 0
      },
      "text/plain": [
       "  0%|          | 0/2 [00:00<?, ?it/s]"
      ]
     },
     "metadata": {},
     "output_type": "display_data"
    },
    {
     "name": "stderr",
     "output_type": "stream",
     "text": [
      "Found cached dataset mafand (/home/samuel/.cache/huggingface/datasets/masakhane___mafand/en-yor/1.0.0/9d9e4635f1deeddd2d72e959a6bcd39d9450d019c262e4c5d9a3d6f24387e937)\n"
     ]
    },
    {
     "data": {
      "application/vnd.jupyter.widget-view+json": {
       "model_id": "f1fb2ee993c949188547759a5ee3bf21",
       "version_major": 2,
       "version_minor": 0
      },
      "text/plain": [
       "  0%|          | 0/3 [00:00<?, ?it/s]"
      ]
     },
     "metadata": {},
     "output_type": "display_data"
    },
    {
     "name": "stderr",
     "output_type": "stream",
     "text": [
      "Found cached dataset americas_nli (/home/samuel/.cache/huggingface/datasets/americas_nli/aym/1.0.0/2f4cd00b49c982fa8827cb332b2a2dbb692aa8a7cd34432fc476efeb7fee375a)\n"
     ]
    },
    {
     "data": {
      "application/vnd.jupyter.widget-view+json": {
       "model_id": "33b9880556a4457e83b8d6dee32c60d8",
       "version_major": 2,
       "version_minor": 0
      },
      "text/plain": [
       "  0%|          | 0/2 [00:00<?, ?it/s]"
      ]
     },
     "metadata": {},
     "output_type": "display_data"
    },
    {
     "name": "stderr",
     "output_type": "stream",
     "text": [
      "Found cached dataset americas_nli (/home/samuel/.cache/huggingface/datasets/americas_nli/bzd/1.0.0/2f4cd00b49c982fa8827cb332b2a2dbb692aa8a7cd34432fc476efeb7fee375a)\n"
     ]
    },
    {
     "data": {
      "application/vnd.jupyter.widget-view+json": {
       "model_id": "8d24db59e9b6459cbba2a06a8dd69de0",
       "version_major": 2,
       "version_minor": 0
      },
      "text/plain": [
       "  0%|          | 0/2 [00:00<?, ?it/s]"
      ]
     },
     "metadata": {},
     "output_type": "display_data"
    },
    {
     "name": "stderr",
     "output_type": "stream",
     "text": [
      "Found cached dataset americas_nli (/home/samuel/.cache/huggingface/datasets/americas_nli/cni/1.0.0/2f4cd00b49c982fa8827cb332b2a2dbb692aa8a7cd34432fc476efeb7fee375a)\n"
     ]
    },
    {
     "data": {
      "application/vnd.jupyter.widget-view+json": {
       "model_id": "9f60f7f2ec5842c3ab442bbc929b4d39",
       "version_major": 2,
       "version_minor": 0
      },
      "text/plain": [
       "  0%|          | 0/2 [00:00<?, ?it/s]"
      ]
     },
     "metadata": {},
     "output_type": "display_data"
    },
    {
     "name": "stderr",
     "output_type": "stream",
     "text": [
      "Found cached dataset americas_nli (/home/samuel/.cache/huggingface/datasets/americas_nli/gn/1.0.0/2f4cd00b49c982fa8827cb332b2a2dbb692aa8a7cd34432fc476efeb7fee375a)\n"
     ]
    },
    {
     "data": {
      "application/vnd.jupyter.widget-view+json": {
       "model_id": "45d1819003964fc88a60f23569b89788",
       "version_major": 2,
       "version_minor": 0
      },
      "text/plain": [
       "  0%|          | 0/2 [00:00<?, ?it/s]"
      ]
     },
     "metadata": {},
     "output_type": "display_data"
    },
    {
     "name": "stderr",
     "output_type": "stream",
     "text": [
      "Found cached dataset americas_nli (/home/samuel/.cache/huggingface/datasets/americas_nli/hch/1.0.0/2f4cd00b49c982fa8827cb332b2a2dbb692aa8a7cd34432fc476efeb7fee375a)\n"
     ]
    },
    {
     "data": {
      "application/vnd.jupyter.widget-view+json": {
       "model_id": "5201f1d92cdd4a95a2343a8b11f23d08",
       "version_major": 2,
       "version_minor": 0
      },
      "text/plain": [
       "  0%|          | 0/2 [00:00<?, ?it/s]"
      ]
     },
     "metadata": {},
     "output_type": "display_data"
    },
    {
     "name": "stderr",
     "output_type": "stream",
     "text": [
      "Found cached dataset americas_nli (/home/samuel/.cache/huggingface/datasets/americas_nli/nah/1.0.0/2f4cd00b49c982fa8827cb332b2a2dbb692aa8a7cd34432fc476efeb7fee375a)\n"
     ]
    },
    {
     "data": {
      "application/vnd.jupyter.widget-view+json": {
       "model_id": "9d4afd15299e464f95e590443882df78",
       "version_major": 2,
       "version_minor": 0
      },
      "text/plain": [
       "  0%|          | 0/2 [00:00<?, ?it/s]"
      ]
     },
     "metadata": {},
     "output_type": "display_data"
    },
    {
     "name": "stderr",
     "output_type": "stream",
     "text": [
      "Found cached dataset americas_nli (/home/samuel/.cache/huggingface/datasets/americas_nli/oto/1.0.0/2f4cd00b49c982fa8827cb332b2a2dbb692aa8a7cd34432fc476efeb7fee375a)\n"
     ]
    },
    {
     "data": {
      "application/vnd.jupyter.widget-view+json": {
       "model_id": "6d4c7729ec304ac8ae6721a6de2eff3e",
       "version_major": 2,
       "version_minor": 0
      },
      "text/plain": [
       "  0%|          | 0/2 [00:00<?, ?it/s]"
      ]
     },
     "metadata": {},
     "output_type": "display_data"
    },
    {
     "name": "stderr",
     "output_type": "stream",
     "text": [
      "Found cached dataset americas_nli (/home/samuel/.cache/huggingface/datasets/americas_nli/quy/1.0.0/2f4cd00b49c982fa8827cb332b2a2dbb692aa8a7cd34432fc476efeb7fee375a)\n"
     ]
    },
    {
     "data": {
      "application/vnd.jupyter.widget-view+json": {
       "model_id": "946011fa94f44c18bb97fa676e79f61a",
       "version_major": 2,
       "version_minor": 0
      },
      "text/plain": [
       "  0%|          | 0/2 [00:00<?, ?it/s]"
      ]
     },
     "metadata": {},
     "output_type": "display_data"
    },
    {
     "name": "stderr",
     "output_type": "stream",
     "text": [
      "Found cached dataset americas_nli (/home/samuel/.cache/huggingface/datasets/americas_nli/shp/1.0.0/2f4cd00b49c982fa8827cb332b2a2dbb692aa8a7cd34432fc476efeb7fee375a)\n"
     ]
    },
    {
     "data": {
      "application/vnd.jupyter.widget-view+json": {
       "model_id": "bec5c7064cac488fa4db9c6067254a0e",
       "version_major": 2,
       "version_minor": 0
      },
      "text/plain": [
       "  0%|          | 0/2 [00:00<?, ?it/s]"
      ]
     },
     "metadata": {},
     "output_type": "display_data"
    },
    {
     "name": "stderr",
     "output_type": "stream",
     "text": [
      "Found cached dataset americas_nli (/home/samuel/.cache/huggingface/datasets/americas_nli/tar/1.0.0/2f4cd00b49c982fa8827cb332b2a2dbb692aa8a7cd34432fc476efeb7fee375a)\n"
     ]
    },
    {
     "data": {
      "application/vnd.jupyter.widget-view+json": {
       "model_id": "f1c9a69941f44ffb81ca4095b0c99bdd",
       "version_major": 2,
       "version_minor": 0
      },
      "text/plain": [
       "  0%|          | 0/2 [00:00<?, ?it/s]"
      ]
     },
     "metadata": {},
     "output_type": "display_data"
    },
    {
     "name": "stderr",
     "output_type": "stream",
     "text": [
      "Found cached dataset xnli (/home/samuel/.cache/huggingface/datasets/xnli/es/1.1.0/818164464f9c9fd15776ca8a00423b074344c3e929d00a2c1a84aa5a50c928bd)\n"
     ]
    },
    {
     "data": {
      "application/vnd.jupyter.widget-view+json": {
       "model_id": "6525dd720c1d4350bd1733fadf20fbd3",
       "version_major": 2,
       "version_minor": 0
      },
      "text/plain": [
       "  0%|          | 0/3 [00:00<?, ?it/s]"
      ]
     },
     "metadata": {},
     "output_type": "display_data"
    }
   ],
   "source": [
    "# NusaTranslation Senti\n",
    "nt_senti_dset = {\n",
    "\t\"btk\": load_dataset(\"indonlp/nusatranslation_senti\", name=\"nusatranslation_senti_btk_nusantara_text\"),\n",
    "\t\"sun\": load_dataset(\"indonlp/nusatranslation_senti\", name=\"nusatranslation_senti_sun_nusantara_text\"),\n",
    "\t\"jav\": load_dataset(\"indonlp/nusatranslation_senti\", name=\"nusatranslation_senti_jav_nusantara_text\"),\n",
    "\t\"mad\": load_dataset(\"indonlp/nusatranslation_senti\", name=\"nusatranslation_senti_mad_nusantara_text\"),\n",
    "\t\"mak\": load_dataset(\"indonlp/nusatranslation_senti\", name=\"nusatranslation_senti_mak_nusantara_text\"),\n",
    "\t\"min\": load_dataset(\"indonlp/nusatranslation_senti\", name=\"nusatranslation_senti_min_nusantara_text\"),\n",
    "}\n",
    "\n",
    "# NusaTranslation MT\n",
    "nt_mt_dset = {\n",
    "\t\"btk\": load_dataset(\"indonlp/nusatranslation_mt\", name=\"nusatranslation_mt_btk_ind_nusantara_t2t\"),\n",
    "\t\"sun\": load_dataset(\"indonlp/nusatranslation_mt\", name=\"nusatranslation_mt_sun_ind_nusantara_t2t\"),\n",
    "\t\"jav\": load_dataset(\"indonlp/nusatranslation_mt\", name=\"nusatranslation_mt_jav_ind_nusantara_t2t\"),\n",
    "\t\"mad\": load_dataset(\"indonlp/nusatranslation_mt\", name=\"nusatranslation_mt_mad_ind_nusantara_t2t\"),\n",
    "\t\"mak\": load_dataset(\"indonlp/nusatranslation_mt\", name=\"nusatranslation_mt_mak_ind_nusantara_t2t\"),\n",
    "\t\"min\": load_dataset(\"indonlp/nusatranslation_mt\", name=\"nusatranslation_mt_min_ind_nusantara_t2t\"),\n",
    "}\n",
    "\n",
    "# NusaX Senti\n",
    "nusax_senti_dset = {\n",
    "\t\"btk\": load_dataset(\"indonlp/NusaX-senti\", name=\"bbc\"),\n",
    "\t\"sun\": load_dataset(\"indonlp/NusaX-senti\", name=\"sun\"),\n",
    "\t\"jav\": load_dataset(\"indonlp/NusaX-senti\", name=\"jav\"),\n",
    "\t\"mad\": load_dataset(\"indonlp/NusaX-senti\", name=\"mad\"),\n",
    "\t\"mak\": load_dataset(\"indonlp/NusaX-senti\", name=\"bug\"),\n",
    "\t\"min\": load_dataset(\"indonlp/NusaX-senti\", name=\"min\"),\n",
    "\t\"ind\": load_dataset(\"indonlp/NusaX-senti\", name=\"ind\"), # For X-ICL\n",
    "\t\"eng\": load_dataset(\"indonlp/NusaX-senti\", name=\"eng\"), # For X-ICL\n",
    "}\n",
    "\n",
    "# NusaX MT ind\n",
    "nusax_mt_ind_dset = {\n",
    "\t\"btk\": load_dataset(\"indonlp/NusaX-MT\", name=\"bbc-ind\"), # For TIA\n",
    "\t\"sun\": load_dataset(\"indonlp/NusaX-MT\", name=\"sun-ind\"), # For TIA\n",
    "\t\"jav\": load_dataset(\"indonlp/NusaX-MT\", name=\"jav-ind\"), # For TIA\n",
    "\t\"mad\": load_dataset(\"indonlp/NusaX-MT\", name=\"mad-ind\"), # For TIA\n",
    "\t\"mak\": load_dataset(\"indonlp/NusaX-MT\", name=\"bug-ind\"), # For TIA\n",
    "\t\"min\": load_dataset(\"indonlp/NusaX-MT\", name=\"min-ind\"), # For TIA\n",
    "}\n",
    "\n",
    "# NusaX MT eng (Extended experiment)\n",
    "nusax_mt_eng_dset = {\n",
    "\t\"btk\": load_dataset(\"indonlp/NusaX-MT\", name=\"bbc-eng\"), # For TIA\n",
    "\t\"sun\": load_dataset(\"indonlp/NusaX-MT\", name=\"sun-eng\"), # For TIA\n",
    "\t\"jav\": load_dataset(\"indonlp/NusaX-MT\", name=\"jav-eng\"), # For TIA\n",
    "\t\"mad\": load_dataset(\"indonlp/NusaX-MT\", name=\"mad-eng\"), # For TIA\n",
    "\t\"mak\": load_dataset(\"indonlp/NusaX-MT\", name=\"bug-eng\"), # For TIA\n",
    "\t\"min\": load_dataset(\"indonlp/NusaX-MT\", name=\"min-eng\"), # For TIA\n",
    "}\n",
    "\n",
    "# MasakhaNews\n",
    "masakhanews_dset = {\n",
    "\t\"amh\": load_dataset(\"masakhane/masakhanews\", name=\"amh\"),\n",
    "\t\"hau\": load_dataset(\"masakhane/masakhanews\", name=\"hau\"),\n",
    "\t\"ibo\": load_dataset(\"masakhane/masakhanews\", name=\"ibo\"),\n",
    "\t\"lug\": load_dataset(\"masakhane/masakhanews\", name=\"lug\"),\n",
    "\t\"pcm\": load_dataset(\"masakhane/masakhanews\", name=\"pcm\"),\n",
    "\t\"sna\": load_dataset(\"masakhane/masakhanews\", name=\"sna\"),\n",
    "\t\"swa\": load_dataset(\"masakhane/masakhanews\", name=\"swa\"),\n",
    "\t\"xho\": load_dataset(\"masakhane/masakhanews\", name=\"xho\"),\n",
    "\t\"yor\": load_dataset(\"masakhane/masakhanews\", name=\"yor\"),\n",
    "\t\"eng\": load_dataset(\"masakhane/masakhanews\", name=\"eng\"), # For X-ICL\n",
    "}\n",
    "\n",
    "# MAFAND\n",
    "mafand_dset = {\n",
    "\t\"amh\": load_dataset(\"masakhane/mafand\", name=\"en-amh\"), # For TIA\n",
    "\t\"hau\": load_dataset(\"masakhane/mafand\", name=\"en-hau\"), # For TIA\n",
    "\t\"ibo\": load_dataset(\"masakhane/mafand\", name=\"en-ibo\"), # For TIA\n",
    "\t\"lug\": load_dataset(\"masakhane/mafand\", name=\"en-lug\"), # For TIA\n",
    "\t\"pcm\": load_dataset(\"masakhane/mafand\", name=\"en-pcm\"), # For TIA\n",
    "\t\"sna\": load_dataset(\"masakhane/mafand\", name=\"en-sna\"), # For TIA\n",
    "\t\"swa\": load_dataset(\"masakhane/mafand\", name=\"en-swa\"), # For TIA\n",
    "\t\"xho\": load_dataset(\"masakhane/mafand\", name=\"en-xho\"), # For TIA\n",
    "\t\"yor\": load_dataset(\"masakhane/mafand\", name=\"en-yor\"), # For TIA\n",
    "}\n",
    "\n",
    "# AmericasNLI\n",
    "americasnli_dset = {\n",
    "\t\"aym\": load_dataset(\"americas_nli\", name=\"aym\"), # For TIA\n",
    "\t\"bzd\": load_dataset(\"americas_nli\", name=\"bzd\"), # For TIA\n",
    "\t\"cni\": load_dataset(\"americas_nli\", name=\"cni\"), # For TIA\n",
    "\t\"gn\": load_dataset(\"americas_nli\", name=\"gn\"), # For TIA\n",
    "\t\"hch\": load_dataset(\"americas_nli\", name=\"hch\"), # For TIA\n",
    "\t\"nah\": load_dataset(\"americas_nli\", name=\"nah\"), # For TIA\n",
    "\t\"oto\": load_dataset(\"americas_nli\", name=\"oto\"), # For TIA\n",
    "\t\"quy\": load_dataset(\"americas_nli\", name=\"quy\"), # For TIA\n",
    "\t\"shp\": load_dataset(\"americas_nli\", name=\"shp\"), # For TIA\n",
    "\t\"tar\": load_dataset(\"americas_nli\", name=\"tar\"), # For TIA\n",
    "}\n",
    "\n",
    "# XNLI\n",
    "xnli_dset = load_dataset(\"xnli\", name=\"es\") # For X-ICL"
   ]
  },
  {
   "cell_type": "markdown",
   "id": "046006c2-fc6d-4667-b731-dc2b6a1ed104",
   "metadata": {},
   "source": [
    "# Standardize Dataset"
   ]
  },
  {
   "cell_type": "markdown",
   "id": "d1e76ea2-4a43-44a7-8588-61463aa32a3d",
   "metadata": {},
   "source": [
    "### NLU Dataset"
   ]
  },
  {
   "cell_type": "code",
   "execution_count": 4,
   "id": "764f32ee-e1e8-4878-bb67-6b80d440b3ad",
   "metadata": {},
   "outputs": [],
   "source": [
    "save_path = '.'\n",
    "\n",
    "def label2str(row, dset):\n",
    "    row['str_label'] = dset.features['label'].int2str(row['label'])\n",
    "    return row"
   ]
  },
  {
   "cell_type": "code",
   "execution_count": 5,
   "id": "c5d4369c-91ca-4ea7-8da7-7781585286c4",
   "metadata": {},
   "outputs": [
    {
     "name": "stderr",
     "output_type": "stream",
     "text": [
      "Loading cached processed dataset at /home/samuel/.cache/huggingface/datasets/indonlp___nusatranslation_senti/nusatranslation_senti_btk_nusantara_text/1.0.0/84380b9fe1509e8d8d8c7c3c6d475f39181456c63a2fad48e88ceb95a642c952/cache-8b0f3cb6b69eb960.arrow\n",
      "Loading cached processed dataset at /home/samuel/.cache/huggingface/datasets/indonlp___nusatranslation_senti/nusatranslation_senti_sun_nusantara_text/1.0.0/84380b9fe1509e8d8d8c7c3c6d475f39181456c63a2fad48e88ceb95a642c952/cache-bbe06556917ad23b.arrow\n",
      "Loading cached processed dataset at /home/samuel/.cache/huggingface/datasets/indonlp___nusatranslation_senti/nusatranslation_senti_jav_nusantara_text/1.0.0/84380b9fe1509e8d8d8c7c3c6d475f39181456c63a2fad48e88ceb95a642c952/cache-6609dc0983576d6d.arrow\n",
      "Loading cached processed dataset at /home/samuel/.cache/huggingface/datasets/indonlp___nusatranslation_senti/nusatranslation_senti_mad_nusantara_text/1.0.0/84380b9fe1509e8d8d8c7c3c6d475f39181456c63a2fad48e88ceb95a642c952/cache-c73da4161b1d4e57.arrow\n",
      "Loading cached processed dataset at /home/samuel/.cache/huggingface/datasets/indonlp___nusatranslation_senti/nusatranslation_senti_mak_nusantara_text/1.0.0/84380b9fe1509e8d8d8c7c3c6d475f39181456c63a2fad48e88ceb95a642c952/cache-949baf167e487d4d.arrow\n",
      "Loading cached processed dataset at /home/samuel/.cache/huggingface/datasets/indonlp___nusatranslation_senti/nusatranslation_senti_min_nusantara_text/1.0.0/84380b9fe1509e8d8d8c7c3c6d475f39181456c63a2fad48e88ceb95a642c952/cache-a79a8224ad3d711c.arrow\n",
      "Loading cached processed dataset at /home/samuel/.cache/huggingface/datasets/masakhane___masakhanews/amh/1.0.0/c60334474cec1d13c0c3018e138cd8b60bc6443fa5e25258d65d990b2498403f/cache-f316afe52c5f2c48.arrow\n",
      "Loading cached processed dataset at /home/samuel/.cache/huggingface/datasets/masakhane___masakhanews/hau/1.0.0/c60334474cec1d13c0c3018e138cd8b60bc6443fa5e25258d65d990b2498403f/cache-3debf94ea3da75d0.arrow\n",
      "Loading cached processed dataset at /home/samuel/.cache/huggingface/datasets/masakhane___masakhanews/ibo/1.0.0/c60334474cec1d13c0c3018e138cd8b60bc6443fa5e25258d65d990b2498403f/cache-bbac7ce221c037b5.arrow\n",
      "Loading cached processed dataset at /home/samuel/.cache/huggingface/datasets/masakhane___masakhanews/lug/1.0.0/c60334474cec1d13c0c3018e138cd8b60bc6443fa5e25258d65d990b2498403f/cache-99badc5a8535bbe2.arrow\n",
      "Loading cached processed dataset at /home/samuel/.cache/huggingface/datasets/masakhane___masakhanews/pcm/1.0.0/c60334474cec1d13c0c3018e138cd8b60bc6443fa5e25258d65d990b2498403f/cache-e3487ec0b72fa339.arrow\n",
      "Loading cached processed dataset at /home/samuel/.cache/huggingface/datasets/masakhane___masakhanews/sna/1.0.0/c60334474cec1d13c0c3018e138cd8b60bc6443fa5e25258d65d990b2498403f/cache-66d99f4399ff2df9.arrow\n",
      "Loading cached processed dataset at /home/samuel/.cache/huggingface/datasets/masakhane___masakhanews/swa/1.0.0/c60334474cec1d13c0c3018e138cd8b60bc6443fa5e25258d65d990b2498403f/cache-b9954d0282cbbd8b.arrow\n",
      "Loading cached processed dataset at /home/samuel/.cache/huggingface/datasets/masakhane___masakhanews/xho/1.0.0/c60334474cec1d13c0c3018e138cd8b60bc6443fa5e25258d65d990b2498403f/cache-0989eab587c7d77d.arrow\n",
      "Loading cached processed dataset at /home/samuel/.cache/huggingface/datasets/masakhane___masakhanews/yor/1.0.0/c60334474cec1d13c0c3018e138cd8b60bc6443fa5e25258d65d990b2498403f/cache-9f225849ecb81d97.arrow\n"
     ]
    },
    {
     "data": {
      "application/vnd.jupyter.widget-view+json": {
       "model_id": "",
       "version_major": 2,
       "version_minor": 0
      },
      "text/plain": [
       "Map:   0%|          | 0/948 [00:00<?, ? examples/s]"
      ]
     },
     "metadata": {},
     "output_type": "display_data"
    },
    {
     "name": "stderr",
     "output_type": "stream",
     "text": [
      "Loading cached processed dataset at /home/samuel/.cache/huggingface/datasets/americas_nli/aym/1.0.0/2f4cd00b49c982fa8827cb332b2a2dbb692aa8a7cd34432fc476efeb7fee375a/cache-b44f876647388c0d.arrow\n",
      "Loading cached processed dataset at /home/samuel/.cache/huggingface/datasets/americas_nli/bzd/1.0.0/2f4cd00b49c982fa8827cb332b2a2dbb692aa8a7cd34432fc476efeb7fee375a/cache-e5f59f5397a9438e.arrow\n",
      "Loading cached processed dataset at /home/samuel/.cache/huggingface/datasets/americas_nli/cni/1.0.0/2f4cd00b49c982fa8827cb332b2a2dbb692aa8a7cd34432fc476efeb7fee375a/cache-7664cce35cb6cae5.arrow\n",
      "Loading cached processed dataset at /home/samuel/.cache/huggingface/datasets/americas_nli/gn/1.0.0/2f4cd00b49c982fa8827cb332b2a2dbb692aa8a7cd34432fc476efeb7fee375a/cache-930d5f29f42639ad.arrow\n",
      "Loading cached processed dataset at /home/samuel/.cache/huggingface/datasets/americas_nli/hch/1.0.0/2f4cd00b49c982fa8827cb332b2a2dbb692aa8a7cd34432fc476efeb7fee375a/cache-f96a92443ef38c3c.arrow\n",
      "Loading cached processed dataset at /home/samuel/.cache/huggingface/datasets/americas_nli/nah/1.0.0/2f4cd00b49c982fa8827cb332b2a2dbb692aa8a7cd34432fc476efeb7fee375a/cache-256ce6d453554f91.arrow\n",
      "Loading cached processed dataset at /home/samuel/.cache/huggingface/datasets/americas_nli/oto/1.0.0/2f4cd00b49c982fa8827cb332b2a2dbb692aa8a7cd34432fc476efeb7fee375a/cache-a04e0b8e1a5f670c.arrow\n",
      "Loading cached processed dataset at /home/samuel/.cache/huggingface/datasets/americas_nli/quy/1.0.0/2f4cd00b49c982fa8827cb332b2a2dbb692aa8a7cd34432fc476efeb7fee375a/cache-4ea139bc0193ba9c.arrow\n",
      "Loading cached processed dataset at /home/samuel/.cache/huggingface/datasets/americas_nli/shp/1.0.0/2f4cd00b49c982fa8827cb332b2a2dbb692aa8a7cd34432fc476efeb7fee375a/cache-5d89eb22a025c6aa.arrow\n",
      "Loading cached processed dataset at /home/samuel/.cache/huggingface/datasets/americas_nli/tar/1.0.0/2f4cd00b49c982fa8827cb332b2a2dbb692aa8a7cd34432fc476efeb7fee375a/cache-27540f6274d82f89.arrow\n"
     ]
    },
    {
     "data": {
      "application/vnd.jupyter.widget-view+json": {
       "model_id": "",
       "version_major": 2,
       "version_minor": 0
      },
      "text/plain": [
       "Saving the dataset (0/1 shards):   0%|          | 0/1200 [00:00<?, ? examples/s]"
      ]
     },
     "metadata": {},
     "output_type": "display_data"
    },
    {
     "data": {
      "application/vnd.jupyter.widget-view+json": {
       "model_id": "",
       "version_major": 2,
       "version_minor": 0
      },
      "text/plain": [
       "Saving the dataset (0/1 shards):   0%|          | 0/1200 [00:00<?, ? examples/s]"
      ]
     },
     "metadata": {},
     "output_type": "display_data"
    },
    {
     "data": {
      "application/vnd.jupyter.widget-view+json": {
       "model_id": "",
       "version_major": 2,
       "version_minor": 0
      },
      "text/plain": [
       "Saving the dataset (0/1 shards):   0%|          | 0/1200 [00:00<?, ? examples/s]"
      ]
     },
     "metadata": {},
     "output_type": "display_data"
    },
    {
     "data": {
      "application/vnd.jupyter.widget-view+json": {
       "model_id": "",
       "version_major": 2,
       "version_minor": 0
      },
      "text/plain": [
       "Saving the dataset (0/1 shards):   0%|          | 0/1200 [00:00<?, ? examples/s]"
      ]
     },
     "metadata": {},
     "output_type": "display_data"
    },
    {
     "data": {
      "application/vnd.jupyter.widget-view+json": {
       "model_id": "",
       "version_major": 2,
       "version_minor": 0
      },
      "text/plain": [
       "Saving the dataset (0/1 shards):   0%|          | 0/1200 [00:00<?, ? examples/s]"
      ]
     },
     "metadata": {},
     "output_type": "display_data"
    },
    {
     "data": {
      "application/vnd.jupyter.widget-view+json": {
       "model_id": "",
       "version_major": 2,
       "version_minor": 0
      },
      "text/plain": [
       "Saving the dataset (0/1 shards):   0%|          | 0/1200 [00:00<?, ? examples/s]"
      ]
     },
     "metadata": {},
     "output_type": "display_data"
    },
    {
     "data": {
      "application/vnd.jupyter.widget-view+json": {
       "model_id": "",
       "version_major": 2,
       "version_minor": 0
      },
      "text/plain": [
       "Saving the dataset (0/1 shards):   0%|          | 0/376 [00:00<?, ? examples/s]"
      ]
     },
     "metadata": {},
     "output_type": "display_data"
    },
    {
     "data": {
      "application/vnd.jupyter.widget-view+json": {
       "model_id": "",
       "version_major": 2,
       "version_minor": 0
      },
      "text/plain": [
       "Saving the dataset (0/1 shards):   0%|          | 0/637 [00:00<?, ? examples/s]"
      ]
     },
     "metadata": {},
     "output_type": "display_data"
    },
    {
     "data": {
      "application/vnd.jupyter.widget-view+json": {
       "model_id": "",
       "version_major": 2,
       "version_minor": 0
      },
      "text/plain": [
       "Saving the dataset (0/1 shards):   0%|          | 0/390 [00:00<?, ? examples/s]"
      ]
     },
     "metadata": {},
     "output_type": "display_data"
    },
    {
     "data": {
      "application/vnd.jupyter.widget-view+json": {
       "model_id": "",
       "version_major": 2,
       "version_minor": 0
      },
      "text/plain": [
       "Saving the dataset (0/1 shards):   0%|          | 0/223 [00:00<?, ? examples/s]"
      ]
     },
     "metadata": {},
     "output_type": "display_data"
    },
    {
     "data": {
      "application/vnd.jupyter.widget-view+json": {
       "model_id": "",
       "version_major": 2,
       "version_minor": 0
      },
      "text/plain": [
       "Saving the dataset (0/1 shards):   0%|          | 0/305 [00:00<?, ? examples/s]"
      ]
     },
     "metadata": {},
     "output_type": "display_data"
    },
    {
     "data": {
      "application/vnd.jupyter.widget-view+json": {
       "model_id": "",
       "version_major": 2,
       "version_minor": 0
      },
      "text/plain": [
       "Saving the dataset (0/1 shards):   0%|          | 0/369 [00:00<?, ? examples/s]"
      ]
     },
     "metadata": {},
     "output_type": "display_data"
    },
    {
     "data": {
      "application/vnd.jupyter.widget-view+json": {
       "model_id": "",
       "version_major": 2,
       "version_minor": 0
      },
      "text/plain": [
       "Saving the dataset (0/1 shards):   0%|          | 0/476 [00:00<?, ? examples/s]"
      ]
     },
     "metadata": {},
     "output_type": "display_data"
    },
    {
     "data": {
      "application/vnd.jupyter.widget-view+json": {
       "model_id": "",
       "version_major": 2,
       "version_minor": 0
      },
      "text/plain": [
       "Saving the dataset (0/1 shards):   0%|          | 0/297 [00:00<?, ? examples/s]"
      ]
     },
     "metadata": {},
     "output_type": "display_data"
    },
    {
     "data": {
      "application/vnd.jupyter.widget-view+json": {
       "model_id": "",
       "version_major": 2,
       "version_minor": 0
      },
      "text/plain": [
       "Saving the dataset (0/1 shards):   0%|          | 0/411 [00:00<?, ? examples/s]"
      ]
     },
     "metadata": {},
     "output_type": "display_data"
    },
    {
     "data": {
      "application/vnd.jupyter.widget-view+json": {
       "model_id": "",
       "version_major": 2,
       "version_minor": 0
      },
      "text/plain": [
       "Saving the dataset (0/1 shards):   0%|          | 0/948 [00:00<?, ? examples/s]"
      ]
     },
     "metadata": {},
     "output_type": "display_data"
    },
    {
     "data": {
      "application/vnd.jupyter.widget-view+json": {
       "model_id": "",
       "version_major": 2,
       "version_minor": 0
      },
      "text/plain": [
       "Saving the dataset (0/1 shards):   0%|          | 0/750 [00:00<?, ? examples/s]"
      ]
     },
     "metadata": {},
     "output_type": "display_data"
    },
    {
     "data": {
      "application/vnd.jupyter.widget-view+json": {
       "model_id": "",
       "version_major": 2,
       "version_minor": 0
      },
      "text/plain": [
       "Saving the dataset (0/1 shards):   0%|          | 0/750 [00:00<?, ? examples/s]"
      ]
     },
     "metadata": {},
     "output_type": "display_data"
    },
    {
     "data": {
      "application/vnd.jupyter.widget-view+json": {
       "model_id": "",
       "version_major": 2,
       "version_minor": 0
      },
      "text/plain": [
       "Saving the dataset (0/1 shards):   0%|          | 0/750 [00:00<?, ? examples/s]"
      ]
     },
     "metadata": {},
     "output_type": "display_data"
    },
    {
     "data": {
      "application/vnd.jupyter.widget-view+json": {
       "model_id": "",
       "version_major": 2,
       "version_minor": 0
      },
      "text/plain": [
       "Saving the dataset (0/1 shards):   0%|          | 0/750 [00:00<?, ? examples/s]"
      ]
     },
     "metadata": {},
     "output_type": "display_data"
    },
    {
     "data": {
      "application/vnd.jupyter.widget-view+json": {
       "model_id": "",
       "version_major": 2,
       "version_minor": 0
      },
      "text/plain": [
       "Saving the dataset (0/1 shards):   0%|          | 0/750 [00:00<?, ? examples/s]"
      ]
     },
     "metadata": {},
     "output_type": "display_data"
    },
    {
     "data": {
      "application/vnd.jupyter.widget-view+json": {
       "model_id": "",
       "version_major": 2,
       "version_minor": 0
      },
      "text/plain": [
       "Saving the dataset (0/1 shards):   0%|          | 0/738 [00:00<?, ? examples/s]"
      ]
     },
     "metadata": {},
     "output_type": "display_data"
    },
    {
     "data": {
      "application/vnd.jupyter.widget-view+json": {
       "model_id": "",
       "version_major": 2,
       "version_minor": 0
      },
      "text/plain": [
       "Saving the dataset (0/1 shards):   0%|          | 0/748 [00:00<?, ? examples/s]"
      ]
     },
     "metadata": {},
     "output_type": "display_data"
    },
    {
     "data": {
      "application/vnd.jupyter.widget-view+json": {
       "model_id": "",
       "version_major": 2,
       "version_minor": 0
      },
      "text/plain": [
       "Saving the dataset (0/1 shards):   0%|          | 0/750 [00:00<?, ? examples/s]"
      ]
     },
     "metadata": {},
     "output_type": "display_data"
    },
    {
     "data": {
      "application/vnd.jupyter.widget-view+json": {
       "model_id": "",
       "version_major": 2,
       "version_minor": 0
      },
      "text/plain": [
       "Saving the dataset (0/1 shards):   0%|          | 0/750 [00:00<?, ? examples/s]"
      ]
     },
     "metadata": {},
     "output_type": "display_data"
    },
    {
     "data": {
      "application/vnd.jupyter.widget-view+json": {
       "model_id": "",
       "version_major": 2,
       "version_minor": 0
      },
      "text/plain": [
       "Saving the dataset (0/1 shards):   0%|          | 0/750 [00:00<?, ? examples/s]"
      ]
     },
     "metadata": {},
     "output_type": "display_data"
    }
   ],
   "source": [
    "###\n",
    "# Prepare Evaluation Data\n",
    "#\n",
    "# Single-Sentence Classification [text, label]\n",
    "# NLI Classification [premise, hypothesis, label]\n",
    "###\n",
    "\n",
    "# Process NusaTranslation Senti\n",
    "nt_senti_dset_clean = {}\n",
    "for key in nt_senti_dset.keys():\n",
    "    dset = nt_senti_dset[key]['test'].remove_columns(['id'])\n",
    "    nt_senti_dset_clean[key] = dset\n",
    "nt_senti_dset_clean = datasets.DatasetDict(nt_senti_dset_clean)\n",
    "nt_senti_dset_clean = nt_senti_dset_clean.map(\n",
    "    label2str, remove_columns=['label'], fn_kwargs={\"dset\": nusax_senti_dset['jav']['train']}\n",
    ").rename_columns({'str_label': 'label'})\n",
    "\n",
    "# Process MasakhaNews Senti\n",
    "masakhanews_dset_clean = {}\n",
    "for key in masakhanews_dset.keys():\n",
    "    dset = masakhanews_dset[key]['test'].remove_columns(['text', 'headline_text', 'url'])\n",
    "    dset = dset.rename_columns({'headline': 'text'})\n",
    "    dset = dset.map(\n",
    "        label2str, remove_columns=['label'], fn_kwargs={\"dset\": dset}\n",
    "    ).rename_columns({'str_label': 'label'})\n",
    "    masakhanews_dset_clean[key] = dset\n",
    "masakhanews_dset_clean = datasets.DatasetDict(masakhanews_dset_clean)\n",
    "\n",
    "# Process AmericasNLI Senti\n",
    "americasnli_dset_clean = {}\n",
    "for key in americasnli_dset.keys():\n",
    "    dset = americasnli_dset[key]['test']\n",
    "    americasnli_dset_clean[key] = dset\n",
    "americasnli_dset_clean = datasets.DatasetDict(americasnli_dset_clean)\n",
    "americasnli_dset_clean = americasnli_dset_clean.map(\n",
    "    label2str, remove_columns=['label'], fn_kwargs={\"dset\": americasnli_dset['aym']['test']}\n",
    ").rename_columns({'str_label': 'label'})\n",
    "\n",
    "# Save to Cache\n",
    "nt_senti_dset_clean.save_to_disk(f'{save_path}/nt_senti_test_dset')\n",
    "masakhanews_dset_clean.save_to_disk(f'{save_path}/masakhanews_test_dset')\n",
    "americasnli_dset_clean.save_to_disk(f'{save_path}/americasnli_test_dset')"
   ]
  },
  {
   "cell_type": "code",
   "execution_count": 15,
   "id": "3428c145-b47a-43e6-94de-41717d5a9298",
   "metadata": {},
   "outputs": [
    {
     "name": "stderr",
     "output_type": "stream",
     "text": [
      "Loading cached processed dataset at /home/samuel/.cache/huggingface/datasets/indonlp___nusa_x-senti/bbc/1.0.0/3477a395c5c7a09a74d897ceb96ebd2c3afbd1d7fad0c11d8b8026b8b08e3af5/cache-62abee01490fb197.arrow\n",
      "Loading cached processed dataset at /home/samuel/.cache/huggingface/datasets/indonlp___nusa_x-senti/sun/1.0.0/3477a395c5c7a09a74d897ceb96ebd2c3afbd1d7fad0c11d8b8026b8b08e3af5/cache-a74670ccf34d6e16.arrow\n",
      "Loading cached processed dataset at /home/samuel/.cache/huggingface/datasets/indonlp___nusa_x-senti/jav/1.0.0/3477a395c5c7a09a74d897ceb96ebd2c3afbd1d7fad0c11d8b8026b8b08e3af5/cache-1b59d8d2ce55537d.arrow\n",
      "Loading cached processed dataset at /home/samuel/.cache/huggingface/datasets/indonlp___nusa_x-senti/mad/1.0.0/3477a395c5c7a09a74d897ceb96ebd2c3afbd1d7fad0c11d8b8026b8b08e3af5/cache-d6fb3c89b6896cd9.arrow\n",
      "Loading cached processed dataset at /home/samuel/.cache/huggingface/datasets/indonlp___nusa_x-senti/bug/1.0.0/3477a395c5c7a09a74d897ceb96ebd2c3afbd1d7fad0c11d8b8026b8b08e3af5/cache-521878d61dc1bb84.arrow\n",
      "Loading cached processed dataset at /home/samuel/.cache/huggingface/datasets/indonlp___nusa_x-senti/min/1.0.0/3477a395c5c7a09a74d897ceb96ebd2c3afbd1d7fad0c11d8b8026b8b08e3af5/cache-e3d67168151658cf.arrow\n",
      "Loading cached processed dataset at /home/samuel/.cache/huggingface/datasets/indonlp___nusa_x-senti/ind/1.0.0/3477a395c5c7a09a74d897ceb96ebd2c3afbd1d7fad0c11d8b8026b8b08e3af5/cache-3b378459b55ea238.arrow\n",
      "Loading cached processed dataset at /home/samuel/.cache/huggingface/datasets/indonlp___nusa_x-senti/eng/1.0.0/3477a395c5c7a09a74d897ceb96ebd2c3afbd1d7fad0c11d8b8026b8b08e3af5/cache-a8f425b450d44eb6.arrow\n",
      "Loading cached processed dataset at /home/samuel/.cache/huggingface/datasets/masakhane___masakhanews/amh/1.0.0/c60334474cec1d13c0c3018e138cd8b60bc6443fa5e25258d65d990b2498403f/cache-0dac328733ca149c.arrow\n",
      "Loading cached processed dataset at /home/samuel/.cache/huggingface/datasets/masakhane___masakhanews/hau/1.0.0/c60334474cec1d13c0c3018e138cd8b60bc6443fa5e25258d65d990b2498403f/cache-943fcdb5ab6eb583.arrow\n",
      "Loading cached processed dataset at /home/samuel/.cache/huggingface/datasets/masakhane___masakhanews/ibo/1.0.0/c60334474cec1d13c0c3018e138cd8b60bc6443fa5e25258d65d990b2498403f/cache-5be651a874defe99.arrow\n",
      "Loading cached processed dataset at /home/samuel/.cache/huggingface/datasets/masakhane___masakhanews/lug/1.0.0/c60334474cec1d13c0c3018e138cd8b60bc6443fa5e25258d65d990b2498403f/cache-c11ae13925c6e63d.arrow\n",
      "Loading cached processed dataset at /home/samuel/.cache/huggingface/datasets/masakhane___masakhanews/pcm/1.0.0/c60334474cec1d13c0c3018e138cd8b60bc6443fa5e25258d65d990b2498403f/cache-fd22a00453eeaa89.arrow\n",
      "Loading cached processed dataset at /home/samuel/.cache/huggingface/datasets/masakhane___masakhanews/sna/1.0.0/c60334474cec1d13c0c3018e138cd8b60bc6443fa5e25258d65d990b2498403f/cache-50403510285c6f87.arrow\n",
      "Loading cached processed dataset at /home/samuel/.cache/huggingface/datasets/masakhane___masakhanews/swa/1.0.0/c60334474cec1d13c0c3018e138cd8b60bc6443fa5e25258d65d990b2498403f/cache-5010b16e16ce5bad.arrow\n",
      "Loading cached processed dataset at /home/samuel/.cache/huggingface/datasets/masakhane___masakhanews/xho/1.0.0/c60334474cec1d13c0c3018e138cd8b60bc6443fa5e25258d65d990b2498403f/cache-873cf11c245f2a68.arrow\n",
      "Loading cached processed dataset at /home/samuel/.cache/huggingface/datasets/masakhane___masakhanews/yor/1.0.0/c60334474cec1d13c0c3018e138cd8b60bc6443fa5e25258d65d990b2498403f/cache-6ef3411d375a7b47.arrow\n",
      "Loading cached processed dataset at /home/samuel/.cache/huggingface/datasets/masakhane___masakhanews/eng/1.0.0/c60334474cec1d13c0c3018e138cd8b60bc6443fa5e25258d65d990b2498403f/cache-faf507b85cfcb7ce.arrow\n"
     ]
    },
    {
     "data": {
      "application/vnd.jupyter.widget-view+json": {
       "model_id": "",
       "version_major": 2,
       "version_minor": 0
      },
      "text/plain": [
       "Map:   0%|          | 0/743 [00:00<?, ? examples/s]"
      ]
     },
     "metadata": {},
     "output_type": "display_data"
    },
    {
     "data": {
      "application/vnd.jupyter.widget-view+json": {
       "model_id": "",
       "version_major": 2,
       "version_minor": 0
      },
      "text/plain": [
       "Map:   0%|          | 0/743 [00:00<?, ? examples/s]"
      ]
     },
     "metadata": {},
     "output_type": "display_data"
    },
    {
     "data": {
      "application/vnd.jupyter.widget-view+json": {
       "model_id": "",
       "version_major": 2,
       "version_minor": 0
      },
      "text/plain": [
       "Map:   0%|          | 0/658 [00:00<?, ? examples/s]"
      ]
     },
     "metadata": {},
     "output_type": "display_data"
    },
    {
     "data": {
      "application/vnd.jupyter.widget-view+json": {
       "model_id": "",
       "version_major": 2,
       "version_minor": 0
      },
      "text/plain": [
       "Map:   0%|          | 0/743 [00:00<?, ? examples/s]"
      ]
     },
     "metadata": {},
     "output_type": "display_data"
    },
    {
     "data": {
      "application/vnd.jupyter.widget-view+json": {
       "model_id": "",
       "version_major": 2,
       "version_minor": 0
      },
      "text/plain": [
       "Map:   0%|          | 0/743 [00:00<?, ? examples/s]"
      ]
     },
     "metadata": {},
     "output_type": "display_data"
    },
    {
     "data": {
      "application/vnd.jupyter.widget-view+json": {
       "model_id": "",
       "version_major": 2,
       "version_minor": 0
      },
      "text/plain": [
       "Map:   0%|          | 0/376 [00:00<?, ? examples/s]"
      ]
     },
     "metadata": {},
     "output_type": "display_data"
    },
    {
     "data": {
      "application/vnd.jupyter.widget-view+json": {
       "model_id": "",
       "version_major": 2,
       "version_minor": 0
      },
      "text/plain": [
       "Map:   0%|          | 0/222 [00:00<?, ? examples/s]"
      ]
     },
     "metadata": {},
     "output_type": "display_data"
    },
    {
     "data": {
      "application/vnd.jupyter.widget-view+json": {
       "model_id": "",
       "version_major": 2,
       "version_minor": 0
      },
      "text/plain": [
       "Map:   0%|          | 0/743 [00:00<?, ? examples/s]"
      ]
     },
     "metadata": {},
     "output_type": "display_data"
    },
    {
     "data": {
      "application/vnd.jupyter.widget-view+json": {
       "model_id": "",
       "version_major": 2,
       "version_minor": 0
      },
      "text/plain": [
       "Map:   0%|          | 0/743 [00:00<?, ? examples/s]"
      ]
     },
     "metadata": {},
     "output_type": "display_data"
    },
    {
     "data": {
      "application/vnd.jupyter.widget-view+json": {
       "model_id": "",
       "version_major": 2,
       "version_minor": 0
      },
      "text/plain": [
       "Map:   0%|          | 0/743 [00:00<?, ? examples/s]"
      ]
     },
     "metadata": {},
     "output_type": "display_data"
    },
    {
     "name": "stderr",
     "output_type": "stream",
     "text": [
      "Loading cached processed dataset at /home/samuel/.cache/huggingface/datasets/xnli/es/1.1.0/818164464f9c9fd15776ca8a00423b074344c3e929d00a2c1a84aa5a50c928bd/cache-29eb596776dc3bf8.arrow\n"
     ]
    },
    {
     "data": {
      "application/vnd.jupyter.widget-view+json": {
       "model_id": "",
       "version_major": 2,
       "version_minor": 0
      },
      "text/plain": [
       "Saving the dataset (0/1 shards):   0%|          | 0/1000 [00:00<?, ? examples/s]"
      ]
     },
     "metadata": {},
     "output_type": "display_data"
    },
    {
     "data": {
      "application/vnd.jupyter.widget-view+json": {
       "model_id": "",
       "version_major": 2,
       "version_minor": 0
      },
      "text/plain": [
       "Saving the dataset (0/1 shards):   0%|          | 0/1000 [00:00<?, ? examples/s]"
      ]
     },
     "metadata": {},
     "output_type": "display_data"
    },
    {
     "data": {
      "application/vnd.jupyter.widget-view+json": {
       "model_id": "",
       "version_major": 2,
       "version_minor": 0
      },
      "text/plain": [
       "Saving the dataset (0/1 shards):   0%|          | 0/1000 [00:00<?, ? examples/s]"
      ]
     },
     "metadata": {},
     "output_type": "display_data"
    },
    {
     "data": {
      "application/vnd.jupyter.widget-view+json": {
       "model_id": "",
       "version_major": 2,
       "version_minor": 0
      },
      "text/plain": [
       "Saving the dataset (0/1 shards):   0%|          | 0/1000 [00:00<?, ? examples/s]"
      ]
     },
     "metadata": {},
     "output_type": "display_data"
    },
    {
     "data": {
      "application/vnd.jupyter.widget-view+json": {
       "model_id": "",
       "version_major": 2,
       "version_minor": 0
      },
      "text/plain": [
       "Saving the dataset (0/1 shards):   0%|          | 0/1000 [00:00<?, ? examples/s]"
      ]
     },
     "metadata": {},
     "output_type": "display_data"
    },
    {
     "data": {
      "application/vnd.jupyter.widget-view+json": {
       "model_id": "",
       "version_major": 2,
       "version_minor": 0
      },
      "text/plain": [
       "Saving the dataset (0/1 shards):   0%|          | 0/1000 [00:00<?, ? examples/s]"
      ]
     },
     "metadata": {},
     "output_type": "display_data"
    },
    {
     "data": {
      "application/vnd.jupyter.widget-view+json": {
       "model_id": "",
       "version_major": 2,
       "version_minor": 0
      },
      "text/plain": [
       "Saving the dataset (0/1 shards):   0%|          | 0/1000 [00:00<?, ? examples/s]"
      ]
     },
     "metadata": {},
     "output_type": "display_data"
    },
    {
     "data": {
      "application/vnd.jupyter.widget-view+json": {
       "model_id": "",
       "version_major": 2,
       "version_minor": 0
      },
      "text/plain": [
       "Saving the dataset (0/1 shards):   0%|          | 0/1000 [00:00<?, ? examples/s]"
      ]
     },
     "metadata": {},
     "output_type": "display_data"
    },
    {
     "data": {
      "application/vnd.jupyter.widget-view+json": {
       "model_id": "",
       "version_major": 2,
       "version_minor": 0
      },
      "text/plain": [
       "Saving the dataset (0/1 shards):   0%|          | 0/1875 [00:00<?, ? examples/s]"
      ]
     },
     "metadata": {},
     "output_type": "display_data"
    },
    {
     "data": {
      "application/vnd.jupyter.widget-view+json": {
       "model_id": "",
       "version_major": 2,
       "version_minor": 0
      },
      "text/plain": [
       "Saving the dataset (0/1 shards):   0%|          | 0/3173 [00:00<?, ? examples/s]"
      ]
     },
     "metadata": {},
     "output_type": "display_data"
    },
    {
     "data": {
      "application/vnd.jupyter.widget-view+json": {
       "model_id": "",
       "version_major": 2,
       "version_minor": 0
      },
      "text/plain": [
       "Saving the dataset (0/1 shards):   0%|          | 0/1940 [00:00<?, ? examples/s]"
      ]
     },
     "metadata": {},
     "output_type": "display_data"
    },
    {
     "data": {
      "application/vnd.jupyter.widget-view+json": {
       "model_id": "",
       "version_major": 2,
       "version_minor": 0
      },
      "text/plain": [
       "Saving the dataset (0/1 shards):   0%|          | 0/1104 [00:00<?, ? examples/s]"
      ]
     },
     "metadata": {},
     "output_type": "display_data"
    },
    {
     "data": {
      "application/vnd.jupyter.widget-view+json": {
       "model_id": "",
       "version_major": 2,
       "version_minor": 0
      },
      "text/plain": [
       "Saving the dataset (0/1 shards):   0%|          | 0/1517 [00:00<?, ? examples/s]"
      ]
     },
     "metadata": {},
     "output_type": "display_data"
    },
    {
     "data": {
      "application/vnd.jupyter.widget-view+json": {
       "model_id": "",
       "version_major": 2,
       "version_minor": 0
      },
      "text/plain": [
       "Saving the dataset (0/1 shards):   0%|          | 0/1842 [00:00<?, ? examples/s]"
      ]
     },
     "metadata": {},
     "output_type": "display_data"
    },
    {
     "data": {
      "application/vnd.jupyter.widget-view+json": {
       "model_id": "",
       "version_major": 2,
       "version_minor": 0
      },
      "text/plain": [
       "Saving the dataset (0/1 shards):   0%|          | 0/2371 [00:00<?, ? examples/s]"
      ]
     },
     "metadata": {},
     "output_type": "display_data"
    },
    {
     "data": {
      "application/vnd.jupyter.widget-view+json": {
       "model_id": "",
       "version_major": 2,
       "version_minor": 0
      },
      "text/plain": [
       "Saving the dataset (0/1 shards):   0%|          | 0/1476 [00:00<?, ? examples/s]"
      ]
     },
     "metadata": {},
     "output_type": "display_data"
    },
    {
     "data": {
      "application/vnd.jupyter.widget-view+json": {
       "model_id": "",
       "version_major": 2,
       "version_minor": 0
      },
      "text/plain": [
       "Saving the dataset (0/1 shards):   0%|          | 0/2050 [00:00<?, ? examples/s]"
      ]
     },
     "metadata": {},
     "output_type": "display_data"
    },
    {
     "data": {
      "application/vnd.jupyter.widget-view+json": {
       "model_id": "",
       "version_major": 2,
       "version_minor": 0
      },
      "text/plain": [
       "Saving the dataset (0/1 shards):   0%|          | 0/4729 [00:00<?, ? examples/s]"
      ]
     },
     "metadata": {},
     "output_type": "display_data"
    },
    {
     "data": {
      "application/vnd.jupyter.widget-view+json": {
       "model_id": "",
       "version_major": 2,
       "version_minor": 0
      },
      "text/plain": [
       "Saving the dataset (0/1 shards):   0%|          | 0/743 [00:00<?, ? examples/s]"
      ]
     },
     "metadata": {},
     "output_type": "display_data"
    },
    {
     "data": {
      "application/vnd.jupyter.widget-view+json": {
       "model_id": "",
       "version_major": 2,
       "version_minor": 0
      },
      "text/plain": [
       "Saving the dataset (0/1 shards):   0%|          | 0/743 [00:00<?, ? examples/s]"
      ]
     },
     "metadata": {},
     "output_type": "display_data"
    },
    {
     "data": {
      "application/vnd.jupyter.widget-view+json": {
       "model_id": "",
       "version_major": 2,
       "version_minor": 0
      },
      "text/plain": [
       "Saving the dataset (0/1 shards):   0%|          | 0/658 [00:00<?, ? examples/s]"
      ]
     },
     "metadata": {},
     "output_type": "display_data"
    },
    {
     "data": {
      "application/vnd.jupyter.widget-view+json": {
       "model_id": "",
       "version_major": 2,
       "version_minor": 0
      },
      "text/plain": [
       "Saving the dataset (0/1 shards):   0%|          | 0/743 [00:00<?, ? examples/s]"
      ]
     },
     "metadata": {},
     "output_type": "display_data"
    },
    {
     "data": {
      "application/vnd.jupyter.widget-view+json": {
       "model_id": "",
       "version_major": 2,
       "version_minor": 0
      },
      "text/plain": [
       "Saving the dataset (0/1 shards):   0%|          | 0/743 [00:00<?, ? examples/s]"
      ]
     },
     "metadata": {},
     "output_type": "display_data"
    },
    {
     "data": {
      "application/vnd.jupyter.widget-view+json": {
       "model_id": "",
       "version_major": 2,
       "version_minor": 0
      },
      "text/plain": [
       "Saving the dataset (0/1 shards):   0%|          | 0/376 [00:00<?, ? examples/s]"
      ]
     },
     "metadata": {},
     "output_type": "display_data"
    },
    {
     "data": {
      "application/vnd.jupyter.widget-view+json": {
       "model_id": "",
       "version_major": 2,
       "version_minor": 0
      },
      "text/plain": [
       "Saving the dataset (0/1 shards):   0%|          | 0/222 [00:00<?, ? examples/s]"
      ]
     },
     "metadata": {},
     "output_type": "display_data"
    },
    {
     "data": {
      "application/vnd.jupyter.widget-view+json": {
       "model_id": "",
       "version_major": 2,
       "version_minor": 0
      },
      "text/plain": [
       "Saving the dataset (0/1 shards):   0%|          | 0/743 [00:00<?, ? examples/s]"
      ]
     },
     "metadata": {},
     "output_type": "display_data"
    },
    {
     "data": {
      "application/vnd.jupyter.widget-view+json": {
       "model_id": "",
       "version_major": 2,
       "version_minor": 0
      },
      "text/plain": [
       "Saving the dataset (0/1 shards):   0%|          | 0/743 [00:00<?, ? examples/s]"
      ]
     },
     "metadata": {},
     "output_type": "display_data"
    },
    {
     "data": {
      "application/vnd.jupyter.widget-view+json": {
       "model_id": "",
       "version_major": 2,
       "version_minor": 0
      },
      "text/plain": [
       "Saving the dataset (0/1 shards):   0%|          | 0/743 [00:00<?, ? examples/s]"
      ]
     },
     "metadata": {},
     "output_type": "display_data"
    },
    {
     "data": {
      "application/vnd.jupyter.widget-view+json": {
       "model_id": "",
       "version_major": 2,
       "version_minor": 0
      },
      "text/plain": [
       "Saving the dataset (0/1 shards):   0%|          | 0/2490 [00:00<?, ? examples/s]"
      ]
     },
     "metadata": {},
     "output_type": "display_data"
    }
   ],
   "source": [
    "###\n",
    "# Prepare ICL & X-ICL Data\n",
    "#\n",
    "# Single-Sentence Classification [text, label]\n",
    "# NLI Classification [premise, hypothesis, label]\n",
    "###\n",
    "\n",
    "# Process NusaTranslation Senti ICL Data => NusaX Senti All Splits\n",
    "icl_nusax_senti_dset_clean = {}\n",
    "for key in nusax_senti_dset.keys():\n",
    "    dset = []\n",
    "    for split in nusax_senti_dset[key].keys():\n",
    "        dset.append(nusax_senti_dset[key][split].remove_columns(['id', 'lang']))\n",
    "    icl_nusax_senti_dset_clean[key] = datasets.concatenate_datasets(dset)\n",
    "icl_nusax_senti_dset_clean = datasets.DatasetDict(icl_nusax_senti_dset_clean)\n",
    "icl_nusax_senti_dset_clean = icl_nusax_senti_dset_clean.map(\n",
    "    label2str, remove_columns=['label'], fn_kwargs={\"dset\": nusax_senti_dset['jav']['train']}\n",
    ").rename_columns({'str_label': 'label'})\n",
    "\n",
    "# Process MasakhaNews ICL Data => MasakhaNews Train & Validation\n",
    "icl_masakhanews_dset_clean = {}\n",
    "for key in masakhanews_dset.keys():\n",
    "    dset = []\n",
    "    for split in masakhanews_dset[key].keys():\n",
    "        dset.append(masakhanews_dset[key][split].remove_columns(['text', 'headline_text', 'url']))\n",
    "    dset = datasets.concatenate_datasets(dset).rename_columns({'headline': 'text'})\n",
    "    dset = dset.map(\n",
    "        label2str, remove_columns=['label'], fn_kwargs={\"dset\": dset}\n",
    "    ).rename_columns({'str_label': 'label'})\n",
    "    icl_masakhanews_dset_clean[key] = dset\n",
    "icl_masakhanews_dset_clean = datasets.DatasetDict(icl_masakhanews_dset_clean)\n",
    "\n",
    "# Process AmericasNLI ICL Data => ICL: AmericasNLI Validation, X-ICL: XNLI Validation\n",
    "icl_americasnli_dset_clean = {}\n",
    "for key in americasnli_dset.keys():\n",
    "    dset = americasnli_dset[key]['validation']\n",
    "    icl_americasnli_dset_clean[key] = dset\n",
    "icl_americasnli_dset_clean['spa'] = xnli_dset['validation'] # Add Spanish data from XNLI\n",
    "icl_americasnli_dset_clean = datasets.DatasetDict(icl_americasnli_dset_clean)\n",
    "\n",
    "icl_americasnli_dset_clean = icl_americasnli_dset_clean.map(\n",
    "    label2str, remove_columns=['label'], fn_kwargs={\"dset\": americasnli_dset['aym']['test']}\n",
    ").rename_columns({'str_label': 'label'})\n",
    "\n",
    "# Save to Cache\n",
    "icl_nusax_senti_dset_clean.save_to_disk(f'{save_path}/icl_nusax_senti_dset')\n",
    "icl_masakhanews_dset_clean.save_to_disk(f'{save_path}/icl_masakhanews_dset')\n",
    "icl_americasnli_dset_clean.save_to_disk(f'{save_path}/icl_americasnli_dset')"
   ]
  },
  {
   "cell_type": "markdown",
   "id": "29044d0b-cd2e-4e7d-95f8-cab94b36c64c",
   "metadata": {
    "tags": []
   },
   "source": [
    "### TIA Dataset"
   ]
  },
  {
   "cell_type": "code",
   "execution_count": 17,
   "id": "72498d8a-7e67-40d6-acfd-05ba36e4f7b6",
   "metadata": {},
   "outputs": [
    {
     "data": {
      "application/vnd.jupyter.widget-view+json": {
       "model_id": "",
       "version_major": 2,
       "version_minor": 0
      },
      "text/plain": [
       "Saving the dataset (0/1 shards):   0%|          | 0/1000 [00:00<?, ? examples/s]"
      ]
     },
     "metadata": {},
     "output_type": "display_data"
    },
    {
     "data": {
      "application/vnd.jupyter.widget-view+json": {
       "model_id": "",
       "version_major": 2,
       "version_minor": 0
      },
      "text/plain": [
       "Saving the dataset (0/1 shards):   0%|          | 0/1000 [00:00<?, ? examples/s]"
      ]
     },
     "metadata": {},
     "output_type": "display_data"
    },
    {
     "data": {
      "application/vnd.jupyter.widget-view+json": {
       "model_id": "",
       "version_major": 2,
       "version_minor": 0
      },
      "text/plain": [
       "Saving the dataset (0/1 shards):   0%|          | 0/1000 [00:00<?, ? examples/s]"
      ]
     },
     "metadata": {},
     "output_type": "display_data"
    },
    {
     "data": {
      "application/vnd.jupyter.widget-view+json": {
       "model_id": "",
       "version_major": 2,
       "version_minor": 0
      },
      "text/plain": [
       "Saving the dataset (0/1 shards):   0%|          | 0/1000 [00:00<?, ? examples/s]"
      ]
     },
     "metadata": {},
     "output_type": "display_data"
    },
    {
     "data": {
      "application/vnd.jupyter.widget-view+json": {
       "model_id": "",
       "version_major": 2,
       "version_minor": 0
      },
      "text/plain": [
       "Saving the dataset (0/1 shards):   0%|          | 0/1000 [00:00<?, ? examples/s]"
      ]
     },
     "metadata": {},
     "output_type": "display_data"
    },
    {
     "data": {
      "application/vnd.jupyter.widget-view+json": {
       "model_id": "",
       "version_major": 2,
       "version_minor": 0
      },
      "text/plain": [
       "Saving the dataset (0/1 shards):   0%|          | 0/1000 [00:00<?, ? examples/s]"
      ]
     },
     "metadata": {},
     "output_type": "display_data"
    },
    {
     "data": {
      "application/vnd.jupyter.widget-view+json": {
       "model_id": "",
       "version_major": 2,
       "version_minor": 0
      },
      "text/plain": [
       "Saving the dataset (0/1 shards):   0%|          | 0/1000 [00:00<?, ? examples/s]"
      ]
     },
     "metadata": {},
     "output_type": "display_data"
    },
    {
     "data": {
      "application/vnd.jupyter.widget-view+json": {
       "model_id": "",
       "version_major": 2,
       "version_minor": 0
      },
      "text/plain": [
       "Saving the dataset (0/1 shards):   0%|          | 0/1000 [00:00<?, ? examples/s]"
      ]
     },
     "metadata": {},
     "output_type": "display_data"
    },
    {
     "data": {
      "application/vnd.jupyter.widget-view+json": {
       "model_id": "",
       "version_major": 2,
       "version_minor": 0
      },
      "text/plain": [
       "Saving the dataset (0/1 shards):   0%|          | 0/1000 [00:00<?, ? examples/s]"
      ]
     },
     "metadata": {},
     "output_type": "display_data"
    },
    {
     "data": {
      "application/vnd.jupyter.widget-view+json": {
       "model_id": "",
       "version_major": 2,
       "version_minor": 0
      },
      "text/plain": [
       "Saving the dataset (0/1 shards):   0%|          | 0/1000 [00:00<?, ? examples/s]"
      ]
     },
     "metadata": {},
     "output_type": "display_data"
    },
    {
     "data": {
      "application/vnd.jupyter.widget-view+json": {
       "model_id": "",
       "version_major": 2,
       "version_minor": 0
      },
      "text/plain": [
       "Saving the dataset (0/1 shards):   0%|          | 0/1000 [00:00<?, ? examples/s]"
      ]
     },
     "metadata": {},
     "output_type": "display_data"
    },
    {
     "data": {
      "application/vnd.jupyter.widget-view+json": {
       "model_id": "",
       "version_major": 2,
       "version_minor": 0
      },
      "text/plain": [
       "Saving the dataset (0/1 shards):   0%|          | 0/1000 [00:00<?, ? examples/s]"
      ]
     },
     "metadata": {},
     "output_type": "display_data"
    },
    {
     "data": {
      "application/vnd.jupyter.widget-view+json": {
       "model_id": "",
       "version_major": 2,
       "version_minor": 0
      },
      "text/plain": [
       "Saving the dataset (0/1 shards):   0%|          | 0/1936 [00:00<?, ? examples/s]"
      ]
     },
     "metadata": {},
     "output_type": "display_data"
    },
    {
     "data": {
      "application/vnd.jupyter.widget-view+json": {
       "model_id": "",
       "version_major": 2,
       "version_minor": 0
      },
      "text/plain": [
       "Saving the dataset (0/1 shards):   0%|          | 0/8665 [00:00<?, ? examples/s]"
      ]
     },
     "metadata": {},
     "output_type": "display_data"
    },
    {
     "data": {
      "application/vnd.jupyter.widget-view+json": {
       "model_id": "",
       "version_major": 2,
       "version_minor": 0
      },
      "text/plain": [
       "Saving the dataset (0/1 shards):   0%|          | 0/9998 [00:00<?, ? examples/s]"
      ]
     },
     "metadata": {},
     "output_type": "display_data"
    },
    {
     "data": {
      "application/vnd.jupyter.widget-view+json": {
       "model_id": "",
       "version_major": 2,
       "version_minor": 0
      },
      "text/plain": [
       "Saving the dataset (0/1 shards):   0%|          | 0/7075 [00:00<?, ? examples/s]"
      ]
     },
     "metadata": {},
     "output_type": "display_data"
    },
    {
     "data": {
      "application/vnd.jupyter.widget-view+json": {
       "model_id": "",
       "version_major": 2,
       "version_minor": 0
      },
      "text/plain": [
       "Saving the dataset (0/1 shards):   0%|          | 0/7838 [00:00<?, ? examples/s]"
      ]
     },
     "metadata": {},
     "output_type": "display_data"
    },
    {
     "data": {
      "application/vnd.jupyter.widget-view+json": {
       "model_id": "",
       "version_major": 2,
       "version_minor": 0
      },
      "text/plain": [
       "Saving the dataset (0/1 shards):   0%|          | 0/1561 [00:00<?, ? examples/s]"
      ]
     },
     "metadata": {},
     "output_type": "display_data"
    },
    {
     "data": {
      "application/vnd.jupyter.widget-view+json": {
       "model_id": "",
       "version_major": 2,
       "version_minor": 0
      },
      "text/plain": [
       "Saving the dataset (0/1 shards):   0%|          | 0/34408 [00:00<?, ? examples/s]"
      ]
     },
     "metadata": {},
     "output_type": "display_data"
    },
    {
     "data": {
      "application/vnd.jupyter.widget-view+json": {
       "model_id": "",
       "version_major": 2,
       "version_minor": 0
      },
      "text/plain": [
       "Saving the dataset (0/1 shards):   0%|          | 0/1488 [00:00<?, ? examples/s]"
      ]
     },
     "metadata": {},
     "output_type": "display_data"
    },
    {
     "data": {
      "application/vnd.jupyter.widget-view+json": {
       "model_id": "",
       "version_major": 2,
       "version_minor": 0
      },
      "text/plain": [
       "Saving the dataset (0/1 shards):   0%|          | 0/9746 [00:00<?, ? examples/s]"
      ]
     },
     "metadata": {},
     "output_type": "display_data"
    }
   ],
   "source": [
    "####\n",
    "# MT [text_1, text_2]\n",
    "####\n",
    "save_path = '.'\n",
    "\n",
    "# Process NusaX MT ind\n",
    "nusax_mt_ind_dset_clean = {}\n",
    "for key in nusax_mt_ind_dset.keys():\n",
    "    dset = []\n",
    "    for split in nusax_mt_ind_dset[key].keys():\n",
    "        dset.append(nusax_mt_ind_dset[key][split].remove_columns(['id', 'text_1_lang', 'text_2_lang']))\n",
    "    nusax_mt_ind_dset_clean[key] = datasets.concatenate_datasets(dset)\n",
    "nusax_mt_ind_dset_clean = datasets.DatasetDict(nusax_mt_ind_dset_clean)\n",
    "\n",
    "# Process NusaX MT eng\n",
    "nusax_mt_eng_dset_clean = {}\n",
    "for key in nusax_mt_eng_dset.keys():\n",
    "    dset = []\n",
    "    for split in nusax_mt_eng_dset[key].keys():\n",
    "        dset.append(nusax_mt_eng_dset[key][split].remove_columns(['id', 'text_1_lang', 'text_2_lang']))\n",
    "    nusax_mt_eng_dset_clean[key] = datasets.concatenate_datasets(dset)\n",
    "nusax_mt_eng_dset_clean = datasets.DatasetDict(nusax_mt_eng_dset_clean)\n",
    "\n",
    "# Process MAFAND\n",
    "mafand_dset_clean = {}\n",
    "for key in mafand_dset.keys():\n",
    "    tmp_dset = {'text_1': [], 'text_2': []}\n",
    "    for split in mafand_dset[key].keys():        \n",
    "        for i in range(len(mafand_dset[key][split])):\n",
    "            tmp_dset['text_1'].append(mafand_dset[key][split][i]['translation'][key])\n",
    "            tmp_dset['text_2'].append(mafand_dset[key][split][i]['translation']['en'])\n",
    "    mafand_dset_clean[key] = datasets.Dataset.from_dict(tmp_dset)\n",
    "mafand_dset_clean = datasets.DatasetDict(mafand_dset_clean)\n",
    "\n",
    "# Save all datasets\n",
    "nusax_mt_ind_dset_clean.save_to_disk(f'{save_path}/nusax_mt_ind_dset')\n",
    "nusax_mt_eng_dset_clean.save_to_disk(f'{save_path}/nusax_mt_eng_dset')\n",
    "mafand_dset_clean.save_to_disk(f'{save_path}/mafand_mt_dset')"
   ]
  },
  {
   "cell_type": "markdown",
   "id": "d38f5fb6-5b14-4425-b8c9-d59a81c739d4",
   "metadata": {},
   "source": [
    "### ITC Dataset"
   ]
  },
  {
   "cell_type": "code",
   "execution_count": 18,
   "id": "54f4820e-c5d8-4ffd-a221-19148a138438",
   "metadata": {},
   "outputs": [],
   "source": [
    "save_path = '.'\n",
    "\n",
    "def label2str(row, dset):\n",
    "    row['str_label'] = dset.features['label'].int2str(row['label'])\n",
    "    return row"
   ]
  },
  {
   "cell_type": "code",
   "execution_count": 25,
   "id": "d5688237-3762-4674-b277-4f71c1df6a96",
   "metadata": {},
   "outputs": [
    {
     "data": {
      "application/vnd.jupyter.widget-view+json": {
       "model_id": "",
       "version_major": 2,
       "version_minor": 0
      },
      "text/plain": [
       "Map:   0%|          | 0/1000 [00:00<?, ? examples/s]"
      ]
     },
     "metadata": {},
     "output_type": "display_data"
    },
    {
     "data": {
      "application/vnd.jupyter.widget-view+json": {
       "model_id": "",
       "version_major": 2,
       "version_minor": 0
      },
      "text/plain": [
       "Map:   0%|          | 0/1000 [00:00<?, ? examples/s]"
      ]
     },
     "metadata": {},
     "output_type": "display_data"
    },
    {
     "data": {
      "application/vnd.jupyter.widget-view+json": {
       "model_id": "",
       "version_major": 2,
       "version_minor": 0
      },
      "text/plain": [
       "Map:   0%|          | 0/1000 [00:00<?, ? examples/s]"
      ]
     },
     "metadata": {},
     "output_type": "display_data"
    },
    {
     "data": {
      "application/vnd.jupyter.widget-view+json": {
       "model_id": "",
       "version_major": 2,
       "version_minor": 0
      },
      "text/plain": [
       "Map:   0%|          | 0/1000 [00:00<?, ? examples/s]"
      ]
     },
     "metadata": {},
     "output_type": "display_data"
    },
    {
     "data": {
      "application/vnd.jupyter.widget-view+json": {
       "model_id": "",
       "version_major": 2,
       "version_minor": 0
      },
      "text/plain": [
       "Map:   0%|          | 0/1000 [00:00<?, ? examples/s]"
      ]
     },
     "metadata": {},
     "output_type": "display_data"
    },
    {
     "data": {
      "application/vnd.jupyter.widget-view+json": {
       "model_id": "",
       "version_major": 2,
       "version_minor": 0
      },
      "text/plain": [
       "Map:   0%|          | 0/1000 [00:00<?, ? examples/s]"
      ]
     },
     "metadata": {},
     "output_type": "display_data"
    },
    {
     "data": {
      "application/vnd.jupyter.widget-view+json": {
       "model_id": "",
       "version_major": 2,
       "version_minor": 0
      },
      "text/plain": [
       "Map:   0%|          | 0/1000 [00:00<?, ? examples/s]"
      ]
     },
     "metadata": {},
     "output_type": "display_data"
    },
    {
     "data": {
      "application/vnd.jupyter.widget-view+json": {
       "model_id": "",
       "version_major": 2,
       "version_minor": 0
      },
      "text/plain": [
       "Map:   0%|          | 0/1000 [00:00<?, ? examples/s]"
      ]
     },
     "metadata": {},
     "output_type": "display_data"
    },
    {
     "data": {
      "application/vnd.jupyter.widget-view+json": {
       "model_id": "",
       "version_major": 2,
       "version_minor": 0
      },
      "text/plain": [
       "Map:   0%|          | 0/1000 [00:00<?, ? examples/s]"
      ]
     },
     "metadata": {},
     "output_type": "display_data"
    },
    {
     "data": {
      "application/vnd.jupyter.widget-view+json": {
       "model_id": "",
       "version_major": 2,
       "version_minor": 0
      },
      "text/plain": [
       "Map:   0%|          | 0/1000 [00:00<?, ? examples/s]"
      ]
     },
     "metadata": {},
     "output_type": "display_data"
    },
    {
     "data": {
      "application/vnd.jupyter.widget-view+json": {
       "model_id": "",
       "version_major": 2,
       "version_minor": 0
      },
      "text/plain": [
       "Map:   0%|          | 0/1000 [00:00<?, ? examples/s]"
      ]
     },
     "metadata": {},
     "output_type": "display_data"
    },
    {
     "data": {
      "application/vnd.jupyter.widget-view+json": {
       "model_id": "",
       "version_major": 2,
       "version_minor": 0
      },
      "text/plain": [
       "Map:   0%|          | 0/1000 [00:00<?, ? examples/s]"
      ]
     },
     "metadata": {},
     "output_type": "display_data"
    },
    {
     "data": {
      "application/vnd.jupyter.widget-view+json": {
       "model_id": "",
       "version_major": 2,
       "version_minor": 0
      },
      "text/plain": [
       "Saving the dataset (0/1 shards):   0%|          | 0/1000 [00:00<?, ? examples/s]"
      ]
     },
     "metadata": {},
     "output_type": "display_data"
    },
    {
     "data": {
      "application/vnd.jupyter.widget-view+json": {
       "model_id": "",
       "version_major": 2,
       "version_minor": 0
      },
      "text/plain": [
       "Saving the dataset (0/1 shards):   0%|          | 0/1000 [00:00<?, ? examples/s]"
      ]
     },
     "metadata": {},
     "output_type": "display_data"
    },
    {
     "data": {
      "application/vnd.jupyter.widget-view+json": {
       "model_id": "",
       "version_major": 2,
       "version_minor": 0
      },
      "text/plain": [
       "Saving the dataset (0/1 shards):   0%|          | 0/1000 [00:00<?, ? examples/s]"
      ]
     },
     "metadata": {},
     "output_type": "display_data"
    },
    {
     "data": {
      "application/vnd.jupyter.widget-view+json": {
       "model_id": "",
       "version_major": 2,
       "version_minor": 0
      },
      "text/plain": [
       "Saving the dataset (0/1 shards):   0%|          | 0/1000 [00:00<?, ? examples/s]"
      ]
     },
     "metadata": {},
     "output_type": "display_data"
    },
    {
     "data": {
      "application/vnd.jupyter.widget-view+json": {
       "model_id": "",
       "version_major": 2,
       "version_minor": 0
      },
      "text/plain": [
       "Saving the dataset (0/1 shards):   0%|          | 0/1000 [00:00<?, ? examples/s]"
      ]
     },
     "metadata": {},
     "output_type": "display_data"
    },
    {
     "data": {
      "application/vnd.jupyter.widget-view+json": {
       "model_id": "",
       "version_major": 2,
       "version_minor": 0
      },
      "text/plain": [
       "Saving the dataset (0/1 shards):   0%|          | 0/1000 [00:00<?, ? examples/s]"
      ]
     },
     "metadata": {},
     "output_type": "display_data"
    },
    {
     "data": {
      "application/vnd.jupyter.widget-view+json": {
       "model_id": "",
       "version_major": 2,
       "version_minor": 0
      },
      "text/plain": [
       "Saving the dataset (0/1 shards):   0%|          | 0/1000 [00:00<?, ? examples/s]"
      ]
     },
     "metadata": {},
     "output_type": "display_data"
    },
    {
     "data": {
      "application/vnd.jupyter.widget-view+json": {
       "model_id": "",
       "version_major": 2,
       "version_minor": 0
      },
      "text/plain": [
       "Saving the dataset (0/1 shards):   0%|          | 0/1000 [00:00<?, ? examples/s]"
      ]
     },
     "metadata": {},
     "output_type": "display_data"
    },
    {
     "data": {
      "application/vnd.jupyter.widget-view+json": {
       "model_id": "",
       "version_major": 2,
       "version_minor": 0
      },
      "text/plain": [
       "Saving the dataset (0/1 shards):   0%|          | 0/1000 [00:00<?, ? examples/s]"
      ]
     },
     "metadata": {},
     "output_type": "display_data"
    },
    {
     "data": {
      "application/vnd.jupyter.widget-view+json": {
       "model_id": "",
       "version_major": 2,
       "version_minor": 0
      },
      "text/plain": [
       "Saving the dataset (0/1 shards):   0%|          | 0/1000 [00:00<?, ? examples/s]"
      ]
     },
     "metadata": {},
     "output_type": "display_data"
    },
    {
     "data": {
      "application/vnd.jupyter.widget-view+json": {
       "model_id": "",
       "version_major": 2,
       "version_minor": 0
      },
      "text/plain": [
       "Saving the dataset (0/1 shards):   0%|          | 0/1000 [00:00<?, ? examples/s]"
      ]
     },
     "metadata": {},
     "output_type": "display_data"
    },
    {
     "data": {
      "application/vnd.jupyter.widget-view+json": {
       "model_id": "",
       "version_major": 2,
       "version_minor": 0
      },
      "text/plain": [
       "Saving the dataset (0/1 shards):   0%|          | 0/1000 [00:00<?, ? examples/s]"
      ]
     },
     "metadata": {},
     "output_type": "display_data"
    }
   ],
   "source": [
    "####\n",
    "# NusaX Combined [text_1, text_2, label]\n",
    "####\n",
    "\n",
    "nusax_mt_ind_dset_clean = datasets.load_from_disk(f'{save_path}/nusax_mt_ind_dset')\n",
    "nusax_mt_eng_dset_clean = datasets.load_from_disk(f'{save_path}/nusax_mt_eng_dset')\n",
    "\n",
    "# Process NusaX Combined ind\n",
    "nusax_combined_ind_dset = {}\n",
    "for key in nusax_senti_dset.keys():\n",
    "    if key in ['ind', 'eng']:\n",
    "        continue\n",
    "        \n",
    "    dset = []\n",
    "    for split in nusax_senti_dset[key].keys():\n",
    "        dset.append(nusax_senti_dset[key][split].remove_columns(['id', 'lang', 'text']))\n",
    "    nusax_combined_ind_dset[key] = datasets.concatenate_datasets([\n",
    "        datasets.concatenate_datasets(dset),\n",
    "        nusax_mt_ind_dset_clean[key]\n",
    "    ], axis=1)\n",
    "nusax_combined_ind_dset = datasets.DatasetDict(nusax_combined_ind_dset)\n",
    "nusax_combined_ind_dset = nusax_combined_ind_dset.map(\n",
    "    label2str, remove_columns=['label'], fn_kwargs={\"dset\": nusax_senti_dset['jav']['train']}\n",
    ").rename_columns({'str_label': 'label'})\n",
    "\n",
    "# Process NusaX Combined ind\n",
    "nusax_combined_eng_dset = {}\n",
    "for key in nusax_senti_dset.keys():\n",
    "    if key in ['ind', 'eng']:\n",
    "        continue\n",
    "        \n",
    "    dset = []\n",
    "    for split in nusax_senti_dset[key].keys():\n",
    "        dset.append(nusax_senti_dset[key][split].remove_columns(['id', 'lang', 'text']))\n",
    "    nusax_combined_eng_dset[key] = datasets.concatenate_datasets([\n",
    "        datasets.concatenate_datasets(dset),\n",
    "        nusax_mt_eng_dset_clean[key]\n",
    "    ], axis=1)\n",
    "nusax_combined_eng_dset = datasets.DatasetDict(nusax_combined_eng_dset)\n",
    "nusax_combined_eng_dset = nusax_combined_eng_dset.map(\n",
    "    label2str, remove_columns=['label'], fn_kwargs={\"dset\": nusax_senti_dset['jav']['train']}\n",
    ").rename_columns({'str_label': 'label'})\n",
    "\n",
    "nusax_combined_ind_dset.save_to_disk(f'{save_path}/nusax_combined_ind_dset')\n",
    "nusax_combined_eng_dset.save_to_disk(f'{save_path}/nusax_combined_eng_dset')"
   ]
  },
  {
   "cell_type": "code",
   "execution_count": 26,
   "id": "66fcab5b-ee4a-4993-9869-9488b2853d48",
   "metadata": {
    "tags": []
   },
   "outputs": [
    {
     "data": {
      "application/vnd.jupyter.widget-view+json": {
       "model_id": "",
       "version_major": 2,
       "version_minor": 0
      },
      "text/plain": [
       "Saving the dataset (0/1 shards):   0%|          | 0/743 [00:00<?, ? examples/s]"
      ]
     },
     "metadata": {},
     "output_type": "display_data"
    },
    {
     "data": {
      "application/vnd.jupyter.widget-view+json": {
       "model_id": "",
       "version_major": 2,
       "version_minor": 0
      },
      "text/plain": [
       "Saving the dataset (0/1 shards):   0%|          | 0/743 [00:00<?, ? examples/s]"
      ]
     },
     "metadata": {},
     "output_type": "display_data"
    },
    {
     "data": {
      "application/vnd.jupyter.widget-view+json": {
       "model_id": "",
       "version_major": 2,
       "version_minor": 0
      },
      "text/plain": [
       "Saving the dataset (0/1 shards):   0%|          | 0/658 [00:00<?, ? examples/s]"
      ]
     },
     "metadata": {},
     "output_type": "display_data"
    },
    {
     "data": {
      "application/vnd.jupyter.widget-view+json": {
       "model_id": "",
       "version_major": 2,
       "version_minor": 0
      },
      "text/plain": [
       "Saving the dataset (0/1 shards):   0%|          | 0/743 [00:00<?, ? examples/s]"
      ]
     },
     "metadata": {},
     "output_type": "display_data"
    },
    {
     "data": {
      "application/vnd.jupyter.widget-view+json": {
       "model_id": "",
       "version_major": 2,
       "version_minor": 0
      },
      "text/plain": [
       "Saving the dataset (0/1 shards):   0%|          | 0/743 [00:00<?, ? examples/s]"
      ]
     },
     "metadata": {},
     "output_type": "display_data"
    },
    {
     "data": {
      "application/vnd.jupyter.widget-view+json": {
       "model_id": "",
       "version_major": 2,
       "version_minor": 0
      },
      "text/plain": [
       "Saving the dataset (0/1 shards):   0%|          | 0/585 [00:00<?, ? examples/s]"
      ]
     },
     "metadata": {},
     "output_type": "display_data"
    },
    {
     "data": {
      "application/vnd.jupyter.widget-view+json": {
       "model_id": "",
       "version_major": 2,
       "version_minor": 0
      },
      "text/plain": [
       "Saving the dataset (0/1 shards):   0%|          | 0/222 [00:00<?, ? examples/s]"
      ]
     },
     "metadata": {},
     "output_type": "display_data"
    },
    {
     "data": {
      "application/vnd.jupyter.widget-view+json": {
       "model_id": "",
       "version_major": 2,
       "version_minor": 0
      },
      "text/plain": [
       "Saving the dataset (0/1 shards):   0%|          | 0/743 [00:00<?, ? examples/s]"
      ]
     },
     "metadata": {},
     "output_type": "display_data"
    },
    {
     "data": {
      "application/vnd.jupyter.widget-view+json": {
       "model_id": "",
       "version_major": 2,
       "version_minor": 0
      },
      "text/plain": [
       "Saving the dataset (0/1 shards):   0%|          | 0/743 [00:00<?, ? examples/s]"
      ]
     },
     "metadata": {},
     "output_type": "display_data"
    },
    {
     "data": {
      "application/vnd.jupyter.widget-view+json": {
       "model_id": "",
       "version_major": 2,
       "version_minor": 0
      },
      "text/plain": [
       "Saving the dataset (0/1 shards):   0%|          | 0/743 [00:00<?, ? examples/s]"
      ]
     },
     "metadata": {},
     "output_type": "display_data"
    }
   ],
   "source": [
    "####\n",
    "# AmericasNLI - XNLI Combined\n",
    "####\n",
    "save_path = '.'\n",
    "\n",
    "# Cannot use the XNLI from HuggingFace, somehow the results are not aligned,\n",
    "# so we use the original XNLI file (https://dl.fbaipublicfiles.com/XNLI/XNLI-1.0.zip) instead\n",
    "xnli_df = pd.read_csv('XNLI-1.0/xnli.dev.tsv', sep='\\t').reset_index()\n",
    "americasnli_combined_dset = {}\n",
    "for key in americasnli_dset.keys():\n",
    "    anli_df = pd.read_csv(f'https://github.com/abteen/americasnli/raw/main/data/anli_final/dev/{key}.tsv', sep='\\t')\n",
    "    anli_dset = datasets.Dataset.from_pandas(\n",
    "        anli_df[['premise', 'hypothesis', 'label']].rename({\n",
    "            'premise': 'premise_1', 'hypothesis': 'hypothesis_1'\n",
    "        }, axis='columns')\n",
    "    )    \n",
    "    \n",
    "    xnli_dset = datasets.Dataset.from_pandas(\n",
    "        xnli_df.loc[anli_df.id-1, ['sentence1', 'sentence2']].rename({\n",
    "            'sentence1': 'premise_2', 'sentence2': 'hypothesis_2'\n",
    "        }, axis='columns')\n",
    "    ).remove_columns('__index_level_0__')\n",
    "    americasnli_combined_dset[key] = datasets.concatenate_datasets([anli_dset, xnli_dset], axis=1)\n",
    "americasnli_combined_dset = datasets.DatasetDict(americasnli_combined_dset)\n",
    "americasnli_combined_dset.save_to_disk(f'{save_path}/americasnli_combined_dev_dset')"
   ]
  },
  {
   "cell_type": "code",
   "execution_count": 27,
   "id": "bec039f4-a7d9-4cf8-960a-dbeaebd57df1",
   "metadata": {
    "tags": []
   },
   "outputs": [
    {
     "data": {
      "application/vnd.jupyter.widget-view+json": {
       "model_id": "",
       "version_major": 2,
       "version_minor": 0
      },
      "text/plain": [
       "Saving the dataset (0/1 shards):   0%|          | 0/1936 [00:00<?, ? examples/s]"
      ]
     },
     "metadata": {},
     "output_type": "display_data"
    },
    {
     "data": {
      "application/vnd.jupyter.widget-view+json": {
       "model_id": "",
       "version_major": 2,
       "version_minor": 0
      },
      "text/plain": [
       "Saving the dataset (0/1 shards):   0%|          | 0/8665 [00:00<?, ? examples/s]"
      ]
     },
     "metadata": {},
     "output_type": "display_data"
    },
    {
     "data": {
      "application/vnd.jupyter.widget-view+json": {
       "model_id": "",
       "version_major": 2,
       "version_minor": 0
      },
      "text/plain": [
       "Saving the dataset (0/1 shards):   0%|          | 0/9998 [00:00<?, ? examples/s]"
      ]
     },
     "metadata": {},
     "output_type": "display_data"
    },
    {
     "data": {
      "application/vnd.jupyter.widget-view+json": {
       "model_id": "",
       "version_major": 2,
       "version_minor": 0
      },
      "text/plain": [
       "Saving the dataset (0/1 shards):   0%|          | 0/7075 [00:00<?, ? examples/s]"
      ]
     },
     "metadata": {},
     "output_type": "display_data"
    },
    {
     "data": {
      "application/vnd.jupyter.widget-view+json": {
       "model_id": "",
       "version_major": 2,
       "version_minor": 0
      },
      "text/plain": [
       "Saving the dataset (0/1 shards):   0%|          | 0/7838 [00:00<?, ? examples/s]"
      ]
     },
     "metadata": {},
     "output_type": "display_data"
    },
    {
     "data": {
      "application/vnd.jupyter.widget-view+json": {
       "model_id": "",
       "version_major": 2,
       "version_minor": 0
      },
      "text/plain": [
       "Saving the dataset (0/1 shards):   0%|          | 0/1561 [00:00<?, ? examples/s]"
      ]
     },
     "metadata": {},
     "output_type": "display_data"
    },
    {
     "data": {
      "application/vnd.jupyter.widget-view+json": {
       "model_id": "",
       "version_major": 2,
       "version_minor": 0
      },
      "text/plain": [
       "Saving the dataset (0/1 shards):   0%|          | 0/34408 [00:00<?, ? examples/s]"
      ]
     },
     "metadata": {},
     "output_type": "display_data"
    },
    {
     "data": {
      "application/vnd.jupyter.widget-view+json": {
       "model_id": "",
       "version_major": 2,
       "version_minor": 0
      },
      "text/plain": [
       "Saving the dataset (0/1 shards):   0%|          | 0/1488 [00:00<?, ? examples/s]"
      ]
     },
     "metadata": {},
     "output_type": "display_data"
    },
    {
     "data": {
      "application/vnd.jupyter.widget-view+json": {
       "model_id": "",
       "version_major": 2,
       "version_minor": 0
      },
      "text/plain": [
       "Saving the dataset (0/1 shards):   0%|          | 0/9746 [00:00<?, ? examples/s]"
      ]
     },
     "metadata": {},
     "output_type": "display_data"
    }
   ],
   "source": [
    "####\n",
    "# MAFAND Random Label\n",
    "####\n",
    "random.seed(12345)\n",
    "save_path = '.'\n",
    "\n",
    "# Process MAFAND\n",
    "mafand_dset_clean = {}\n",
    "for key in mafand_dset.keys():\n",
    "    label_names = masakhanews_dset[key]['train'].features['label'].names\n",
    "    tmp_dset = {'text_1': [], 'text_2': [], 'label': []}\n",
    "    for split in mafand_dset[key].keys():        \n",
    "        for i in range(len(mafand_dset[key][split])):\n",
    "            tmp_dset['text_1'].append(mafand_dset[key][split][i]['translation'][key])\n",
    "            tmp_dset['text_2'].append(mafand_dset[key][split][i]['translation']['en'])\n",
    "            tmp_dset['label'].append(random.choice(label_names))\n",
    "    mafand_dset_clean[key] = datasets.Dataset.from_dict(tmp_dset)\n",
    "mafand_dset_clean = datasets.DatasetDict(mafand_dset_clean)\n",
    "mafand_dset_clean.save_to_disk(f'{save_path}/mafand_rand_label_dset')"
   ]
  },
  {
   "cell_type": "code",
   "execution_count": null,
   "id": "b8307ad6-e9cc-4986-a4af-2a2fa21f941f",
   "metadata": {},
   "outputs": [],
   "source": []
  }
 ],
 "metadata": {
  "kernelspec": {
   "display_name": "Python (env_instruct_align)",
   "language": "python",
   "name": "env_instruct_align"
  },
  "language_info": {
   "codemirror_mode": {
    "name": "ipython",
    "version": 3
   },
   "file_extension": ".py",
   "mimetype": "text/x-python",
   "name": "python",
   "nbconvert_exporter": "python",
   "pygments_lexer": "ipython3",
   "version": "3.10.4"
  }
 },
 "nbformat": 4,
 "nbformat_minor": 5
}
