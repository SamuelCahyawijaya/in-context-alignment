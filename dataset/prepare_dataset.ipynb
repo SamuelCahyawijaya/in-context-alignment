{
 "cells": [
  {
   "cell_type": "code",
   "execution_count": 1,
   "id": "54f39529-44af-440d-b721-a06d1424fce4",
   "metadata": {},
   "outputs": [],
   "source": [
    "import os, sys\n",
    "import random\n",
    "import pandas as pd\n",
    "import numpy as np\n",
    "import torch\n",
    "import datasets\n",
    "from datasets import load_dataset"
   ]
  },
  {
   "cell_type": "code",
   "execution_count": null,
   "id": "ba7fe3d9-884c-4465-a513-c25631bb119b",
   "metadata": {},
   "outputs": [],
   "source": [
    "# Download XNLI Data\n",
    "!wget https://dl.fbaipublicfiles.com/XNLI/XNLI-1.0.zip\n",
    "!unzip XNLI-1.0.zip"
   ]
  },
  {
   "cell_type": "markdown",
   "id": "7538b05f-6644-4ef2-9b03-127cc5d5e65e",
   "metadata": {},
   "source": [
    "# Load Dataset"
   ]
  },
  {
   "cell_type": "code",
   "execution_count": 2,
   "id": "a738ba5a-624f-4428-8f13-992fcf9d977f",
   "metadata": {
    "scrolled": true,
    "tags": []
   },
   "outputs": [
    {
     "data": {
      "application/vnd.jupyter.widget-view+json": {
       "model_id": "5ababf110bd4408391f14c33fffddfa8",
       "version_major": 2,
       "version_minor": 0
      },
      "text/plain": [
       "Downloading builder script:   0%|          | 0.00/4.14k [00:00<?, ?B/s]"
      ]
     },
     "metadata": {},
     "output_type": "display_data"
    },
    {
     "data": {
      "application/vnd.jupyter.widget-view+json": {
       "model_id": "86e4303ee1024aafb55fdf73bf3fce17",
       "version_major": 2,
       "version_minor": 0
      },
      "text/plain": [
       "Downloading readme:   0%|          | 0.00/5.28k [00:00<?, ?B/s]"
      ]
     },
     "metadata": {},
     "output_type": "display_data"
    },
    {
     "name": "stdout",
     "output_type": "stream",
     "text": [
      "Downloading and preparing dataset tweet_sentiment_multilingual/english to /home/samuel/.cache/huggingface/datasets/cardiffnlp___tweet_sentiment_multilingual/english/0.1.0/936afd3cde120393429606f681b3b48d526873c45114068973f71e296ce80605...\n"
     ]
    },
    {
     "data": {
      "application/vnd.jupyter.widget-view+json": {
       "model_id": "8d50e52a77c04e2baf3a669155a36d48",
       "version_major": 2,
       "version_minor": 0
      },
      "text/plain": [
       "Downloading data files:   0%|          | 0/3 [00:00<?, ?it/s]"
      ]
     },
     "metadata": {},
     "output_type": "display_data"
    },
    {
     "data": {
      "application/vnd.jupyter.widget-view+json": {
       "model_id": "a805beb45e894c67bb3fc723c9ada604",
       "version_major": 2,
       "version_minor": 0
      },
      "text/plain": [
       "Downloading data:   0%|          | 0.00/107k [00:00<?, ?B/s]"
      ]
     },
     "metadata": {},
     "output_type": "display_data"
    },
    {
     "data": {
      "application/vnd.jupyter.widget-view+json": {
       "model_id": "64f2e51f714f4fa2b27c52fbb84028f6",
       "version_major": 2,
       "version_minor": 0
      },
      "text/plain": [
       "Downloading data:   0%|          | 0.00/253k [00:00<?, ?B/s]"
      ]
     },
     "metadata": {},
     "output_type": "display_data"
    },
    {
     "data": {
      "application/vnd.jupyter.widget-view+json": {
       "model_id": "eb7986b7faa84ae2b02ea4fd770d1aa9",
       "version_major": 2,
       "version_minor": 0
      },
      "text/plain": [
       "Downloading data:   0%|          | 0.00/44.5k [00:00<?, ?B/s]"
      ]
     },
     "metadata": {},
     "output_type": "display_data"
    },
    {
     "data": {
      "application/vnd.jupyter.widget-view+json": {
       "model_id": "28fe4c3682f94bba865be68a7cebabf3",
       "version_major": 2,
       "version_minor": 0
      },
      "text/plain": [
       "Extracting data files:   0%|          | 0/3 [00:00<?, ?it/s]"
      ]
     },
     "metadata": {},
     "output_type": "display_data"
    },
    {
     "data": {
      "application/vnd.jupyter.widget-view+json": {
       "model_id": "",
       "version_major": 2,
       "version_minor": 0
      },
      "text/plain": [
       "Generating train split: 0 examples [00:00, ? examples/s]"
      ]
     },
     "metadata": {},
     "output_type": "display_data"
    },
    {
     "data": {
      "application/vnd.jupyter.widget-view+json": {
       "model_id": "",
       "version_major": 2,
       "version_minor": 0
      },
      "text/plain": [
       "Generating validation split: 0 examples [00:00, ? examples/s]"
      ]
     },
     "metadata": {},
     "output_type": "display_data"
    },
    {
     "data": {
      "application/vnd.jupyter.widget-view+json": {
       "model_id": "",
       "version_major": 2,
       "version_minor": 0
      },
      "text/plain": [
       "Generating test split: 0 examples [00:00, ? examples/s]"
      ]
     },
     "metadata": {},
     "output_type": "display_data"
    },
    {
     "name": "stdout",
     "output_type": "stream",
     "text": [
      "Dataset tweet_sentiment_multilingual downloaded and prepared to /home/samuel/.cache/huggingface/datasets/cardiffnlp___tweet_sentiment_multilingual/english/0.1.0/936afd3cde120393429606f681b3b48d526873c45114068973f71e296ce80605. Subsequent calls will reuse this data.\n"
     ]
    },
    {
     "data": {
      "application/vnd.jupyter.widget-view+json": {
       "model_id": "1f6a86bf54e745e3a8c29a18b4f6afba",
       "version_major": 2,
       "version_minor": 0
      },
      "text/plain": [
       "  0%|          | 0/3 [00:00<?, ?it/s]"
      ]
     },
     "metadata": {},
     "output_type": "display_data"
    },
    {
     "name": "stdout",
     "output_type": "stream",
     "text": [
      "Downloading and preparing dataset tweet_sentiment_multilingual/arabic to /home/samuel/.cache/huggingface/datasets/cardiffnlp___tweet_sentiment_multilingual/arabic/0.1.0/936afd3cde120393429606f681b3b48d526873c45114068973f71e296ce80605...\n"
     ]
    },
    {
     "data": {
      "application/vnd.jupyter.widget-view+json": {
       "model_id": "5e292d5c79364a13ac88a8916ff59410",
       "version_major": 2,
       "version_minor": 0
      },
      "text/plain": [
       "Downloading data files:   0%|          | 0/3 [00:00<?, ?it/s]"
      ]
     },
     "metadata": {},
     "output_type": "display_data"
    },
    {
     "data": {
      "application/vnd.jupyter.widget-view+json": {
       "model_id": "03800565964d4b7b835838e4c6c32f21",
       "version_major": 2,
       "version_minor": 0
      },
      "text/plain": [
       "Downloading data:   0%|          | 0.00/377k [00:00<?, ?B/s]"
      ]
     },
     "metadata": {},
     "output_type": "display_data"
    },
    {
     "data": {
      "application/vnd.jupyter.widget-view+json": {
       "model_id": "6372309efd1e4c5b93742c976494e07c",
       "version_major": 2,
       "version_minor": 0
      },
      "text/plain": [
       "Downloading data:   0%|          | 0.00/805k [00:00<?, ?B/s]"
      ]
     },
     "metadata": {},
     "output_type": "display_data"
    },
    {
     "data": {
      "application/vnd.jupyter.widget-view+json": {
       "model_id": "0b98b366a0ec4537bf861cf92b416400",
       "version_major": 2,
       "version_minor": 0
      },
      "text/plain": [
       "Downloading data:   0%|          | 0.00/140k [00:00<?, ?B/s]"
      ]
     },
     "metadata": {},
     "output_type": "display_data"
    },
    {
     "data": {
      "application/vnd.jupyter.widget-view+json": {
       "model_id": "fb8df696b5604858880bef2b16c06e6d",
       "version_major": 2,
       "version_minor": 0
      },
      "text/plain": [
       "Extracting data files:   0%|          | 0/3 [00:00<?, ?it/s]"
      ]
     },
     "metadata": {},
     "output_type": "display_data"
    },
    {
     "data": {
      "application/vnd.jupyter.widget-view+json": {
       "model_id": "",
       "version_major": 2,
       "version_minor": 0
      },
      "text/plain": [
       "Generating train split: 0 examples [00:00, ? examples/s]"
      ]
     },
     "metadata": {},
     "output_type": "display_data"
    },
    {
     "data": {
      "application/vnd.jupyter.widget-view+json": {
       "model_id": "",
       "version_major": 2,
       "version_minor": 0
      },
      "text/plain": [
       "Generating validation split: 0 examples [00:00, ? examples/s]"
      ]
     },
     "metadata": {},
     "output_type": "display_data"
    },
    {
     "data": {
      "application/vnd.jupyter.widget-view+json": {
       "model_id": "",
       "version_major": 2,
       "version_minor": 0
      },
      "text/plain": [
       "Generating test split: 0 examples [00:00, ? examples/s]"
      ]
     },
     "metadata": {},
     "output_type": "display_data"
    },
    {
     "name": "stdout",
     "output_type": "stream",
     "text": [
      "Dataset tweet_sentiment_multilingual downloaded and prepared to /home/samuel/.cache/huggingface/datasets/cardiffnlp___tweet_sentiment_multilingual/arabic/0.1.0/936afd3cde120393429606f681b3b48d526873c45114068973f71e296ce80605. Subsequent calls will reuse this data.\n"
     ]
    },
    {
     "data": {
      "application/vnd.jupyter.widget-view+json": {
       "model_id": "01f1b8ae7ebc4b45a44a2e0001ca5aba",
       "version_major": 2,
       "version_minor": 0
      },
      "text/plain": [
       "  0%|          | 0/3 [00:00<?, ?it/s]"
      ]
     },
     "metadata": {},
     "output_type": "display_data"
    },
    {
     "name": "stdout",
     "output_type": "stream",
     "text": [
      "Downloading and preparing dataset tweet_sentiment_multilingual/french to /home/samuel/.cache/huggingface/datasets/cardiffnlp___tweet_sentiment_multilingual/french/0.1.0/936afd3cde120393429606f681b3b48d526873c45114068973f71e296ce80605...\n"
     ]
    },
    {
     "data": {
      "application/vnd.jupyter.widget-view+json": {
       "model_id": "5dd3ba3ba82f42a0b20980c4efa56c8c",
       "version_major": 2,
       "version_minor": 0
      },
      "text/plain": [
       "Downloading data files:   0%|          | 0/3 [00:00<?, ?it/s]"
      ]
     },
     "metadata": {},
     "output_type": "display_data"
    },
    {
     "data": {
      "application/vnd.jupyter.widget-view+json": {
       "model_id": "0de53c5a5b1947159293ba2cabb417a6",
       "version_major": 2,
       "version_minor": 0
      },
      "text/plain": [
       "Downloading data:   0%|          | 0.00/118k [00:00<?, ?B/s]"
      ]
     },
     "metadata": {},
     "output_type": "display_data"
    },
    {
     "data": {
      "application/vnd.jupyter.widget-view+json": {
       "model_id": "64159791cda2412d931bb6c60da43c07",
       "version_major": 2,
       "version_minor": 0
      },
      "text/plain": [
       "Downloading data:   0%|          | 0.00/255k [00:00<?, ?B/s]"
      ]
     },
     "metadata": {},
     "output_type": "display_data"
    },
    {
     "data": {
      "application/vnd.jupyter.widget-view+json": {
       "model_id": "c003db6f1b794f28bbd175a233fd3f76",
       "version_major": 2,
       "version_minor": 0
      },
      "text/plain": [
       "Downloading data:   0%|          | 0.00/44.8k [00:00<?, ?B/s]"
      ]
     },
     "metadata": {},
     "output_type": "display_data"
    },
    {
     "data": {
      "application/vnd.jupyter.widget-view+json": {
       "model_id": "2137b53d9c2d4d2e9f8efefd9947b3ba",
       "version_major": 2,
       "version_minor": 0
      },
      "text/plain": [
       "Extracting data files:   0%|          | 0/3 [00:00<?, ?it/s]"
      ]
     },
     "metadata": {},
     "output_type": "display_data"
    },
    {
     "data": {
      "application/vnd.jupyter.widget-view+json": {
       "model_id": "",
       "version_major": 2,
       "version_minor": 0
      },
      "text/plain": [
       "Generating train split: 0 examples [00:00, ? examples/s]"
      ]
     },
     "metadata": {},
     "output_type": "display_data"
    },
    {
     "data": {
      "application/vnd.jupyter.widget-view+json": {
       "model_id": "",
       "version_major": 2,
       "version_minor": 0
      },
      "text/plain": [
       "Generating validation split: 0 examples [00:00, ? examples/s]"
      ]
     },
     "metadata": {},
     "output_type": "display_data"
    },
    {
     "data": {
      "application/vnd.jupyter.widget-view+json": {
       "model_id": "",
       "version_major": 2,
       "version_minor": 0
      },
      "text/plain": [
       "Generating test split: 0 examples [00:00, ? examples/s]"
      ]
     },
     "metadata": {},
     "output_type": "display_data"
    },
    {
     "name": "stdout",
     "output_type": "stream",
     "text": [
      "Dataset tweet_sentiment_multilingual downloaded and prepared to /home/samuel/.cache/huggingface/datasets/cardiffnlp___tweet_sentiment_multilingual/french/0.1.0/936afd3cde120393429606f681b3b48d526873c45114068973f71e296ce80605. Subsequent calls will reuse this data.\n"
     ]
    },
    {
     "data": {
      "application/vnd.jupyter.widget-view+json": {
       "model_id": "2e0050d87f3645febaf0e339d7f85bff",
       "version_major": 2,
       "version_minor": 0
      },
      "text/plain": [
       "  0%|          | 0/3 [00:00<?, ?it/s]"
      ]
     },
     "metadata": {},
     "output_type": "display_data"
    },
    {
     "name": "stdout",
     "output_type": "stream",
     "text": [
      "Downloading and preparing dataset tweet_sentiment_multilingual/german to /home/samuel/.cache/huggingface/datasets/cardiffnlp___tweet_sentiment_multilingual/german/0.1.0/936afd3cde120393429606f681b3b48d526873c45114068973f71e296ce80605...\n"
     ]
    },
    {
     "data": {
      "application/vnd.jupyter.widget-view+json": {
       "model_id": "ff6374bf76604477b4a86b27e1429a2d",
       "version_major": 2,
       "version_minor": 0
      },
      "text/plain": [
       "Downloading data files:   0%|          | 0/3 [00:00<?, ?it/s]"
      ]
     },
     "metadata": {},
     "output_type": "display_data"
    },
    {
     "data": {
      "application/vnd.jupyter.widget-view+json": {
       "model_id": "e7a0ff70052b4a91bdfc4dc8098bea3e",
       "version_major": 2,
       "version_minor": 0
      },
      "text/plain": [
       "Downloading data:   0%|          | 0.00/92.0k [00:00<?, ?B/s]"
      ]
     },
     "metadata": {},
     "output_type": "display_data"
    },
    {
     "data": {
      "application/vnd.jupyter.widget-view+json": {
       "model_id": "6ad429a1aa5a46c199e9158b7bf45759",
       "version_major": 2,
       "version_minor": 0
      },
      "text/plain": [
       "Downloading data:   0%|          | 0.00/196k [00:00<?, ?B/s]"
      ]
     },
     "metadata": {},
     "output_type": "display_data"
    },
    {
     "data": {
      "application/vnd.jupyter.widget-view+json": {
       "model_id": "f3a41572989b47e5a004e4277d0df745",
       "version_major": 2,
       "version_minor": 0
      },
      "text/plain": [
       "Downloading data:   0%|          | 0.00/32.9k [00:00<?, ?B/s]"
      ]
     },
     "metadata": {},
     "output_type": "display_data"
    },
    {
     "data": {
      "application/vnd.jupyter.widget-view+json": {
       "model_id": "fdd1813dc60e460aa55a51a56f6eb00b",
       "version_major": 2,
       "version_minor": 0
      },
      "text/plain": [
       "Extracting data files:   0%|          | 0/3 [00:00<?, ?it/s]"
      ]
     },
     "metadata": {},
     "output_type": "display_data"
    },
    {
     "data": {
      "application/vnd.jupyter.widget-view+json": {
       "model_id": "",
       "version_major": 2,
       "version_minor": 0
      },
      "text/plain": [
       "Generating train split: 0 examples [00:00, ? examples/s]"
      ]
     },
     "metadata": {},
     "output_type": "display_data"
    },
    {
     "data": {
      "application/vnd.jupyter.widget-view+json": {
       "model_id": "",
       "version_major": 2,
       "version_minor": 0
      },
      "text/plain": [
       "Generating validation split: 0 examples [00:00, ? examples/s]"
      ]
     },
     "metadata": {},
     "output_type": "display_data"
    },
    {
     "data": {
      "application/vnd.jupyter.widget-view+json": {
       "model_id": "",
       "version_major": 2,
       "version_minor": 0
      },
      "text/plain": [
       "Generating test split: 0 examples [00:00, ? examples/s]"
      ]
     },
     "metadata": {},
     "output_type": "display_data"
    },
    {
     "name": "stdout",
     "output_type": "stream",
     "text": [
      "Dataset tweet_sentiment_multilingual downloaded and prepared to /home/samuel/.cache/huggingface/datasets/cardiffnlp___tweet_sentiment_multilingual/german/0.1.0/936afd3cde120393429606f681b3b48d526873c45114068973f71e296ce80605. Subsequent calls will reuse this data.\n"
     ]
    },
    {
     "data": {
      "application/vnd.jupyter.widget-view+json": {
       "model_id": "27d1b129170d4339a3d1c9af776ecbdd",
       "version_major": 2,
       "version_minor": 0
      },
      "text/plain": [
       "  0%|          | 0/3 [00:00<?, ?it/s]"
      ]
     },
     "metadata": {},
     "output_type": "display_data"
    },
    {
     "name": "stdout",
     "output_type": "stream",
     "text": [
      "Downloading and preparing dataset tweet_sentiment_multilingual/hindi to /home/samuel/.cache/huggingface/datasets/cardiffnlp___tweet_sentiment_multilingual/hindi/0.1.0/936afd3cde120393429606f681b3b48d526873c45114068973f71e296ce80605...\n"
     ]
    },
    {
     "data": {
      "application/vnd.jupyter.widget-view+json": {
       "model_id": "cff0875831bb4131aabf0f5bb59ce06d",
       "version_major": 2,
       "version_minor": 0
      },
      "text/plain": [
       "Downloading data files:   0%|          | 0/3 [00:00<?, ?it/s]"
      ]
     },
     "metadata": {},
     "output_type": "display_data"
    },
    {
     "data": {
      "application/vnd.jupyter.widget-view+json": {
       "model_id": "3522efdd3e5f47649af5142c86538c56",
       "version_major": 2,
       "version_minor": 0
      },
      "text/plain": [
       "Downloading data:   0%|          | 0.00/86.2k [00:00<?, ?B/s]"
      ]
     },
     "metadata": {},
     "output_type": "display_data"
    },
    {
     "data": {
      "application/vnd.jupyter.widget-view+json": {
       "model_id": "971c75f5e66f43358e0a34a13190eebf",
       "version_major": 2,
       "version_minor": 0
      },
      "text/plain": [
       "Downloading data:   0%|          | 0.00/192k [00:00<?, ?B/s]"
      ]
     },
     "metadata": {},
     "output_type": "display_data"
    },
    {
     "name": "stderr",
     "output_type": "stream",
     "text": [
      "Found cached dataset masakhanews (/home/samuel/.cache/huggingface/datasets/masakhane___masakhanews/pcm/1.0.0/c60334474cec1d13c0c3018e138cd8b60bc6443fa5e25258d65d990b2498403f)\n"
     ]
    },
    {
     "data": {
      "application/vnd.jupyter.widget-view+json": {
       "model_id": "a7d9a8fc9cf94ac0879855decc22d809",
       "version_major": 2,
       "version_minor": 0
      },
      "text/plain": [
       "  0%|          | 0/3 [00:00<?, ?it/s]"
      ]
     },
     "metadata": {},
     "output_type": "display_data"
    },
    {
     "name": "stderr",
     "output_type": "stream",
     "text": [
      "Found cached dataset masakhanews (/home/samuel/.cache/huggingface/datasets/masakhane___masakhanews/sna/1.0.0/c60334474cec1d13c0c3018e138cd8b60bc6443fa5e25258d65d990b2498403f)\n"
     ]
    },
    {
     "data": {
      "application/vnd.jupyter.widget-view+json": {
       "model_id": "bf2bbaf7e47843b6a144725efa711d76",
       "version_major": 2,
       "version_minor": 0
      },
      "text/plain": [
       "  0%|          | 0/3 [00:00<?, ?it/s]"
      ]
     },
     "metadata": {},
     "output_type": "display_data"
    },
    {
     "name": "stderr",
     "output_type": "stream",
     "text": [
      "Found cached dataset masakhanews (/home/samuel/.cache/huggingface/datasets/masakhane___masakhanews/swa/1.0.0/c60334474cec1d13c0c3018e138cd8b60bc6443fa5e25258d65d990b2498403f)\n"
     ]
    },
    {
     "data": {
      "application/vnd.jupyter.widget-view+json": {
       "model_id": "c66a4777e5364db2bddac6773cf20fc3",
       "version_major": 2,
       "version_minor": 0
      },
      "text/plain": [
       "  0%|          | 0/3 [00:00<?, ?it/s]"
      ]
     },
     "metadata": {},
     "output_type": "display_data"
    },
    {
     "name": "stderr",
     "output_type": "stream",
     "text": [
      "Found cached dataset masakhanews (/home/samuel/.cache/huggingface/datasets/masakhane___masakhanews/xho/1.0.0/c60334474cec1d13c0c3018e138cd8b60bc6443fa5e25258d65d990b2498403f)\n"
     ]
    },
    {
     "data": {
      "application/vnd.jupyter.widget-view+json": {
       "model_id": "b572255ade6f43849ce8696efc77b3ab",
       "version_major": 2,
       "version_minor": 0
      },
      "text/plain": [
       "  0%|          | 0/3 [00:00<?, ?it/s]"
      ]
     },
     "metadata": {},
     "output_type": "display_data"
    },
    {
     "name": "stderr",
     "output_type": "stream",
     "text": [
      "Found cached dataset masakhanews (/home/samuel/.cache/huggingface/datasets/masakhane___masakhanews/yor/1.0.0/c60334474cec1d13c0c3018e138cd8b60bc6443fa5e25258d65d990b2498403f)\n"
     ]
    },
    {
     "data": {
      "application/vnd.jupyter.widget-view+json": {
       "model_id": "7f9cdbb2e92e447da361f9bcc855b1e1",
       "version_major": 2,
       "version_minor": 0
      },
      "text/plain": [
       "  0%|          | 0/3 [00:00<?, ?it/s]"
      ]
     },
     "metadata": {},
     "output_type": "display_data"
    },
    {
     "name": "stderr",
     "output_type": "stream",
     "text": [
      "Found cached dataset masakhanews (/home/samuel/.cache/huggingface/datasets/masakhane___masakhanews/eng/1.0.0/c60334474cec1d13c0c3018e138cd8b60bc6443fa5e25258d65d990b2498403f)\n"
     ]
    },
    {
     "data": {
      "application/vnd.jupyter.widget-view+json": {
       "model_id": "cc2413608b6b4300b4960a7e927cf740",
       "version_major": 2,
       "version_minor": 0
      },
      "text/plain": [
       "  0%|          | 0/3 [00:00<?, ?it/s]"
      ]
     },
     "metadata": {},
     "output_type": "display_data"
    },
    {
     "name": "stderr",
     "output_type": "stream",
     "text": [
      "Found cached dataset mafand (/home/samuel/.cache/huggingface/datasets/masakhane___mafand/en-amh/1.0.0/9d9e4635f1deeddd2d72e959a6bcd39d9450d019c262e4c5d9a3d6f24387e937)\n"
     ]
    },
    {
     "data": {
      "application/vnd.jupyter.widget-view+json": {
       "model_id": "1c05c5322a0d46c4b1d19186e933a220",
       "version_major": 2,
       "version_minor": 0
      },
      "text/plain": [
       "  0%|          | 0/2 [00:00<?, ?it/s]"
      ]
     },
     "metadata": {},
     "output_type": "display_data"
    },
    {
     "name": "stderr",
     "output_type": "stream",
     "text": [
      "Found cached dataset mafand (/home/samuel/.cache/huggingface/datasets/masakhane___mafand/en-hau/1.0.0/9d9e4635f1deeddd2d72e959a6bcd39d9450d019c262e4c5d9a3d6f24387e937)\n"
     ]
    },
    {
     "data": {
      "application/vnd.jupyter.widget-view+json": {
       "model_id": "4c864099ff9a404fa6b631363bfc9d87",
       "version_major": 2,
       "version_minor": 0
      },
      "text/plain": [
       "  0%|          | 0/3 [00:00<?, ?it/s]"
      ]
     },
     "metadata": {},
     "output_type": "display_data"
    },
    {
     "name": "stderr",
     "output_type": "stream",
     "text": [
      "Found cached dataset mafand (/home/samuel/.cache/huggingface/datasets/masakhane___mafand/en-ibo/1.0.0/9d9e4635f1deeddd2d72e959a6bcd39d9450d019c262e4c5d9a3d6f24387e937)\n"
     ]
    },
    {
     "data": {
      "application/vnd.jupyter.widget-view+json": {
       "model_id": "8674bab0806d4bfa9d6600f561cfdadd",
       "version_major": 2,
       "version_minor": 0
      },
      "text/plain": [
       "  0%|          | 0/3 [00:00<?, ?it/s]"
      ]
     },
     "metadata": {},
     "output_type": "display_data"
    },
    {
     "name": "stderr",
     "output_type": "stream",
     "text": [
      "Found cached dataset mafand (/home/samuel/.cache/huggingface/datasets/masakhane___mafand/en-lug/1.0.0/9d9e4635f1deeddd2d72e959a6bcd39d9450d019c262e4c5d9a3d6f24387e937)\n"
     ]
    },
    {
     "data": {
      "application/vnd.jupyter.widget-view+json": {
       "model_id": "7ac1c9b57457413fb01b005e8637cf40",
       "version_major": 2,
       "version_minor": 0
      },
      "text/plain": [
       "  0%|          | 0/3 [00:00<?, ?it/s]"
      ]
     },
     "metadata": {},
     "output_type": "display_data"
    },
    {
     "name": "stderr",
     "output_type": "stream",
     "text": [
      "Found cached dataset mafand (/home/samuel/.cache/huggingface/datasets/masakhane___mafand/en-pcm/1.0.0/9d9e4635f1deeddd2d72e959a6bcd39d9450d019c262e4c5d9a3d6f24387e937)\n"
     ]
    },
    {
     "data": {
      "application/vnd.jupyter.widget-view+json": {
       "model_id": "c33d77237e924aa38fd9eb3d15043a05",
       "version_major": 2,
       "version_minor": 0
      },
      "text/plain": [
       "  0%|          | 0/3 [00:00<?, ?it/s]"
      ]
     },
     "metadata": {},
     "output_type": "display_data"
    },
    {
     "name": "stderr",
     "output_type": "stream",
     "text": [
      "Found cached dataset mafand (/home/samuel/.cache/huggingface/datasets/masakhane___mafand/en-sna/1.0.0/9d9e4635f1deeddd2d72e959a6bcd39d9450d019c262e4c5d9a3d6f24387e937)\n"
     ]
    },
    {
     "data": {
      "application/vnd.jupyter.widget-view+json": {
       "model_id": "1aedf28fa69847df9537ac7a97df9c4d",
       "version_major": 2,
       "version_minor": 0
      },
      "text/plain": [
       "  0%|          | 0/2 [00:00<?, ?it/s]"
      ]
     },
     "metadata": {},
     "output_type": "display_data"
    },
    {
     "name": "stderr",
     "output_type": "stream",
     "text": [
      "Found cached dataset mafand (/home/samuel/.cache/huggingface/datasets/masakhane___mafand/en-swa/1.0.0/9d9e4635f1deeddd2d72e959a6bcd39d9450d019c262e4c5d9a3d6f24387e937)\n"
     ]
    },
    {
     "data": {
      "application/vnd.jupyter.widget-view+json": {
       "model_id": "06f03dd7946d434c934864266cddc3a9",
       "version_major": 2,
       "version_minor": 0
      },
      "text/plain": [
       "  0%|          | 0/3 [00:00<?, ?it/s]"
      ]
     },
     "metadata": {},
     "output_type": "display_data"
    },
    {
     "name": "stderr",
     "output_type": "stream",
     "text": [
      "Found cached dataset mafand (/home/samuel/.cache/huggingface/datasets/masakhane___mafand/en-xho/1.0.0/9d9e4635f1deeddd2d72e959a6bcd39d9450d019c262e4c5d9a3d6f24387e937)\n"
     ]
    },
    {
     "data": {
      "application/vnd.jupyter.widget-view+json": {
       "model_id": "8e8f4dd35c4c45f69fba6a0789473bbd",
       "version_major": 2,
       "version_minor": 0
      },
      "text/plain": [
       "  0%|          | 0/2 [00:00<?, ?it/s]"
      ]
     },
     "metadata": {},
     "output_type": "display_data"
    },
    {
     "name": "stderr",
     "output_type": "stream",
     "text": [
      "Found cached dataset mafand (/home/samuel/.cache/huggingface/datasets/masakhane___mafand/en-yor/1.0.0/9d9e4635f1deeddd2d72e959a6bcd39d9450d019c262e4c5d9a3d6f24387e937)\n"
     ]
    },
    {
     "data": {
      "application/vnd.jupyter.widget-view+json": {
       "model_id": "eea69495db8d407bbc5fb4b7f4e50ca0",
       "version_major": 2,
       "version_minor": 0
      },
      "text/plain": [
       "  0%|          | 0/3 [00:00<?, ?it/s]"
      ]
     },
     "metadata": {},
     "output_type": "display_data"
    },
    {
     "name": "stderr",
     "output_type": "stream",
     "text": [
      "Found cached dataset americas_nli (/home/samuel/.cache/huggingface/datasets/americas_nli/aym/1.0.0/2f4cd00b49c982fa8827cb332b2a2dbb692aa8a7cd34432fc476efeb7fee375a)\n"
     ]
    },
    {
     "data": {
      "application/vnd.jupyter.widget-view+json": {
       "model_id": "29345cb4fc31494b8223e964c6eafdb5",
       "version_major": 2,
       "version_minor": 0
      },
      "text/plain": [
       "  0%|          | 0/2 [00:00<?, ?it/s]"
      ]
     },
     "metadata": {},
     "output_type": "display_data"
    },
    {
     "name": "stderr",
     "output_type": "stream",
     "text": [
      "Found cached dataset americas_nli (/home/samuel/.cache/huggingface/datasets/americas_nli/bzd/1.0.0/2f4cd00b49c982fa8827cb332b2a2dbb692aa8a7cd34432fc476efeb7fee375a)\n"
     ]
    },
    {
     "data": {
      "application/vnd.jupyter.widget-view+json": {
       "model_id": "a455f518c5fa4e2baa1b0165f33819a3",
       "version_major": 2,
       "version_minor": 0
      },
      "text/plain": [
       "  0%|          | 0/2 [00:00<?, ?it/s]"
      ]
     },
     "metadata": {},
     "output_type": "display_data"
    },
    {
     "name": "stderr",
     "output_type": "stream",
     "text": [
      "Found cached dataset americas_nli (/home/samuel/.cache/huggingface/datasets/americas_nli/cni/1.0.0/2f4cd00b49c982fa8827cb332b2a2dbb692aa8a7cd34432fc476efeb7fee375a)\n"
     ]
    },
    {
     "data": {
      "application/vnd.jupyter.widget-view+json": {
       "model_id": "4e9889f696624bb38ae1f60b2ed2c322",
       "version_major": 2,
       "version_minor": 0
      },
      "text/plain": [
       "  0%|          | 0/2 [00:00<?, ?it/s]"
      ]
     },
     "metadata": {},
     "output_type": "display_data"
    },
    {
     "name": "stderr",
     "output_type": "stream",
     "text": [
      "Found cached dataset americas_nli (/home/samuel/.cache/huggingface/datasets/americas_nli/gn/1.0.0/2f4cd00b49c982fa8827cb332b2a2dbb692aa8a7cd34432fc476efeb7fee375a)\n"
     ]
    },
    {
     "data": {
      "application/vnd.jupyter.widget-view+json": {
       "model_id": "098d639b746649639aa23cfc405253d2",
       "version_major": 2,
       "version_minor": 0
      },
      "text/plain": [
       "  0%|          | 0/2 [00:00<?, ?it/s]"
      ]
     },
     "metadata": {},
     "output_type": "display_data"
    },
    {
     "name": "stderr",
     "output_type": "stream",
     "text": [
      "Found cached dataset americas_nli (/home/samuel/.cache/huggingface/datasets/americas_nli/hch/1.0.0/2f4cd00b49c982fa8827cb332b2a2dbb692aa8a7cd34432fc476efeb7fee375a)\n"
     ]
    },
    {
     "data": {
      "application/vnd.jupyter.widget-view+json": {
       "model_id": "d8451e3c72544d4393a93ba56237f4a5",
       "version_major": 2,
       "version_minor": 0
      },
      "text/plain": [
       "  0%|          | 0/2 [00:00<?, ?it/s]"
      ]
     },
     "metadata": {},
     "output_type": "display_data"
    },
    {
     "name": "stderr",
     "output_type": "stream",
     "text": [
      "Found cached dataset americas_nli (/home/samuel/.cache/huggingface/datasets/americas_nli/nah/1.0.0/2f4cd00b49c982fa8827cb332b2a2dbb692aa8a7cd34432fc476efeb7fee375a)\n"
     ]
    },
    {
     "data": {
      "application/vnd.jupyter.widget-view+json": {
       "model_id": "c05dbb2711cb49b4a4712d08c1a96eec",
       "version_major": 2,
       "version_minor": 0
      },
      "text/plain": [
       "  0%|          | 0/2 [00:00<?, ?it/s]"
      ]
     },
     "metadata": {},
     "output_type": "display_data"
    },
    {
     "name": "stderr",
     "output_type": "stream",
     "text": [
      "Found cached dataset americas_nli (/home/samuel/.cache/huggingface/datasets/americas_nli/oto/1.0.0/2f4cd00b49c982fa8827cb332b2a2dbb692aa8a7cd34432fc476efeb7fee375a)\n"
     ]
    },
    {
     "data": {
      "application/vnd.jupyter.widget-view+json": {
       "model_id": "619febff4ab24fe390215890c64b055f",
       "version_major": 2,
       "version_minor": 0
      },
      "text/plain": [
       "  0%|          | 0/2 [00:00<?, ?it/s]"
      ]
     },
     "metadata": {},
     "output_type": "display_data"
    },
    {
     "name": "stderr",
     "output_type": "stream",
     "text": [
      "Found cached dataset americas_nli (/home/samuel/.cache/huggingface/datasets/americas_nli/quy/1.0.0/2f4cd00b49c982fa8827cb332b2a2dbb692aa8a7cd34432fc476efeb7fee375a)\n"
     ]
    },
    {
     "data": {
      "application/vnd.jupyter.widget-view+json": {
       "model_id": "8cf8ec47e6344ae4b824310af7a304e3",
       "version_major": 2,
       "version_minor": 0
      },
      "text/plain": [
       "  0%|          | 0/2 [00:00<?, ?it/s]"
      ]
     },
     "metadata": {},
     "output_type": "display_data"
    },
    {
     "name": "stderr",
     "output_type": "stream",
     "text": [
      "Found cached dataset americas_nli (/home/samuel/.cache/huggingface/datasets/americas_nli/shp/1.0.0/2f4cd00b49c982fa8827cb332b2a2dbb692aa8a7cd34432fc476efeb7fee375a)\n"
     ]
    },
    {
     "data": {
      "application/vnd.jupyter.widget-view+json": {
       "model_id": "049dd3c58603455992eb50a3e7aea4c6",
       "version_major": 2,
       "version_minor": 0
      },
      "text/plain": [
       "  0%|          | 0/2 [00:00<?, ?it/s]"
      ]
     },
     "metadata": {},
     "output_type": "display_data"
    },
    {
     "name": "stderr",
     "output_type": "stream",
     "text": [
      "Found cached dataset americas_nli (/home/samuel/.cache/huggingface/datasets/americas_nli/tar/1.0.0/2f4cd00b49c982fa8827cb332b2a2dbb692aa8a7cd34432fc476efeb7fee375a)\n"
     ]
    },
    {
     "data": {
      "application/vnd.jupyter.widget-view+json": {
       "model_id": "0c07dd525e564196b02e600af0bc30ec",
       "version_major": 2,
       "version_minor": 0
      },
      "text/plain": [
       "  0%|          | 0/2 [00:00<?, ?it/s]"
      ]
     },
     "metadata": {},
     "output_type": "display_data"
    },
    {
     "name": "stderr",
     "output_type": "stream",
     "text": [
      "Found cached dataset xnli (/home/samuel/.cache/huggingface/datasets/xnli/es/1.1.0/818164464f9c9fd15776ca8a00423b074344c3e929d00a2c1a84aa5a50c928bd)\n"
     ]
    },
    {
     "data": {
      "application/vnd.jupyter.widget-view+json": {
       "model_id": "7152885623fd47e7b7952a80d69b8fa2",
       "version_major": 2,
       "version_minor": 0
      },
      "text/plain": [
       "  0%|          | 0/3 [00:00<?, ?it/s]"
      ]
     },
     "metadata": {},
     "output_type": "display_data"
    }
   ],
   "source": [
    "# Tweet Sentiment Multilingual\n",
    "tweet_senti_multi_dset = {\n",
    "\t\"eng\": load_dataset(\"cardiffnlp/tweet_sentiment_multilingual\", name=\"english\"),\n",
    "\t\"ara\": load_dataset(\"cardiffnlp/tweet_sentiment_multilingual\", name=\"arabic\"),\n",
    "\t\"fra\": load_dataset(\"cardiffnlp/tweet_sentiment_multilingual\", name=\"french\"),\n",
    "\t\"deu\": load_dataset(\"cardiffnlp/tweet_sentiment_multilingual\", name=\"german\"),\n",
    "\t\"hin\": load_dataset(\"cardiffnlp/tweet_sentiment_multilingual\", name=\"hindi\"),\n",
    "\t\"ita\": load_dataset(\"cardiffnlp/tweet_sentiment_multilingual\", name=\"italian\"),\n",
    "\t\"por\": load_dataset(\"cardiffnlp/tweet_sentiment_multilingual\", name=\"portuguese\"),\n",
    "\t\"spa\": load_dataset(\"cardiffnlp/tweet_sentiment_multilingual\", name=\"spanish\"),\n",
    "}\n",
    "\n",
    "# NusaTranslation Senti\n",
    "nt_senti_dset = {\n",
    "\t\"btk\": load_dataset(\"indonlp/nusatranslation_senti\", name=\"nusatranslation_senti_btk_nusantara_text\"),\n",
    "\t\"sun\": load_dataset(\"indonlp/nusatranslation_senti\", name=\"nusatranslation_senti_sun_nusantara_text\"),\n",
    "\t\"jav\": load_dataset(\"indonlp/nusatranslation_senti\", name=\"nusatranslation_senti_jav_nusantara_text\"),\n",
    "\t\"mad\": load_dataset(\"indonlp/nusatranslation_senti\", name=\"nusatranslation_senti_mad_nusantara_text\"),\n",
    "\t\"mak\": load_dataset(\"indonlp/nusatranslation_senti\", name=\"nusatranslation_senti_mak_nusantara_text\"),\n",
    "\t\"min\": load_dataset(\"indonlp/nusatranslation_senti\", name=\"nusatranslation_senti_min_nusantara_text\"),\n",
    "}\n",
    "\n",
    "# NusaTranslation MT\n",
    "nt_mt_dset = {\n",
    "\t\"btk\": load_dataset(\"indonlp/nusatranslation_mt\", name=\"nusatranslation_mt_btk_ind_nusantara_t2t\"),\n",
    "\t\"sun\": load_dataset(\"indonlp/nusatranslation_mt\", name=\"nusatranslation_mt_sun_ind_nusantara_t2t\"),\n",
    "\t\"jav\": load_dataset(\"indonlp/nusatranslation_mt\", name=\"nusatranslation_mt_jav_ind_nusantara_t2t\"),\n",
    "\t\"mad\": load_dataset(\"indonlp/nusatranslation_mt\", name=\"nusatranslation_mt_mad_ind_nusantara_t2t\"),\n",
    "\t\"mak\": load_dataset(\"indonlp/nusatranslation_mt\", name=\"nusatranslation_mt_mak_ind_nusantara_t2t\"),\n",
    "\t\"min\": load_dataset(\"indonlp/nusatranslation_mt\", name=\"nusatranslation_mt_min_ind_nusantara_t2t\"),\n",
    "}\n",
    "\n",
    "# NusaX Senti\n",
    "nusax_senti_dset = {\n",
    "\t\"btk\": load_dataset(\"indonlp/NusaX-senti\", name=\"bbc\"),\n",
    "\t\"sun\": load_dataset(\"indonlp/NusaX-senti\", name=\"sun\"),\n",
    "\t\"jav\": load_dataset(\"indonlp/NusaX-senti\", name=\"jav\"),\n",
    "\t\"mad\": load_dataset(\"indonlp/NusaX-senti\", name=\"mad\"),\n",
    "\t\"mak\": load_dataset(\"indonlp/NusaX-senti\", name=\"bug\"),\n",
    "\t\"min\": load_dataset(\"indonlp/NusaX-senti\", name=\"min\"),\n",
    "\t\"ind\": load_dataset(\"indonlp/NusaX-senti\", name=\"ind\"), # For X-ICL\n",
    "\t\"eng\": load_dataset(\"indonlp/NusaX-senti\", name=\"eng\"), # For X-ICL\n",
    "}\n",
    "\n",
    "# NusaX MT ind\n",
    "nusax_mt_ind_dset = {\n",
    "\t\"btk\": load_dataset(\"indonlp/NusaX-MT\", name=\"bbc-ind\"), # For IIA\n",
    "\t\"sun\": load_dataset(\"indonlp/NusaX-MT\", name=\"sun-ind\"), # For IIA\n",
    "\t\"jav\": load_dataset(\"indonlp/NusaX-MT\", name=\"jav-ind\"), # For IIA\n",
    "\t\"mad\": load_dataset(\"indonlp/NusaX-MT\", name=\"mad-ind\"), # For IIA\n",
    "\t\"mak\": load_dataset(\"indonlp/NusaX-MT\", name=\"bug-ind\"), # For IIA\n",
    "\t\"min\": load_dataset(\"indonlp/NusaX-MT\", name=\"min-ind\"), # For IIA\n",
    "}\n",
    "\n",
    "# NusaX MT eng (Extended experiment)\n",
    "nusax_mt_eng_dset = {\n",
    "\t\"btk\": load_dataset(\"indonlp/NusaX-MT\", name=\"bbc-eng\"), # For IIA\n",
    "\t\"sun\": load_dataset(\"indonlp/NusaX-MT\", name=\"sun-eng\"), # For IIA\n",
    "\t\"jav\": load_dataset(\"indonlp/NusaX-MT\", name=\"jav-eng\"), # For IIA\n",
    "\t\"mad\": load_dataset(\"indonlp/NusaX-MT\", name=\"mad-eng\"), # For IIA\n",
    "\t\"mak\": load_dataset(\"indonlp/NusaX-MT\", name=\"bug-eng\"), # For IIA\n",
    "\t\"min\": load_dataset(\"indonlp/NusaX-MT\", name=\"min-eng\"), # For IIA\n",
    "}\n",
    "\n",
    "# MasakhaNews\n",
    "masakhanews_dset = {\n",
    "\t\"amh\": load_dataset(\"masakhane/masakhanews\", name=\"amh\"),\n",
    "\t\"hau\": load_dataset(\"masakhane/masakhanews\", name=\"hau\"),\n",
    "\t\"ibo\": load_dataset(\"masakhane/masakhanews\", name=\"ibo\"),\n",
    "\t\"lug\": load_dataset(\"masakhane/masakhanews\", name=\"lug\"),\n",
    "\t\"pcm\": load_dataset(\"masakhane/masakhanews\", name=\"pcm\"),\n",
    "\t\"sna\": load_dataset(\"masakhane/masakhanews\", name=\"sna\"),\n",
    "\t\"swa\": load_dataset(\"masakhane/masakhanews\", name=\"swa\"),\n",
    "\t\"xho\": load_dataset(\"masakhane/masakhanews\", name=\"xho\"),\n",
    "\t\"yor\": load_dataset(\"masakhane/masakhanews\", name=\"yor\"),\n",
    "\t\"eng\": load_dataset(\"masakhane/masakhanews\", name=\"eng\"), # For X-ICL\n",
    "}\n",
    "\n",
    "# MAFAND\n",
    "mafand_dset = {\n",
    "\t\"amh\": load_dataset(\"masakhane/mafand\", name=\"en-amh\"), # For IIA\n",
    "\t\"hau\": load_dataset(\"masakhane/mafand\", name=\"en-hau\"), # For IIA\n",
    "\t\"ibo\": load_dataset(\"masakhane/mafand\", name=\"en-ibo\"), # For IIA\n",
    "\t\"lug\": load_dataset(\"masakhane/mafand\", name=\"en-lug\"), # For IIA\n",
    "\t\"pcm\": load_dataset(\"masakhane/mafand\", name=\"en-pcm\"), # For IIA\n",
    "\t\"sna\": load_dataset(\"masakhane/mafand\", name=\"en-sna\"), # For IIA\n",
    "\t\"swa\": load_dataset(\"masakhane/mafand\", name=\"en-swa\"), # For IIA\n",
    "\t\"xho\": load_dataset(\"masakhane/mafand\", name=\"en-xho\"), # For IIA\n",
    "\t\"yor\": load_dataset(\"masakhane/mafand\", name=\"en-yor\"), # For IIA\n",
    "}\n",
    "\n",
    "# AmericasNLI\n",
    "americasnli_dset = {\n",
    "\t\"aym\": load_dataset(\"americas_nli\", name=\"aym\"),\n",
    "\t\"bzd\": load_dataset(\"americas_nli\", name=\"bzd\"),\n",
    "\t\"cni\": load_dataset(\"americas_nli\", name=\"cni\"),\n",
    "\t\"gn\": load_dataset(\"americas_nli\", name=\"gn\"),\n",
    "\t\"hch\": load_dataset(\"americas_nli\", name=\"hch\"),\n",
    "\t\"nah\": load_dataset(\"americas_nli\", name=\"nah\"),\n",
    "\t\"oto\": load_dataset(\"americas_nli\", name=\"oto\"),\n",
    "\t\"quy\": load_dataset(\"americas_nli\", name=\"quy\"),\n",
    "\t\"shp\": load_dataset(\"americas_nli\", name=\"shp\"),\n",
    "\t\"tar\": load_dataset(\"americas_nli\", name=\"tar\"),\n",
    "}\n",
    "\n",
    "# XNLI\n",
    "xnli_dset = load_dataset(\"xnli\", name=\"es\") # For X-ICL"
   ]
  },
  {
   "cell_type": "markdown",
   "id": "046006c2-fc6d-4667-b731-dc2b6a1ed104",
   "metadata": {},
   "source": [
    "# Standardize Dataset"
   ]
  },
  {
   "cell_type": "markdown",
   "id": "d1e76ea2-4a43-44a7-8588-61463aa32a3d",
   "metadata": {},
   "source": [
    "### NLU Dataset"
   ]
  },
  {
   "cell_type": "code",
   "execution_count": 4,
   "id": "764f32ee-e1e8-4878-bb67-6b80d440b3ad",
   "metadata": {},
   "outputs": [],
   "source": [
    "save_path = '.'\n",
    "\n",
    "def label2str(row, dset):\n",
    "    row['str_label'] = dset.features['label'].int2str(row['label'])\n",
    "    return row\n",
    "\n",
    "anli_label_map = {\n",
    "    'entailment': 'vinculación',\n",
    "    'neutral': 'neutral',\n",
    "    'contradiction': 'contradicción'\n",
    "}\n",
    "\n",
    "def label_eng2spa(row):\n",
    "    row['label'] = anli_label_map[row['label']]\n",
    "    return row"
   ]
  },
  {
   "cell_type": "code",
   "execution_count": 7,
   "id": "c5d4369c-91ca-4ea7-8da7-7781585286c4",
   "metadata": {
    "scrolled": true,
    "tags": []
   },
   "outputs": [
    {
     "name": "stderr",
     "output_type": "stream",
     "text": [
      "Loading cached processed dataset at /home/samuel/.cache/huggingface/datasets/indonlp___nusatranslation_senti/nusatranslation_senti_btk_nusantara_text/1.0.0/84380b9fe1509e8d8d8c7c3c6d475f39181456c63a2fad48e88ceb95a642c952/cache-8b0f3cb6b69eb960.arrow\n",
      "Loading cached processed dataset at /home/samuel/.cache/huggingface/datasets/indonlp___nusatranslation_senti/nusatranslation_senti_sun_nusantara_text/1.0.0/84380b9fe1509e8d8d8c7c3c6d475f39181456c63a2fad48e88ceb95a642c952/cache-bbe06556917ad23b.arrow\n",
      "Loading cached processed dataset at /home/samuel/.cache/huggingface/datasets/indonlp___nusatranslation_senti/nusatranslation_senti_jav_nusantara_text/1.0.0/84380b9fe1509e8d8d8c7c3c6d475f39181456c63a2fad48e88ceb95a642c952/cache-6609dc0983576d6d.arrow\n",
      "Loading cached processed dataset at /home/samuel/.cache/huggingface/datasets/indonlp___nusatranslation_senti/nusatranslation_senti_mad_nusantara_text/1.0.0/84380b9fe1509e8d8d8c7c3c6d475f39181456c63a2fad48e88ceb95a642c952/cache-c73da4161b1d4e57.arrow\n",
      "Loading cached processed dataset at /home/samuel/.cache/huggingface/datasets/indonlp___nusatranslation_senti/nusatranslation_senti_mak_nusantara_text/1.0.0/84380b9fe1509e8d8d8c7c3c6d475f39181456c63a2fad48e88ceb95a642c952/cache-949baf167e487d4d.arrow\n",
      "Loading cached processed dataset at /home/samuel/.cache/huggingface/datasets/indonlp___nusatranslation_senti/nusatranslation_senti_min_nusantara_text/1.0.0/84380b9fe1509e8d8d8c7c3c6d475f39181456c63a2fad48e88ceb95a642c952/cache-a79a8224ad3d711c.arrow\n",
      "Loading cached processed dataset at /home/samuel/.cache/huggingface/datasets/masakhane___masakhanews/amh/1.0.0/c60334474cec1d13c0c3018e138cd8b60bc6443fa5e25258d65d990b2498403f/cache-f316afe52c5f2c48.arrow\n",
      "Loading cached processed dataset at /home/samuel/.cache/huggingface/datasets/masakhane___masakhanews/hau/1.0.0/c60334474cec1d13c0c3018e138cd8b60bc6443fa5e25258d65d990b2498403f/cache-3debf94ea3da75d0.arrow\n",
      "Loading cached processed dataset at /home/samuel/.cache/huggingface/datasets/masakhane___masakhanews/ibo/1.0.0/c60334474cec1d13c0c3018e138cd8b60bc6443fa5e25258d65d990b2498403f/cache-bbac7ce221c037b5.arrow\n",
      "Loading cached processed dataset at /home/samuel/.cache/huggingface/datasets/masakhane___masakhanews/lug/1.0.0/c60334474cec1d13c0c3018e138cd8b60bc6443fa5e25258d65d990b2498403f/cache-99badc5a8535bbe2.arrow\n",
      "Loading cached processed dataset at /home/samuel/.cache/huggingface/datasets/masakhane___masakhanews/pcm/1.0.0/c60334474cec1d13c0c3018e138cd8b60bc6443fa5e25258d65d990b2498403f/cache-e3487ec0b72fa339.arrow\n",
      "Loading cached processed dataset at /home/samuel/.cache/huggingface/datasets/masakhane___masakhanews/sna/1.0.0/c60334474cec1d13c0c3018e138cd8b60bc6443fa5e25258d65d990b2498403f/cache-66d99f4399ff2df9.arrow\n",
      "Loading cached processed dataset at /home/samuel/.cache/huggingface/datasets/masakhane___masakhanews/swa/1.0.0/c60334474cec1d13c0c3018e138cd8b60bc6443fa5e25258d65d990b2498403f/cache-b9954d0282cbbd8b.arrow\n",
      "Loading cached processed dataset at /home/samuel/.cache/huggingface/datasets/masakhane___masakhanews/xho/1.0.0/c60334474cec1d13c0c3018e138cd8b60bc6443fa5e25258d65d990b2498403f/cache-0989eab587c7d77d.arrow\n",
      "Loading cached processed dataset at /home/samuel/.cache/huggingface/datasets/masakhane___masakhanews/yor/1.0.0/c60334474cec1d13c0c3018e138cd8b60bc6443fa5e25258d65d990b2498403f/cache-9f225849ecb81d97.arrow\n",
      "Loading cached processed dataset at /home/samuel/.cache/huggingface/datasets/masakhane___masakhanews/eng/1.0.0/c60334474cec1d13c0c3018e138cd8b60bc6443fa5e25258d65d990b2498403f/cache-f4fd33872f44e572.arrow\n",
      "Loading cached processed dataset at /home/samuel/.cache/huggingface/datasets/americas_nli/aym/1.0.0/2f4cd00b49c982fa8827cb332b2a2dbb692aa8a7cd34432fc476efeb7fee375a/cache-b44f876647388c0d.arrow\n",
      "Loading cached processed dataset at /home/samuel/.cache/huggingface/datasets/americas_nli/bzd/1.0.0/2f4cd00b49c982fa8827cb332b2a2dbb692aa8a7cd34432fc476efeb7fee375a/cache-e5f59f5397a9438e.arrow\n",
      "Loading cached processed dataset at /home/samuel/.cache/huggingface/datasets/americas_nli/cni/1.0.0/2f4cd00b49c982fa8827cb332b2a2dbb692aa8a7cd34432fc476efeb7fee375a/cache-7664cce35cb6cae5.arrow\n",
      "Loading cached processed dataset at /home/samuel/.cache/huggingface/datasets/americas_nli/gn/1.0.0/2f4cd00b49c982fa8827cb332b2a2dbb692aa8a7cd34432fc476efeb7fee375a/cache-930d5f29f42639ad.arrow\n",
      "Loading cached processed dataset at /home/samuel/.cache/huggingface/datasets/americas_nli/hch/1.0.0/2f4cd00b49c982fa8827cb332b2a2dbb692aa8a7cd34432fc476efeb7fee375a/cache-f96a92443ef38c3c.arrow\n",
      "Loading cached processed dataset at /home/samuel/.cache/huggingface/datasets/americas_nli/nah/1.0.0/2f4cd00b49c982fa8827cb332b2a2dbb692aa8a7cd34432fc476efeb7fee375a/cache-256ce6d453554f91.arrow\n",
      "Loading cached processed dataset at /home/samuel/.cache/huggingface/datasets/americas_nli/oto/1.0.0/2f4cd00b49c982fa8827cb332b2a2dbb692aa8a7cd34432fc476efeb7fee375a/cache-a04e0b8e1a5f670c.arrow\n",
      "Loading cached processed dataset at /home/samuel/.cache/huggingface/datasets/americas_nli/quy/1.0.0/2f4cd00b49c982fa8827cb332b2a2dbb692aa8a7cd34432fc476efeb7fee375a/cache-4ea139bc0193ba9c.arrow\n",
      "Loading cached processed dataset at /home/samuel/.cache/huggingface/datasets/americas_nli/shp/1.0.0/2f4cd00b49c982fa8827cb332b2a2dbb692aa8a7cd34432fc476efeb7fee375a/cache-5d89eb22a025c6aa.arrow\n",
      "Loading cached processed dataset at /home/samuel/.cache/huggingface/datasets/americas_nli/tar/1.0.0/2f4cd00b49c982fa8827cb332b2a2dbb692aa8a7cd34432fc476efeb7fee375a/cache-27540f6274d82f89.arrow\n"
     ]
    },
    {
     "data": {
      "application/vnd.jupyter.widget-view+json": {
       "model_id": "",
       "version_major": 2,
       "version_minor": 0
      },
      "text/plain": [
       "Map:   0%|          | 0/750 [00:00<?, ? examples/s]"
      ]
     },
     "metadata": {},
     "output_type": "display_data"
    },
    {
     "data": {
      "application/vnd.jupyter.widget-view+json": {
       "model_id": "",
       "version_major": 2,
       "version_minor": 0
      },
      "text/plain": [
       "Map:   0%|          | 0/750 [00:00<?, ? examples/s]"
      ]
     },
     "metadata": {},
     "output_type": "display_data"
    },
    {
     "data": {
      "application/vnd.jupyter.widget-view+json": {
       "model_id": "",
       "version_major": 2,
       "version_minor": 0
      },
      "text/plain": [
       "Map:   0%|          | 0/750 [00:00<?, ? examples/s]"
      ]
     },
     "metadata": {},
     "output_type": "display_data"
    },
    {
     "data": {
      "application/vnd.jupyter.widget-view+json": {
       "model_id": "",
       "version_major": 2,
       "version_minor": 0
      },
      "text/plain": [
       "Map:   0%|          | 0/750 [00:00<?, ? examples/s]"
      ]
     },
     "metadata": {},
     "output_type": "display_data"
    },
    {
     "data": {
      "application/vnd.jupyter.widget-view+json": {
       "model_id": "",
       "version_major": 2,
       "version_minor": 0
      },
      "text/plain": [
       "Map:   0%|          | 0/750 [00:00<?, ? examples/s]"
      ]
     },
     "metadata": {},
     "output_type": "display_data"
    },
    {
     "data": {
      "application/vnd.jupyter.widget-view+json": {
       "model_id": "",
       "version_major": 2,
       "version_minor": 0
      },
      "text/plain": [
       "Map:   0%|          | 0/738 [00:00<?, ? examples/s]"
      ]
     },
     "metadata": {},
     "output_type": "display_data"
    },
    {
     "data": {
      "application/vnd.jupyter.widget-view+json": {
       "model_id": "",
       "version_major": 2,
       "version_minor": 0
      },
      "text/plain": [
       "Map:   0%|          | 0/748 [00:00<?, ? examples/s]"
      ]
     },
     "metadata": {},
     "output_type": "display_data"
    },
    {
     "data": {
      "application/vnd.jupyter.widget-view+json": {
       "model_id": "",
       "version_major": 2,
       "version_minor": 0
      },
      "text/plain": [
       "Map:   0%|          | 0/750 [00:00<?, ? examples/s]"
      ]
     },
     "metadata": {},
     "output_type": "display_data"
    },
    {
     "data": {
      "application/vnd.jupyter.widget-view+json": {
       "model_id": "",
       "version_major": 2,
       "version_minor": 0
      },
      "text/plain": [
       "Map:   0%|          | 0/750 [00:00<?, ? examples/s]"
      ]
     },
     "metadata": {},
     "output_type": "display_data"
    },
    {
     "data": {
      "application/vnd.jupyter.widget-view+json": {
       "model_id": "",
       "version_major": 2,
       "version_minor": 0
      },
      "text/plain": [
       "Map:   0%|          | 0/750 [00:00<?, ? examples/s]"
      ]
     },
     "metadata": {},
     "output_type": "display_data"
    },
    {
     "data": {
      "application/vnd.jupyter.widget-view+json": {
       "model_id": "",
       "version_major": 2,
       "version_minor": 0
      },
      "text/plain": [
       "Saving the dataset (0/1 shards):   0%|          | 0/1200 [00:00<?, ? examples/s]"
      ]
     },
     "metadata": {},
     "output_type": "display_data"
    },
    {
     "data": {
      "application/vnd.jupyter.widget-view+json": {
       "model_id": "",
       "version_major": 2,
       "version_minor": 0
      },
      "text/plain": [
       "Saving the dataset (0/1 shards):   0%|          | 0/1200 [00:00<?, ? examples/s]"
      ]
     },
     "metadata": {},
     "output_type": "display_data"
    },
    {
     "data": {
      "application/vnd.jupyter.widget-view+json": {
       "model_id": "",
       "version_major": 2,
       "version_minor": 0
      },
      "text/plain": [
       "Saving the dataset (0/1 shards):   0%|          | 0/1200 [00:00<?, ? examples/s]"
      ]
     },
     "metadata": {},
     "output_type": "display_data"
    },
    {
     "data": {
      "application/vnd.jupyter.widget-view+json": {
       "model_id": "",
       "version_major": 2,
       "version_minor": 0
      },
      "text/plain": [
       "Saving the dataset (0/1 shards):   0%|          | 0/1200 [00:00<?, ? examples/s]"
      ]
     },
     "metadata": {},
     "output_type": "display_data"
    },
    {
     "data": {
      "application/vnd.jupyter.widget-view+json": {
       "model_id": "",
       "version_major": 2,
       "version_minor": 0
      },
      "text/plain": [
       "Saving the dataset (0/1 shards):   0%|          | 0/1200 [00:00<?, ? examples/s]"
      ]
     },
     "metadata": {},
     "output_type": "display_data"
    },
    {
     "data": {
      "application/vnd.jupyter.widget-view+json": {
       "model_id": "",
       "version_major": 2,
       "version_minor": 0
      },
      "text/plain": [
       "Saving the dataset (0/1 shards):   0%|          | 0/1200 [00:00<?, ? examples/s]"
      ]
     },
     "metadata": {},
     "output_type": "display_data"
    },
    {
     "data": {
      "application/vnd.jupyter.widget-view+json": {
       "model_id": "",
       "version_major": 2,
       "version_minor": 0
      },
      "text/plain": [
       "Saving the dataset (0/1 shards):   0%|          | 0/376 [00:00<?, ? examples/s]"
      ]
     },
     "metadata": {},
     "output_type": "display_data"
    },
    {
     "data": {
      "application/vnd.jupyter.widget-view+json": {
       "model_id": "",
       "version_major": 2,
       "version_minor": 0
      },
      "text/plain": [
       "Saving the dataset (0/1 shards):   0%|          | 0/637 [00:00<?, ? examples/s]"
      ]
     },
     "metadata": {},
     "output_type": "display_data"
    },
    {
     "data": {
      "application/vnd.jupyter.widget-view+json": {
       "model_id": "",
       "version_major": 2,
       "version_minor": 0
      },
      "text/plain": [
       "Saving the dataset (0/1 shards):   0%|          | 0/390 [00:00<?, ? examples/s]"
      ]
     },
     "metadata": {},
     "output_type": "display_data"
    },
    {
     "data": {
      "application/vnd.jupyter.widget-view+json": {
       "model_id": "",
       "version_major": 2,
       "version_minor": 0
      },
      "text/plain": [
       "Saving the dataset (0/1 shards):   0%|          | 0/223 [00:00<?, ? examples/s]"
      ]
     },
     "metadata": {},
     "output_type": "display_data"
    },
    {
     "data": {
      "application/vnd.jupyter.widget-view+json": {
       "model_id": "",
       "version_major": 2,
       "version_minor": 0
      },
      "text/plain": [
       "Saving the dataset (0/1 shards):   0%|          | 0/305 [00:00<?, ? examples/s]"
      ]
     },
     "metadata": {},
     "output_type": "display_data"
    },
    {
     "data": {
      "application/vnd.jupyter.widget-view+json": {
       "model_id": "",
       "version_major": 2,
       "version_minor": 0
      },
      "text/plain": [
       "Saving the dataset (0/1 shards):   0%|          | 0/369 [00:00<?, ? examples/s]"
      ]
     },
     "metadata": {},
     "output_type": "display_data"
    },
    {
     "data": {
      "application/vnd.jupyter.widget-view+json": {
       "model_id": "",
       "version_major": 2,
       "version_minor": 0
      },
      "text/plain": [
       "Saving the dataset (0/1 shards):   0%|          | 0/476 [00:00<?, ? examples/s]"
      ]
     },
     "metadata": {},
     "output_type": "display_data"
    },
    {
     "data": {
      "application/vnd.jupyter.widget-view+json": {
       "model_id": "",
       "version_major": 2,
       "version_minor": 0
      },
      "text/plain": [
       "Saving the dataset (0/1 shards):   0%|          | 0/297 [00:00<?, ? examples/s]"
      ]
     },
     "metadata": {},
     "output_type": "display_data"
    },
    {
     "data": {
      "application/vnd.jupyter.widget-view+json": {
       "model_id": "",
       "version_major": 2,
       "version_minor": 0
      },
      "text/plain": [
       "Saving the dataset (0/1 shards):   0%|          | 0/411 [00:00<?, ? examples/s]"
      ]
     },
     "metadata": {},
     "output_type": "display_data"
    },
    {
     "data": {
      "application/vnd.jupyter.widget-view+json": {
       "model_id": "",
       "version_major": 2,
       "version_minor": 0
      },
      "text/plain": [
       "Saving the dataset (0/1 shards):   0%|          | 0/948 [00:00<?, ? examples/s]"
      ]
     },
     "metadata": {},
     "output_type": "display_data"
    },
    {
     "data": {
      "application/vnd.jupyter.widget-view+json": {
       "model_id": "",
       "version_major": 2,
       "version_minor": 0
      },
      "text/plain": [
       "Saving the dataset (0/1 shards):   0%|          | 0/750 [00:00<?, ? examples/s]"
      ]
     },
     "metadata": {},
     "output_type": "display_data"
    },
    {
     "data": {
      "application/vnd.jupyter.widget-view+json": {
       "model_id": "",
       "version_major": 2,
       "version_minor": 0
      },
      "text/plain": [
       "Saving the dataset (0/1 shards):   0%|          | 0/750 [00:00<?, ? examples/s]"
      ]
     },
     "metadata": {},
     "output_type": "display_data"
    },
    {
     "data": {
      "application/vnd.jupyter.widget-view+json": {
       "model_id": "",
       "version_major": 2,
       "version_minor": 0
      },
      "text/plain": [
       "Saving the dataset (0/1 shards):   0%|          | 0/750 [00:00<?, ? examples/s]"
      ]
     },
     "metadata": {},
     "output_type": "display_data"
    },
    {
     "data": {
      "application/vnd.jupyter.widget-view+json": {
       "model_id": "",
       "version_major": 2,
       "version_minor": 0
      },
      "text/plain": [
       "Saving the dataset (0/1 shards):   0%|          | 0/750 [00:00<?, ? examples/s]"
      ]
     },
     "metadata": {},
     "output_type": "display_data"
    },
    {
     "data": {
      "application/vnd.jupyter.widget-view+json": {
       "model_id": "",
       "version_major": 2,
       "version_minor": 0
      },
      "text/plain": [
       "Saving the dataset (0/1 shards):   0%|          | 0/750 [00:00<?, ? examples/s]"
      ]
     },
     "metadata": {},
     "output_type": "display_data"
    },
    {
     "data": {
      "application/vnd.jupyter.widget-view+json": {
       "model_id": "",
       "version_major": 2,
       "version_minor": 0
      },
      "text/plain": [
       "Saving the dataset (0/1 shards):   0%|          | 0/738 [00:00<?, ? examples/s]"
      ]
     },
     "metadata": {},
     "output_type": "display_data"
    },
    {
     "data": {
      "application/vnd.jupyter.widget-view+json": {
       "model_id": "",
       "version_major": 2,
       "version_minor": 0
      },
      "text/plain": [
       "Saving the dataset (0/1 shards):   0%|          | 0/748 [00:00<?, ? examples/s]"
      ]
     },
     "metadata": {},
     "output_type": "display_data"
    },
    {
     "data": {
      "application/vnd.jupyter.widget-view+json": {
       "model_id": "",
       "version_major": 2,
       "version_minor": 0
      },
      "text/plain": [
       "Saving the dataset (0/1 shards):   0%|          | 0/750 [00:00<?, ? examples/s]"
      ]
     },
     "metadata": {},
     "output_type": "display_data"
    },
    {
     "data": {
      "application/vnd.jupyter.widget-view+json": {
       "model_id": "",
       "version_major": 2,
       "version_minor": 0
      },
      "text/plain": [
       "Saving the dataset (0/1 shards):   0%|          | 0/750 [00:00<?, ? examples/s]"
      ]
     },
     "metadata": {},
     "output_type": "display_data"
    },
    {
     "data": {
      "application/vnd.jupyter.widget-view+json": {
       "model_id": "",
       "version_major": 2,
       "version_minor": 0
      },
      "text/plain": [
       "Saving the dataset (0/1 shards):   0%|          | 0/750 [00:00<?, ? examples/s]"
      ]
     },
     "metadata": {},
     "output_type": "display_data"
    }
   ],
   "source": [
    "###\n",
    "# Prepare Evaluation Data\n",
    "#\n",
    "# Single-Sentence Classification [text, label]\n",
    "# NLI Classification [premise, hypothesis, label]\n",
    "###\n",
    "\n",
    "\n",
    "# Process NusaTranslation Senti\n",
    "nt_senti_dset_clean = {}\n",
    "for key in nt_senti_dset.keys():\n",
    "    dset = nt_senti_dset[key]['test'].remove_columns(['id'])\n",
    "    nt_senti_dset_clean[key] = dset\n",
    "nt_senti_dset_clean = datasets.DatasetDict(nt_senti_dset_clean)\n",
    "nt_senti_dset_clean = nt_senti_dset_clean.map(\n",
    "    label2str, remove_columns=['label'], fn_kwargs={\"dset\": nusax_senti_dset['jav']['train']}\n",
    ").rename_columns({'str_label': 'label'})\n",
    "\n",
    "# Process MasakhaNews Senti\n",
    "masakhanews_dset_clean = {}\n",
    "for key in masakhanews_dset.keys():\n",
    "    dset = masakhanews_dset[key]['test'].remove_columns(['text', 'headline_text', 'url'])\n",
    "    dset = dset.rename_columns({'headline': 'text'})\n",
    "    dset = dset.map(\n",
    "        label2str, remove_columns=['label'], fn_kwargs={\"dset\": dset}\n",
    "    ).rename_columns({'str_label': 'label'})\n",
    "    masakhanews_dset_clean[key] = dset\n",
    "masakhanews_dset_clean = datasets.DatasetDict(masakhanews_dset_clean)\n",
    "\n",
    "# Process AmericasNLI Senti\n",
    "americasnli_dset_clean = {}\n",
    "for key in americasnli_dset.keys():\n",
    "    dset = americasnli_dset[key]['test']\n",
    "    americasnli_dset_clean[key] = dset\n",
    "americasnli_dset_clean = datasets.DatasetDict(americasnli_dset_clean)\n",
    "americasnli_dset_clean = americasnli_dset_clean.map(\n",
    "    label2str, remove_columns=['label'], fn_kwargs={\"dset\": americasnli_dset['aym']['test']}\n",
    ").rename_columns({'str_label': 'label'})\n",
    "\n",
    "americasnli_dset_clean = americasnli_dset_clean.map(label_eng2spa)\n",
    "\n",
    "# Save to Cache\n",
    "nt_senti_dset_clean.save_to_disk(f'{save_path}/nt_senti_test_dset')\n",
    "masakhanews_dset_clean.save_to_disk(f'{save_path}/masakhanews_test_dset')\n",
    "americasnli_dset_clean.save_to_disk(f'{save_path}/americasnli_test_dset')"
   ]
  },
  {
   "cell_type": "code",
   "execution_count": 11,
   "id": "3428c145-b47a-43e6-94de-41717d5a9298",
   "metadata": {
    "scrolled": true,
    "tags": []
   },
   "outputs": [
    {
     "name": "stderr",
     "output_type": "stream",
     "text": [
      "Loading cached processed dataset at /home/samuel/.cache/huggingface/datasets/indonlp___nusa_x-senti/bbc/1.0.0/3477a395c5c7a09a74d897ceb96ebd2c3afbd1d7fad0c11d8b8026b8b08e3af5/cache-62abee01490fb197.arrow\n",
      "Loading cached processed dataset at /home/samuel/.cache/huggingface/datasets/indonlp___nusa_x-senti/sun/1.0.0/3477a395c5c7a09a74d897ceb96ebd2c3afbd1d7fad0c11d8b8026b8b08e3af5/cache-a74670ccf34d6e16.arrow\n",
      "Loading cached processed dataset at /home/samuel/.cache/huggingface/datasets/indonlp___nusa_x-senti/jav/1.0.0/3477a395c5c7a09a74d897ceb96ebd2c3afbd1d7fad0c11d8b8026b8b08e3af5/cache-1b59d8d2ce55537d.arrow\n",
      "Loading cached processed dataset at /home/samuel/.cache/huggingface/datasets/indonlp___nusa_x-senti/mad/1.0.0/3477a395c5c7a09a74d897ceb96ebd2c3afbd1d7fad0c11d8b8026b8b08e3af5/cache-d6fb3c89b6896cd9.arrow\n",
      "Loading cached processed dataset at /home/samuel/.cache/huggingface/datasets/indonlp___nusa_x-senti/bug/1.0.0/3477a395c5c7a09a74d897ceb96ebd2c3afbd1d7fad0c11d8b8026b8b08e3af5/cache-521878d61dc1bb84.arrow\n",
      "Loading cached processed dataset at /home/samuel/.cache/huggingface/datasets/indonlp___nusa_x-senti/min/1.0.0/3477a395c5c7a09a74d897ceb96ebd2c3afbd1d7fad0c11d8b8026b8b08e3af5/cache-e3d67168151658cf.arrow\n",
      "Loading cached processed dataset at /home/samuel/.cache/huggingface/datasets/indonlp___nusa_x-senti/ind/1.0.0/3477a395c5c7a09a74d897ceb96ebd2c3afbd1d7fad0c11d8b8026b8b08e3af5/cache-3b378459b55ea238.arrow\n",
      "Loading cached processed dataset at /home/samuel/.cache/huggingface/datasets/indonlp___nusa_x-senti/eng/1.0.0/3477a395c5c7a09a74d897ceb96ebd2c3afbd1d7fad0c11d8b8026b8b08e3af5/cache-a8f425b450d44eb6.arrow\n",
      "Loading cached processed dataset at /home/samuel/.cache/huggingface/datasets/masakhane___masakhanews/amh/1.0.0/c60334474cec1d13c0c3018e138cd8b60bc6443fa5e25258d65d990b2498403f/cache-0dac328733ca149c.arrow\n",
      "Loading cached processed dataset at /home/samuel/.cache/huggingface/datasets/masakhane___masakhanews/hau/1.0.0/c60334474cec1d13c0c3018e138cd8b60bc6443fa5e25258d65d990b2498403f/cache-943fcdb5ab6eb583.arrow\n",
      "Loading cached processed dataset at /home/samuel/.cache/huggingface/datasets/masakhane___masakhanews/ibo/1.0.0/c60334474cec1d13c0c3018e138cd8b60bc6443fa5e25258d65d990b2498403f/cache-5be651a874defe99.arrow\n",
      "Loading cached processed dataset at /home/samuel/.cache/huggingface/datasets/masakhane___masakhanews/lug/1.0.0/c60334474cec1d13c0c3018e138cd8b60bc6443fa5e25258d65d990b2498403f/cache-c11ae13925c6e63d.arrow\n",
      "Loading cached processed dataset at /home/samuel/.cache/huggingface/datasets/masakhane___masakhanews/pcm/1.0.0/c60334474cec1d13c0c3018e138cd8b60bc6443fa5e25258d65d990b2498403f/cache-fd22a00453eeaa89.arrow\n",
      "Loading cached processed dataset at /home/samuel/.cache/huggingface/datasets/masakhane___masakhanews/sna/1.0.0/c60334474cec1d13c0c3018e138cd8b60bc6443fa5e25258d65d990b2498403f/cache-50403510285c6f87.arrow\n",
      "Loading cached processed dataset at /home/samuel/.cache/huggingface/datasets/masakhane___masakhanews/swa/1.0.0/c60334474cec1d13c0c3018e138cd8b60bc6443fa5e25258d65d990b2498403f/cache-5010b16e16ce5bad.arrow\n",
      "Loading cached processed dataset at /home/samuel/.cache/huggingface/datasets/masakhane___masakhanews/xho/1.0.0/c60334474cec1d13c0c3018e138cd8b60bc6443fa5e25258d65d990b2498403f/cache-873cf11c245f2a68.arrow\n",
      "Loading cached processed dataset at /home/samuel/.cache/huggingface/datasets/masakhane___masakhanews/yor/1.0.0/c60334474cec1d13c0c3018e138cd8b60bc6443fa5e25258d65d990b2498403f/cache-6ef3411d375a7b47.arrow\n",
      "Loading cached processed dataset at /home/samuel/.cache/huggingface/datasets/masakhane___masakhanews/eng/1.0.0/c60334474cec1d13c0c3018e138cd8b60bc6443fa5e25258d65d990b2498403f/cache-faf507b85cfcb7ce.arrow\n",
      "Loading cached processed dataset at /home/samuel/.cache/huggingface/datasets/americas_nli/aym/1.0.0/2f4cd00b49c982fa8827cb332b2a2dbb692aa8a7cd34432fc476efeb7fee375a/cache-f59b9a05c1b87f7f.arrow\n",
      "Loading cached processed dataset at /home/samuel/.cache/huggingface/datasets/americas_nli/bzd/1.0.0/2f4cd00b49c982fa8827cb332b2a2dbb692aa8a7cd34432fc476efeb7fee375a/cache-a4bea5c9445ad4ce.arrow\n",
      "Loading cached processed dataset at /home/samuel/.cache/huggingface/datasets/americas_nli/cni/1.0.0/2f4cd00b49c982fa8827cb332b2a2dbb692aa8a7cd34432fc476efeb7fee375a/cache-4861cef5bc1ba9a3.arrow\n",
      "Loading cached processed dataset at /home/samuel/.cache/huggingface/datasets/americas_nli/gn/1.0.0/2f4cd00b49c982fa8827cb332b2a2dbb692aa8a7cd34432fc476efeb7fee375a/cache-6d12ffd77c8bf8b1.arrow\n",
      "Loading cached processed dataset at /home/samuel/.cache/huggingface/datasets/americas_nli/hch/1.0.0/2f4cd00b49c982fa8827cb332b2a2dbb692aa8a7cd34432fc476efeb7fee375a/cache-5e6c83524a98f344.arrow\n",
      "Loading cached processed dataset at /home/samuel/.cache/huggingface/datasets/americas_nli/nah/1.0.0/2f4cd00b49c982fa8827cb332b2a2dbb692aa8a7cd34432fc476efeb7fee375a/cache-272ff7c909c60639.arrow\n",
      "Loading cached processed dataset at /home/samuel/.cache/huggingface/datasets/americas_nli/oto/1.0.0/2f4cd00b49c982fa8827cb332b2a2dbb692aa8a7cd34432fc476efeb7fee375a/cache-60cbfa76de072f63.arrow\n",
      "Loading cached processed dataset at /home/samuel/.cache/huggingface/datasets/americas_nli/quy/1.0.0/2f4cd00b49c982fa8827cb332b2a2dbb692aa8a7cd34432fc476efeb7fee375a/cache-dcf35b923450926e.arrow\n",
      "Loading cached processed dataset at /home/samuel/.cache/huggingface/datasets/americas_nli/shp/1.0.0/2f4cd00b49c982fa8827cb332b2a2dbb692aa8a7cd34432fc476efeb7fee375a/cache-610a3096a075b2af.arrow\n",
      "Loading cached processed dataset at /home/samuel/.cache/huggingface/datasets/americas_nli/tar/1.0.0/2f4cd00b49c982fa8827cb332b2a2dbb692aa8a7cd34432fc476efeb7fee375a/cache-198d2dafcffdd696.arrow\n",
      "Loading cached processed dataset at /home/samuel/.cache/huggingface/datasets/xnli/es/1.1.0/818164464f9c9fd15776ca8a00423b074344c3e929d00a2c1a84aa5a50c928bd/cache-29eb596776dc3bf8.arrow\n"
     ]
    },
    {
     "data": {
      "application/vnd.jupyter.widget-view+json": {
       "model_id": "",
       "version_major": 2,
       "version_minor": 0
      },
      "text/plain": [
       "Map:   0%|          | 0/743 [00:00<?, ? examples/s]"
      ]
     },
     "metadata": {},
     "output_type": "display_data"
    },
    {
     "data": {
      "application/vnd.jupyter.widget-view+json": {
       "model_id": "",
       "version_major": 2,
       "version_minor": 0
      },
      "text/plain": [
       "Map:   0%|          | 0/743 [00:00<?, ? examples/s]"
      ]
     },
     "metadata": {},
     "output_type": "display_data"
    },
    {
     "data": {
      "application/vnd.jupyter.widget-view+json": {
       "model_id": "",
       "version_major": 2,
       "version_minor": 0
      },
      "text/plain": [
       "Map:   0%|          | 0/658 [00:00<?, ? examples/s]"
      ]
     },
     "metadata": {},
     "output_type": "display_data"
    },
    {
     "data": {
      "application/vnd.jupyter.widget-view+json": {
       "model_id": "",
       "version_major": 2,
       "version_minor": 0
      },
      "text/plain": [
       "Map:   0%|          | 0/743 [00:00<?, ? examples/s]"
      ]
     },
     "metadata": {},
     "output_type": "display_data"
    },
    {
     "data": {
      "application/vnd.jupyter.widget-view+json": {
       "model_id": "",
       "version_major": 2,
       "version_minor": 0
      },
      "text/plain": [
       "Map:   0%|          | 0/743 [00:00<?, ? examples/s]"
      ]
     },
     "metadata": {},
     "output_type": "display_data"
    },
    {
     "data": {
      "application/vnd.jupyter.widget-view+json": {
       "model_id": "",
       "version_major": 2,
       "version_minor": 0
      },
      "text/plain": [
       "Map:   0%|          | 0/376 [00:00<?, ? examples/s]"
      ]
     },
     "metadata": {},
     "output_type": "display_data"
    },
    {
     "data": {
      "application/vnd.jupyter.widget-view+json": {
       "model_id": "",
       "version_major": 2,
       "version_minor": 0
      },
      "text/plain": [
       "Map:   0%|          | 0/222 [00:00<?, ? examples/s]"
      ]
     },
     "metadata": {},
     "output_type": "display_data"
    },
    {
     "data": {
      "application/vnd.jupyter.widget-view+json": {
       "model_id": "",
       "version_major": 2,
       "version_minor": 0
      },
      "text/plain": [
       "Map:   0%|          | 0/743 [00:00<?, ? examples/s]"
      ]
     },
     "metadata": {},
     "output_type": "display_data"
    },
    {
     "data": {
      "application/vnd.jupyter.widget-view+json": {
       "model_id": "",
       "version_major": 2,
       "version_minor": 0
      },
      "text/plain": [
       "Map:   0%|          | 0/743 [00:00<?, ? examples/s]"
      ]
     },
     "metadata": {},
     "output_type": "display_data"
    },
    {
     "data": {
      "application/vnd.jupyter.widget-view+json": {
       "model_id": "",
       "version_major": 2,
       "version_minor": 0
      },
      "text/plain": [
       "Map:   0%|          | 0/743 [00:00<?, ? examples/s]"
      ]
     },
     "metadata": {},
     "output_type": "display_data"
    },
    {
     "data": {
      "application/vnd.jupyter.widget-view+json": {
       "model_id": "",
       "version_major": 2,
       "version_minor": 0
      },
      "text/plain": [
       "Map:   0%|          | 0/2490 [00:00<?, ? examples/s]"
      ]
     },
     "metadata": {},
     "output_type": "display_data"
    },
    {
     "data": {
      "application/vnd.jupyter.widget-view+json": {
       "model_id": "",
       "version_major": 2,
       "version_minor": 0
      },
      "text/plain": [
       "Saving the dataset (0/1 shards):   0%|          | 0/1000 [00:00<?, ? examples/s]"
      ]
     },
     "metadata": {},
     "output_type": "display_data"
    },
    {
     "data": {
      "application/vnd.jupyter.widget-view+json": {
       "model_id": "",
       "version_major": 2,
       "version_minor": 0
      },
      "text/plain": [
       "Saving the dataset (0/1 shards):   0%|          | 0/1000 [00:00<?, ? examples/s]"
      ]
     },
     "metadata": {},
     "output_type": "display_data"
    },
    {
     "data": {
      "application/vnd.jupyter.widget-view+json": {
       "model_id": "",
       "version_major": 2,
       "version_minor": 0
      },
      "text/plain": [
       "Saving the dataset (0/1 shards):   0%|          | 0/1000 [00:00<?, ? examples/s]"
      ]
     },
     "metadata": {},
     "output_type": "display_data"
    },
    {
     "data": {
      "application/vnd.jupyter.widget-view+json": {
       "model_id": "",
       "version_major": 2,
       "version_minor": 0
      },
      "text/plain": [
       "Saving the dataset (0/1 shards):   0%|          | 0/1000 [00:00<?, ? examples/s]"
      ]
     },
     "metadata": {},
     "output_type": "display_data"
    },
    {
     "data": {
      "application/vnd.jupyter.widget-view+json": {
       "model_id": "",
       "version_major": 2,
       "version_minor": 0
      },
      "text/plain": [
       "Saving the dataset (0/1 shards):   0%|          | 0/1000 [00:00<?, ? examples/s]"
      ]
     },
     "metadata": {},
     "output_type": "display_data"
    },
    {
     "data": {
      "application/vnd.jupyter.widget-view+json": {
       "model_id": "",
       "version_major": 2,
       "version_minor": 0
      },
      "text/plain": [
       "Saving the dataset (0/1 shards):   0%|          | 0/1000 [00:00<?, ? examples/s]"
      ]
     },
     "metadata": {},
     "output_type": "display_data"
    },
    {
     "data": {
      "application/vnd.jupyter.widget-view+json": {
       "model_id": "",
       "version_major": 2,
       "version_minor": 0
      },
      "text/plain": [
       "Saving the dataset (0/1 shards):   0%|          | 0/1000 [00:00<?, ? examples/s]"
      ]
     },
     "metadata": {},
     "output_type": "display_data"
    },
    {
     "data": {
      "application/vnd.jupyter.widget-view+json": {
       "model_id": "",
       "version_major": 2,
       "version_minor": 0
      },
      "text/plain": [
       "Saving the dataset (0/1 shards):   0%|          | 0/1000 [00:00<?, ? examples/s]"
      ]
     },
     "metadata": {},
     "output_type": "display_data"
    },
    {
     "data": {
      "application/vnd.jupyter.widget-view+json": {
       "model_id": "",
       "version_major": 2,
       "version_minor": 0
      },
      "text/plain": [
       "Saving the dataset (0/1 shards):   0%|          | 0/1875 [00:00<?, ? examples/s]"
      ]
     },
     "metadata": {},
     "output_type": "display_data"
    },
    {
     "data": {
      "application/vnd.jupyter.widget-view+json": {
       "model_id": "",
       "version_major": 2,
       "version_minor": 0
      },
      "text/plain": [
       "Saving the dataset (0/1 shards):   0%|          | 0/3173 [00:00<?, ? examples/s]"
      ]
     },
     "metadata": {},
     "output_type": "display_data"
    },
    {
     "data": {
      "application/vnd.jupyter.widget-view+json": {
       "model_id": "",
       "version_major": 2,
       "version_minor": 0
      },
      "text/plain": [
       "Saving the dataset (0/1 shards):   0%|          | 0/1940 [00:00<?, ? examples/s]"
      ]
     },
     "metadata": {},
     "output_type": "display_data"
    },
    {
     "data": {
      "application/vnd.jupyter.widget-view+json": {
       "model_id": "",
       "version_major": 2,
       "version_minor": 0
      },
      "text/plain": [
       "Saving the dataset (0/1 shards):   0%|          | 0/1104 [00:00<?, ? examples/s]"
      ]
     },
     "metadata": {},
     "output_type": "display_data"
    },
    {
     "data": {
      "application/vnd.jupyter.widget-view+json": {
       "model_id": "",
       "version_major": 2,
       "version_minor": 0
      },
      "text/plain": [
       "Saving the dataset (0/1 shards):   0%|          | 0/1517 [00:00<?, ? examples/s]"
      ]
     },
     "metadata": {},
     "output_type": "display_data"
    },
    {
     "data": {
      "application/vnd.jupyter.widget-view+json": {
       "model_id": "",
       "version_major": 2,
       "version_minor": 0
      },
      "text/plain": [
       "Saving the dataset (0/1 shards):   0%|          | 0/1842 [00:00<?, ? examples/s]"
      ]
     },
     "metadata": {},
     "output_type": "display_data"
    },
    {
     "data": {
      "application/vnd.jupyter.widget-view+json": {
       "model_id": "",
       "version_major": 2,
       "version_minor": 0
      },
      "text/plain": [
       "Saving the dataset (0/1 shards):   0%|          | 0/2371 [00:00<?, ? examples/s]"
      ]
     },
     "metadata": {},
     "output_type": "display_data"
    },
    {
     "data": {
      "application/vnd.jupyter.widget-view+json": {
       "model_id": "",
       "version_major": 2,
       "version_minor": 0
      },
      "text/plain": [
       "Saving the dataset (0/1 shards):   0%|          | 0/1476 [00:00<?, ? examples/s]"
      ]
     },
     "metadata": {},
     "output_type": "display_data"
    },
    {
     "data": {
      "application/vnd.jupyter.widget-view+json": {
       "model_id": "",
       "version_major": 2,
       "version_minor": 0
      },
      "text/plain": [
       "Saving the dataset (0/1 shards):   0%|          | 0/2050 [00:00<?, ? examples/s]"
      ]
     },
     "metadata": {},
     "output_type": "display_data"
    },
    {
     "data": {
      "application/vnd.jupyter.widget-view+json": {
       "model_id": "",
       "version_major": 2,
       "version_minor": 0
      },
      "text/plain": [
       "Saving the dataset (0/1 shards):   0%|          | 0/4729 [00:00<?, ? examples/s]"
      ]
     },
     "metadata": {},
     "output_type": "display_data"
    },
    {
     "data": {
      "application/vnd.jupyter.widget-view+json": {
       "model_id": "",
       "version_major": 2,
       "version_minor": 0
      },
      "text/plain": [
       "Saving the dataset (0/1 shards):   0%|          | 0/743 [00:00<?, ? examples/s]"
      ]
     },
     "metadata": {},
     "output_type": "display_data"
    },
    {
     "data": {
      "application/vnd.jupyter.widget-view+json": {
       "model_id": "",
       "version_major": 2,
       "version_minor": 0
      },
      "text/plain": [
       "Saving the dataset (0/1 shards):   0%|          | 0/743 [00:00<?, ? examples/s]"
      ]
     },
     "metadata": {},
     "output_type": "display_data"
    },
    {
     "data": {
      "application/vnd.jupyter.widget-view+json": {
       "model_id": "",
       "version_major": 2,
       "version_minor": 0
      },
      "text/plain": [
       "Saving the dataset (0/1 shards):   0%|          | 0/658 [00:00<?, ? examples/s]"
      ]
     },
     "metadata": {},
     "output_type": "display_data"
    },
    {
     "data": {
      "application/vnd.jupyter.widget-view+json": {
       "model_id": "",
       "version_major": 2,
       "version_minor": 0
      },
      "text/plain": [
       "Saving the dataset (0/1 shards):   0%|          | 0/743 [00:00<?, ? examples/s]"
      ]
     },
     "metadata": {},
     "output_type": "display_data"
    },
    {
     "data": {
      "application/vnd.jupyter.widget-view+json": {
       "model_id": "",
       "version_major": 2,
       "version_minor": 0
      },
      "text/plain": [
       "Saving the dataset (0/1 shards):   0%|          | 0/743 [00:00<?, ? examples/s]"
      ]
     },
     "metadata": {},
     "output_type": "display_data"
    },
    {
     "data": {
      "application/vnd.jupyter.widget-view+json": {
       "model_id": "",
       "version_major": 2,
       "version_minor": 0
      },
      "text/plain": [
       "Saving the dataset (0/1 shards):   0%|          | 0/376 [00:00<?, ? examples/s]"
      ]
     },
     "metadata": {},
     "output_type": "display_data"
    },
    {
     "data": {
      "application/vnd.jupyter.widget-view+json": {
       "model_id": "",
       "version_major": 2,
       "version_minor": 0
      },
      "text/plain": [
       "Saving the dataset (0/1 shards):   0%|          | 0/222 [00:00<?, ? examples/s]"
      ]
     },
     "metadata": {},
     "output_type": "display_data"
    },
    {
     "data": {
      "application/vnd.jupyter.widget-view+json": {
       "model_id": "",
       "version_major": 2,
       "version_minor": 0
      },
      "text/plain": [
       "Saving the dataset (0/1 shards):   0%|          | 0/743 [00:00<?, ? examples/s]"
      ]
     },
     "metadata": {},
     "output_type": "display_data"
    },
    {
     "data": {
      "application/vnd.jupyter.widget-view+json": {
       "model_id": "",
       "version_major": 2,
       "version_minor": 0
      },
      "text/plain": [
       "Saving the dataset (0/1 shards):   0%|          | 0/743 [00:00<?, ? examples/s]"
      ]
     },
     "metadata": {},
     "output_type": "display_data"
    },
    {
     "data": {
      "application/vnd.jupyter.widget-view+json": {
       "model_id": "",
       "version_major": 2,
       "version_minor": 0
      },
      "text/plain": [
       "Saving the dataset (0/1 shards):   0%|          | 0/743 [00:00<?, ? examples/s]"
      ]
     },
     "metadata": {},
     "output_type": "display_data"
    },
    {
     "data": {
      "application/vnd.jupyter.widget-view+json": {
       "model_id": "",
       "version_major": 2,
       "version_minor": 0
      },
      "text/plain": [
       "Saving the dataset (0/1 shards):   0%|          | 0/2490 [00:00<?, ? examples/s]"
      ]
     },
     "metadata": {},
     "output_type": "display_data"
    }
   ],
   "source": [
    "###\n",
    "# Prepare ICL & X-ICL Data\n",
    "#\n",
    "# Single-Sentence Classification [text, label]\n",
    "# NLI Classification [premise, hypothesis, label]\n",
    "###\n",
    "\n",
    "# Process NusaTranslation Senti ICL Data => NusaX Senti All Splits\n",
    "icl_nusax_senti_dset_clean = {}\n",
    "for key in nusax_senti_dset.keys():\n",
    "    dset = []\n",
    "    for split in nusax_senti_dset[key].keys():\n",
    "        dset.append(nusax_senti_dset[key][split].remove_columns(['id', 'lang']))\n",
    "    icl_nusax_senti_dset_clean[key] = datasets.concatenate_datasets(dset)\n",
    "icl_nusax_senti_dset_clean = datasets.DatasetDict(icl_nusax_senti_dset_clean)\n",
    "icl_nusax_senti_dset_clean = icl_nusax_senti_dset_clean.map(\n",
    "    label2str, remove_columns=['label'], fn_kwargs={\"dset\": nusax_senti_dset['jav']['train']}\n",
    ").rename_columns({'str_label': 'label'})\n",
    "\n",
    "# Process MasakhaNews ICL Data => MasakhaNews Train & Validation\n",
    "icl_masakhanews_dset_clean = {}\n",
    "for key in masakhanews_dset.keys():\n",
    "    dset = []\n",
    "    for split in masakhanews_dset[key].keys():\n",
    "        dset.append(masakhanews_dset[key][split].remove_columns(['text', 'headline_text', 'url']))\n",
    "    dset = datasets.concatenate_datasets(dset).rename_columns({'headline': 'text'})\n",
    "    dset = dset.map(\n",
    "        label2str, remove_columns=['label'], fn_kwargs={\"dset\": dset}\n",
    "    ).rename_columns({'str_label': 'label'})\n",
    "    icl_masakhanews_dset_clean[key] = dset\n",
    "icl_masakhanews_dset_clean = datasets.DatasetDict(icl_masakhanews_dset_clean)\n",
    "\n",
    "# Process AmericasNLI ICL Data => ICL: AmericasNLI Validation, X-ICL: XNLI Validation\n",
    "icl_americasnli_dset_clean = {}\n",
    "for key in americasnli_dset.keys():\n",
    "    dset = americasnli_dset[key]['validation']\n",
    "    icl_americasnli_dset_clean[key] = dset\n",
    "icl_americasnli_dset_clean['spa'] = xnli_dset['validation'] # Add Spanish data from XNLI\n",
    "icl_americasnli_dset_clean = datasets.DatasetDict(icl_americasnli_dset_clean)\n",
    "\n",
    "icl_americasnli_dset_clean = icl_americasnli_dset_clean.map(\n",
    "    label2str, remove_columns=['label'], fn_kwargs={\"dset\": americasnli_dset['aym']['test']}\n",
    ").rename_columns({'str_label': 'label'})\n",
    "icl_americasnli_dset_clean = icl_americasnli_dset_clean.map(label_eng2spa)\n",
    "\n",
    "# Save to Cache\n",
    "icl_nusax_senti_dset_clean.save_to_disk(f'{save_path}/icl_nusax_senti_dset')\n",
    "icl_masakhanews_dset_clean.save_to_disk(f'{save_path}/icl_masakhanews_dset')\n",
    "icl_americasnli_dset_clean.save_to_disk(f'{save_path}/icl_americasnli_dset')"
   ]
  },
  {
   "cell_type": "markdown",
   "id": "d38f5fb6-5b14-4425-b8c9-d59a81c739d4",
   "metadata": {},
   "source": [
    "### ITC & IIA Dataset"
   ]
  },
  {
   "cell_type": "code",
   "execution_count": 14,
   "id": "54f4820e-c5d8-4ffd-a221-19148a138438",
   "metadata": {},
   "outputs": [],
   "source": [
    "save_path = '.'\n",
    "\n",
    "def label2str(row, dset):\n",
    "    row['str_label'] = dset.features['label'].int2str(row['label'])\n",
    "    return row"
   ]
  },
  {
   "cell_type": "code",
   "execution_count": 15,
   "id": "d5688237-3762-4674-b277-4f71c1df6a96",
   "metadata": {},
   "outputs": [
    {
     "name": "stderr",
     "output_type": "stream",
     "text": [
      "Loading cached processed dataset at /home/samuel/.cache/huggingface/datasets/indonlp___nusa_x-senti/bbc/1.0.0/3477a395c5c7a09a74d897ceb96ebd2c3afbd1d7fad0c11d8b8026b8b08e3af5/cache-5e0783d702a0838e.arrow\n",
      "Loading cached processed dataset at /home/samuel/.cache/huggingface/datasets/indonlp___nusa_x-senti/sun/1.0.0/3477a395c5c7a09a74d897ceb96ebd2c3afbd1d7fad0c11d8b8026b8b08e3af5/cache-d8b3212c30baf690.arrow\n",
      "Loading cached processed dataset at /home/samuel/.cache/huggingface/datasets/indonlp___nusa_x-senti/jav/1.0.0/3477a395c5c7a09a74d897ceb96ebd2c3afbd1d7fad0c11d8b8026b8b08e3af5/cache-9d305c4cc4ee0ee1.arrow\n",
      "Loading cached processed dataset at /home/samuel/.cache/huggingface/datasets/indonlp___nusa_x-senti/mad/1.0.0/3477a395c5c7a09a74d897ceb96ebd2c3afbd1d7fad0c11d8b8026b8b08e3af5/cache-ded18bf5d11d4084.arrow\n",
      "Loading cached processed dataset at /home/samuel/.cache/huggingface/datasets/indonlp___nusa_x-senti/bug/1.0.0/3477a395c5c7a09a74d897ceb96ebd2c3afbd1d7fad0c11d8b8026b8b08e3af5/cache-74bb317141afda44.arrow\n",
      "Loading cached processed dataset at /home/samuel/.cache/huggingface/datasets/indonlp___nusa_x-senti/min/1.0.0/3477a395c5c7a09a74d897ceb96ebd2c3afbd1d7fad0c11d8b8026b8b08e3af5/cache-03e1af3bcbb91135.arrow\n",
      "Loading cached processed dataset at /home/samuel/.cache/huggingface/datasets/indonlp___nusa_x-senti/bbc/1.0.0/3477a395c5c7a09a74d897ceb96ebd2c3afbd1d7fad0c11d8b8026b8b08e3af5/cache-cc0ff31d6a668f9c.arrow\n",
      "Loading cached processed dataset at /home/samuel/.cache/huggingface/datasets/indonlp___nusa_x-senti/sun/1.0.0/3477a395c5c7a09a74d897ceb96ebd2c3afbd1d7fad0c11d8b8026b8b08e3af5/cache-6c467f78309bc355.arrow\n",
      "Loading cached processed dataset at /home/samuel/.cache/huggingface/datasets/indonlp___nusa_x-senti/jav/1.0.0/3477a395c5c7a09a74d897ceb96ebd2c3afbd1d7fad0c11d8b8026b8b08e3af5/cache-8d7d0383221d2dc1.arrow\n",
      "Loading cached processed dataset at /home/samuel/.cache/huggingface/datasets/indonlp___nusa_x-senti/mad/1.0.0/3477a395c5c7a09a74d897ceb96ebd2c3afbd1d7fad0c11d8b8026b8b08e3af5/cache-a70db1e1720e5db8.arrow\n",
      "Loading cached processed dataset at /home/samuel/.cache/huggingface/datasets/indonlp___nusa_x-senti/bug/1.0.0/3477a395c5c7a09a74d897ceb96ebd2c3afbd1d7fad0c11d8b8026b8b08e3af5/cache-7a7fe511938f0ef7.arrow\n",
      "Loading cached processed dataset at /home/samuel/.cache/huggingface/datasets/indonlp___nusa_x-senti/min/1.0.0/3477a395c5c7a09a74d897ceb96ebd2c3afbd1d7fad0c11d8b8026b8b08e3af5/cache-8ac5bd89aa204dbf.arrow\n"
     ]
    },
    {
     "data": {
      "application/vnd.jupyter.widget-view+json": {
       "model_id": "",
       "version_major": 2,
       "version_minor": 0
      },
      "text/plain": [
       "Saving the dataset (0/1 shards):   0%|          | 0/1000 [00:00<?, ? examples/s]"
      ]
     },
     "metadata": {},
     "output_type": "display_data"
    },
    {
     "data": {
      "application/vnd.jupyter.widget-view+json": {
       "model_id": "",
       "version_major": 2,
       "version_minor": 0
      },
      "text/plain": [
       "Saving the dataset (0/1 shards):   0%|          | 0/1000 [00:00<?, ? examples/s]"
      ]
     },
     "metadata": {},
     "output_type": "display_data"
    },
    {
     "data": {
      "application/vnd.jupyter.widget-view+json": {
       "model_id": "",
       "version_major": 2,
       "version_minor": 0
      },
      "text/plain": [
       "Saving the dataset (0/1 shards):   0%|          | 0/1000 [00:00<?, ? examples/s]"
      ]
     },
     "metadata": {},
     "output_type": "display_data"
    },
    {
     "data": {
      "application/vnd.jupyter.widget-view+json": {
       "model_id": "",
       "version_major": 2,
       "version_minor": 0
      },
      "text/plain": [
       "Saving the dataset (0/1 shards):   0%|          | 0/1000 [00:00<?, ? examples/s]"
      ]
     },
     "metadata": {},
     "output_type": "display_data"
    },
    {
     "data": {
      "application/vnd.jupyter.widget-view+json": {
       "model_id": "",
       "version_major": 2,
       "version_minor": 0
      },
      "text/plain": [
       "Saving the dataset (0/1 shards):   0%|          | 0/1000 [00:00<?, ? examples/s]"
      ]
     },
     "metadata": {},
     "output_type": "display_data"
    },
    {
     "data": {
      "application/vnd.jupyter.widget-view+json": {
       "model_id": "",
       "version_major": 2,
       "version_minor": 0
      },
      "text/plain": [
       "Saving the dataset (0/1 shards):   0%|          | 0/1000 [00:00<?, ? examples/s]"
      ]
     },
     "metadata": {},
     "output_type": "display_data"
    },
    {
     "data": {
      "application/vnd.jupyter.widget-view+json": {
       "model_id": "",
       "version_major": 2,
       "version_minor": 0
      },
      "text/plain": [
       "Saving the dataset (0/1 shards):   0%|          | 0/1000 [00:00<?, ? examples/s]"
      ]
     },
     "metadata": {},
     "output_type": "display_data"
    },
    {
     "data": {
      "application/vnd.jupyter.widget-view+json": {
       "model_id": "",
       "version_major": 2,
       "version_minor": 0
      },
      "text/plain": [
       "Saving the dataset (0/1 shards):   0%|          | 0/1000 [00:00<?, ? examples/s]"
      ]
     },
     "metadata": {},
     "output_type": "display_data"
    },
    {
     "data": {
      "application/vnd.jupyter.widget-view+json": {
       "model_id": "",
       "version_major": 2,
       "version_minor": 0
      },
      "text/plain": [
       "Saving the dataset (0/1 shards):   0%|          | 0/1000 [00:00<?, ? examples/s]"
      ]
     },
     "metadata": {},
     "output_type": "display_data"
    },
    {
     "data": {
      "application/vnd.jupyter.widget-view+json": {
       "model_id": "",
       "version_major": 2,
       "version_minor": 0
      },
      "text/plain": [
       "Saving the dataset (0/1 shards):   0%|          | 0/1000 [00:00<?, ? examples/s]"
      ]
     },
     "metadata": {},
     "output_type": "display_data"
    },
    {
     "data": {
      "application/vnd.jupyter.widget-view+json": {
       "model_id": "",
       "version_major": 2,
       "version_minor": 0
      },
      "text/plain": [
       "Saving the dataset (0/1 shards):   0%|          | 0/1000 [00:00<?, ? examples/s]"
      ]
     },
     "metadata": {},
     "output_type": "display_data"
    },
    {
     "data": {
      "application/vnd.jupyter.widget-view+json": {
       "model_id": "",
       "version_major": 2,
       "version_minor": 0
      },
      "text/plain": [
       "Saving the dataset (0/1 shards):   0%|          | 0/1000 [00:00<?, ? examples/s]"
      ]
     },
     "metadata": {},
     "output_type": "display_data"
    }
   ],
   "source": [
    "####\n",
    "# NusaX Combined [text_1, text_2, label]\n",
    "####\n",
    "\n",
    "nusax_mt_ind_dset_clean = datasets.load_from_disk(f'{save_path}/nusax_mt_ind_dset')\n",
    "nusax_mt_eng_dset_clean = datasets.load_from_disk(f'{save_path}/nusax_mt_eng_dset')\n",
    "\n",
    "# Process NusaX Combined ind\n",
    "nusax_combined_ind_dset = {}\n",
    "for key in nusax_senti_dset.keys():\n",
    "    if key in ['ind', 'eng']:\n",
    "        continue\n",
    "        \n",
    "    dset = []\n",
    "    for split in nusax_senti_dset[key].keys():\n",
    "        dset.append(nusax_senti_dset[key][split].remove_columns(['id', 'lang', 'text']))\n",
    "    nusax_combined_ind_dset[key] = datasets.concatenate_datasets([\n",
    "        datasets.concatenate_datasets(dset),\n",
    "        nusax_mt_ind_dset_clean[key]\n",
    "    ], axis=1)\n",
    "nusax_combined_ind_dset = datasets.DatasetDict(nusax_combined_ind_dset)\n",
    "nusax_combined_ind_dset = nusax_combined_ind_dset.map(\n",
    "    label2str, remove_columns=['label'], fn_kwargs={\"dset\": nusax_senti_dset['jav']['train']}\n",
    ").rename_columns({'str_label': 'label'})\n",
    "\n",
    "# Process NusaX Combined ind\n",
    "nusax_combined_eng_dset = {}\n",
    "for key in nusax_senti_dset.keys():\n",
    "    if key in ['ind', 'eng']:\n",
    "        continue\n",
    "        \n",
    "    dset = []\n",
    "    for split in nusax_senti_dset[key].keys():\n",
    "        dset.append(nusax_senti_dset[key][split].remove_columns(['id', 'lang', 'text']))\n",
    "    nusax_combined_eng_dset[key] = datasets.concatenate_datasets([\n",
    "        datasets.concatenate_datasets(dset),\n",
    "        nusax_mt_eng_dset_clean[key]\n",
    "    ], axis=1)\n",
    "nusax_combined_eng_dset = datasets.DatasetDict(nusax_combined_eng_dset)\n",
    "nusax_combined_eng_dset = nusax_combined_eng_dset.map(\n",
    "    label2str, remove_columns=['label'], fn_kwargs={\"dset\": nusax_senti_dset['jav']['train']}\n",
    ").rename_columns({'str_label': 'label'})\n",
    "\n",
    "nusax_combined_ind_dset.save_to_disk(f'{save_path}/nusax_combined_ind_dset')\n",
    "nusax_combined_eng_dset.save_to_disk(f'{save_path}/nusax_combined_eng_dset')"
   ]
  },
  {
   "cell_type": "code",
   "execution_count": 16,
   "id": "66fcab5b-ee4a-4993-9869-9488b2853d48",
   "metadata": {
    "tags": []
   },
   "outputs": [
    {
     "data": {
      "application/vnd.jupyter.widget-view+json": {
       "model_id": "",
       "version_major": 2,
       "version_minor": 0
      },
      "text/plain": [
       "Map:   0%|          | 0/743 [00:00<?, ? examples/s]"
      ]
     },
     "metadata": {},
     "output_type": "display_data"
    },
    {
     "data": {
      "application/vnd.jupyter.widget-view+json": {
       "model_id": "",
       "version_major": 2,
       "version_minor": 0
      },
      "text/plain": [
       "Map:   0%|          | 0/743 [00:00<?, ? examples/s]"
      ]
     },
     "metadata": {},
     "output_type": "display_data"
    },
    {
     "data": {
      "application/vnd.jupyter.widget-view+json": {
       "model_id": "",
       "version_major": 2,
       "version_minor": 0
      },
      "text/plain": [
       "Map:   0%|          | 0/658 [00:00<?, ? examples/s]"
      ]
     },
     "metadata": {},
     "output_type": "display_data"
    },
    {
     "data": {
      "application/vnd.jupyter.widget-view+json": {
       "model_id": "",
       "version_major": 2,
       "version_minor": 0
      },
      "text/plain": [
       "Map:   0%|          | 0/743 [00:00<?, ? examples/s]"
      ]
     },
     "metadata": {},
     "output_type": "display_data"
    },
    {
     "data": {
      "application/vnd.jupyter.widget-view+json": {
       "model_id": "",
       "version_major": 2,
       "version_minor": 0
      },
      "text/plain": [
       "Map:   0%|          | 0/743 [00:00<?, ? examples/s]"
      ]
     },
     "metadata": {},
     "output_type": "display_data"
    },
    {
     "data": {
      "application/vnd.jupyter.widget-view+json": {
       "model_id": "",
       "version_major": 2,
       "version_minor": 0
      },
      "text/plain": [
       "Map:   0%|          | 0/585 [00:00<?, ? examples/s]"
      ]
     },
     "metadata": {},
     "output_type": "display_data"
    },
    {
     "data": {
      "application/vnd.jupyter.widget-view+json": {
       "model_id": "",
       "version_major": 2,
       "version_minor": 0
      },
      "text/plain": [
       "Map:   0%|          | 0/222 [00:00<?, ? examples/s]"
      ]
     },
     "metadata": {},
     "output_type": "display_data"
    },
    {
     "data": {
      "application/vnd.jupyter.widget-view+json": {
       "model_id": "",
       "version_major": 2,
       "version_minor": 0
      },
      "text/plain": [
       "Map:   0%|          | 0/743 [00:00<?, ? examples/s]"
      ]
     },
     "metadata": {},
     "output_type": "display_data"
    },
    {
     "data": {
      "application/vnd.jupyter.widget-view+json": {
       "model_id": "",
       "version_major": 2,
       "version_minor": 0
      },
      "text/plain": [
       "Map:   0%|          | 0/743 [00:00<?, ? examples/s]"
      ]
     },
     "metadata": {},
     "output_type": "display_data"
    },
    {
     "data": {
      "application/vnd.jupyter.widget-view+json": {
       "model_id": "",
       "version_major": 2,
       "version_minor": 0
      },
      "text/plain": [
       "Map:   0%|          | 0/743 [00:00<?, ? examples/s]"
      ]
     },
     "metadata": {},
     "output_type": "display_data"
    },
    {
     "data": {
      "application/vnd.jupyter.widget-view+json": {
       "model_id": "",
       "version_major": 2,
       "version_minor": 0
      },
      "text/plain": [
       "Saving the dataset (0/1 shards):   0%|          | 0/743 [00:00<?, ? examples/s]"
      ]
     },
     "metadata": {},
     "output_type": "display_data"
    },
    {
     "data": {
      "application/vnd.jupyter.widget-view+json": {
       "model_id": "",
       "version_major": 2,
       "version_minor": 0
      },
      "text/plain": [
       "Saving the dataset (0/1 shards):   0%|          | 0/743 [00:00<?, ? examples/s]"
      ]
     },
     "metadata": {},
     "output_type": "display_data"
    },
    {
     "data": {
      "application/vnd.jupyter.widget-view+json": {
       "model_id": "",
       "version_major": 2,
       "version_minor": 0
      },
      "text/plain": [
       "Saving the dataset (0/1 shards):   0%|          | 0/658 [00:00<?, ? examples/s]"
      ]
     },
     "metadata": {},
     "output_type": "display_data"
    },
    {
     "data": {
      "application/vnd.jupyter.widget-view+json": {
       "model_id": "",
       "version_major": 2,
       "version_minor": 0
      },
      "text/plain": [
       "Saving the dataset (0/1 shards):   0%|          | 0/743 [00:00<?, ? examples/s]"
      ]
     },
     "metadata": {},
     "output_type": "display_data"
    },
    {
     "data": {
      "application/vnd.jupyter.widget-view+json": {
       "model_id": "",
       "version_major": 2,
       "version_minor": 0
      },
      "text/plain": [
       "Saving the dataset (0/1 shards):   0%|          | 0/743 [00:00<?, ? examples/s]"
      ]
     },
     "metadata": {},
     "output_type": "display_data"
    },
    {
     "data": {
      "application/vnd.jupyter.widget-view+json": {
       "model_id": "",
       "version_major": 2,
       "version_minor": 0
      },
      "text/plain": [
       "Saving the dataset (0/1 shards):   0%|          | 0/585 [00:00<?, ? examples/s]"
      ]
     },
     "metadata": {},
     "output_type": "display_data"
    },
    {
     "data": {
      "application/vnd.jupyter.widget-view+json": {
       "model_id": "",
       "version_major": 2,
       "version_minor": 0
      },
      "text/plain": [
       "Saving the dataset (0/1 shards):   0%|          | 0/222 [00:00<?, ? examples/s]"
      ]
     },
     "metadata": {},
     "output_type": "display_data"
    },
    {
     "data": {
      "application/vnd.jupyter.widget-view+json": {
       "model_id": "",
       "version_major": 2,
       "version_minor": 0
      },
      "text/plain": [
       "Saving the dataset (0/1 shards):   0%|          | 0/743 [00:00<?, ? examples/s]"
      ]
     },
     "metadata": {},
     "output_type": "display_data"
    },
    {
     "data": {
      "application/vnd.jupyter.widget-view+json": {
       "model_id": "",
       "version_major": 2,
       "version_minor": 0
      },
      "text/plain": [
       "Saving the dataset (0/1 shards):   0%|          | 0/743 [00:00<?, ? examples/s]"
      ]
     },
     "metadata": {},
     "output_type": "display_data"
    },
    {
     "data": {
      "application/vnd.jupyter.widget-view+json": {
       "model_id": "",
       "version_major": 2,
       "version_minor": 0
      },
      "text/plain": [
       "Saving the dataset (0/1 shards):   0%|          | 0/743 [00:00<?, ? examples/s]"
      ]
     },
     "metadata": {},
     "output_type": "display_data"
    }
   ],
   "source": [
    "####\n",
    "# AmericasNLI - XNLI Combined\n",
    "####\n",
    "save_path = '.'\n",
    "\n",
    "# Cannot use the XNLI from HuggingFace, somehow the results are not aligned,\n",
    "# so we use the original XNLI file (https://dl.fbaipublicfiles.com/XNLI/XNLI-1.0.zip) instead\n",
    "xnli_df = pd.read_csv('XNLI-1.0/xnli.dev.tsv', sep='\\t').reset_index()\n",
    "americasnli_combined_dset = {}\n",
    "for key in americasnli_dset.keys():\n",
    "    anli_df = pd.read_csv(f'https://github.com/abteen/americasnli/raw/main/data/anli_final/dev/{key}.tsv', sep='\\t')\n",
    "    anli_dset = datasets.Dataset.from_pandas(\n",
    "        anli_df[['premise', 'hypothesis', 'label']].rename({\n",
    "            'premise': 'premise_1', 'hypothesis': 'hypothesis_1'\n",
    "        }, axis='columns')\n",
    "    )    \n",
    "    \n",
    "    xnli_dset = datasets.Dataset.from_pandas(\n",
    "        xnli_df.loc[anli_df.id-1, ['sentence1', 'sentence2']].rename({\n",
    "            'sentence1': 'premise_2', 'sentence2': 'hypothesis_2'\n",
    "        }, axis='columns')\n",
    "    ).remove_columns('__index_level_0__')\n",
    "    americasnli_combined_dset[key] = datasets.concatenate_datasets([anli_dset, xnli_dset], axis=1)\n",
    "americasnli_combined_dset = datasets.DatasetDict(americasnli_combined_dset)\n",
    "americasnli_combined_dset = americasnli_combined_dset.map(label_eng2spa)\n",
    "americasnli_combined_dset.save_to_disk(f'{save_path}/americasnli_combined_dev_dset')"
   ]
  },
  {
   "cell_type": "code",
   "execution_count": null,
   "id": "bec039f4-a7d9-4cf8-960a-dbeaebd57df1",
   "metadata": {
    "tags": []
   },
   "outputs": [],
   "source": [
    "####\n",
    "# MAFAND Random Label\n",
    "####\n",
    "random.seed(12345)\n",
    "save_path = '.'\n",
    "\n",
    "# Process MAFAND\n",
    "mafand_dset_clean = {}\n",
    "for key in mafand_dset.keys():\n",
    "    label_names = masakhanews_dset[key]['train'].features['label'].names\n",
    "    tmp_dset = {'text_1': [], 'text_2': [], 'label': []}\n",
    "    for split in mafand_dset[key].keys():        \n",
    "        for i in range(len(mafand_dset[key][split])):\n",
    "            tmp_dset['text_1'].append(mafand_dset[key][split][i]['translation'][key])\n",
    "            tmp_dset['text_2'].append(mafand_dset[key][split][i]['translation']['en'])\n",
    "            tmp_dset['label'].append(random.choice(label_names))\n",
    "    mafand_dset_clean[key] = datasets.Dataset.from_dict(tmp_dset)\n",
    "mafand_dset_clean = datasets.DatasetDict(mafand_dset_clean)\n",
    "mafand_dset_clean.save_to_disk(f'{save_path}/mafand_rand_label_dset')"
   ]
  },
  {
   "cell_type": "code",
   "execution_count": null,
   "id": "a226724c-ba00-424c-9a13-9198f9bd3806",
   "metadata": {},
   "outputs": [],
   "source": []
  }
 ],
 "metadata": {
  "kernelspec": {
   "display_name": "Python (env_instruct_align)",
   "language": "python",
   "name": "env_instruct_align"
  },
  "language_info": {
   "codemirror_mode": {
    "name": "ipython",
    "version": 3
   },
   "file_extension": ".py",
   "mimetype": "text/x-python",
   "name": "python",
   "nbconvert_exporter": "python",
   "pygments_lexer": "ipython3",
   "version": "3.10.4"
  }
 },
 "nbformat": 4,
 "nbformat_minor": 5
}
