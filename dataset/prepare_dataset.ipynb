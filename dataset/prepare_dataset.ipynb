{
 "cells": [
  {
   "cell_type": "code",
   "execution_count": 1,
   "id": "54f39529-44af-440d-b721-a06d1424fce4",
   "metadata": {},
   "outputs": [],
   "source": [
    "import os, sys\n",
    "os.environ['CUDA_VISIBLE_DEVICES'] = '2'\n",
    "import random\n",
    "import pandas as pd\n",
    "import numpy as np\n",
    "import torch\n",
    "import datasets\n",
    "from datasets import load_dataset\n",
    "from transformers import AutoModelForSeq2SeqLM, AutoTokenizer"
   ]
  },
  {
   "cell_type": "code",
   "execution_count": null,
   "id": "ba7fe3d9-884c-4465-a513-c25631bb119b",
   "metadata": {},
   "outputs": [],
   "source": [
    "# Download XNLI Data\n",
    "!wget https://dl.fbaipublicfiles.com/XNLI/XNLI-1.0.zip\n",
    "!unzip XNLI-1.0.zip"
   ]
  },
  {
   "cell_type": "markdown",
   "id": "7538b05f-6644-4ef2-9b03-127cc5d5e65e",
   "metadata": {},
   "source": [
    "# Load Dataset"
   ]
  },
  {
   "cell_type": "code",
   "execution_count": 2,
   "id": "a738ba5a-624f-4428-8f13-992fcf9d977f",
   "metadata": {
    "scrolled": true,
    "tags": []
   },
   "outputs": [
    {
     "name": "stderr",
     "output_type": "stream",
     "text": [
      "Found cached dataset tweet_sentiment_multilingual (/home/samuel/.cache/huggingface/datasets/cardiffnlp___tweet_sentiment_multilingual/english/0.1.0/936afd3cde120393429606f681b3b48d526873c45114068973f71e296ce80605)\n"
     ]
    },
    {
     "data": {
      "application/vnd.jupyter.widget-view+json": {
       "model_id": "2a2c4644ac8a4ceabf94eef69ed1ef8f",
       "version_major": 2,
       "version_minor": 0
      },
      "text/plain": [
       "  0%|          | 0/3 [00:00<?, ?it/s]"
      ]
     },
     "metadata": {},
     "output_type": "display_data"
    },
    {
     "name": "stderr",
     "output_type": "stream",
     "text": [
      "Found cached dataset tweet_sentiment_multilingual (/home/samuel/.cache/huggingface/datasets/cardiffnlp___tweet_sentiment_multilingual/arabic/0.1.0/936afd3cde120393429606f681b3b48d526873c45114068973f71e296ce80605)\n"
     ]
    },
    {
     "data": {
      "application/vnd.jupyter.widget-view+json": {
       "model_id": "9daab7c9fde341b9836358ef10e3f3d6",
       "version_major": 2,
       "version_minor": 0
      },
      "text/plain": [
       "  0%|          | 0/3 [00:00<?, ?it/s]"
      ]
     },
     "metadata": {},
     "output_type": "display_data"
    },
    {
     "name": "stderr",
     "output_type": "stream",
     "text": [
      "Found cached dataset tweet_sentiment_multilingual (/home/samuel/.cache/huggingface/datasets/cardiffnlp___tweet_sentiment_multilingual/french/0.1.0/936afd3cde120393429606f681b3b48d526873c45114068973f71e296ce80605)\n"
     ]
    },
    {
     "data": {
      "application/vnd.jupyter.widget-view+json": {
       "model_id": "07cd82a1be1a4a59afc6686610e6d5d3",
       "version_major": 2,
       "version_minor": 0
      },
      "text/plain": [
       "  0%|          | 0/3 [00:00<?, ?it/s]"
      ]
     },
     "metadata": {},
     "output_type": "display_data"
    },
    {
     "name": "stderr",
     "output_type": "stream",
     "text": [
      "Found cached dataset tweet_sentiment_multilingual (/home/samuel/.cache/huggingface/datasets/cardiffnlp___tweet_sentiment_multilingual/german/0.1.0/936afd3cde120393429606f681b3b48d526873c45114068973f71e296ce80605)\n"
     ]
    },
    {
     "data": {
      "application/vnd.jupyter.widget-view+json": {
       "model_id": "ed6f296351da4eba941d27363f62cddf",
       "version_major": 2,
       "version_minor": 0
      },
      "text/plain": [
       "  0%|          | 0/3 [00:00<?, ?it/s]"
      ]
     },
     "metadata": {},
     "output_type": "display_data"
    },
    {
     "name": "stderr",
     "output_type": "stream",
     "text": [
      "Found cached dataset tweet_sentiment_multilingual (/home/samuel/.cache/huggingface/datasets/cardiffnlp___tweet_sentiment_multilingual/hindi/0.1.0/936afd3cde120393429606f681b3b48d526873c45114068973f71e296ce80605)\n"
     ]
    },
    {
     "data": {
      "application/vnd.jupyter.widget-view+json": {
       "model_id": "6926591f221b4353b9ae6e93e6bf4974",
       "version_major": 2,
       "version_minor": 0
      },
      "text/plain": [
       "  0%|          | 0/3 [00:00<?, ?it/s]"
      ]
     },
     "metadata": {},
     "output_type": "display_data"
    },
    {
     "name": "stderr",
     "output_type": "stream",
     "text": [
      "Found cached dataset tweet_sentiment_multilingual (/home/samuel/.cache/huggingface/datasets/cardiffnlp___tweet_sentiment_multilingual/italian/0.1.0/936afd3cde120393429606f681b3b48d526873c45114068973f71e296ce80605)\n"
     ]
    },
    {
     "data": {
      "application/vnd.jupyter.widget-view+json": {
       "model_id": "c85f66a3068a4b08861b51429338772f",
       "version_major": 2,
       "version_minor": 0
      },
      "text/plain": [
       "  0%|          | 0/3 [00:00<?, ?it/s]"
      ]
     },
     "metadata": {},
     "output_type": "display_data"
    },
    {
     "name": "stderr",
     "output_type": "stream",
     "text": [
      "Found cached dataset tweet_sentiment_multilingual (/home/samuel/.cache/huggingface/datasets/cardiffnlp___tweet_sentiment_multilingual/portuguese/0.1.0/936afd3cde120393429606f681b3b48d526873c45114068973f71e296ce80605)\n"
     ]
    },
    {
     "data": {
      "application/vnd.jupyter.widget-view+json": {
       "model_id": "de8436fb97614f1a8907ecd0dc88e5f8",
       "version_major": 2,
       "version_minor": 0
      },
      "text/plain": [
       "  0%|          | 0/3 [00:00<?, ?it/s]"
      ]
     },
     "metadata": {},
     "output_type": "display_data"
    },
    {
     "name": "stderr",
     "output_type": "stream",
     "text": [
      "Found cached dataset tweet_sentiment_multilingual (/home/samuel/.cache/huggingface/datasets/cardiffnlp___tweet_sentiment_multilingual/spanish/0.1.0/936afd3cde120393429606f681b3b48d526873c45114068973f71e296ce80605)\n"
     ]
    },
    {
     "data": {
      "application/vnd.jupyter.widget-view+json": {
       "model_id": "d0681a0581cd43a69ecd3381260da800",
       "version_major": 2,
       "version_minor": 0
      },
      "text/plain": [
       "  0%|          | 0/3 [00:00<?, ?it/s]"
      ]
     },
     "metadata": {},
     "output_type": "display_data"
    },
    {
     "name": "stderr",
     "output_type": "stream",
     "text": [
      "Found cached dataset nusatranslation_senti (/home/samuel/.cache/huggingface/datasets/indonlp___nusatranslation_senti/nusatranslation_senti_btk_nusantara_text/1.0.0/84380b9fe1509e8d8d8c7c3c6d475f39181456c63a2fad48e88ceb95a642c952)\n"
     ]
    },
    {
     "data": {
      "application/vnd.jupyter.widget-view+json": {
       "model_id": "56a635b8f3a34fceb5371154effa22b5",
       "version_major": 2,
       "version_minor": 0
      },
      "text/plain": [
       "  0%|          | 0/3 [00:00<?, ?it/s]"
      ]
     },
     "metadata": {},
     "output_type": "display_data"
    },
    {
     "name": "stderr",
     "output_type": "stream",
     "text": [
      "Found cached dataset nusatranslation_senti (/home/samuel/.cache/huggingface/datasets/indonlp___nusatranslation_senti/nusatranslation_senti_sun_nusantara_text/1.0.0/84380b9fe1509e8d8d8c7c3c6d475f39181456c63a2fad48e88ceb95a642c952)\n"
     ]
    },
    {
     "data": {
      "application/vnd.jupyter.widget-view+json": {
       "model_id": "aa09f623edd24ab78851727cc33e21e8",
       "version_major": 2,
       "version_minor": 0
      },
      "text/plain": [
       "  0%|          | 0/3 [00:00<?, ?it/s]"
      ]
     },
     "metadata": {},
     "output_type": "display_data"
    },
    {
     "name": "stderr",
     "output_type": "stream",
     "text": [
      "Found cached dataset nusatranslation_senti (/home/samuel/.cache/huggingface/datasets/indonlp___nusatranslation_senti/nusatranslation_senti_jav_nusantara_text/1.0.0/84380b9fe1509e8d8d8c7c3c6d475f39181456c63a2fad48e88ceb95a642c952)\n"
     ]
    },
    {
     "data": {
      "application/vnd.jupyter.widget-view+json": {
       "model_id": "9e36f8972f6040e88abd403f926e164b",
       "version_major": 2,
       "version_minor": 0
      },
      "text/plain": [
       "  0%|          | 0/3 [00:00<?, ?it/s]"
      ]
     },
     "metadata": {},
     "output_type": "display_data"
    },
    {
     "name": "stderr",
     "output_type": "stream",
     "text": [
      "Found cached dataset nusatranslation_senti (/home/samuel/.cache/huggingface/datasets/indonlp___nusatranslation_senti/nusatranslation_senti_mad_nusantara_text/1.0.0/84380b9fe1509e8d8d8c7c3c6d475f39181456c63a2fad48e88ceb95a642c952)\n"
     ]
    },
    {
     "data": {
      "application/vnd.jupyter.widget-view+json": {
       "model_id": "fc28db77433f454b9b4d4ded37ebaa6f",
       "version_major": 2,
       "version_minor": 0
      },
      "text/plain": [
       "  0%|          | 0/3 [00:00<?, ?it/s]"
      ]
     },
     "metadata": {},
     "output_type": "display_data"
    },
    {
     "name": "stderr",
     "output_type": "stream",
     "text": [
      "Found cached dataset nusatranslation_senti (/home/samuel/.cache/huggingface/datasets/indonlp___nusatranslation_senti/nusatranslation_senti_mak_nusantara_text/1.0.0/84380b9fe1509e8d8d8c7c3c6d475f39181456c63a2fad48e88ceb95a642c952)\n"
     ]
    },
    {
     "data": {
      "application/vnd.jupyter.widget-view+json": {
       "model_id": "0340b3a4660643fd9101513430cbdb72",
       "version_major": 2,
       "version_minor": 0
      },
      "text/plain": [
       "  0%|          | 0/3 [00:00<?, ?it/s]"
      ]
     },
     "metadata": {},
     "output_type": "display_data"
    },
    {
     "name": "stderr",
     "output_type": "stream",
     "text": [
      "Found cached dataset nusatranslation_senti (/home/samuel/.cache/huggingface/datasets/indonlp___nusatranslation_senti/nusatranslation_senti_min_nusantara_text/1.0.0/84380b9fe1509e8d8d8c7c3c6d475f39181456c63a2fad48e88ceb95a642c952)\n"
     ]
    },
    {
     "data": {
      "application/vnd.jupyter.widget-view+json": {
       "model_id": "65e1e7b8f18e48b1bfbd6e547923461d",
       "version_major": 2,
       "version_minor": 0
      },
      "text/plain": [
       "  0%|          | 0/3 [00:00<?, ?it/s]"
      ]
     },
     "metadata": {},
     "output_type": "display_data"
    },
    {
     "name": "stderr",
     "output_type": "stream",
     "text": [
      "Found cached dataset nusatranslation_mt (/home/samuel/.cache/huggingface/datasets/indonlp___nusatranslation_mt/nusatranslation_mt_btk_ind_nusantara_t2t/1.0.0/376e332d835c55ed9bac14d4daafdc3f3676d9be8165bf3fa6176fafcfc8a7c7)\n"
     ]
    },
    {
     "data": {
      "application/vnd.jupyter.widget-view+json": {
       "model_id": "fe9f1cd811304a1b9e7cc837e04889f1",
       "version_major": 2,
       "version_minor": 0
      },
      "text/plain": [
       "  0%|          | 0/3 [00:00<?, ?it/s]"
      ]
     },
     "metadata": {},
     "output_type": "display_data"
    },
    {
     "name": "stderr",
     "output_type": "stream",
     "text": [
      "Found cached dataset nusatranslation_mt (/home/samuel/.cache/huggingface/datasets/indonlp___nusatranslation_mt/nusatranslation_mt_sun_ind_nusantara_t2t/1.0.0/376e332d835c55ed9bac14d4daafdc3f3676d9be8165bf3fa6176fafcfc8a7c7)\n"
     ]
    },
    {
     "data": {
      "application/vnd.jupyter.widget-view+json": {
       "model_id": "05769da69ccc4e35bf430639ef8f1e03",
       "version_major": 2,
       "version_minor": 0
      },
      "text/plain": [
       "  0%|          | 0/3 [00:00<?, ?it/s]"
      ]
     },
     "metadata": {},
     "output_type": "display_data"
    },
    {
     "name": "stderr",
     "output_type": "stream",
     "text": [
      "Found cached dataset nusatranslation_mt (/home/samuel/.cache/huggingface/datasets/indonlp___nusatranslation_mt/nusatranslation_mt_jav_ind_nusantara_t2t/1.0.0/376e332d835c55ed9bac14d4daafdc3f3676d9be8165bf3fa6176fafcfc8a7c7)\n"
     ]
    },
    {
     "data": {
      "application/vnd.jupyter.widget-view+json": {
       "model_id": "7710d83a1f0f42c091d4f1c7565d8269",
       "version_major": 2,
       "version_minor": 0
      },
      "text/plain": [
       "  0%|          | 0/3 [00:00<?, ?it/s]"
      ]
     },
     "metadata": {},
     "output_type": "display_data"
    },
    {
     "name": "stderr",
     "output_type": "stream",
     "text": [
      "Found cached dataset nusatranslation_mt (/home/samuel/.cache/huggingface/datasets/indonlp___nusatranslation_mt/nusatranslation_mt_mad_ind_nusantara_t2t/1.0.0/376e332d835c55ed9bac14d4daafdc3f3676d9be8165bf3fa6176fafcfc8a7c7)\n"
     ]
    },
    {
     "data": {
      "application/vnd.jupyter.widget-view+json": {
       "model_id": "27f51752f9dd45c89d8fabfb6717b2f1",
       "version_major": 2,
       "version_minor": 0
      },
      "text/plain": [
       "  0%|          | 0/3 [00:00<?, ?it/s]"
      ]
     },
     "metadata": {},
     "output_type": "display_data"
    },
    {
     "name": "stderr",
     "output_type": "stream",
     "text": [
      "Found cached dataset nusatranslation_mt (/home/samuel/.cache/huggingface/datasets/indonlp___nusatranslation_mt/nusatranslation_mt_mak_ind_nusantara_t2t/1.0.0/376e332d835c55ed9bac14d4daafdc3f3676d9be8165bf3fa6176fafcfc8a7c7)\n"
     ]
    },
    {
     "data": {
      "application/vnd.jupyter.widget-view+json": {
       "model_id": "90c1b2d5e1114f9aad1650b767d2ba19",
       "version_major": 2,
       "version_minor": 0
      },
      "text/plain": [
       "  0%|          | 0/3 [00:00<?, ?it/s]"
      ]
     },
     "metadata": {},
     "output_type": "display_data"
    },
    {
     "name": "stderr",
     "output_type": "stream",
     "text": [
      "Found cached dataset nusatranslation_mt (/home/samuel/.cache/huggingface/datasets/indonlp___nusatranslation_mt/nusatranslation_mt_min_ind_nusantara_t2t/1.0.0/376e332d835c55ed9bac14d4daafdc3f3676d9be8165bf3fa6176fafcfc8a7c7)\n"
     ]
    },
    {
     "data": {
      "application/vnd.jupyter.widget-view+json": {
       "model_id": "3ac541700125479780370758b069e6bc",
       "version_major": 2,
       "version_minor": 0
      },
      "text/plain": [
       "  0%|          | 0/3 [00:00<?, ?it/s]"
      ]
     },
     "metadata": {},
     "output_type": "display_data"
    },
    {
     "name": "stderr",
     "output_type": "stream",
     "text": [
      "Found cached dataset nusa_x-senti (/home/samuel/.cache/huggingface/datasets/indonlp___nusa_x-senti/bbc/1.0.0/3477a395c5c7a09a74d897ceb96ebd2c3afbd1d7fad0c11d8b8026b8b08e3af5)\n"
     ]
    },
    {
     "data": {
      "application/vnd.jupyter.widget-view+json": {
       "model_id": "1026555091264af2ae7d5513b6bf9b95",
       "version_major": 2,
       "version_minor": 0
      },
      "text/plain": [
       "  0%|          | 0/3 [00:00<?, ?it/s]"
      ]
     },
     "metadata": {},
     "output_type": "display_data"
    },
    {
     "name": "stderr",
     "output_type": "stream",
     "text": [
      "Found cached dataset nusa_x-senti (/home/samuel/.cache/huggingface/datasets/indonlp___nusa_x-senti/sun/1.0.0/3477a395c5c7a09a74d897ceb96ebd2c3afbd1d7fad0c11d8b8026b8b08e3af5)\n"
     ]
    },
    {
     "data": {
      "application/vnd.jupyter.widget-view+json": {
       "model_id": "0cc438a7154c4db3b003d63fd5f761ba",
       "version_major": 2,
       "version_minor": 0
      },
      "text/plain": [
       "  0%|          | 0/3 [00:00<?, ?it/s]"
      ]
     },
     "metadata": {},
     "output_type": "display_data"
    },
    {
     "name": "stderr",
     "output_type": "stream",
     "text": [
      "Found cached dataset nusa_x-senti (/home/samuel/.cache/huggingface/datasets/indonlp___nusa_x-senti/jav/1.0.0/3477a395c5c7a09a74d897ceb96ebd2c3afbd1d7fad0c11d8b8026b8b08e3af5)\n"
     ]
    },
    {
     "data": {
      "application/vnd.jupyter.widget-view+json": {
       "model_id": "5bc602d5c3774f978d65ec5fb54bf90f",
       "version_major": 2,
       "version_minor": 0
      },
      "text/plain": [
       "  0%|          | 0/3 [00:00<?, ?it/s]"
      ]
     },
     "metadata": {},
     "output_type": "display_data"
    },
    {
     "name": "stderr",
     "output_type": "stream",
     "text": [
      "Found cached dataset nusa_x-senti (/home/samuel/.cache/huggingface/datasets/indonlp___nusa_x-senti/mad/1.0.0/3477a395c5c7a09a74d897ceb96ebd2c3afbd1d7fad0c11d8b8026b8b08e3af5)\n"
     ]
    },
    {
     "data": {
      "application/vnd.jupyter.widget-view+json": {
       "model_id": "001ebe353cb24c63a3ed5a2ea1a6defb",
       "version_major": 2,
       "version_minor": 0
      },
      "text/plain": [
       "  0%|          | 0/3 [00:00<?, ?it/s]"
      ]
     },
     "metadata": {},
     "output_type": "display_data"
    },
    {
     "name": "stderr",
     "output_type": "stream",
     "text": [
      "Found cached dataset nusa_x-senti (/home/samuel/.cache/huggingface/datasets/indonlp___nusa_x-senti/bug/1.0.0/3477a395c5c7a09a74d897ceb96ebd2c3afbd1d7fad0c11d8b8026b8b08e3af5)\n"
     ]
    },
    {
     "data": {
      "application/vnd.jupyter.widget-view+json": {
       "model_id": "d5b07579cf6d438e9a5b8123fb3b7a0d",
       "version_major": 2,
       "version_minor": 0
      },
      "text/plain": [
       "  0%|          | 0/3 [00:00<?, ?it/s]"
      ]
     },
     "metadata": {},
     "output_type": "display_data"
    },
    {
     "name": "stderr",
     "output_type": "stream",
     "text": [
      "Found cached dataset nusa_x-senti (/home/samuel/.cache/huggingface/datasets/indonlp___nusa_x-senti/min/1.0.0/3477a395c5c7a09a74d897ceb96ebd2c3afbd1d7fad0c11d8b8026b8b08e3af5)\n"
     ]
    },
    {
     "data": {
      "application/vnd.jupyter.widget-view+json": {
       "model_id": "2ca177ca2a6c42d6912b362382abe593",
       "version_major": 2,
       "version_minor": 0
      },
      "text/plain": [
       "  0%|          | 0/3 [00:00<?, ?it/s]"
      ]
     },
     "metadata": {},
     "output_type": "display_data"
    },
    {
     "name": "stderr",
     "output_type": "stream",
     "text": [
      "Found cached dataset nusa_x-senti (/home/samuel/.cache/huggingface/datasets/indonlp___nusa_x-senti/ind/1.0.0/3477a395c5c7a09a74d897ceb96ebd2c3afbd1d7fad0c11d8b8026b8b08e3af5)\n"
     ]
    },
    {
     "data": {
      "application/vnd.jupyter.widget-view+json": {
       "model_id": "5696e17e189345b3bdb9f5b0202987fd",
       "version_major": 2,
       "version_minor": 0
      },
      "text/plain": [
       "  0%|          | 0/3 [00:00<?, ?it/s]"
      ]
     },
     "metadata": {},
     "output_type": "display_data"
    },
    {
     "name": "stderr",
     "output_type": "stream",
     "text": [
      "Found cached dataset nusa_x-senti (/home/samuel/.cache/huggingface/datasets/indonlp___nusa_x-senti/eng/1.0.0/3477a395c5c7a09a74d897ceb96ebd2c3afbd1d7fad0c11d8b8026b8b08e3af5)\n"
     ]
    },
    {
     "data": {
      "application/vnd.jupyter.widget-view+json": {
       "model_id": "6f351543d2324076b51d276860b777d8",
       "version_major": 2,
       "version_minor": 0
      },
      "text/plain": [
       "  0%|          | 0/3 [00:00<?, ?it/s]"
      ]
     },
     "metadata": {},
     "output_type": "display_data"
    },
    {
     "name": "stderr",
     "output_type": "stream",
     "text": [
      "Found cached dataset nusa_x-mt (/home/samuel/.cache/huggingface/datasets/indonlp___nusa_x-mt/bbc-ind/1.0.0/875114470acfddba36384fe519329688cdf068ecbffed136c7d2a4c63f8e60d0)\n"
     ]
    },
    {
     "data": {
      "application/vnd.jupyter.widget-view+json": {
       "model_id": "f76477b989724166a2478a46b4131cfa",
       "version_major": 2,
       "version_minor": 0
      },
      "text/plain": [
       "  0%|          | 0/3 [00:00<?, ?it/s]"
      ]
     },
     "metadata": {},
     "output_type": "display_data"
    },
    {
     "name": "stderr",
     "output_type": "stream",
     "text": [
      "Found cached dataset nusa_x-mt (/home/samuel/.cache/huggingface/datasets/indonlp___nusa_x-mt/sun-ind/1.0.0/875114470acfddba36384fe519329688cdf068ecbffed136c7d2a4c63f8e60d0)\n"
     ]
    },
    {
     "data": {
      "application/vnd.jupyter.widget-view+json": {
       "model_id": "c3529132ae7e4593a90d585a0d213d96",
       "version_major": 2,
       "version_minor": 0
      },
      "text/plain": [
       "  0%|          | 0/3 [00:00<?, ?it/s]"
      ]
     },
     "metadata": {},
     "output_type": "display_data"
    },
    {
     "name": "stderr",
     "output_type": "stream",
     "text": [
      "Found cached dataset nusa_x-mt (/home/samuel/.cache/huggingface/datasets/indonlp___nusa_x-mt/jav-ind/1.0.0/875114470acfddba36384fe519329688cdf068ecbffed136c7d2a4c63f8e60d0)\n"
     ]
    },
    {
     "data": {
      "application/vnd.jupyter.widget-view+json": {
       "model_id": "3110783ce0a54ea688989ebab5ff3c5e",
       "version_major": 2,
       "version_minor": 0
      },
      "text/plain": [
       "  0%|          | 0/3 [00:00<?, ?it/s]"
      ]
     },
     "metadata": {},
     "output_type": "display_data"
    },
    {
     "name": "stderr",
     "output_type": "stream",
     "text": [
      "Found cached dataset nusa_x-mt (/home/samuel/.cache/huggingface/datasets/indonlp___nusa_x-mt/mad-ind/1.0.0/875114470acfddba36384fe519329688cdf068ecbffed136c7d2a4c63f8e60d0)\n"
     ]
    },
    {
     "data": {
      "application/vnd.jupyter.widget-view+json": {
       "model_id": "e3389148cba94a199a6dc3f6b5874d87",
       "version_major": 2,
       "version_minor": 0
      },
      "text/plain": [
       "  0%|          | 0/3 [00:00<?, ?it/s]"
      ]
     },
     "metadata": {},
     "output_type": "display_data"
    },
    {
     "name": "stderr",
     "output_type": "stream",
     "text": [
      "Found cached dataset nusa_x-mt (/home/samuel/.cache/huggingface/datasets/indonlp___nusa_x-mt/bug-ind/1.0.0/875114470acfddba36384fe519329688cdf068ecbffed136c7d2a4c63f8e60d0)\n"
     ]
    },
    {
     "data": {
      "application/vnd.jupyter.widget-view+json": {
       "model_id": "d9fb78d5de4f4bbdb152f1aafce04fc3",
       "version_major": 2,
       "version_minor": 0
      },
      "text/plain": [
       "  0%|          | 0/3 [00:00<?, ?it/s]"
      ]
     },
     "metadata": {},
     "output_type": "display_data"
    },
    {
     "name": "stderr",
     "output_type": "stream",
     "text": [
      "Found cached dataset nusa_x-mt (/home/samuel/.cache/huggingface/datasets/indonlp___nusa_x-mt/min-ind/1.0.0/875114470acfddba36384fe519329688cdf068ecbffed136c7d2a4c63f8e60d0)\n"
     ]
    },
    {
     "data": {
      "application/vnd.jupyter.widget-view+json": {
       "model_id": "4daf7d1982d449f4a9047749fc6cefbb",
       "version_major": 2,
       "version_minor": 0
      },
      "text/plain": [
       "  0%|          | 0/3 [00:00<?, ?it/s]"
      ]
     },
     "metadata": {},
     "output_type": "display_data"
    },
    {
     "name": "stderr",
     "output_type": "stream",
     "text": [
      "Found cached dataset nusa_x-mt (/home/samuel/.cache/huggingface/datasets/indonlp___nusa_x-mt/bbc-eng/1.0.0/875114470acfddba36384fe519329688cdf068ecbffed136c7d2a4c63f8e60d0)\n"
     ]
    },
    {
     "data": {
      "application/vnd.jupyter.widget-view+json": {
       "model_id": "49aee46926c942a1b635455505efbe15",
       "version_major": 2,
       "version_minor": 0
      },
      "text/plain": [
       "  0%|          | 0/3 [00:00<?, ?it/s]"
      ]
     },
     "metadata": {},
     "output_type": "display_data"
    },
    {
     "name": "stderr",
     "output_type": "stream",
     "text": [
      "Found cached dataset nusa_x-mt (/home/samuel/.cache/huggingface/datasets/indonlp___nusa_x-mt/sun-eng/1.0.0/875114470acfddba36384fe519329688cdf068ecbffed136c7d2a4c63f8e60d0)\n"
     ]
    },
    {
     "data": {
      "application/vnd.jupyter.widget-view+json": {
       "model_id": "1a90a93d64824200be3e870d9423760d",
       "version_major": 2,
       "version_minor": 0
      },
      "text/plain": [
       "  0%|          | 0/3 [00:00<?, ?it/s]"
      ]
     },
     "metadata": {},
     "output_type": "display_data"
    },
    {
     "name": "stderr",
     "output_type": "stream",
     "text": [
      "Found cached dataset nusa_x-mt (/home/samuel/.cache/huggingface/datasets/indonlp___nusa_x-mt/jav-eng/1.0.0/875114470acfddba36384fe519329688cdf068ecbffed136c7d2a4c63f8e60d0)\n"
     ]
    },
    {
     "data": {
      "application/vnd.jupyter.widget-view+json": {
       "model_id": "0d42625f51b8420b90fe0e33b4901954",
       "version_major": 2,
       "version_minor": 0
      },
      "text/plain": [
       "  0%|          | 0/3 [00:00<?, ?it/s]"
      ]
     },
     "metadata": {},
     "output_type": "display_data"
    },
    {
     "name": "stderr",
     "output_type": "stream",
     "text": [
      "Found cached dataset nusa_x-mt (/home/samuel/.cache/huggingface/datasets/indonlp___nusa_x-mt/mad-eng/1.0.0/875114470acfddba36384fe519329688cdf068ecbffed136c7d2a4c63f8e60d0)\n"
     ]
    },
    {
     "data": {
      "application/vnd.jupyter.widget-view+json": {
       "model_id": "ee4781c3c52d4bce902bfd98173d6057",
       "version_major": 2,
       "version_minor": 0
      },
      "text/plain": [
       "  0%|          | 0/3 [00:00<?, ?it/s]"
      ]
     },
     "metadata": {},
     "output_type": "display_data"
    },
    {
     "name": "stderr",
     "output_type": "stream",
     "text": [
      "Found cached dataset nusa_x-mt (/home/samuel/.cache/huggingface/datasets/indonlp___nusa_x-mt/bug-eng/1.0.0/875114470acfddba36384fe519329688cdf068ecbffed136c7d2a4c63f8e60d0)\n"
     ]
    },
    {
     "data": {
      "application/vnd.jupyter.widget-view+json": {
       "model_id": "5a852d85a79f46a0a1e18a951865e0e3",
       "version_major": 2,
       "version_minor": 0
      },
      "text/plain": [
       "  0%|          | 0/3 [00:00<?, ?it/s]"
      ]
     },
     "metadata": {},
     "output_type": "display_data"
    },
    {
     "name": "stderr",
     "output_type": "stream",
     "text": [
      "Found cached dataset nusa_x-mt (/home/samuel/.cache/huggingface/datasets/indonlp___nusa_x-mt/min-eng/1.0.0/875114470acfddba36384fe519329688cdf068ecbffed136c7d2a4c63f8e60d0)\n"
     ]
    },
    {
     "data": {
      "application/vnd.jupyter.widget-view+json": {
       "model_id": "de9255437cb2430fb257fb63a58d5a66",
       "version_major": 2,
       "version_minor": 0
      },
      "text/plain": [
       "  0%|          | 0/3 [00:00<?, ?it/s]"
      ]
     },
     "metadata": {},
     "output_type": "display_data"
    },
    {
     "name": "stderr",
     "output_type": "stream",
     "text": [
      "Found cached dataset masakhanews (/home/samuel/.cache/huggingface/datasets/masakhane___masakhanews/amh/1.0.0/c60334474cec1d13c0c3018e138cd8b60bc6443fa5e25258d65d990b2498403f)\n"
     ]
    },
    {
     "data": {
      "application/vnd.jupyter.widget-view+json": {
       "model_id": "013ec07306d947e48a0555ca62f72c7c",
       "version_major": 2,
       "version_minor": 0
      },
      "text/plain": [
       "  0%|          | 0/3 [00:00<?, ?it/s]"
      ]
     },
     "metadata": {},
     "output_type": "display_data"
    },
    {
     "name": "stderr",
     "output_type": "stream",
     "text": [
      "Found cached dataset masakhanews (/home/samuel/.cache/huggingface/datasets/masakhane___masakhanews/hau/1.0.0/c60334474cec1d13c0c3018e138cd8b60bc6443fa5e25258d65d990b2498403f)\n"
     ]
    },
    {
     "data": {
      "application/vnd.jupyter.widget-view+json": {
       "model_id": "fabd734f12b94feabdfd3f009b0e0052",
       "version_major": 2,
       "version_minor": 0
      },
      "text/plain": [
       "  0%|          | 0/3 [00:00<?, ?it/s]"
      ]
     },
     "metadata": {},
     "output_type": "display_data"
    },
    {
     "name": "stderr",
     "output_type": "stream",
     "text": [
      "Found cached dataset masakhanews (/home/samuel/.cache/huggingface/datasets/masakhane___masakhanews/ibo/1.0.0/c60334474cec1d13c0c3018e138cd8b60bc6443fa5e25258d65d990b2498403f)\n"
     ]
    },
    {
     "data": {
      "application/vnd.jupyter.widget-view+json": {
       "model_id": "f1cd17b207b94d70a215bd61e6f59711",
       "version_major": 2,
       "version_minor": 0
      },
      "text/plain": [
       "  0%|          | 0/3 [00:00<?, ?it/s]"
      ]
     },
     "metadata": {},
     "output_type": "display_data"
    },
    {
     "name": "stderr",
     "output_type": "stream",
     "text": [
      "Found cached dataset masakhanews (/home/samuel/.cache/huggingface/datasets/masakhane___masakhanews/lug/1.0.0/c60334474cec1d13c0c3018e138cd8b60bc6443fa5e25258d65d990b2498403f)\n"
     ]
    },
    {
     "data": {
      "application/vnd.jupyter.widget-view+json": {
       "model_id": "9183491292de40d2806a13b366f91ce6",
       "version_major": 2,
       "version_minor": 0
      },
      "text/plain": [
       "  0%|          | 0/3 [00:00<?, ?it/s]"
      ]
     },
     "metadata": {},
     "output_type": "display_data"
    },
    {
     "name": "stderr",
     "output_type": "stream",
     "text": [
      "Found cached dataset masakhanews (/home/samuel/.cache/huggingface/datasets/masakhane___masakhanews/pcm/1.0.0/c60334474cec1d13c0c3018e138cd8b60bc6443fa5e25258d65d990b2498403f)\n"
     ]
    },
    {
     "data": {
      "application/vnd.jupyter.widget-view+json": {
       "model_id": "71134b5704584f0a84b3794c92d8b6b0",
       "version_major": 2,
       "version_minor": 0
      },
      "text/plain": [
       "  0%|          | 0/3 [00:00<?, ?it/s]"
      ]
     },
     "metadata": {},
     "output_type": "display_data"
    },
    {
     "name": "stderr",
     "output_type": "stream",
     "text": [
      "Found cached dataset masakhanews (/home/samuel/.cache/huggingface/datasets/masakhane___masakhanews/sna/1.0.0/c60334474cec1d13c0c3018e138cd8b60bc6443fa5e25258d65d990b2498403f)\n"
     ]
    },
    {
     "data": {
      "application/vnd.jupyter.widget-view+json": {
       "model_id": "bdbcfe72fb964293babe9038d0c0aa44",
       "version_major": 2,
       "version_minor": 0
      },
      "text/plain": [
       "  0%|          | 0/3 [00:00<?, ?it/s]"
      ]
     },
     "metadata": {},
     "output_type": "display_data"
    },
    {
     "name": "stderr",
     "output_type": "stream",
     "text": [
      "Found cached dataset masakhanews (/home/samuel/.cache/huggingface/datasets/masakhane___masakhanews/swa/1.0.0/c60334474cec1d13c0c3018e138cd8b60bc6443fa5e25258d65d990b2498403f)\n"
     ]
    },
    {
     "data": {
      "application/vnd.jupyter.widget-view+json": {
       "model_id": "baaf0c5bc3544f90a2dad3bf628450d4",
       "version_major": 2,
       "version_minor": 0
      },
      "text/plain": [
       "  0%|          | 0/3 [00:00<?, ?it/s]"
      ]
     },
     "metadata": {},
     "output_type": "display_data"
    },
    {
     "name": "stderr",
     "output_type": "stream",
     "text": [
      "Found cached dataset masakhanews (/home/samuel/.cache/huggingface/datasets/masakhane___masakhanews/xho/1.0.0/c60334474cec1d13c0c3018e138cd8b60bc6443fa5e25258d65d990b2498403f)\n"
     ]
    },
    {
     "data": {
      "application/vnd.jupyter.widget-view+json": {
       "model_id": "fa68d2765b12450cbedda3a9f0c55a86",
       "version_major": 2,
       "version_minor": 0
      },
      "text/plain": [
       "  0%|          | 0/3 [00:00<?, ?it/s]"
      ]
     },
     "metadata": {},
     "output_type": "display_data"
    },
    {
     "name": "stderr",
     "output_type": "stream",
     "text": [
      "Found cached dataset masakhanews (/home/samuel/.cache/huggingface/datasets/masakhane___masakhanews/yor/1.0.0/c60334474cec1d13c0c3018e138cd8b60bc6443fa5e25258d65d990b2498403f)\n"
     ]
    },
    {
     "data": {
      "application/vnd.jupyter.widget-view+json": {
       "model_id": "3c29dfabe8b743698c67124759f9e93e",
       "version_major": 2,
       "version_minor": 0
      },
      "text/plain": [
       "  0%|          | 0/3 [00:00<?, ?it/s]"
      ]
     },
     "metadata": {},
     "output_type": "display_data"
    },
    {
     "name": "stderr",
     "output_type": "stream",
     "text": [
      "Found cached dataset masakhanews (/home/samuel/.cache/huggingface/datasets/masakhane___masakhanews/eng/1.0.0/c60334474cec1d13c0c3018e138cd8b60bc6443fa5e25258d65d990b2498403f)\n"
     ]
    },
    {
     "data": {
      "application/vnd.jupyter.widget-view+json": {
       "model_id": "81c7daaa619646819d68bd1ac69d57c5",
       "version_major": 2,
       "version_minor": 0
      },
      "text/plain": [
       "  0%|          | 0/3 [00:00<?, ?it/s]"
      ]
     },
     "metadata": {},
     "output_type": "display_data"
    },
    {
     "name": "stderr",
     "output_type": "stream",
     "text": [
      "Found cached dataset mafand (/home/samuel/.cache/huggingface/datasets/masakhane___mafand/en-amh/1.0.0/9d9e4635f1deeddd2d72e959a6bcd39d9450d019c262e4c5d9a3d6f24387e937)\n"
     ]
    },
    {
     "data": {
      "application/vnd.jupyter.widget-view+json": {
       "model_id": "a9f17e5b2741429994b463fb0c2e52d1",
       "version_major": 2,
       "version_minor": 0
      },
      "text/plain": [
       "  0%|          | 0/2 [00:00<?, ?it/s]"
      ]
     },
     "metadata": {},
     "output_type": "display_data"
    },
    {
     "name": "stderr",
     "output_type": "stream",
     "text": [
      "Found cached dataset mafand (/home/samuel/.cache/huggingface/datasets/masakhane___mafand/en-hau/1.0.0/9d9e4635f1deeddd2d72e959a6bcd39d9450d019c262e4c5d9a3d6f24387e937)\n"
     ]
    },
    {
     "data": {
      "application/vnd.jupyter.widget-view+json": {
       "model_id": "8b2b7cd6b06e446887b693daa71d5216",
       "version_major": 2,
       "version_minor": 0
      },
      "text/plain": [
       "  0%|          | 0/3 [00:00<?, ?it/s]"
      ]
     },
     "metadata": {},
     "output_type": "display_data"
    },
    {
     "name": "stderr",
     "output_type": "stream",
     "text": [
      "Found cached dataset mafand (/home/samuel/.cache/huggingface/datasets/masakhane___mafand/en-ibo/1.0.0/9d9e4635f1deeddd2d72e959a6bcd39d9450d019c262e4c5d9a3d6f24387e937)\n"
     ]
    },
    {
     "data": {
      "application/vnd.jupyter.widget-view+json": {
       "model_id": "ca2ee250cc4b435e916048290f8b27da",
       "version_major": 2,
       "version_minor": 0
      },
      "text/plain": [
       "  0%|          | 0/3 [00:00<?, ?it/s]"
      ]
     },
     "metadata": {},
     "output_type": "display_data"
    },
    {
     "name": "stderr",
     "output_type": "stream",
     "text": [
      "Found cached dataset mafand (/home/samuel/.cache/huggingface/datasets/masakhane___mafand/en-lug/1.0.0/9d9e4635f1deeddd2d72e959a6bcd39d9450d019c262e4c5d9a3d6f24387e937)\n"
     ]
    },
    {
     "data": {
      "application/vnd.jupyter.widget-view+json": {
       "model_id": "e701a5ac9fc24e7e9249ce4fa8e4ee01",
       "version_major": 2,
       "version_minor": 0
      },
      "text/plain": [
       "  0%|          | 0/3 [00:00<?, ?it/s]"
      ]
     },
     "metadata": {},
     "output_type": "display_data"
    },
    {
     "name": "stderr",
     "output_type": "stream",
     "text": [
      "Found cached dataset mafand (/home/samuel/.cache/huggingface/datasets/masakhane___mafand/en-pcm/1.0.0/9d9e4635f1deeddd2d72e959a6bcd39d9450d019c262e4c5d9a3d6f24387e937)\n"
     ]
    },
    {
     "data": {
      "application/vnd.jupyter.widget-view+json": {
       "model_id": "8bcdcf67a5424252872f7e2ca2d8a63a",
       "version_major": 2,
       "version_minor": 0
      },
      "text/plain": [
       "  0%|          | 0/3 [00:00<?, ?it/s]"
      ]
     },
     "metadata": {},
     "output_type": "display_data"
    },
    {
     "name": "stderr",
     "output_type": "stream",
     "text": [
      "Found cached dataset mafand (/home/samuel/.cache/huggingface/datasets/masakhane___mafand/en-sna/1.0.0/9d9e4635f1deeddd2d72e959a6bcd39d9450d019c262e4c5d9a3d6f24387e937)\n"
     ]
    },
    {
     "data": {
      "application/vnd.jupyter.widget-view+json": {
       "model_id": "885b404ae75a4c499e6b5be22a3cab29",
       "version_major": 2,
       "version_minor": 0
      },
      "text/plain": [
       "  0%|          | 0/2 [00:00<?, ?it/s]"
      ]
     },
     "metadata": {},
     "output_type": "display_data"
    },
    {
     "name": "stderr",
     "output_type": "stream",
     "text": [
      "Found cached dataset mafand (/home/samuel/.cache/huggingface/datasets/masakhane___mafand/en-swa/1.0.0/9d9e4635f1deeddd2d72e959a6bcd39d9450d019c262e4c5d9a3d6f24387e937)\n"
     ]
    },
    {
     "data": {
      "application/vnd.jupyter.widget-view+json": {
       "model_id": "44c035192e9442e49142adc3ee3433b4",
       "version_major": 2,
       "version_minor": 0
      },
      "text/plain": [
       "  0%|          | 0/3 [00:00<?, ?it/s]"
      ]
     },
     "metadata": {},
     "output_type": "display_data"
    },
    {
     "name": "stderr",
     "output_type": "stream",
     "text": [
      "Found cached dataset mafand (/home/samuel/.cache/huggingface/datasets/masakhane___mafand/en-xho/1.0.0/9d9e4635f1deeddd2d72e959a6bcd39d9450d019c262e4c5d9a3d6f24387e937)\n"
     ]
    },
    {
     "data": {
      "application/vnd.jupyter.widget-view+json": {
       "model_id": "099821117d504e92a64dc987ac03dd6d",
       "version_major": 2,
       "version_minor": 0
      },
      "text/plain": [
       "  0%|          | 0/2 [00:00<?, ?it/s]"
      ]
     },
     "metadata": {},
     "output_type": "display_data"
    },
    {
     "name": "stderr",
     "output_type": "stream",
     "text": [
      "Found cached dataset mafand (/home/samuel/.cache/huggingface/datasets/masakhane___mafand/en-yor/1.0.0/9d9e4635f1deeddd2d72e959a6bcd39d9450d019c262e4c5d9a3d6f24387e937)\n"
     ]
    },
    {
     "data": {
      "application/vnd.jupyter.widget-view+json": {
       "model_id": "fbdd50d32eed4e5aa516a4c32aa18943",
       "version_major": 2,
       "version_minor": 0
      },
      "text/plain": [
       "  0%|          | 0/3 [00:00<?, ?it/s]"
      ]
     },
     "metadata": {},
     "output_type": "display_data"
    },
    {
     "name": "stderr",
     "output_type": "stream",
     "text": [
      "Found cached dataset americas_nli (/home/samuel/.cache/huggingface/datasets/americas_nli/aym/1.0.0/2f4cd00b49c982fa8827cb332b2a2dbb692aa8a7cd34432fc476efeb7fee375a)\n"
     ]
    },
    {
     "data": {
      "application/vnd.jupyter.widget-view+json": {
       "model_id": "b96c56eacd09485184aa4d4a346d7aa9",
       "version_major": 2,
       "version_minor": 0
      },
      "text/plain": [
       "  0%|          | 0/2 [00:00<?, ?it/s]"
      ]
     },
     "metadata": {},
     "output_type": "display_data"
    },
    {
     "name": "stderr",
     "output_type": "stream",
     "text": [
      "Found cached dataset americas_nli (/home/samuel/.cache/huggingface/datasets/americas_nli/bzd/1.0.0/2f4cd00b49c982fa8827cb332b2a2dbb692aa8a7cd34432fc476efeb7fee375a)\n"
     ]
    },
    {
     "data": {
      "application/vnd.jupyter.widget-view+json": {
       "model_id": "56f8c424673f49939fd928f8980b2bb1",
       "version_major": 2,
       "version_minor": 0
      },
      "text/plain": [
       "  0%|          | 0/2 [00:00<?, ?it/s]"
      ]
     },
     "metadata": {},
     "output_type": "display_data"
    },
    {
     "name": "stderr",
     "output_type": "stream",
     "text": [
      "Found cached dataset americas_nli (/home/samuel/.cache/huggingface/datasets/americas_nli/cni/1.0.0/2f4cd00b49c982fa8827cb332b2a2dbb692aa8a7cd34432fc476efeb7fee375a)\n"
     ]
    },
    {
     "data": {
      "application/vnd.jupyter.widget-view+json": {
       "model_id": "577bf3fecc5348c19a1f0a2af72561cf",
       "version_major": 2,
       "version_minor": 0
      },
      "text/plain": [
       "  0%|          | 0/2 [00:00<?, ?it/s]"
      ]
     },
     "metadata": {},
     "output_type": "display_data"
    },
    {
     "name": "stderr",
     "output_type": "stream",
     "text": [
      "Found cached dataset americas_nli (/home/samuel/.cache/huggingface/datasets/americas_nli/gn/1.0.0/2f4cd00b49c982fa8827cb332b2a2dbb692aa8a7cd34432fc476efeb7fee375a)\n"
     ]
    },
    {
     "data": {
      "application/vnd.jupyter.widget-view+json": {
       "model_id": "bb651e5ea58b4f54a275320c7f2696cc",
       "version_major": 2,
       "version_minor": 0
      },
      "text/plain": [
       "  0%|          | 0/2 [00:00<?, ?it/s]"
      ]
     },
     "metadata": {},
     "output_type": "display_data"
    },
    {
     "name": "stderr",
     "output_type": "stream",
     "text": [
      "Found cached dataset americas_nli (/home/samuel/.cache/huggingface/datasets/americas_nli/hch/1.0.0/2f4cd00b49c982fa8827cb332b2a2dbb692aa8a7cd34432fc476efeb7fee375a)\n"
     ]
    },
    {
     "data": {
      "application/vnd.jupyter.widget-view+json": {
       "model_id": "bde9789bcf314f669f973ae2df8e7126",
       "version_major": 2,
       "version_minor": 0
      },
      "text/plain": [
       "  0%|          | 0/2 [00:00<?, ?it/s]"
      ]
     },
     "metadata": {},
     "output_type": "display_data"
    },
    {
     "name": "stderr",
     "output_type": "stream",
     "text": [
      "Found cached dataset americas_nli (/home/samuel/.cache/huggingface/datasets/americas_nli/nah/1.0.0/2f4cd00b49c982fa8827cb332b2a2dbb692aa8a7cd34432fc476efeb7fee375a)\n"
     ]
    },
    {
     "data": {
      "application/vnd.jupyter.widget-view+json": {
       "model_id": "d7315d5fb5ce4e03863acea482a89301",
       "version_major": 2,
       "version_minor": 0
      },
      "text/plain": [
       "  0%|          | 0/2 [00:00<?, ?it/s]"
      ]
     },
     "metadata": {},
     "output_type": "display_data"
    },
    {
     "name": "stderr",
     "output_type": "stream",
     "text": [
      "Found cached dataset americas_nli (/home/samuel/.cache/huggingface/datasets/americas_nli/oto/1.0.0/2f4cd00b49c982fa8827cb332b2a2dbb692aa8a7cd34432fc476efeb7fee375a)\n"
     ]
    },
    {
     "data": {
      "application/vnd.jupyter.widget-view+json": {
       "model_id": "39512057c6a449e487d25564bc42efc4",
       "version_major": 2,
       "version_minor": 0
      },
      "text/plain": [
       "  0%|          | 0/2 [00:00<?, ?it/s]"
      ]
     },
     "metadata": {},
     "output_type": "display_data"
    },
    {
     "name": "stderr",
     "output_type": "stream",
     "text": [
      "Found cached dataset americas_nli (/home/samuel/.cache/huggingface/datasets/americas_nli/quy/1.0.0/2f4cd00b49c982fa8827cb332b2a2dbb692aa8a7cd34432fc476efeb7fee375a)\n"
     ]
    },
    {
     "data": {
      "application/vnd.jupyter.widget-view+json": {
       "model_id": "7b750fc00f86423481f39ac4e44d61f1",
       "version_major": 2,
       "version_minor": 0
      },
      "text/plain": [
       "  0%|          | 0/2 [00:00<?, ?it/s]"
      ]
     },
     "metadata": {},
     "output_type": "display_data"
    },
    {
     "name": "stderr",
     "output_type": "stream",
     "text": [
      "Found cached dataset americas_nli (/home/samuel/.cache/huggingface/datasets/americas_nli/shp/1.0.0/2f4cd00b49c982fa8827cb332b2a2dbb692aa8a7cd34432fc476efeb7fee375a)\n"
     ]
    },
    {
     "data": {
      "application/vnd.jupyter.widget-view+json": {
       "model_id": "49f84cd211bd4fb4b6dd0127fe62f6d9",
       "version_major": 2,
       "version_minor": 0
      },
      "text/plain": [
       "  0%|          | 0/2 [00:00<?, ?it/s]"
      ]
     },
     "metadata": {},
     "output_type": "display_data"
    },
    {
     "name": "stderr",
     "output_type": "stream",
     "text": [
      "Found cached dataset americas_nli (/home/samuel/.cache/huggingface/datasets/americas_nli/tar/1.0.0/2f4cd00b49c982fa8827cb332b2a2dbb692aa8a7cd34432fc476efeb7fee375a)\n"
     ]
    },
    {
     "data": {
      "application/vnd.jupyter.widget-view+json": {
       "model_id": "2e7922316dde464894065755bd87d5d5",
       "version_major": 2,
       "version_minor": 0
      },
      "text/plain": [
       "  0%|          | 0/2 [00:00<?, ?it/s]"
      ]
     },
     "metadata": {},
     "output_type": "display_data"
    },
    {
     "name": "stderr",
     "output_type": "stream",
     "text": [
      "Found cached dataset xnli (/home/samuel/.cache/huggingface/datasets/xnli/es/1.1.0/818164464f9c9fd15776ca8a00423b074344c3e929d00a2c1a84aa5a50c928bd)\n"
     ]
    },
    {
     "data": {
      "application/vnd.jupyter.widget-view+json": {
       "model_id": "9410a083a52e411ab9a3c1218b17509e",
       "version_major": 2,
       "version_minor": 0
      },
      "text/plain": [
       "  0%|          | 0/3 [00:00<?, ?it/s]"
      ]
     },
     "metadata": {},
     "output_type": "display_data"
    },
    {
     "name": "stderr",
     "output_type": "stream",
     "text": [
      "Found cached dataset xnli (/home/samuel/.cache/huggingface/datasets/xnli/en/1.1.0/818164464f9c9fd15776ca8a00423b074344c3e929d00a2c1a84aa5a50c928bd)\n"
     ]
    },
    {
     "data": {
      "application/vnd.jupyter.widget-view+json": {
       "model_id": "3e5bc328965d41868171277ac13944e8",
       "version_major": 2,
       "version_minor": 0
      },
      "text/plain": [
       "  0%|          | 0/3 [00:00<?, ?it/s]"
      ]
     },
     "metadata": {},
     "output_type": "display_data"
    }
   ],
   "source": [
    "# Tweet Sentiment Multilingual\n",
    "tweet_senti_multi_dset = {\n",
    "\t\"eng\": load_dataset(\"cardiffnlp/tweet_sentiment_multilingual\", name=\"english\"),\n",
    "\t\"arb\": load_dataset(\"cardiffnlp/tweet_sentiment_multilingual\", name=\"arabic\"),\n",
    "\t\"fra\": load_dataset(\"cardiffnlp/tweet_sentiment_multilingual\", name=\"french\"),\n",
    "\t\"deu\": load_dataset(\"cardiffnlp/tweet_sentiment_multilingual\", name=\"german\"),\n",
    "\t\"hin\": load_dataset(\"cardiffnlp/tweet_sentiment_multilingual\", name=\"hindi\"),\n",
    "\t\"ita\": load_dataset(\"cardiffnlp/tweet_sentiment_multilingual\", name=\"italian\"),\n",
    "\t\"por\": load_dataset(\"cardiffnlp/tweet_sentiment_multilingual\", name=\"portuguese\"),\n",
    "\t\"spa\": load_dataset(\"cardiffnlp/tweet_sentiment_multilingual\", name=\"spanish\"),\n",
    "}\n",
    "\n",
    "# NusaTranslation Senti\n",
    "nt_senti_dset = {\n",
    "\t\"btk\": load_dataset(\"indonlp/nusatranslation_senti\", name=\"nusatranslation_senti_btk_nusantara_text\"),\n",
    "\t\"sun\": load_dataset(\"indonlp/nusatranslation_senti\", name=\"nusatranslation_senti_sun_nusantara_text\"),\n",
    "\t\"jav\": load_dataset(\"indonlp/nusatranslation_senti\", name=\"nusatranslation_senti_jav_nusantara_text\"),\n",
    "\t\"mad\": load_dataset(\"indonlp/nusatranslation_senti\", name=\"nusatranslation_senti_mad_nusantara_text\"),\n",
    "\t\"mak\": load_dataset(\"indonlp/nusatranslation_senti\", name=\"nusatranslation_senti_mak_nusantara_text\"),\n",
    "\t\"min\": load_dataset(\"indonlp/nusatranslation_senti\", name=\"nusatranslation_senti_min_nusantara_text\"),\n",
    "}\n",
    "\n",
    "# NusaTranslation MT\n",
    "nt_mt_dset = {\n",
    "\t\"btk\": load_dataset(\"indonlp/nusatranslation_mt\", name=\"nusatranslation_mt_btk_ind_nusantara_t2t\"),\n",
    "\t\"sun\": load_dataset(\"indonlp/nusatranslation_mt\", name=\"nusatranslation_mt_sun_ind_nusantara_t2t\"),\n",
    "\t\"jav\": load_dataset(\"indonlp/nusatranslation_mt\", name=\"nusatranslation_mt_jav_ind_nusantara_t2t\"),\n",
    "\t\"mad\": load_dataset(\"indonlp/nusatranslation_mt\", name=\"nusatranslation_mt_mad_ind_nusantara_t2t\"),\n",
    "\t\"mak\": load_dataset(\"indonlp/nusatranslation_mt\", name=\"nusatranslation_mt_mak_ind_nusantara_t2t\"),\n",
    "\t\"min\": load_dataset(\"indonlp/nusatranslation_mt\", name=\"nusatranslation_mt_min_ind_nusantara_t2t\"),\n",
    "}\n",
    "\n",
    "# NusaX Senti\n",
    "nusax_senti_dset = {\n",
    "\t\"btk\": load_dataset(\"indonlp/NusaX-senti\", name=\"bbc\"),\n",
    "\t\"sun\": load_dataset(\"indonlp/NusaX-senti\", name=\"sun\"),\n",
    "\t\"jav\": load_dataset(\"indonlp/NusaX-senti\", name=\"jav\"),\n",
    "\t\"mad\": load_dataset(\"indonlp/NusaX-senti\", name=\"mad\"),\n",
    "\t\"mak\": load_dataset(\"indonlp/NusaX-senti\", name=\"bug\"),\n",
    "\t\"min\": load_dataset(\"indonlp/NusaX-senti\", name=\"min\"),\n",
    "\t\"ind\": load_dataset(\"indonlp/NusaX-senti\", name=\"ind\"), # For X-ICL\n",
    "\t\"eng\": load_dataset(\"indonlp/NusaX-senti\", name=\"eng\"), # For X-ICL\n",
    "}\n",
    "\n",
    "# NusaX MT ind\n",
    "nusax_mt_ind_dset = {\n",
    "\t\"btk\": load_dataset(\"indonlp/NusaX-MT\", name=\"bbc-ind\"), # For IIA\n",
    "\t\"sun\": load_dataset(\"indonlp/NusaX-MT\", name=\"sun-ind\"), # For IIA\n",
    "\t\"jav\": load_dataset(\"indonlp/NusaX-MT\", name=\"jav-ind\"), # For IIA\n",
    "\t\"mad\": load_dataset(\"indonlp/NusaX-MT\", name=\"mad-ind\"), # For IIA\n",
    "\t\"mak\": load_dataset(\"indonlp/NusaX-MT\", name=\"bug-ind\"), # For IIA\n",
    "\t\"min\": load_dataset(\"indonlp/NusaX-MT\", name=\"min-ind\"), # For IIA\n",
    "}\n",
    "\n",
    "# NusaX MT eng (Extended experiment)\n",
    "nusax_mt_eng_dset = {\n",
    "\t\"btk\": load_dataset(\"indonlp/NusaX-MT\", name=\"bbc-eng\"), # For IIA\n",
    "\t\"sun\": load_dataset(\"indonlp/NusaX-MT\", name=\"sun-eng\"), # For IIA\n",
    "\t\"jav\": load_dataset(\"indonlp/NusaX-MT\", name=\"jav-eng\"), # For IIA\n",
    "\t\"mad\": load_dataset(\"indonlp/NusaX-MT\", name=\"mad-eng\"), # For IIA\n",
    "\t\"mak\": load_dataset(\"indonlp/NusaX-MT\", name=\"bug-eng\"), # For IIA\n",
    "\t\"min\": load_dataset(\"indonlp/NusaX-MT\", name=\"min-eng\"), # For IIA\n",
    "}\n",
    "\n",
    "# MasakhaNews\n",
    "masakhanews_dset = {\n",
    "\t\"amh\": load_dataset(\"masakhane/masakhanews\", name=\"amh\"),\n",
    "\t\"hau\": load_dataset(\"masakhane/masakhanews\", name=\"hau\"),\n",
    "\t\"ibo\": load_dataset(\"masakhane/masakhanews\", name=\"ibo\"),\n",
    "\t\"lug\": load_dataset(\"masakhane/masakhanews\", name=\"lug\"),\n",
    "\t\"pcm\": load_dataset(\"masakhane/masakhanews\", name=\"pcm\"),\n",
    "\t\"sna\": load_dataset(\"masakhane/masakhanews\", name=\"sna\"),\n",
    "\t\"swa\": load_dataset(\"masakhane/masakhanews\", name=\"swa\"),\n",
    "\t\"xho\": load_dataset(\"masakhane/masakhanews\", name=\"xho\"),\n",
    "\t\"yor\": load_dataset(\"masakhane/masakhanews\", name=\"yor\"),\n",
    "\t\"eng\": load_dataset(\"masakhane/masakhanews\", name=\"eng\"), # For X-ICL\n",
    "}\n",
    "\n",
    "# MAFAND\n",
    "mafand_dset = {\n",
    "\t\"amh\": load_dataset(\"masakhane/mafand\", name=\"en-amh\"), # For IIA\n",
    "\t\"hau\": load_dataset(\"masakhane/mafand\", name=\"en-hau\"), # For IIA\n",
    "\t\"ibo\": load_dataset(\"masakhane/mafand\", name=\"en-ibo\"), # For IIA\n",
    "\t\"lug\": load_dataset(\"masakhane/mafand\", name=\"en-lug\"), # For IIA\n",
    "\t\"pcm\": load_dataset(\"masakhane/mafand\", name=\"en-pcm\"), # For IIA\n",
    "\t\"sna\": load_dataset(\"masakhane/mafand\", name=\"en-sna\"), # For IIA\n",
    "\t\"swa\": load_dataset(\"masakhane/mafand\", name=\"en-swa\"), # For IIA\n",
    "\t\"xho\": load_dataset(\"masakhane/mafand\", name=\"en-xho\"), # For IIA\n",
    "\t\"yor\": load_dataset(\"masakhane/mafand\", name=\"en-yor\"), # For IIA\n",
    "}\n",
    "\n",
    "# AmericasNLI\n",
    "americasnli_dset = {\n",
    "\t\"aym\": load_dataset(\"americas_nli\", name=\"aym\"),\n",
    "\t\"bzd\": load_dataset(\"americas_nli\", name=\"bzd\"),\n",
    "\t\"cni\": load_dataset(\"americas_nli\", name=\"cni\"),\n",
    "\t\"gn\": load_dataset(\"americas_nli\", name=\"gn\"),\n",
    "\t\"hch\": load_dataset(\"americas_nli\", name=\"hch\"),\n",
    "\t\"nah\": load_dataset(\"americas_nli\", name=\"nah\"),\n",
    "\t\"oto\": load_dataset(\"americas_nli\", name=\"oto\"),\n",
    "\t\"quy\": load_dataset(\"americas_nli\", name=\"quy\"),\n",
    "\t\"shp\": load_dataset(\"americas_nli\", name=\"shp\"),\n",
    "\t\"tar\": load_dataset(\"americas_nli\", name=\"tar\"),\n",
    "}\n",
    "\n",
    "# XNLI\n",
    "xnli_spa_dset = load_dataset(\"xnli\", name=\"es\") # For X-ICL\n",
    "xnli_eng_dset = load_dataset(\"xnli\", name=\"en\") # For X-ICL"
   ]
  },
  {
   "cell_type": "markdown",
   "id": "046006c2-fc6d-4667-b731-dc2b6a1ed104",
   "metadata": {},
   "source": [
    "# Standardize Dataset"
   ]
  },
  {
   "cell_type": "markdown",
   "id": "d1e76ea2-4a43-44a7-8588-61463aa32a3d",
   "metadata": {},
   "source": [
    "### NLU Dataset"
   ]
  },
  {
   "cell_type": "code",
   "execution_count": 3,
   "id": "764f32ee-e1e8-4878-bb67-6b80d440b3ad",
   "metadata": {},
   "outputs": [],
   "source": [
    "save_path = '.'\n",
    "\n",
    "def label2str(row, dset):\n",
    "    row['str_label'] = dset.features['label'].int2str(row['label'])\n",
    "    return row\n",
    "\n",
    "# Americas NLI\n",
    "anli_label_map = {\n",
    "    'entailment': 'vinculación',\n",
    "    'neutral': 'neutral',\n",
    "    'contradiction': 'contradicción'\n",
    "}\n",
    "\n",
    "nt_label_map = {\n",
    "    'positive': 'positif',\n",
    "    'neutral': 'netral',\n",
    "    'negative': 'negatif',\n",
    "}\n",
    "\n",
    "def label_eng2spa(row):\n",
    "    row['label'] = anli_label_map[row['label']]\n",
    "    return row\n",
    "\n",
    "def label_eng2ind(row):\n",
    "    row['label'] = nt_label_map[row['label']]\n",
    "    return row"
   ]
  },
  {
   "cell_type": "code",
   "execution_count": 4,
   "id": "c5d4369c-91ca-4ea7-8da7-7781585286c4",
   "metadata": {
    "scrolled": true,
    "tags": []
   },
   "outputs": [
    {
     "name": "stderr",
     "output_type": "stream",
     "text": [
      "Loading cached processed dataset at /home/samuel/.cache/huggingface/datasets/cardiffnlp___tweet_sentiment_multilingual/english/0.1.0/936afd3cde120393429606f681b3b48d526873c45114068973f71e296ce80605/cache-235e87bb67b341d6.arrow\n",
      "Loading cached processed dataset at /home/samuel/.cache/huggingface/datasets/cardiffnlp___tweet_sentiment_multilingual/arabic/0.1.0/936afd3cde120393429606f681b3b48d526873c45114068973f71e296ce80605/cache-293da8dd76976129.arrow\n",
      "Loading cached processed dataset at /home/samuel/.cache/huggingface/datasets/cardiffnlp___tweet_sentiment_multilingual/french/0.1.0/936afd3cde120393429606f681b3b48d526873c45114068973f71e296ce80605/cache-5d058ffd14da21a6.arrow\n",
      "Loading cached processed dataset at /home/samuel/.cache/huggingface/datasets/cardiffnlp___tweet_sentiment_multilingual/german/0.1.0/936afd3cde120393429606f681b3b48d526873c45114068973f71e296ce80605/cache-05ca7e6712ccbd42.arrow\n",
      "Loading cached processed dataset at /home/samuel/.cache/huggingface/datasets/cardiffnlp___tweet_sentiment_multilingual/hindi/0.1.0/936afd3cde120393429606f681b3b48d526873c45114068973f71e296ce80605/cache-e10a1a54fe3c2efb.arrow\n",
      "Loading cached processed dataset at /home/samuel/.cache/huggingface/datasets/cardiffnlp___tweet_sentiment_multilingual/italian/0.1.0/936afd3cde120393429606f681b3b48d526873c45114068973f71e296ce80605/cache-0ec7db3718d59f3e.arrow\n",
      "Loading cached processed dataset at /home/samuel/.cache/huggingface/datasets/cardiffnlp___tweet_sentiment_multilingual/portuguese/0.1.0/936afd3cde120393429606f681b3b48d526873c45114068973f71e296ce80605/cache-9d31db2dcc37f94f.arrow\n",
      "Loading cached processed dataset at /home/samuel/.cache/huggingface/datasets/cardiffnlp___tweet_sentiment_multilingual/spanish/0.1.0/936afd3cde120393429606f681b3b48d526873c45114068973f71e296ce80605/cache-c67089008e3f04c0.arrow\n",
      "Loading cached processed dataset at /home/samuel/.cache/huggingface/datasets/indonlp___nusatranslation_senti/nusatranslation_senti_btk_nusantara_text/1.0.0/84380b9fe1509e8d8d8c7c3c6d475f39181456c63a2fad48e88ceb95a642c952/cache-8b0f3cb6b69eb960.arrow\n",
      "Loading cached processed dataset at /home/samuel/.cache/huggingface/datasets/indonlp___nusatranslation_senti/nusatranslation_senti_sun_nusantara_text/1.0.0/84380b9fe1509e8d8d8c7c3c6d475f39181456c63a2fad48e88ceb95a642c952/cache-bbe06556917ad23b.arrow\n",
      "Loading cached processed dataset at /home/samuel/.cache/huggingface/datasets/indonlp___nusatranslation_senti/nusatranslation_senti_jav_nusantara_text/1.0.0/84380b9fe1509e8d8d8c7c3c6d475f39181456c63a2fad48e88ceb95a642c952/cache-6609dc0983576d6d.arrow\n",
      "Loading cached processed dataset at /home/samuel/.cache/huggingface/datasets/indonlp___nusatranslation_senti/nusatranslation_senti_mad_nusantara_text/1.0.0/84380b9fe1509e8d8d8c7c3c6d475f39181456c63a2fad48e88ceb95a642c952/cache-c73da4161b1d4e57.arrow\n",
      "Loading cached processed dataset at /home/samuel/.cache/huggingface/datasets/indonlp___nusatranslation_senti/nusatranslation_senti_mak_nusantara_text/1.0.0/84380b9fe1509e8d8d8c7c3c6d475f39181456c63a2fad48e88ceb95a642c952/cache-949baf167e487d4d.arrow\n",
      "Loading cached processed dataset at /home/samuel/.cache/huggingface/datasets/indonlp___nusatranslation_senti/nusatranslation_senti_min_nusantara_text/1.0.0/84380b9fe1509e8d8d8c7c3c6d475f39181456c63a2fad48e88ceb95a642c952/cache-a79a8224ad3d711c.arrow\n",
      "Loading cached processed dataset at /home/samuel/.cache/huggingface/datasets/masakhane___masakhanews/amh/1.0.0/c60334474cec1d13c0c3018e138cd8b60bc6443fa5e25258d65d990b2498403f/cache-f316afe52c5f2c48.arrow\n",
      "Loading cached processed dataset at /home/samuel/.cache/huggingface/datasets/masakhane___masakhanews/hau/1.0.0/c60334474cec1d13c0c3018e138cd8b60bc6443fa5e25258d65d990b2498403f/cache-3debf94ea3da75d0.arrow\n",
      "Loading cached processed dataset at /home/samuel/.cache/huggingface/datasets/masakhane___masakhanews/ibo/1.0.0/c60334474cec1d13c0c3018e138cd8b60bc6443fa5e25258d65d990b2498403f/cache-bbac7ce221c037b5.arrow\n",
      "Loading cached processed dataset at /home/samuel/.cache/huggingface/datasets/masakhane___masakhanews/lug/1.0.0/c60334474cec1d13c0c3018e138cd8b60bc6443fa5e25258d65d990b2498403f/cache-99badc5a8535bbe2.arrow\n",
      "Loading cached processed dataset at /home/samuel/.cache/huggingface/datasets/masakhane___masakhanews/pcm/1.0.0/c60334474cec1d13c0c3018e138cd8b60bc6443fa5e25258d65d990b2498403f/cache-e3487ec0b72fa339.arrow\n",
      "Loading cached processed dataset at /home/samuel/.cache/huggingface/datasets/masakhane___masakhanews/sna/1.0.0/c60334474cec1d13c0c3018e138cd8b60bc6443fa5e25258d65d990b2498403f/cache-66d99f4399ff2df9.arrow\n",
      "Loading cached processed dataset at /home/samuel/.cache/huggingface/datasets/masakhane___masakhanews/swa/1.0.0/c60334474cec1d13c0c3018e138cd8b60bc6443fa5e25258d65d990b2498403f/cache-b9954d0282cbbd8b.arrow\n",
      "Loading cached processed dataset at /home/samuel/.cache/huggingface/datasets/masakhane___masakhanews/xho/1.0.0/c60334474cec1d13c0c3018e138cd8b60bc6443fa5e25258d65d990b2498403f/cache-0989eab587c7d77d.arrow\n",
      "Loading cached processed dataset at /home/samuel/.cache/huggingface/datasets/masakhane___masakhanews/yor/1.0.0/c60334474cec1d13c0c3018e138cd8b60bc6443fa5e25258d65d990b2498403f/cache-9f225849ecb81d97.arrow\n",
      "Loading cached processed dataset at /home/samuel/.cache/huggingface/datasets/masakhane___masakhanews/eng/1.0.0/c60334474cec1d13c0c3018e138cd8b60bc6443fa5e25258d65d990b2498403f/cache-f4fd33872f44e572.arrow\n",
      "Loading cached processed dataset at /home/samuel/.cache/huggingface/datasets/americas_nli/aym/1.0.0/2f4cd00b49c982fa8827cb332b2a2dbb692aa8a7cd34432fc476efeb7fee375a/cache-b44f876647388c0d.arrow\n",
      "Loading cached processed dataset at /home/samuel/.cache/huggingface/datasets/americas_nli/bzd/1.0.0/2f4cd00b49c982fa8827cb332b2a2dbb692aa8a7cd34432fc476efeb7fee375a/cache-e5f59f5397a9438e.arrow\n",
      "Loading cached processed dataset at /home/samuel/.cache/huggingface/datasets/americas_nli/cni/1.0.0/2f4cd00b49c982fa8827cb332b2a2dbb692aa8a7cd34432fc476efeb7fee375a/cache-7664cce35cb6cae5.arrow\n",
      "Loading cached processed dataset at /home/samuel/.cache/huggingface/datasets/americas_nli/gn/1.0.0/2f4cd00b49c982fa8827cb332b2a2dbb692aa8a7cd34432fc476efeb7fee375a/cache-930d5f29f42639ad.arrow\n",
      "Loading cached processed dataset at /home/samuel/.cache/huggingface/datasets/americas_nli/hch/1.0.0/2f4cd00b49c982fa8827cb332b2a2dbb692aa8a7cd34432fc476efeb7fee375a/cache-f96a92443ef38c3c.arrow\n",
      "Loading cached processed dataset at /home/samuel/.cache/huggingface/datasets/americas_nli/nah/1.0.0/2f4cd00b49c982fa8827cb332b2a2dbb692aa8a7cd34432fc476efeb7fee375a/cache-256ce6d453554f91.arrow\n",
      "Loading cached processed dataset at /home/samuel/.cache/huggingface/datasets/americas_nli/oto/1.0.0/2f4cd00b49c982fa8827cb332b2a2dbb692aa8a7cd34432fc476efeb7fee375a/cache-a04e0b8e1a5f670c.arrow\n",
      "Loading cached processed dataset at /home/samuel/.cache/huggingface/datasets/americas_nli/quy/1.0.0/2f4cd00b49c982fa8827cb332b2a2dbb692aa8a7cd34432fc476efeb7fee375a/cache-4ea139bc0193ba9c.arrow\n",
      "Loading cached processed dataset at /home/samuel/.cache/huggingface/datasets/americas_nli/shp/1.0.0/2f4cd00b49c982fa8827cb332b2a2dbb692aa8a7cd34432fc476efeb7fee375a/cache-5d89eb22a025c6aa.arrow\n",
      "Loading cached processed dataset at /home/samuel/.cache/huggingface/datasets/americas_nli/tar/1.0.0/2f4cd00b49c982fa8827cb332b2a2dbb692aa8a7cd34432fc476efeb7fee375a/cache-27540f6274d82f89.arrow\n",
      "Loading cached processed dataset at /home/samuel/.cache/huggingface/datasets/americas_nli/aym/1.0.0/2f4cd00b49c982fa8827cb332b2a2dbb692aa8a7cd34432fc476efeb7fee375a/cache-79382cd27045f701.arrow\n",
      "Loading cached processed dataset at /home/samuel/.cache/huggingface/datasets/americas_nli/bzd/1.0.0/2f4cd00b49c982fa8827cb332b2a2dbb692aa8a7cd34432fc476efeb7fee375a/cache-a199249aa7b6a9cf.arrow\n",
      "Loading cached processed dataset at /home/samuel/.cache/huggingface/datasets/americas_nli/cni/1.0.0/2f4cd00b49c982fa8827cb332b2a2dbb692aa8a7cd34432fc476efeb7fee375a/cache-f2c263f265f46e17.arrow\n",
      "Loading cached processed dataset at /home/samuel/.cache/huggingface/datasets/americas_nli/gn/1.0.0/2f4cd00b49c982fa8827cb332b2a2dbb692aa8a7cd34432fc476efeb7fee375a/cache-d7c96439d78c741d.arrow\n",
      "Loading cached processed dataset at /home/samuel/.cache/huggingface/datasets/americas_nli/hch/1.0.0/2f4cd00b49c982fa8827cb332b2a2dbb692aa8a7cd34432fc476efeb7fee375a/cache-1b895a89d2b1fcc3.arrow\n",
      "Loading cached processed dataset at /home/samuel/.cache/huggingface/datasets/americas_nli/nah/1.0.0/2f4cd00b49c982fa8827cb332b2a2dbb692aa8a7cd34432fc476efeb7fee375a/cache-8b8330cb6994ccd2.arrow\n",
      "Loading cached processed dataset at /home/samuel/.cache/huggingface/datasets/americas_nli/oto/1.0.0/2f4cd00b49c982fa8827cb332b2a2dbb692aa8a7cd34432fc476efeb7fee375a/cache-72eda1406982e902.arrow\n",
      "Loading cached processed dataset at /home/samuel/.cache/huggingface/datasets/americas_nli/quy/1.0.0/2f4cd00b49c982fa8827cb332b2a2dbb692aa8a7cd34432fc476efeb7fee375a/cache-5c266b8c7d3689fd.arrow\n",
      "Loading cached processed dataset at /home/samuel/.cache/huggingface/datasets/americas_nli/shp/1.0.0/2f4cd00b49c982fa8827cb332b2a2dbb692aa8a7cd34432fc476efeb7fee375a/cache-da82a2b6ce68340e.arrow\n",
      "Loading cached processed dataset at /home/samuel/.cache/huggingface/datasets/americas_nli/tar/1.0.0/2f4cd00b49c982fa8827cb332b2a2dbb692aa8a7cd34432fc476efeb7fee375a/cache-5de8cbb71db7b6f1.arrow\n",
      "Loading cached processed dataset at /home/samuel/.cache/huggingface/datasets/americas_nli/aym/1.0.0/2f4cd00b49c982fa8827cb332b2a2dbb692aa8a7cd34432fc476efeb7fee375a/cache-b44f876647388c0d.arrow\n",
      "Loading cached processed dataset at /home/samuel/.cache/huggingface/datasets/americas_nli/bzd/1.0.0/2f4cd00b49c982fa8827cb332b2a2dbb692aa8a7cd34432fc476efeb7fee375a/cache-e5f59f5397a9438e.arrow\n",
      "Loading cached processed dataset at /home/samuel/.cache/huggingface/datasets/americas_nli/cni/1.0.0/2f4cd00b49c982fa8827cb332b2a2dbb692aa8a7cd34432fc476efeb7fee375a/cache-7664cce35cb6cae5.arrow\n",
      "Loading cached processed dataset at /home/samuel/.cache/huggingface/datasets/americas_nli/gn/1.0.0/2f4cd00b49c982fa8827cb332b2a2dbb692aa8a7cd34432fc476efeb7fee375a/cache-930d5f29f42639ad.arrow\n",
      "Loading cached processed dataset at /home/samuel/.cache/huggingface/datasets/americas_nli/hch/1.0.0/2f4cd00b49c982fa8827cb332b2a2dbb692aa8a7cd34432fc476efeb7fee375a/cache-f96a92443ef38c3c.arrow\n",
      "Loading cached processed dataset at /home/samuel/.cache/huggingface/datasets/americas_nli/nah/1.0.0/2f4cd00b49c982fa8827cb332b2a2dbb692aa8a7cd34432fc476efeb7fee375a/cache-256ce6d453554f91.arrow\n",
      "Loading cached processed dataset at /home/samuel/.cache/huggingface/datasets/americas_nli/oto/1.0.0/2f4cd00b49c982fa8827cb332b2a2dbb692aa8a7cd34432fc476efeb7fee375a/cache-a04e0b8e1a5f670c.arrow\n",
      "Loading cached processed dataset at /home/samuel/.cache/huggingface/datasets/americas_nli/quy/1.0.0/2f4cd00b49c982fa8827cb332b2a2dbb692aa8a7cd34432fc476efeb7fee375a/cache-4ea139bc0193ba9c.arrow\n",
      "Loading cached processed dataset at /home/samuel/.cache/huggingface/datasets/americas_nli/shp/1.0.0/2f4cd00b49c982fa8827cb332b2a2dbb692aa8a7cd34432fc476efeb7fee375a/cache-5d89eb22a025c6aa.arrow\n",
      "Loading cached processed dataset at /home/samuel/.cache/huggingface/datasets/americas_nli/tar/1.0.0/2f4cd00b49c982fa8827cb332b2a2dbb692aa8a7cd34432fc476efeb7fee375a/cache-27540f6274d82f89.arrow\n"
     ]
    },
    {
     "data": {
      "application/vnd.jupyter.widget-view+json": {
       "model_id": "",
       "version_major": 2,
       "version_minor": 0
      },
      "text/plain": [
       "Saving the dataset (0/1 shards):   0%|          | 0/870 [00:00<?, ? examples/s]"
      ]
     },
     "metadata": {},
     "output_type": "display_data"
    },
    {
     "data": {
      "application/vnd.jupyter.widget-view+json": {
       "model_id": "",
       "version_major": 2,
       "version_minor": 0
      },
      "text/plain": [
       "Saving the dataset (0/1 shards):   0%|          | 0/870 [00:00<?, ? examples/s]"
      ]
     },
     "metadata": {},
     "output_type": "display_data"
    },
    {
     "data": {
      "application/vnd.jupyter.widget-view+json": {
       "model_id": "",
       "version_major": 2,
       "version_minor": 0
      },
      "text/plain": [
       "Saving the dataset (0/1 shards):   0%|          | 0/870 [00:00<?, ? examples/s]"
      ]
     },
     "metadata": {},
     "output_type": "display_data"
    },
    {
     "data": {
      "application/vnd.jupyter.widget-view+json": {
       "model_id": "",
       "version_major": 2,
       "version_minor": 0
      },
      "text/plain": [
       "Saving the dataset (0/1 shards):   0%|          | 0/870 [00:00<?, ? examples/s]"
      ]
     },
     "metadata": {},
     "output_type": "display_data"
    },
    {
     "data": {
      "application/vnd.jupyter.widget-view+json": {
       "model_id": "",
       "version_major": 2,
       "version_minor": 0
      },
      "text/plain": [
       "Saving the dataset (0/1 shards):   0%|          | 0/870 [00:00<?, ? examples/s]"
      ]
     },
     "metadata": {},
     "output_type": "display_data"
    },
    {
     "data": {
      "application/vnd.jupyter.widget-view+json": {
       "model_id": "",
       "version_major": 2,
       "version_minor": 0
      },
      "text/plain": [
       "Saving the dataset (0/1 shards):   0%|          | 0/870 [00:00<?, ? examples/s]"
      ]
     },
     "metadata": {},
     "output_type": "display_data"
    },
    {
     "data": {
      "application/vnd.jupyter.widget-view+json": {
       "model_id": "",
       "version_major": 2,
       "version_minor": 0
      },
      "text/plain": [
       "Saving the dataset (0/1 shards):   0%|          | 0/870 [00:00<?, ? examples/s]"
      ]
     },
     "metadata": {},
     "output_type": "display_data"
    },
    {
     "data": {
      "application/vnd.jupyter.widget-view+json": {
       "model_id": "",
       "version_major": 2,
       "version_minor": 0
      },
      "text/plain": [
       "Saving the dataset (0/1 shards):   0%|          | 0/870 [00:00<?, ? examples/s]"
      ]
     },
     "metadata": {},
     "output_type": "display_data"
    },
    {
     "data": {
      "application/vnd.jupyter.widget-view+json": {
       "model_id": "",
       "version_major": 2,
       "version_minor": 0
      },
      "text/plain": [
       "Saving the dataset (0/1 shards):   0%|          | 0/1200 [00:00<?, ? examples/s]"
      ]
     },
     "metadata": {},
     "output_type": "display_data"
    },
    {
     "data": {
      "application/vnd.jupyter.widget-view+json": {
       "model_id": "",
       "version_major": 2,
       "version_minor": 0
      },
      "text/plain": [
       "Saving the dataset (0/1 shards):   0%|          | 0/1200 [00:00<?, ? examples/s]"
      ]
     },
     "metadata": {},
     "output_type": "display_data"
    },
    {
     "data": {
      "application/vnd.jupyter.widget-view+json": {
       "model_id": "",
       "version_major": 2,
       "version_minor": 0
      },
      "text/plain": [
       "Saving the dataset (0/1 shards):   0%|          | 0/1200 [00:00<?, ? examples/s]"
      ]
     },
     "metadata": {},
     "output_type": "display_data"
    },
    {
     "data": {
      "application/vnd.jupyter.widget-view+json": {
       "model_id": "",
       "version_major": 2,
       "version_minor": 0
      },
      "text/plain": [
       "Saving the dataset (0/1 shards):   0%|          | 0/1200 [00:00<?, ? examples/s]"
      ]
     },
     "metadata": {},
     "output_type": "display_data"
    },
    {
     "data": {
      "application/vnd.jupyter.widget-view+json": {
       "model_id": "",
       "version_major": 2,
       "version_minor": 0
      },
      "text/plain": [
       "Saving the dataset (0/1 shards):   0%|          | 0/1200 [00:00<?, ? examples/s]"
      ]
     },
     "metadata": {},
     "output_type": "display_data"
    },
    {
     "data": {
      "application/vnd.jupyter.widget-view+json": {
       "model_id": "",
       "version_major": 2,
       "version_minor": 0
      },
      "text/plain": [
       "Saving the dataset (0/1 shards):   0%|          | 0/1200 [00:00<?, ? examples/s]"
      ]
     },
     "metadata": {},
     "output_type": "display_data"
    },
    {
     "data": {
      "application/vnd.jupyter.widget-view+json": {
       "model_id": "",
       "version_major": 2,
       "version_minor": 0
      },
      "text/plain": [
       "Saving the dataset (0/1 shards):   0%|          | 0/376 [00:00<?, ? examples/s]"
      ]
     },
     "metadata": {},
     "output_type": "display_data"
    },
    {
     "data": {
      "application/vnd.jupyter.widget-view+json": {
       "model_id": "",
       "version_major": 2,
       "version_minor": 0
      },
      "text/plain": [
       "Saving the dataset (0/1 shards):   0%|          | 0/637 [00:00<?, ? examples/s]"
      ]
     },
     "metadata": {},
     "output_type": "display_data"
    },
    {
     "data": {
      "application/vnd.jupyter.widget-view+json": {
       "model_id": "",
       "version_major": 2,
       "version_minor": 0
      },
      "text/plain": [
       "Saving the dataset (0/1 shards):   0%|          | 0/390 [00:00<?, ? examples/s]"
      ]
     },
     "metadata": {},
     "output_type": "display_data"
    },
    {
     "data": {
      "application/vnd.jupyter.widget-view+json": {
       "model_id": "",
       "version_major": 2,
       "version_minor": 0
      },
      "text/plain": [
       "Saving the dataset (0/1 shards):   0%|          | 0/223 [00:00<?, ? examples/s]"
      ]
     },
     "metadata": {},
     "output_type": "display_data"
    },
    {
     "data": {
      "application/vnd.jupyter.widget-view+json": {
       "model_id": "",
       "version_major": 2,
       "version_minor": 0
      },
      "text/plain": [
       "Saving the dataset (0/1 shards):   0%|          | 0/305 [00:00<?, ? examples/s]"
      ]
     },
     "metadata": {},
     "output_type": "display_data"
    },
    {
     "data": {
      "application/vnd.jupyter.widget-view+json": {
       "model_id": "",
       "version_major": 2,
       "version_minor": 0
      },
      "text/plain": [
       "Saving the dataset (0/1 shards):   0%|          | 0/369 [00:00<?, ? examples/s]"
      ]
     },
     "metadata": {},
     "output_type": "display_data"
    },
    {
     "data": {
      "application/vnd.jupyter.widget-view+json": {
       "model_id": "",
       "version_major": 2,
       "version_minor": 0
      },
      "text/plain": [
       "Saving the dataset (0/1 shards):   0%|          | 0/476 [00:00<?, ? examples/s]"
      ]
     },
     "metadata": {},
     "output_type": "display_data"
    },
    {
     "data": {
      "application/vnd.jupyter.widget-view+json": {
       "model_id": "",
       "version_major": 2,
       "version_minor": 0
      },
      "text/plain": [
       "Saving the dataset (0/1 shards):   0%|          | 0/297 [00:00<?, ? examples/s]"
      ]
     },
     "metadata": {},
     "output_type": "display_data"
    },
    {
     "data": {
      "application/vnd.jupyter.widget-view+json": {
       "model_id": "",
       "version_major": 2,
       "version_minor": 0
      },
      "text/plain": [
       "Saving the dataset (0/1 shards):   0%|          | 0/411 [00:00<?, ? examples/s]"
      ]
     },
     "metadata": {},
     "output_type": "display_data"
    },
    {
     "data": {
      "application/vnd.jupyter.widget-view+json": {
       "model_id": "",
       "version_major": 2,
       "version_minor": 0
      },
      "text/plain": [
       "Saving the dataset (0/1 shards):   0%|          | 0/948 [00:00<?, ? examples/s]"
      ]
     },
     "metadata": {},
     "output_type": "display_data"
    },
    {
     "data": {
      "application/vnd.jupyter.widget-view+json": {
       "model_id": "",
       "version_major": 2,
       "version_minor": 0
      },
      "text/plain": [
       "Saving the dataset (0/1 shards):   0%|          | 0/750 [00:00<?, ? examples/s]"
      ]
     },
     "metadata": {},
     "output_type": "display_data"
    },
    {
     "data": {
      "application/vnd.jupyter.widget-view+json": {
       "model_id": "",
       "version_major": 2,
       "version_minor": 0
      },
      "text/plain": [
       "Saving the dataset (0/1 shards):   0%|          | 0/750 [00:00<?, ? examples/s]"
      ]
     },
     "metadata": {},
     "output_type": "display_data"
    },
    {
     "data": {
      "application/vnd.jupyter.widget-view+json": {
       "model_id": "",
       "version_major": 2,
       "version_minor": 0
      },
      "text/plain": [
       "Saving the dataset (0/1 shards):   0%|          | 0/750 [00:00<?, ? examples/s]"
      ]
     },
     "metadata": {},
     "output_type": "display_data"
    },
    {
     "data": {
      "application/vnd.jupyter.widget-view+json": {
       "model_id": "",
       "version_major": 2,
       "version_minor": 0
      },
      "text/plain": [
       "Saving the dataset (0/1 shards):   0%|          | 0/750 [00:00<?, ? examples/s]"
      ]
     },
     "metadata": {},
     "output_type": "display_data"
    },
    {
     "data": {
      "application/vnd.jupyter.widget-view+json": {
       "model_id": "",
       "version_major": 2,
       "version_minor": 0
      },
      "text/plain": [
       "Saving the dataset (0/1 shards):   0%|          | 0/750 [00:00<?, ? examples/s]"
      ]
     },
     "metadata": {},
     "output_type": "display_data"
    },
    {
     "data": {
      "application/vnd.jupyter.widget-view+json": {
       "model_id": "",
       "version_major": 2,
       "version_minor": 0
      },
      "text/plain": [
       "Saving the dataset (0/1 shards):   0%|          | 0/738 [00:00<?, ? examples/s]"
      ]
     },
     "metadata": {},
     "output_type": "display_data"
    },
    {
     "data": {
      "application/vnd.jupyter.widget-view+json": {
       "model_id": "",
       "version_major": 2,
       "version_minor": 0
      },
      "text/plain": [
       "Saving the dataset (0/1 shards):   0%|          | 0/748 [00:00<?, ? examples/s]"
      ]
     },
     "metadata": {},
     "output_type": "display_data"
    },
    {
     "data": {
      "application/vnd.jupyter.widget-view+json": {
       "model_id": "",
       "version_major": 2,
       "version_minor": 0
      },
      "text/plain": [
       "Saving the dataset (0/1 shards):   0%|          | 0/750 [00:00<?, ? examples/s]"
      ]
     },
     "metadata": {},
     "output_type": "display_data"
    },
    {
     "data": {
      "application/vnd.jupyter.widget-view+json": {
       "model_id": "",
       "version_major": 2,
       "version_minor": 0
      },
      "text/plain": [
       "Saving the dataset (0/1 shards):   0%|          | 0/750 [00:00<?, ? examples/s]"
      ]
     },
     "metadata": {},
     "output_type": "display_data"
    },
    {
     "data": {
      "application/vnd.jupyter.widget-view+json": {
       "model_id": "",
       "version_major": 2,
       "version_minor": 0
      },
      "text/plain": [
       "Saving the dataset (0/1 shards):   0%|          | 0/750 [00:00<?, ? examples/s]"
      ]
     },
     "metadata": {},
     "output_type": "display_data"
    },
    {
     "data": {
      "application/vnd.jupyter.widget-view+json": {
       "model_id": "",
       "version_major": 2,
       "version_minor": 0
      },
      "text/plain": [
       "Saving the dataset (0/1 shards):   0%|          | 0/750 [00:00<?, ? examples/s]"
      ]
     },
     "metadata": {},
     "output_type": "display_data"
    },
    {
     "data": {
      "application/vnd.jupyter.widget-view+json": {
       "model_id": "",
       "version_major": 2,
       "version_minor": 0
      },
      "text/plain": [
       "Saving the dataset (0/1 shards):   0%|          | 0/750 [00:00<?, ? examples/s]"
      ]
     },
     "metadata": {},
     "output_type": "display_data"
    },
    {
     "data": {
      "application/vnd.jupyter.widget-view+json": {
       "model_id": "",
       "version_major": 2,
       "version_minor": 0
      },
      "text/plain": [
       "Saving the dataset (0/1 shards):   0%|          | 0/750 [00:00<?, ? examples/s]"
      ]
     },
     "metadata": {},
     "output_type": "display_data"
    },
    {
     "data": {
      "application/vnd.jupyter.widget-view+json": {
       "model_id": "",
       "version_major": 2,
       "version_minor": 0
      },
      "text/plain": [
       "Saving the dataset (0/1 shards):   0%|          | 0/750 [00:00<?, ? examples/s]"
      ]
     },
     "metadata": {},
     "output_type": "display_data"
    },
    {
     "data": {
      "application/vnd.jupyter.widget-view+json": {
       "model_id": "",
       "version_major": 2,
       "version_minor": 0
      },
      "text/plain": [
       "Saving the dataset (0/1 shards):   0%|          | 0/750 [00:00<?, ? examples/s]"
      ]
     },
     "metadata": {},
     "output_type": "display_data"
    },
    {
     "data": {
      "application/vnd.jupyter.widget-view+json": {
       "model_id": "",
       "version_major": 2,
       "version_minor": 0
      },
      "text/plain": [
       "Saving the dataset (0/1 shards):   0%|          | 0/738 [00:00<?, ? examples/s]"
      ]
     },
     "metadata": {},
     "output_type": "display_data"
    },
    {
     "data": {
      "application/vnd.jupyter.widget-view+json": {
       "model_id": "",
       "version_major": 2,
       "version_minor": 0
      },
      "text/plain": [
       "Saving the dataset (0/1 shards):   0%|          | 0/748 [00:00<?, ? examples/s]"
      ]
     },
     "metadata": {},
     "output_type": "display_data"
    },
    {
     "data": {
      "application/vnd.jupyter.widget-view+json": {
       "model_id": "",
       "version_major": 2,
       "version_minor": 0
      },
      "text/plain": [
       "Saving the dataset (0/1 shards):   0%|          | 0/750 [00:00<?, ? examples/s]"
      ]
     },
     "metadata": {},
     "output_type": "display_data"
    },
    {
     "data": {
      "application/vnd.jupyter.widget-view+json": {
       "model_id": "",
       "version_major": 2,
       "version_minor": 0
      },
      "text/plain": [
       "Saving the dataset (0/1 shards):   0%|          | 0/750 [00:00<?, ? examples/s]"
      ]
     },
     "metadata": {},
     "output_type": "display_data"
    },
    {
     "data": {
      "application/vnd.jupyter.widget-view+json": {
       "model_id": "",
       "version_major": 2,
       "version_minor": 0
      },
      "text/plain": [
       "Saving the dataset (0/1 shards):   0%|          | 0/750 [00:00<?, ? examples/s]"
      ]
     },
     "metadata": {},
     "output_type": "display_data"
    }
   ],
   "source": [
    "###\n",
    "# Prepare Evaluation Data\n",
    "#\n",
    "# Single-Sentence Classification [text, label]\n",
    "# NLI Classification [premise, hypothesis, label]\n",
    "###\n",
    "\n",
    "# Process Tweet Sentiment Multilingual\n",
    "tweet_senti_multi_dset_clean = {}\n",
    "for key in tweet_senti_multi_dset.keys():\n",
    "    dset = tweet_senti_multi_dset[key]['test']\n",
    "    tweet_senti_multi_dset_clean[key] = dset\n",
    "tweet_senti_multi_dset_clean = datasets.DatasetDict(tweet_senti_multi_dset_clean)\n",
    "tweet_senti_multi_dset_clean = tweet_senti_multi_dset_clean.map(\n",
    "    label2str, remove_columns=['label'], fn_kwargs={\"dset\": nusax_senti_dset['jav']['train']}\n",
    ").rename_columns({'str_label': 'label'})\n",
    "\n",
    "# Process NusaTranslation Senti\n",
    "nt_senti_dset_clean = {}\n",
    "for key in nt_senti_dset.keys():\n",
    "    dset = nt_senti_dset[key]['test'].remove_columns(['id'])\n",
    "    nt_senti_dset_clean[key] = dset\n",
    "nt_senti_dset_clean = datasets.DatasetDict(nt_senti_dset_clean)\n",
    "nt_senti_dset_clean = nt_senti_dset_clean.map(\n",
    "    label2str, remove_columns=['label'], fn_kwargs={\"dset\": nusax_senti_dset['jav']['train']}\n",
    ").rename_columns({'str_label': 'label'})\n",
    "\n",
    "# Process MasakhaNews Senti\n",
    "masakhanews_dset_clean = {}\n",
    "for key in masakhanews_dset.keys():\n",
    "    dset = masakhanews_dset[key]['test'].remove_columns(['text', 'headline_text', 'url'])\n",
    "    dset = dset.rename_columns({'headline': 'text'})\n",
    "    dset = dset.map(\n",
    "        label2str, remove_columns=['label'], fn_kwargs={\"dset\": dset}\n",
    "    ).rename_columns({'str_label': 'label'})\n",
    "    masakhanews_dset_clean[key] = dset\n",
    "masakhanews_dset_clean = datasets.DatasetDict(masakhanews_dset_clean)\n",
    "\n",
    "# Process AmericasNLI Senti Spa\n",
    "americasnli_spa_dset_clean = {}\n",
    "for key in americasnli_dset.keys():\n",
    "    dset = americasnli_dset[key]['test']\n",
    "    americasnli_spa_dset_clean[key] = dset\n",
    "americasnli_spa_dset_clean = datasets.DatasetDict(americasnli_spa_dset_clean)\n",
    "americasnli_spa_dset_clean = americasnli_spa_dset_clean.map(\n",
    "    label2str, remove_columns=['label'], fn_kwargs={\"dset\": americasnli_dset['aym']['test']}\n",
    ").rename_columns({'str_label': 'label'})\n",
    "\n",
    "americasnli_spa_dset_clean = americasnli_spa_dset_clean.map(label_eng2spa)\n",
    "\n",
    "# Process AmericasNLI Senti Eng\n",
    "americasnli_eng_dset_clean = {}\n",
    "for key in americasnli_dset.keys():\n",
    "    dset = americasnli_dset[key]['test']\n",
    "    americasnli_eng_dset_clean[key] = dset\n",
    "americasnli_eng_dset_clean = datasets.DatasetDict(americasnli_eng_dset_clean)\n",
    "americasnli_eng_dset_clean = americasnli_eng_dset_clean.map(\n",
    "    label2str, remove_columns=['label'], fn_kwargs={\"dset\": americasnli_dset['aym']['test']}\n",
    ").rename_columns({'str_label': 'label'})\n",
    "\n",
    "\n",
    "# Save to Cache\n",
    "tweet_senti_multi_dset_clean.save_to_disk(f'{save_path}/tweet_senti_multi_test_dset')\n",
    "nt_senti_dset_clean.save_to_disk(f'{save_path}/nt_senti_test_dset')\n",
    "masakhanews_dset_clean.save_to_disk(f'{save_path}/masakhanews_test_dset')\n",
    "americasnli_spa_dset_clean.save_to_disk(f'{save_path}/americasnli_test_spa_dset')\n",
    "americasnli_eng_dset_clean.save_to_disk(f'{save_path}/americasnli_test_eng_dset')"
   ]
  },
  {
   "cell_type": "code",
   "execution_count": 5,
   "id": "3428c145-b47a-43e6-94de-41717d5a9298",
   "metadata": {
    "scrolled": true,
    "tags": []
   },
   "outputs": [
    {
     "name": "stderr",
     "output_type": "stream",
     "text": [
      "Loading cached processed dataset at /home/samuel/.cache/huggingface/datasets/cardiffnlp___tweet_sentiment_multilingual/english/0.1.0/936afd3cde120393429606f681b3b48d526873c45114068973f71e296ce80605/cache-549f623ffb346bde.arrow\n",
      "Loading cached processed dataset at /home/samuel/.cache/huggingface/datasets/cardiffnlp___tweet_sentiment_multilingual/arabic/0.1.0/936afd3cde120393429606f681b3b48d526873c45114068973f71e296ce80605/cache-f7867223d0da9838.arrow\n",
      "Loading cached processed dataset at /home/samuel/.cache/huggingface/datasets/cardiffnlp___tweet_sentiment_multilingual/french/0.1.0/936afd3cde120393429606f681b3b48d526873c45114068973f71e296ce80605/cache-05ef2e3a34870f15.arrow\n",
      "Loading cached processed dataset at /home/samuel/.cache/huggingface/datasets/cardiffnlp___tweet_sentiment_multilingual/german/0.1.0/936afd3cde120393429606f681b3b48d526873c45114068973f71e296ce80605/cache-6f471d7456abbd2d.arrow\n",
      "Loading cached processed dataset at /home/samuel/.cache/huggingface/datasets/cardiffnlp___tweet_sentiment_multilingual/hindi/0.1.0/936afd3cde120393429606f681b3b48d526873c45114068973f71e296ce80605/cache-c92f18dad710ab61.arrow\n",
      "Loading cached processed dataset at /home/samuel/.cache/huggingface/datasets/cardiffnlp___tweet_sentiment_multilingual/italian/0.1.0/936afd3cde120393429606f681b3b48d526873c45114068973f71e296ce80605/cache-ac9739efffe13d2c.arrow\n",
      "Loading cached processed dataset at /home/samuel/.cache/huggingface/datasets/cardiffnlp___tweet_sentiment_multilingual/portuguese/0.1.0/936afd3cde120393429606f681b3b48d526873c45114068973f71e296ce80605/cache-f4c52e728422a64a.arrow\n",
      "Loading cached processed dataset at /home/samuel/.cache/huggingface/datasets/cardiffnlp___tweet_sentiment_multilingual/spanish/0.1.0/936afd3cde120393429606f681b3b48d526873c45114068973f71e296ce80605/cache-4f19648fd0c30400.arrow\n",
      "Loading cached processed dataset at /home/samuel/.cache/huggingface/datasets/indonlp___nusa_x-senti/bbc/1.0.0/3477a395c5c7a09a74d897ceb96ebd2c3afbd1d7fad0c11d8b8026b8b08e3af5/cache-62abee01490fb197.arrow\n",
      "Loading cached processed dataset at /home/samuel/.cache/huggingface/datasets/indonlp___nusa_x-senti/sun/1.0.0/3477a395c5c7a09a74d897ceb96ebd2c3afbd1d7fad0c11d8b8026b8b08e3af5/cache-a74670ccf34d6e16.arrow\n",
      "Loading cached processed dataset at /home/samuel/.cache/huggingface/datasets/indonlp___nusa_x-senti/jav/1.0.0/3477a395c5c7a09a74d897ceb96ebd2c3afbd1d7fad0c11d8b8026b8b08e3af5/cache-1b59d8d2ce55537d.arrow\n",
      "Loading cached processed dataset at /home/samuel/.cache/huggingface/datasets/indonlp___nusa_x-senti/mad/1.0.0/3477a395c5c7a09a74d897ceb96ebd2c3afbd1d7fad0c11d8b8026b8b08e3af5/cache-d6fb3c89b6896cd9.arrow\n",
      "Loading cached processed dataset at /home/samuel/.cache/huggingface/datasets/indonlp___nusa_x-senti/bug/1.0.0/3477a395c5c7a09a74d897ceb96ebd2c3afbd1d7fad0c11d8b8026b8b08e3af5/cache-521878d61dc1bb84.arrow\n",
      "Loading cached processed dataset at /home/samuel/.cache/huggingface/datasets/indonlp___nusa_x-senti/min/1.0.0/3477a395c5c7a09a74d897ceb96ebd2c3afbd1d7fad0c11d8b8026b8b08e3af5/cache-e3d67168151658cf.arrow\n",
      "Loading cached processed dataset at /home/samuel/.cache/huggingface/datasets/indonlp___nusa_x-senti/ind/1.0.0/3477a395c5c7a09a74d897ceb96ebd2c3afbd1d7fad0c11d8b8026b8b08e3af5/cache-3b378459b55ea238.arrow\n",
      "Loading cached processed dataset at /home/samuel/.cache/huggingface/datasets/indonlp___nusa_x-senti/eng/1.0.0/3477a395c5c7a09a74d897ceb96ebd2c3afbd1d7fad0c11d8b8026b8b08e3af5/cache-a8f425b450d44eb6.arrow\n",
      "Loading cached processed dataset at /home/samuel/.cache/huggingface/datasets/masakhane___masakhanews/amh/1.0.0/c60334474cec1d13c0c3018e138cd8b60bc6443fa5e25258d65d990b2498403f/cache-0dac328733ca149c.arrow\n",
      "Loading cached processed dataset at /home/samuel/.cache/huggingface/datasets/masakhane___masakhanews/hau/1.0.0/c60334474cec1d13c0c3018e138cd8b60bc6443fa5e25258d65d990b2498403f/cache-943fcdb5ab6eb583.arrow\n",
      "Loading cached processed dataset at /home/samuel/.cache/huggingface/datasets/masakhane___masakhanews/ibo/1.0.0/c60334474cec1d13c0c3018e138cd8b60bc6443fa5e25258d65d990b2498403f/cache-5be651a874defe99.arrow\n",
      "Loading cached processed dataset at /home/samuel/.cache/huggingface/datasets/masakhane___masakhanews/lug/1.0.0/c60334474cec1d13c0c3018e138cd8b60bc6443fa5e25258d65d990b2498403f/cache-c11ae13925c6e63d.arrow\n",
      "Loading cached processed dataset at /home/samuel/.cache/huggingface/datasets/masakhane___masakhanews/pcm/1.0.0/c60334474cec1d13c0c3018e138cd8b60bc6443fa5e25258d65d990b2498403f/cache-fd22a00453eeaa89.arrow\n",
      "Loading cached processed dataset at /home/samuel/.cache/huggingface/datasets/masakhane___masakhanews/sna/1.0.0/c60334474cec1d13c0c3018e138cd8b60bc6443fa5e25258d65d990b2498403f/cache-50403510285c6f87.arrow\n",
      "Loading cached processed dataset at /home/samuel/.cache/huggingface/datasets/masakhane___masakhanews/swa/1.0.0/c60334474cec1d13c0c3018e138cd8b60bc6443fa5e25258d65d990b2498403f/cache-5010b16e16ce5bad.arrow\n",
      "Loading cached processed dataset at /home/samuel/.cache/huggingface/datasets/masakhane___masakhanews/xho/1.0.0/c60334474cec1d13c0c3018e138cd8b60bc6443fa5e25258d65d990b2498403f/cache-873cf11c245f2a68.arrow\n",
      "Loading cached processed dataset at /home/samuel/.cache/huggingface/datasets/masakhane___masakhanews/yor/1.0.0/c60334474cec1d13c0c3018e138cd8b60bc6443fa5e25258d65d990b2498403f/cache-6ef3411d375a7b47.arrow\n",
      "Loading cached processed dataset at /home/samuel/.cache/huggingface/datasets/masakhane___masakhanews/eng/1.0.0/c60334474cec1d13c0c3018e138cd8b60bc6443fa5e25258d65d990b2498403f/cache-faf507b85cfcb7ce.arrow\n",
      "Loading cached processed dataset at /home/samuel/.cache/huggingface/datasets/americas_nli/aym/1.0.0/2f4cd00b49c982fa8827cb332b2a2dbb692aa8a7cd34432fc476efeb7fee375a/cache-f59b9a05c1b87f7f.arrow\n",
      "Loading cached processed dataset at /home/samuel/.cache/huggingface/datasets/americas_nli/bzd/1.0.0/2f4cd00b49c982fa8827cb332b2a2dbb692aa8a7cd34432fc476efeb7fee375a/cache-a4bea5c9445ad4ce.arrow\n",
      "Loading cached processed dataset at /home/samuel/.cache/huggingface/datasets/americas_nli/cni/1.0.0/2f4cd00b49c982fa8827cb332b2a2dbb692aa8a7cd34432fc476efeb7fee375a/cache-4861cef5bc1ba9a3.arrow\n",
      "Loading cached processed dataset at /home/samuel/.cache/huggingface/datasets/americas_nli/gn/1.0.0/2f4cd00b49c982fa8827cb332b2a2dbb692aa8a7cd34432fc476efeb7fee375a/cache-6d12ffd77c8bf8b1.arrow\n",
      "Loading cached processed dataset at /home/samuel/.cache/huggingface/datasets/americas_nli/hch/1.0.0/2f4cd00b49c982fa8827cb332b2a2dbb692aa8a7cd34432fc476efeb7fee375a/cache-5e6c83524a98f344.arrow\n",
      "Loading cached processed dataset at /home/samuel/.cache/huggingface/datasets/americas_nli/nah/1.0.0/2f4cd00b49c982fa8827cb332b2a2dbb692aa8a7cd34432fc476efeb7fee375a/cache-272ff7c909c60639.arrow\n",
      "Loading cached processed dataset at /home/samuel/.cache/huggingface/datasets/americas_nli/oto/1.0.0/2f4cd00b49c982fa8827cb332b2a2dbb692aa8a7cd34432fc476efeb7fee375a/cache-60cbfa76de072f63.arrow\n",
      "Loading cached processed dataset at /home/samuel/.cache/huggingface/datasets/americas_nli/quy/1.0.0/2f4cd00b49c982fa8827cb332b2a2dbb692aa8a7cd34432fc476efeb7fee375a/cache-dcf35b923450926e.arrow\n",
      "Loading cached processed dataset at /home/samuel/.cache/huggingface/datasets/americas_nli/shp/1.0.0/2f4cd00b49c982fa8827cb332b2a2dbb692aa8a7cd34432fc476efeb7fee375a/cache-610a3096a075b2af.arrow\n",
      "Loading cached processed dataset at /home/samuel/.cache/huggingface/datasets/americas_nli/tar/1.0.0/2f4cd00b49c982fa8827cb332b2a2dbb692aa8a7cd34432fc476efeb7fee375a/cache-198d2dafcffdd696.arrow\n",
      "Loading cached processed dataset at /home/samuel/.cache/huggingface/datasets/xnli/es/1.1.0/818164464f9c9fd15776ca8a00423b074344c3e929d00a2c1a84aa5a50c928bd/cache-29eb596776dc3bf8.arrow\n",
      "Loading cached processed dataset at /home/samuel/.cache/huggingface/datasets/americas_nli/aym/1.0.0/2f4cd00b49c982fa8827cb332b2a2dbb692aa8a7cd34432fc476efeb7fee375a/cache-ac70e717c2285aa8.arrow\n",
      "Loading cached processed dataset at /home/samuel/.cache/huggingface/datasets/americas_nli/bzd/1.0.0/2f4cd00b49c982fa8827cb332b2a2dbb692aa8a7cd34432fc476efeb7fee375a/cache-52ef63bf2c02ebdd.arrow\n",
      "Loading cached processed dataset at /home/samuel/.cache/huggingface/datasets/americas_nli/cni/1.0.0/2f4cd00b49c982fa8827cb332b2a2dbb692aa8a7cd34432fc476efeb7fee375a/cache-93d2c8219bd3cdd5.arrow\n",
      "Loading cached processed dataset at /home/samuel/.cache/huggingface/datasets/americas_nli/gn/1.0.0/2f4cd00b49c982fa8827cb332b2a2dbb692aa8a7cd34432fc476efeb7fee375a/cache-1df5478e20086c72.arrow\n",
      "Loading cached processed dataset at /home/samuel/.cache/huggingface/datasets/americas_nli/hch/1.0.0/2f4cd00b49c982fa8827cb332b2a2dbb692aa8a7cd34432fc476efeb7fee375a/cache-3b097b6119526228.arrow\n",
      "Loading cached processed dataset at /home/samuel/.cache/huggingface/datasets/americas_nli/nah/1.0.0/2f4cd00b49c982fa8827cb332b2a2dbb692aa8a7cd34432fc476efeb7fee375a/cache-33ab170a72af697a.arrow\n",
      "Loading cached processed dataset at /home/samuel/.cache/huggingface/datasets/americas_nli/oto/1.0.0/2f4cd00b49c982fa8827cb332b2a2dbb692aa8a7cd34432fc476efeb7fee375a/cache-bfe3689e2be5d1da.arrow\n",
      "Loading cached processed dataset at /home/samuel/.cache/huggingface/datasets/americas_nli/quy/1.0.0/2f4cd00b49c982fa8827cb332b2a2dbb692aa8a7cd34432fc476efeb7fee375a/cache-62e914fd5ab466d4.arrow\n",
      "Loading cached processed dataset at /home/samuel/.cache/huggingface/datasets/americas_nli/shp/1.0.0/2f4cd00b49c982fa8827cb332b2a2dbb692aa8a7cd34432fc476efeb7fee375a/cache-44f78a2d98e35b8d.arrow\n",
      "Loading cached processed dataset at /home/samuel/.cache/huggingface/datasets/americas_nli/tar/1.0.0/2f4cd00b49c982fa8827cb332b2a2dbb692aa8a7cd34432fc476efeb7fee375a/cache-4dbd22916c8e4c2f.arrow\n",
      "Loading cached processed dataset at /home/samuel/.cache/huggingface/datasets/xnli/es/1.1.0/818164464f9c9fd15776ca8a00423b074344c3e929d00a2c1a84aa5a50c928bd/cache-26fc58616205f430.arrow\n",
      "Loading cached processed dataset at /home/samuel/.cache/huggingface/datasets/americas_nli/aym/1.0.0/2f4cd00b49c982fa8827cb332b2a2dbb692aa8a7cd34432fc476efeb7fee375a/cache-f59b9a05c1b87f7f.arrow\n",
      "Loading cached processed dataset at /home/samuel/.cache/huggingface/datasets/americas_nli/bzd/1.0.0/2f4cd00b49c982fa8827cb332b2a2dbb692aa8a7cd34432fc476efeb7fee375a/cache-a4bea5c9445ad4ce.arrow\n",
      "Loading cached processed dataset at /home/samuel/.cache/huggingface/datasets/americas_nli/cni/1.0.0/2f4cd00b49c982fa8827cb332b2a2dbb692aa8a7cd34432fc476efeb7fee375a/cache-4861cef5bc1ba9a3.arrow\n",
      "Loading cached processed dataset at /home/samuel/.cache/huggingface/datasets/americas_nli/gn/1.0.0/2f4cd00b49c982fa8827cb332b2a2dbb692aa8a7cd34432fc476efeb7fee375a/cache-6d12ffd77c8bf8b1.arrow\n",
      "Loading cached processed dataset at /home/samuel/.cache/huggingface/datasets/americas_nli/hch/1.0.0/2f4cd00b49c982fa8827cb332b2a2dbb692aa8a7cd34432fc476efeb7fee375a/cache-5e6c83524a98f344.arrow\n",
      "Loading cached processed dataset at /home/samuel/.cache/huggingface/datasets/americas_nli/nah/1.0.0/2f4cd00b49c982fa8827cb332b2a2dbb692aa8a7cd34432fc476efeb7fee375a/cache-272ff7c909c60639.arrow\n",
      "Loading cached processed dataset at /home/samuel/.cache/huggingface/datasets/americas_nli/oto/1.0.0/2f4cd00b49c982fa8827cb332b2a2dbb692aa8a7cd34432fc476efeb7fee375a/cache-60cbfa76de072f63.arrow\n",
      "Loading cached processed dataset at /home/samuel/.cache/huggingface/datasets/americas_nli/quy/1.0.0/2f4cd00b49c982fa8827cb332b2a2dbb692aa8a7cd34432fc476efeb7fee375a/cache-dcf35b923450926e.arrow\n",
      "Loading cached processed dataset at /home/samuel/.cache/huggingface/datasets/americas_nli/shp/1.0.0/2f4cd00b49c982fa8827cb332b2a2dbb692aa8a7cd34432fc476efeb7fee375a/cache-610a3096a075b2af.arrow\n",
      "Loading cached processed dataset at /home/samuel/.cache/huggingface/datasets/americas_nli/tar/1.0.0/2f4cd00b49c982fa8827cb332b2a2dbb692aa8a7cd34432fc476efeb7fee375a/cache-198d2dafcffdd696.arrow\n",
      "Loading cached processed dataset at /home/samuel/.cache/huggingface/datasets/xnli/en/1.1.0/818164464f9c9fd15776ca8a00423b074344c3e929d00a2c1a84aa5a50c928bd/cache-b4ce10f7a74509c2.arrow\n"
     ]
    },
    {
     "data": {
      "application/vnd.jupyter.widget-view+json": {
       "model_id": "",
       "version_major": 2,
       "version_minor": 0
      },
      "text/plain": [
       "Saving the dataset (0/1 shards):   0%|          | 0/1839 [00:00<?, ? examples/s]"
      ]
     },
     "metadata": {},
     "output_type": "display_data"
    },
    {
     "data": {
      "application/vnd.jupyter.widget-view+json": {
       "model_id": "",
       "version_major": 2,
       "version_minor": 0
      },
      "text/plain": [
       "Saving the dataset (0/1 shards):   0%|          | 0/1839 [00:00<?, ? examples/s]"
      ]
     },
     "metadata": {},
     "output_type": "display_data"
    },
    {
     "data": {
      "application/vnd.jupyter.widget-view+json": {
       "model_id": "",
       "version_major": 2,
       "version_minor": 0
      },
      "text/plain": [
       "Saving the dataset (0/1 shards):   0%|          | 0/1839 [00:00<?, ? examples/s]"
      ]
     },
     "metadata": {},
     "output_type": "display_data"
    },
    {
     "data": {
      "application/vnd.jupyter.widget-view+json": {
       "model_id": "",
       "version_major": 2,
       "version_minor": 0
      },
      "text/plain": [
       "Saving the dataset (0/1 shards):   0%|          | 0/1839 [00:00<?, ? examples/s]"
      ]
     },
     "metadata": {},
     "output_type": "display_data"
    },
    {
     "data": {
      "application/vnd.jupyter.widget-view+json": {
       "model_id": "",
       "version_major": 2,
       "version_minor": 0
      },
      "text/plain": [
       "Saving the dataset (0/1 shards):   0%|          | 0/1839 [00:00<?, ? examples/s]"
      ]
     },
     "metadata": {},
     "output_type": "display_data"
    },
    {
     "data": {
      "application/vnd.jupyter.widget-view+json": {
       "model_id": "",
       "version_major": 2,
       "version_minor": 0
      },
      "text/plain": [
       "Saving the dataset (0/1 shards):   0%|          | 0/1839 [00:00<?, ? examples/s]"
      ]
     },
     "metadata": {},
     "output_type": "display_data"
    },
    {
     "data": {
      "application/vnd.jupyter.widget-view+json": {
       "model_id": "",
       "version_major": 2,
       "version_minor": 0
      },
      "text/plain": [
       "Saving the dataset (0/1 shards):   0%|          | 0/1839 [00:00<?, ? examples/s]"
      ]
     },
     "metadata": {},
     "output_type": "display_data"
    },
    {
     "data": {
      "application/vnd.jupyter.widget-view+json": {
       "model_id": "",
       "version_major": 2,
       "version_minor": 0
      },
      "text/plain": [
       "Saving the dataset (0/1 shards):   0%|          | 0/1839 [00:00<?, ? examples/s]"
      ]
     },
     "metadata": {},
     "output_type": "display_data"
    },
    {
     "data": {
      "application/vnd.jupyter.widget-view+json": {
       "model_id": "",
       "version_major": 2,
       "version_minor": 0
      },
      "text/plain": [
       "Saving the dataset (0/1 shards):   0%|          | 0/1000 [00:00<?, ? examples/s]"
      ]
     },
     "metadata": {},
     "output_type": "display_data"
    },
    {
     "data": {
      "application/vnd.jupyter.widget-view+json": {
       "model_id": "",
       "version_major": 2,
       "version_minor": 0
      },
      "text/plain": [
       "Saving the dataset (0/1 shards):   0%|          | 0/1000 [00:00<?, ? examples/s]"
      ]
     },
     "metadata": {},
     "output_type": "display_data"
    },
    {
     "data": {
      "application/vnd.jupyter.widget-view+json": {
       "model_id": "",
       "version_major": 2,
       "version_minor": 0
      },
      "text/plain": [
       "Saving the dataset (0/1 shards):   0%|          | 0/1000 [00:00<?, ? examples/s]"
      ]
     },
     "metadata": {},
     "output_type": "display_data"
    },
    {
     "data": {
      "application/vnd.jupyter.widget-view+json": {
       "model_id": "",
       "version_major": 2,
       "version_minor": 0
      },
      "text/plain": [
       "Saving the dataset (0/1 shards):   0%|          | 0/1000 [00:00<?, ? examples/s]"
      ]
     },
     "metadata": {},
     "output_type": "display_data"
    },
    {
     "data": {
      "application/vnd.jupyter.widget-view+json": {
       "model_id": "",
       "version_major": 2,
       "version_minor": 0
      },
      "text/plain": [
       "Saving the dataset (0/1 shards):   0%|          | 0/1000 [00:00<?, ? examples/s]"
      ]
     },
     "metadata": {},
     "output_type": "display_data"
    },
    {
     "data": {
      "application/vnd.jupyter.widget-view+json": {
       "model_id": "",
       "version_major": 2,
       "version_minor": 0
      },
      "text/plain": [
       "Saving the dataset (0/1 shards):   0%|          | 0/1000 [00:00<?, ? examples/s]"
      ]
     },
     "metadata": {},
     "output_type": "display_data"
    },
    {
     "data": {
      "application/vnd.jupyter.widget-view+json": {
       "model_id": "",
       "version_major": 2,
       "version_minor": 0
      },
      "text/plain": [
       "Saving the dataset (0/1 shards):   0%|          | 0/1000 [00:00<?, ? examples/s]"
      ]
     },
     "metadata": {},
     "output_type": "display_data"
    },
    {
     "data": {
      "application/vnd.jupyter.widget-view+json": {
       "model_id": "",
       "version_major": 2,
       "version_minor": 0
      },
      "text/plain": [
       "Saving the dataset (0/1 shards):   0%|          | 0/1000 [00:00<?, ? examples/s]"
      ]
     },
     "metadata": {},
     "output_type": "display_data"
    },
    {
     "data": {
      "application/vnd.jupyter.widget-view+json": {
       "model_id": "",
       "version_major": 2,
       "version_minor": 0
      },
      "text/plain": [
       "Saving the dataset (0/1 shards):   0%|          | 0/1875 [00:00<?, ? examples/s]"
      ]
     },
     "metadata": {},
     "output_type": "display_data"
    },
    {
     "data": {
      "application/vnd.jupyter.widget-view+json": {
       "model_id": "",
       "version_major": 2,
       "version_minor": 0
      },
      "text/plain": [
       "Saving the dataset (0/1 shards):   0%|          | 0/3173 [00:00<?, ? examples/s]"
      ]
     },
     "metadata": {},
     "output_type": "display_data"
    },
    {
     "data": {
      "application/vnd.jupyter.widget-view+json": {
       "model_id": "",
       "version_major": 2,
       "version_minor": 0
      },
      "text/plain": [
       "Saving the dataset (0/1 shards):   0%|          | 0/1940 [00:00<?, ? examples/s]"
      ]
     },
     "metadata": {},
     "output_type": "display_data"
    },
    {
     "data": {
      "application/vnd.jupyter.widget-view+json": {
       "model_id": "",
       "version_major": 2,
       "version_minor": 0
      },
      "text/plain": [
       "Saving the dataset (0/1 shards):   0%|          | 0/1104 [00:00<?, ? examples/s]"
      ]
     },
     "metadata": {},
     "output_type": "display_data"
    },
    {
     "data": {
      "application/vnd.jupyter.widget-view+json": {
       "model_id": "",
       "version_major": 2,
       "version_minor": 0
      },
      "text/plain": [
       "Saving the dataset (0/1 shards):   0%|          | 0/1517 [00:00<?, ? examples/s]"
      ]
     },
     "metadata": {},
     "output_type": "display_data"
    },
    {
     "data": {
      "application/vnd.jupyter.widget-view+json": {
       "model_id": "",
       "version_major": 2,
       "version_minor": 0
      },
      "text/plain": [
       "Saving the dataset (0/1 shards):   0%|          | 0/1842 [00:00<?, ? examples/s]"
      ]
     },
     "metadata": {},
     "output_type": "display_data"
    },
    {
     "data": {
      "application/vnd.jupyter.widget-view+json": {
       "model_id": "",
       "version_major": 2,
       "version_minor": 0
      },
      "text/plain": [
       "Saving the dataset (0/1 shards):   0%|          | 0/2371 [00:00<?, ? examples/s]"
      ]
     },
     "metadata": {},
     "output_type": "display_data"
    },
    {
     "data": {
      "application/vnd.jupyter.widget-view+json": {
       "model_id": "",
       "version_major": 2,
       "version_minor": 0
      },
      "text/plain": [
       "Saving the dataset (0/1 shards):   0%|          | 0/1476 [00:00<?, ? examples/s]"
      ]
     },
     "metadata": {},
     "output_type": "display_data"
    },
    {
     "data": {
      "application/vnd.jupyter.widget-view+json": {
       "model_id": "",
       "version_major": 2,
       "version_minor": 0
      },
      "text/plain": [
       "Saving the dataset (0/1 shards):   0%|          | 0/2050 [00:00<?, ? examples/s]"
      ]
     },
     "metadata": {},
     "output_type": "display_data"
    },
    {
     "data": {
      "application/vnd.jupyter.widget-view+json": {
       "model_id": "",
       "version_major": 2,
       "version_minor": 0
      },
      "text/plain": [
       "Saving the dataset (0/1 shards):   0%|          | 0/4729 [00:00<?, ? examples/s]"
      ]
     },
     "metadata": {},
     "output_type": "display_data"
    },
    {
     "data": {
      "application/vnd.jupyter.widget-view+json": {
       "model_id": "",
       "version_major": 2,
       "version_minor": 0
      },
      "text/plain": [
       "Saving the dataset (0/1 shards):   0%|          | 0/743 [00:00<?, ? examples/s]"
      ]
     },
     "metadata": {},
     "output_type": "display_data"
    },
    {
     "data": {
      "application/vnd.jupyter.widget-view+json": {
       "model_id": "",
       "version_major": 2,
       "version_minor": 0
      },
      "text/plain": [
       "Saving the dataset (0/1 shards):   0%|          | 0/743 [00:00<?, ? examples/s]"
      ]
     },
     "metadata": {},
     "output_type": "display_data"
    },
    {
     "data": {
      "application/vnd.jupyter.widget-view+json": {
       "model_id": "",
       "version_major": 2,
       "version_minor": 0
      },
      "text/plain": [
       "Saving the dataset (0/1 shards):   0%|          | 0/658 [00:00<?, ? examples/s]"
      ]
     },
     "metadata": {},
     "output_type": "display_data"
    },
    {
     "data": {
      "application/vnd.jupyter.widget-view+json": {
       "model_id": "",
       "version_major": 2,
       "version_minor": 0
      },
      "text/plain": [
       "Saving the dataset (0/1 shards):   0%|          | 0/743 [00:00<?, ? examples/s]"
      ]
     },
     "metadata": {},
     "output_type": "display_data"
    },
    {
     "data": {
      "application/vnd.jupyter.widget-view+json": {
       "model_id": "",
       "version_major": 2,
       "version_minor": 0
      },
      "text/plain": [
       "Saving the dataset (0/1 shards):   0%|          | 0/743 [00:00<?, ? examples/s]"
      ]
     },
     "metadata": {},
     "output_type": "display_data"
    },
    {
     "data": {
      "application/vnd.jupyter.widget-view+json": {
       "model_id": "",
       "version_major": 2,
       "version_minor": 0
      },
      "text/plain": [
       "Saving the dataset (0/1 shards):   0%|          | 0/376 [00:00<?, ? examples/s]"
      ]
     },
     "metadata": {},
     "output_type": "display_data"
    },
    {
     "data": {
      "application/vnd.jupyter.widget-view+json": {
       "model_id": "",
       "version_major": 2,
       "version_minor": 0
      },
      "text/plain": [
       "Saving the dataset (0/1 shards):   0%|          | 0/222 [00:00<?, ? examples/s]"
      ]
     },
     "metadata": {},
     "output_type": "display_data"
    },
    {
     "data": {
      "application/vnd.jupyter.widget-view+json": {
       "model_id": "",
       "version_major": 2,
       "version_minor": 0
      },
      "text/plain": [
       "Saving the dataset (0/1 shards):   0%|          | 0/743 [00:00<?, ? examples/s]"
      ]
     },
     "metadata": {},
     "output_type": "display_data"
    },
    {
     "data": {
      "application/vnd.jupyter.widget-view+json": {
       "model_id": "",
       "version_major": 2,
       "version_minor": 0
      },
      "text/plain": [
       "Saving the dataset (0/1 shards):   0%|          | 0/743 [00:00<?, ? examples/s]"
      ]
     },
     "metadata": {},
     "output_type": "display_data"
    },
    {
     "data": {
      "application/vnd.jupyter.widget-view+json": {
       "model_id": "",
       "version_major": 2,
       "version_minor": 0
      },
      "text/plain": [
       "Saving the dataset (0/1 shards):   0%|          | 0/743 [00:00<?, ? examples/s]"
      ]
     },
     "metadata": {},
     "output_type": "display_data"
    },
    {
     "data": {
      "application/vnd.jupyter.widget-view+json": {
       "model_id": "",
       "version_major": 2,
       "version_minor": 0
      },
      "text/plain": [
       "Saving the dataset (0/1 shards):   0%|          | 0/2490 [00:00<?, ? examples/s]"
      ]
     },
     "metadata": {},
     "output_type": "display_data"
    },
    {
     "data": {
      "application/vnd.jupyter.widget-view+json": {
       "model_id": "",
       "version_major": 2,
       "version_minor": 0
      },
      "text/plain": [
       "Saving the dataset (0/1 shards):   0%|          | 0/743 [00:00<?, ? examples/s]"
      ]
     },
     "metadata": {},
     "output_type": "display_data"
    },
    {
     "data": {
      "application/vnd.jupyter.widget-view+json": {
       "model_id": "",
       "version_major": 2,
       "version_minor": 0
      },
      "text/plain": [
       "Saving the dataset (0/1 shards):   0%|          | 0/743 [00:00<?, ? examples/s]"
      ]
     },
     "metadata": {},
     "output_type": "display_data"
    },
    {
     "data": {
      "application/vnd.jupyter.widget-view+json": {
       "model_id": "",
       "version_major": 2,
       "version_minor": 0
      },
      "text/plain": [
       "Saving the dataset (0/1 shards):   0%|          | 0/658 [00:00<?, ? examples/s]"
      ]
     },
     "metadata": {},
     "output_type": "display_data"
    },
    {
     "data": {
      "application/vnd.jupyter.widget-view+json": {
       "model_id": "",
       "version_major": 2,
       "version_minor": 0
      },
      "text/plain": [
       "Saving the dataset (0/1 shards):   0%|          | 0/743 [00:00<?, ? examples/s]"
      ]
     },
     "metadata": {},
     "output_type": "display_data"
    },
    {
     "data": {
      "application/vnd.jupyter.widget-view+json": {
       "model_id": "",
       "version_major": 2,
       "version_minor": 0
      },
      "text/plain": [
       "Saving the dataset (0/1 shards):   0%|          | 0/743 [00:00<?, ? examples/s]"
      ]
     },
     "metadata": {},
     "output_type": "display_data"
    },
    {
     "data": {
      "application/vnd.jupyter.widget-view+json": {
       "model_id": "",
       "version_major": 2,
       "version_minor": 0
      },
      "text/plain": [
       "Saving the dataset (0/1 shards):   0%|          | 0/376 [00:00<?, ? examples/s]"
      ]
     },
     "metadata": {},
     "output_type": "display_data"
    },
    {
     "data": {
      "application/vnd.jupyter.widget-view+json": {
       "model_id": "",
       "version_major": 2,
       "version_minor": 0
      },
      "text/plain": [
       "Saving the dataset (0/1 shards):   0%|          | 0/222 [00:00<?, ? examples/s]"
      ]
     },
     "metadata": {},
     "output_type": "display_data"
    },
    {
     "data": {
      "application/vnd.jupyter.widget-view+json": {
       "model_id": "",
       "version_major": 2,
       "version_minor": 0
      },
      "text/plain": [
       "Saving the dataset (0/1 shards):   0%|          | 0/743 [00:00<?, ? examples/s]"
      ]
     },
     "metadata": {},
     "output_type": "display_data"
    },
    {
     "data": {
      "application/vnd.jupyter.widget-view+json": {
       "model_id": "",
       "version_major": 2,
       "version_minor": 0
      },
      "text/plain": [
       "Saving the dataset (0/1 shards):   0%|          | 0/743 [00:00<?, ? examples/s]"
      ]
     },
     "metadata": {},
     "output_type": "display_data"
    },
    {
     "data": {
      "application/vnd.jupyter.widget-view+json": {
       "model_id": "",
       "version_major": 2,
       "version_minor": 0
      },
      "text/plain": [
       "Saving the dataset (0/1 shards):   0%|          | 0/743 [00:00<?, ? examples/s]"
      ]
     },
     "metadata": {},
     "output_type": "display_data"
    },
    {
     "data": {
      "application/vnd.jupyter.widget-view+json": {
       "model_id": "",
       "version_major": 2,
       "version_minor": 0
      },
      "text/plain": [
       "Saving the dataset (0/1 shards):   0%|          | 0/2490 [00:00<?, ? examples/s]"
      ]
     },
     "metadata": {},
     "output_type": "display_data"
    }
   ],
   "source": [
    "###\n",
    "# Prepare ICL & X-ICL Data\n",
    "#\n",
    "# Single-Sentence Classification [text, label]\n",
    "# NLI Classification [premise, hypothesis, label]\n",
    "###\n",
    "\n",
    "# Process Tweet Sentiment Multilingual\n",
    "icl_tweet_senti_multi_dset_clean = {}\n",
    "for key in tweet_senti_multi_dset.keys():\n",
    "    dset = tweet_senti_multi_dset[key]['train']\n",
    "    icl_tweet_senti_multi_dset_clean[key] = dset\n",
    "icl_tweet_senti_multi_dset_clean = datasets.DatasetDict(icl_tweet_senti_multi_dset_clean)\n",
    "icl_tweet_senti_multi_dset_clean = icl_tweet_senti_multi_dset_clean.map(\n",
    "    label2str, remove_columns=['label'], fn_kwargs={\"dset\": nusax_senti_dset['jav']['train']}\n",
    ").rename_columns({'str_label': 'label'})\n",
    "\n",
    "# Process NusaTranslation Senti ICL Data => NusaX Senti All Splits\n",
    "icl_nusax_senti_dset_clean = {}\n",
    "for key in nusax_senti_dset.keys():\n",
    "    dset = []\n",
    "    for split in nusax_senti_dset[key].keys():\n",
    "        dset.append(nusax_senti_dset[key][split].remove_columns(['id', 'lang']))\n",
    "    icl_nusax_senti_dset_clean[key] = datasets.concatenate_datasets(dset)\n",
    "icl_nusax_senti_dset_clean = datasets.DatasetDict(icl_nusax_senti_dset_clean)\n",
    "icl_nusax_senti_dset_clean = icl_nusax_senti_dset_clean.map(\n",
    "    label2str, remove_columns=['label'], fn_kwargs={\"dset\": nusax_senti_dset['jav']['train']}\n",
    ").rename_columns({'str_label': 'label'})\n",
    "\n",
    "# Process MasakhaNews ICL Data => MasakhaNews Train & Validation\n",
    "icl_masakhanews_dset_clean = {}\n",
    "for key in masakhanews_dset.keys():\n",
    "    dset = []\n",
    "    for split in masakhanews_dset[key].keys():\n",
    "        dset.append(masakhanews_dset[key][split].remove_columns(['text', 'headline_text', 'url']))\n",
    "    dset = datasets.concatenate_datasets(dset).rename_columns({'headline': 'text'})\n",
    "    dset = dset.map(\n",
    "        label2str, remove_columns=['label'], fn_kwargs={\"dset\": dset}\n",
    "    ).rename_columns({'str_label': 'label'})\n",
    "    icl_masakhanews_dset_clean[key] = dset\n",
    "icl_masakhanews_dset_clean = datasets.DatasetDict(icl_masakhanews_dset_clean)\n",
    "\n",
    "# Process AmericasNLI ICL Data => ICL: AmericasNLI Validation, X-ICL: XNLI Validation\n",
    "# Spanish\n",
    "icl_americasnli_spa_dset_clean = {}\n",
    "for key in americasnli_dset.keys():\n",
    "    dset = americasnli_dset[key]['validation']\n",
    "    icl_americasnli_spa_dset_clean[key] = dset\n",
    "icl_americasnli_spa_dset_clean['spa'] = xnli_spa_dset['validation'] # Add Spanish data from XNLI\n",
    "icl_americasnli_spa_dset_clean = datasets.DatasetDict(icl_americasnli_spa_dset_clean)\n",
    "\n",
    "icl_americasnli_spa_dset_clean = icl_americasnli_spa_dset_clean.map(\n",
    "    label2str, remove_columns=['label'], fn_kwargs={\"dset\": americasnli_dset['aym']['test']}\n",
    ").rename_columns({'str_label': 'label'})\n",
    "icl_americasnli_spa_dset_clean = icl_americasnli_spa_dset_clean.map(label_eng2spa)\n",
    "\n",
    "# English\n",
    "icl_americasnli_eng_dset_clean = {}\n",
    "for key in americasnli_dset.keys():\n",
    "    dset = americasnli_dset[key]['validation']\n",
    "    icl_americasnli_eng_dset_clean[key] = dset\n",
    "icl_americasnli_eng_dset_clean['eng'] = xnli_eng_dset['validation'] # Add Spanish data from XNLI\n",
    "icl_americasnli_eng_dset_clean = datasets.DatasetDict(icl_americasnli_eng_dset_clean)\n",
    "\n",
    "icl_americasnli_eng_dset_clean = icl_americasnli_eng_dset_clean.map(\n",
    "    label2str, remove_columns=['label'], fn_kwargs={\"dset\": americasnli_dset['aym']['test']}\n",
    ").rename_columns({'str_label': 'label'})\n",
    "\n",
    "# Save to Cache\n",
    "icl_tweet_senti_multi_dset_clean.save_to_disk(f'{save_path}/icl_tweet_senti_multi_dset')\n",
    "icl_nusax_senti_dset_clean.save_to_disk(f'{save_path}/icl_nusax_senti_dset')\n",
    "icl_masakhanews_dset_clean.save_to_disk(f'{save_path}/icl_masakhanews_dset')\n",
    "icl_americasnli_spa_dset_clean.save_to_disk(f'{save_path}/icl_americasnli_spa_dset')\n",
    "icl_americasnli_eng_dset_clean.save_to_disk(f'{save_path}/icl_americasnli_eng_dset')"
   ]
  },
  {
   "cell_type": "markdown",
   "id": "d38f5fb6-5b14-4425-b8c9-d59a81c739d4",
   "metadata": {},
   "source": [
    "### ITC & IIA Dataset"
   ]
  },
  {
   "cell_type": "code",
   "execution_count": 6,
   "id": "54f4820e-c5d8-4ffd-a221-19148a138438",
   "metadata": {},
   "outputs": [],
   "source": [
    "save_path = '.'\n",
    "\n",
    "def label2str(row, dset):\n",
    "    row['str_label'] = dset.features['label'].int2str(row['label'])\n",
    "    return row\n",
    "\n",
    "# Tweet Sentiment Multi\n",
    "bcp47_lang_map = {\n",
    "    'arb': 'arb_Arab',\n",
    "    'deu': 'deu_Latn',\n",
    "    'fra': 'fra_Latn',\n",
    "    'spa': 'spa_Latn',\n",
    "    'ita': 'ita_Latn',\n",
    "    'por': 'por_Latn',\n",
    "    'hin': 'hin_Deva',\n",
    "    'eng': 'eng_Latn'\n",
    "}\n",
    "\n",
    "model = AutoModelForSeq2SeqLM.from_pretrained(\"facebook/nllb-200-distilled-1.3B\").to('cuda')\n",
    "def translate_nllb(row):\n",
    "    text = row['text']\n",
    "    inputs = tokenizer(text, padding='longest', return_tensors=\"pt\").to('cuda')\n",
    "    translated_tokens = model.generate(\n",
    "        **inputs, forced_bos_token_id=tokenizer.lang_code_to_id[\"eng_Latn\"], max_length=100\n",
    "    )\n",
    "    row['mt_text'] = tokenizer.batch_decode(translated_tokens, skip_special_tokens=True)    \n",
    "    return row"
   ]
  },
  {
   "cell_type": "code",
   "execution_count": 7,
   "id": "5daefebd-4f62-46ab-bb87-0553240d9b34",
   "metadata": {},
   "outputs": [
    {
     "name": "stderr",
     "output_type": "stream",
     "text": [
      "Loading cached processed dataset at /home/samuel/.cache/huggingface/datasets/cardiffnlp___tweet_sentiment_multilingual/english/0.1.0/936afd3cde120393429606f681b3b48d526873c45114068973f71e296ce80605/cache-fa4628b72886e70a.arrow\n",
      "Loading cached processed dataset at /home/samuel/.cache/huggingface/datasets/cardiffnlp___tweet_sentiment_multilingual/arabic/0.1.0/936afd3cde120393429606f681b3b48d526873c45114068973f71e296ce80605/cache-5f6801279976fabd.arrow\n",
      "Loading cached processed dataset at /home/samuel/.cache/huggingface/datasets/cardiffnlp___tweet_sentiment_multilingual/french/0.1.0/936afd3cde120393429606f681b3b48d526873c45114068973f71e296ce80605/cache-ff762a3aa140820d.arrow\n",
      "Loading cached processed dataset at /home/samuel/.cache/huggingface/datasets/cardiffnlp___tweet_sentiment_multilingual/german/0.1.0/936afd3cde120393429606f681b3b48d526873c45114068973f71e296ce80605/cache-bf0b165be17df672.arrow\n",
      "Loading cached processed dataset at /home/samuel/.cache/huggingface/datasets/cardiffnlp___tweet_sentiment_multilingual/hindi/0.1.0/936afd3cde120393429606f681b3b48d526873c45114068973f71e296ce80605/cache-f1fec822fce6ada3.arrow\n",
      "Loading cached processed dataset at /home/samuel/.cache/huggingface/datasets/cardiffnlp___tweet_sentiment_multilingual/italian/0.1.0/936afd3cde120393429606f681b3b48d526873c45114068973f71e296ce80605/cache-727ae36cdfba6449.arrow\n",
      "Loading cached processed dataset at /home/samuel/.cache/huggingface/datasets/cardiffnlp___tweet_sentiment_multilingual/portuguese/0.1.0/936afd3cde120393429606f681b3b48d526873c45114068973f71e296ce80605/cache-d58725e15624681e.arrow\n",
      "Loading cached processed dataset at /home/samuel/.cache/huggingface/datasets/cardiffnlp___tweet_sentiment_multilingual/spanish/0.1.0/936afd3cde120393429606f681b3b48d526873c45114068973f71e296ce80605/cache-3544d5f06820f1af.arrow\n",
      "Loading cached processed dataset at /home/samuel/.cache/huggingface/datasets/cardiffnlp___tweet_sentiment_multilingual/english/0.1.0/936afd3cde120393429606f681b3b48d526873c45114068973f71e296ce80605/cache-d6f1a24c96ec8ea4.arrow\n",
      "Loading cached processed dataset at /home/samuel/.cache/huggingface/datasets/cardiffnlp___tweet_sentiment_multilingual/arabic/0.1.0/936afd3cde120393429606f681b3b48d526873c45114068973f71e296ce80605/cache-6d0ce0224048de1d.arrow\n",
      "Loading cached processed dataset at /home/samuel/.cache/huggingface/datasets/cardiffnlp___tweet_sentiment_multilingual/french/0.1.0/936afd3cde120393429606f681b3b48d526873c45114068973f71e296ce80605/cache-7cf5a817315eeeb1.arrow\n",
      "Loading cached processed dataset at /home/samuel/.cache/huggingface/datasets/cardiffnlp___tweet_sentiment_multilingual/german/0.1.0/936afd3cde120393429606f681b3b48d526873c45114068973f71e296ce80605/cache-8fb16776a5c1c273.arrow\n",
      "Loading cached processed dataset at /home/samuel/.cache/huggingface/datasets/cardiffnlp___tweet_sentiment_multilingual/hindi/0.1.0/936afd3cde120393429606f681b3b48d526873c45114068973f71e296ce80605/cache-bb50fd692ba29fc5.arrow\n",
      "Loading cached processed dataset at /home/samuel/.cache/huggingface/datasets/cardiffnlp___tweet_sentiment_multilingual/italian/0.1.0/936afd3cde120393429606f681b3b48d526873c45114068973f71e296ce80605/cache-77339653b79a229f.arrow\n",
      "Loading cached processed dataset at /home/samuel/.cache/huggingface/datasets/cardiffnlp___tweet_sentiment_multilingual/portuguese/0.1.0/936afd3cde120393429606f681b3b48d526873c45114068973f71e296ce80605/cache-7a78b09c782526e8.arrow\n",
      "Loading cached processed dataset at /home/samuel/.cache/huggingface/datasets/cardiffnlp___tweet_sentiment_multilingual/spanish/0.1.0/936afd3cde120393429606f681b3b48d526873c45114068973f71e296ce80605/cache-41bc8046ba50dca3.arrow\n"
     ]
    },
    {
     "data": {
      "application/vnd.jupyter.widget-view+json": {
       "model_id": "",
       "version_major": 2,
       "version_minor": 0
      },
      "text/plain": [
       "Saving the dataset (0/1 shards):   0%|          | 0/1839 [00:00<?, ? examples/s]"
      ]
     },
     "metadata": {},
     "output_type": "display_data"
    },
    {
     "data": {
      "application/vnd.jupyter.widget-view+json": {
       "model_id": "",
       "version_major": 2,
       "version_minor": 0
      },
      "text/plain": [
       "Saving the dataset (0/1 shards):   0%|          | 0/1839 [00:00<?, ? examples/s]"
      ]
     },
     "metadata": {},
     "output_type": "display_data"
    },
    {
     "data": {
      "application/vnd.jupyter.widget-view+json": {
       "model_id": "",
       "version_major": 2,
       "version_minor": 0
      },
      "text/plain": [
       "Saving the dataset (0/1 shards):   0%|          | 0/1839 [00:00<?, ? examples/s]"
      ]
     },
     "metadata": {},
     "output_type": "display_data"
    },
    {
     "data": {
      "application/vnd.jupyter.widget-view+json": {
       "model_id": "",
       "version_major": 2,
       "version_minor": 0
      },
      "text/plain": [
       "Saving the dataset (0/1 shards):   0%|          | 0/1839 [00:00<?, ? examples/s]"
      ]
     },
     "metadata": {},
     "output_type": "display_data"
    },
    {
     "data": {
      "application/vnd.jupyter.widget-view+json": {
       "model_id": "",
       "version_major": 2,
       "version_minor": 0
      },
      "text/plain": [
       "Saving the dataset (0/1 shards):   0%|          | 0/1839 [00:00<?, ? examples/s]"
      ]
     },
     "metadata": {},
     "output_type": "display_data"
    },
    {
     "data": {
      "application/vnd.jupyter.widget-view+json": {
       "model_id": "",
       "version_major": 2,
       "version_minor": 0
      },
      "text/plain": [
       "Saving the dataset (0/1 shards):   0%|          | 0/1839 [00:00<?, ? examples/s]"
      ]
     },
     "metadata": {},
     "output_type": "display_data"
    },
    {
     "data": {
      "application/vnd.jupyter.widget-view+json": {
       "model_id": "",
       "version_major": 2,
       "version_minor": 0
      },
      "text/plain": [
       "Saving the dataset (0/1 shards):   0%|          | 0/1839 [00:00<?, ? examples/s]"
      ]
     },
     "metadata": {},
     "output_type": "display_data"
    },
    {
     "data": {
      "application/vnd.jupyter.widget-view+json": {
       "model_id": "",
       "version_major": 2,
       "version_minor": 0
      },
      "text/plain": [
       "Saving the dataset (0/1 shards):   0%|          | 0/1839 [00:00<?, ? examples/s]"
      ]
     },
     "metadata": {},
     "output_type": "display_data"
    }
   ],
   "source": [
    "####\n",
    "# Twitter Sentiment Multilingual\n",
    "####\n",
    "\n",
    "tweet_senti_multi_combined_dset = {}\n",
    "for key in tweet_senti_multi_dset.keys():\n",
    "    tokenizer = AutoTokenizer.from_pretrained(\"facebook/nllb-200-distilled-1.3B\", src_lang=bcp47_lang_map[key])\n",
    "    dset = tweet_senti_multi_dset[key]['train'].map(\n",
    "        translate_nllb, batched=True, batch_size=128\n",
    "    ).rename_columns({'text': 'text_1', 'mt_text': 'text_2'})\n",
    "    tweet_senti_multi_combined_dset[key] = dset\n",
    "tweet_senti_multi_combined_dset = datasets.DatasetDict(tweet_senti_multi_combined_dset)\n",
    "tweet_senti_multi_combined_dset = tweet_senti_multi_combined_dset.map(\n",
    "    label2str, remove_columns=['label'], fn_kwargs={\"dset\": tweet_senti_multi_dset['eng']['train']}\n",
    ").rename_columns({'str_label': 'label'})\n",
    "\n",
    "tweet_senti_multi_combined_dset.save_to_disk(f'{save_path}/tweet_senti_multi_combined_dset')"
   ]
  },
  {
   "cell_type": "code",
   "execution_count": 8,
   "id": "d5688237-3762-4674-b277-4f71c1df6a96",
   "metadata": {},
   "outputs": [
    {
     "name": "stderr",
     "output_type": "stream",
     "text": [
      "Loading cached processed dataset at /home/samuel/.cache/huggingface/datasets/indonlp___nusa_x-senti/bbc/1.0.0/3477a395c5c7a09a74d897ceb96ebd2c3afbd1d7fad0c11d8b8026b8b08e3af5/cache-5e0783d702a0838e.arrow\n",
      "Loading cached processed dataset at /home/samuel/.cache/huggingface/datasets/indonlp___nusa_x-senti/sun/1.0.0/3477a395c5c7a09a74d897ceb96ebd2c3afbd1d7fad0c11d8b8026b8b08e3af5/cache-d8b3212c30baf690.arrow\n",
      "Loading cached processed dataset at /home/samuel/.cache/huggingface/datasets/indonlp___nusa_x-senti/jav/1.0.0/3477a395c5c7a09a74d897ceb96ebd2c3afbd1d7fad0c11d8b8026b8b08e3af5/cache-9d305c4cc4ee0ee1.arrow\n",
      "Loading cached processed dataset at /home/samuel/.cache/huggingface/datasets/indonlp___nusa_x-senti/mad/1.0.0/3477a395c5c7a09a74d897ceb96ebd2c3afbd1d7fad0c11d8b8026b8b08e3af5/cache-ded18bf5d11d4084.arrow\n",
      "Loading cached processed dataset at /home/samuel/.cache/huggingface/datasets/indonlp___nusa_x-senti/bug/1.0.0/3477a395c5c7a09a74d897ceb96ebd2c3afbd1d7fad0c11d8b8026b8b08e3af5/cache-74bb317141afda44.arrow\n",
      "Loading cached processed dataset at /home/samuel/.cache/huggingface/datasets/indonlp___nusa_x-senti/min/1.0.0/3477a395c5c7a09a74d897ceb96ebd2c3afbd1d7fad0c11d8b8026b8b08e3af5/cache-03e1af3bcbb91135.arrow\n",
      "Loading cached processed dataset at /home/samuel/.cache/huggingface/datasets/indonlp___nusa_x-senti/bbc/1.0.0/3477a395c5c7a09a74d897ceb96ebd2c3afbd1d7fad0c11d8b8026b8b08e3af5/cache-cc0ff31d6a668f9c.arrow\n",
      "Loading cached processed dataset at /home/samuel/.cache/huggingface/datasets/indonlp___nusa_x-senti/sun/1.0.0/3477a395c5c7a09a74d897ceb96ebd2c3afbd1d7fad0c11d8b8026b8b08e3af5/cache-6c467f78309bc355.arrow\n",
      "Loading cached processed dataset at /home/samuel/.cache/huggingface/datasets/indonlp___nusa_x-senti/jav/1.0.0/3477a395c5c7a09a74d897ceb96ebd2c3afbd1d7fad0c11d8b8026b8b08e3af5/cache-8d7d0383221d2dc1.arrow\n",
      "Loading cached processed dataset at /home/samuel/.cache/huggingface/datasets/indonlp___nusa_x-senti/mad/1.0.0/3477a395c5c7a09a74d897ceb96ebd2c3afbd1d7fad0c11d8b8026b8b08e3af5/cache-a70db1e1720e5db8.arrow\n",
      "Loading cached processed dataset at /home/samuel/.cache/huggingface/datasets/indonlp___nusa_x-senti/bug/1.0.0/3477a395c5c7a09a74d897ceb96ebd2c3afbd1d7fad0c11d8b8026b8b08e3af5/cache-7a7fe511938f0ef7.arrow\n",
      "Loading cached processed dataset at /home/samuel/.cache/huggingface/datasets/indonlp___nusa_x-senti/min/1.0.0/3477a395c5c7a09a74d897ceb96ebd2c3afbd1d7fad0c11d8b8026b8b08e3af5/cache-8ac5bd89aa204dbf.arrow\n"
     ]
    },
    {
     "data": {
      "application/vnd.jupyter.widget-view+json": {
       "model_id": "",
       "version_major": 2,
       "version_minor": 0
      },
      "text/plain": [
       "Saving the dataset (0/1 shards):   0%|          | 0/1000 [00:00<?, ? examples/s]"
      ]
     },
     "metadata": {},
     "output_type": "display_data"
    },
    {
     "data": {
      "application/vnd.jupyter.widget-view+json": {
       "model_id": "",
       "version_major": 2,
       "version_minor": 0
      },
      "text/plain": [
       "Saving the dataset (0/1 shards):   0%|          | 0/1000 [00:00<?, ? examples/s]"
      ]
     },
     "metadata": {},
     "output_type": "display_data"
    },
    {
     "data": {
      "application/vnd.jupyter.widget-view+json": {
       "model_id": "",
       "version_major": 2,
       "version_minor": 0
      },
      "text/plain": [
       "Saving the dataset (0/1 shards):   0%|          | 0/1000 [00:00<?, ? examples/s]"
      ]
     },
     "metadata": {},
     "output_type": "display_data"
    },
    {
     "data": {
      "application/vnd.jupyter.widget-view+json": {
       "model_id": "",
       "version_major": 2,
       "version_minor": 0
      },
      "text/plain": [
       "Saving the dataset (0/1 shards):   0%|          | 0/1000 [00:00<?, ? examples/s]"
      ]
     },
     "metadata": {},
     "output_type": "display_data"
    },
    {
     "data": {
      "application/vnd.jupyter.widget-view+json": {
       "model_id": "",
       "version_major": 2,
       "version_minor": 0
      },
      "text/plain": [
       "Saving the dataset (0/1 shards):   0%|          | 0/1000 [00:00<?, ? examples/s]"
      ]
     },
     "metadata": {},
     "output_type": "display_data"
    },
    {
     "data": {
      "application/vnd.jupyter.widget-view+json": {
       "model_id": "",
       "version_major": 2,
       "version_minor": 0
      },
      "text/plain": [
       "Saving the dataset (0/1 shards):   0%|          | 0/1000 [00:00<?, ? examples/s]"
      ]
     },
     "metadata": {},
     "output_type": "display_data"
    },
    {
     "data": {
      "application/vnd.jupyter.widget-view+json": {
       "model_id": "",
       "version_major": 2,
       "version_minor": 0
      },
      "text/plain": [
       "Saving the dataset (0/1 shards):   0%|          | 0/1000 [00:00<?, ? examples/s]"
      ]
     },
     "metadata": {},
     "output_type": "display_data"
    },
    {
     "data": {
      "application/vnd.jupyter.widget-view+json": {
       "model_id": "",
       "version_major": 2,
       "version_minor": 0
      },
      "text/plain": [
       "Saving the dataset (0/1 shards):   0%|          | 0/1000 [00:00<?, ? examples/s]"
      ]
     },
     "metadata": {},
     "output_type": "display_data"
    },
    {
     "data": {
      "application/vnd.jupyter.widget-view+json": {
       "model_id": "",
       "version_major": 2,
       "version_minor": 0
      },
      "text/plain": [
       "Saving the dataset (0/1 shards):   0%|          | 0/1000 [00:00<?, ? examples/s]"
      ]
     },
     "metadata": {},
     "output_type": "display_data"
    },
    {
     "data": {
      "application/vnd.jupyter.widget-view+json": {
       "model_id": "",
       "version_major": 2,
       "version_minor": 0
      },
      "text/plain": [
       "Saving the dataset (0/1 shards):   0%|          | 0/1000 [00:00<?, ? examples/s]"
      ]
     },
     "metadata": {},
     "output_type": "display_data"
    },
    {
     "data": {
      "application/vnd.jupyter.widget-view+json": {
       "model_id": "",
       "version_major": 2,
       "version_minor": 0
      },
      "text/plain": [
       "Saving the dataset (0/1 shards):   0%|          | 0/1000 [00:00<?, ? examples/s]"
      ]
     },
     "metadata": {},
     "output_type": "display_data"
    },
    {
     "data": {
      "application/vnd.jupyter.widget-view+json": {
       "model_id": "",
       "version_major": 2,
       "version_minor": 0
      },
      "text/plain": [
       "Saving the dataset (0/1 shards):   0%|          | 0/1000 [00:00<?, ? examples/s]"
      ]
     },
     "metadata": {},
     "output_type": "display_data"
    }
   ],
   "source": [
    "####\n",
    "# NusaX Combined [text_1, text_2, label]\n",
    "####\n",
    "\n",
    "nusax_mt_ind_dset_clean = datasets.load_from_disk(f'{save_path}/nusax_mt_ind_dset')\n",
    "nusax_mt_eng_dset_clean = datasets.load_from_disk(f'{save_path}/nusax_mt_eng_dset')\n",
    "\n",
    "# Process NusaX Combined ind\n",
    "nusax_combined_ind_dset = {}\n",
    "for key in nusax_senti_dset.keys():\n",
    "    if key in ['ind', 'eng']:\n",
    "        continue\n",
    "        \n",
    "    dset = []\n",
    "    for split in nusax_senti_dset[key].keys():\n",
    "        dset.append(nusax_senti_dset[key][split].remove_columns(['id', 'lang', 'text']))\n",
    "    nusax_combined_ind_dset[key] = datasets.concatenate_datasets([\n",
    "        datasets.concatenate_datasets(dset),\n",
    "        nusax_mt_ind_dset_clean[key]\n",
    "    ], axis=1)\n",
    "nusax_combined_ind_dset = datasets.DatasetDict(nusax_combined_ind_dset)\n",
    "nusax_combined_ind_dset = nusax_combined_ind_dset.map(\n",
    "    label2str, remove_columns=['label'], fn_kwargs={\"dset\": nusax_senti_dset['jav']['train']}\n",
    ").rename_columns({'str_label': 'label'})\n",
    "\n",
    "# Process NusaX Combined ind\n",
    "nusax_combined_eng_dset = {}\n",
    "for key in nusax_senti_dset.keys():\n",
    "    if key in ['ind', 'eng']:\n",
    "        continue\n",
    "        \n",
    "    dset = []\n",
    "    for split in nusax_senti_dset[key].keys():\n",
    "        dset.append(nusax_senti_dset[key][split].remove_columns(['id', 'lang', 'text']))\n",
    "    nusax_combined_eng_dset[key] = datasets.concatenate_datasets([\n",
    "        datasets.concatenate_datasets(dset),\n",
    "        nusax_mt_eng_dset_clean[key]\n",
    "    ], axis=1)\n",
    "nusax_combined_eng_dset = datasets.DatasetDict(nusax_combined_eng_dset)\n",
    "nusax_combined_eng_dset = nusax_combined_eng_dset.map(\n",
    "    label2str, remove_columns=['label'], fn_kwargs={\"dset\": nusax_senti_dset['jav']['train']}\n",
    ").rename_columns({'str_label': 'label'})\n",
    "\n",
    "nusax_combined_ind_dset.save_to_disk(f'{save_path}/nusax_combined_ind_dset')\n",
    "nusax_combined_eng_dset.save_to_disk(f'{save_path}/nusax_combined_eng_dset')"
   ]
  },
  {
   "cell_type": "code",
   "execution_count": 11,
   "id": "fcf9d145-e2d6-4ddb-98de-89a3a15d030a",
   "metadata": {},
   "outputs": [],
   "source": [
    "save_path = '.'\n",
    "nusax_combined_ind_dset = datasets.load_from_disk(f'{save_path}/nusax_combined_ind_dset')\n",
    "nusax_combined_eng_dset = datasets.load_from_disk(f'{save_path}/nusax_combined_eng_dset')"
   ]
  },
  {
   "cell_type": "code",
   "execution_count": 14,
   "id": "0dadde80-65e5-423e-acda-e103aed11b62",
   "metadata": {},
   "outputs": [
    {
     "data": {
      "text/plain": [
       "{'text_1': ['atimi ciccilan 10% sahat 12 bulan tu panuhoran tiket pesaway air asia dohot kartu kredit bni!',\n",
       "  'Kue-kue na diparade mambahen au taringot tu angka nadung salpu. saluhut angka ragam ni kue tingki najolo, songon rupa nang dohot daina, kue na tabo argana pe ura.',\n",
       "  'Inong hea karejo di grab Indonesia.'],\n",
       " 'text_2': ['Nikmati cicilan 0% hingga 12 bulan untuk pemesanan tiket pesawat air asia dengan kartu kredit bni!',\n",
       "  'Kue-kue yang disajikan bikin saya bernostalgia. Semuanya tipikal kue zaman dulu, baik dari penampilan maupun rasa. Kuenya enak dan harganya juga murah.',\n",
       "  'Ibu pernah bekerja di grab indonesia'],\n",
       " 'label': ['neutral', 'positive', 'neutral']}"
      ]
     },
     "execution_count": 14,
     "metadata": {},
     "output_type": "execute_result"
    }
   ],
   "source": [
    "nusax_combined_ind_dset['btk'][:3]"
   ]
  },
  {
   "cell_type": "code",
   "execution_count": 9,
   "id": "66fcab5b-ee4a-4993-9869-9488b2853d48",
   "metadata": {
    "tags": []
   },
   "outputs": [
    {
     "data": {
      "application/vnd.jupyter.widget-view+json": {
       "model_id": "",
       "version_major": 2,
       "version_minor": 0
      },
      "text/plain": [
       "Map:   0%|          | 0/743 [00:00<?, ? examples/s]"
      ]
     },
     "metadata": {},
     "output_type": "display_data"
    },
    {
     "data": {
      "application/vnd.jupyter.widget-view+json": {
       "model_id": "",
       "version_major": 2,
       "version_minor": 0
      },
      "text/plain": [
       "Map:   0%|          | 0/743 [00:00<?, ? examples/s]"
      ]
     },
     "metadata": {},
     "output_type": "display_data"
    },
    {
     "data": {
      "application/vnd.jupyter.widget-view+json": {
       "model_id": "",
       "version_major": 2,
       "version_minor": 0
      },
      "text/plain": [
       "Map:   0%|          | 0/658 [00:00<?, ? examples/s]"
      ]
     },
     "metadata": {},
     "output_type": "display_data"
    },
    {
     "data": {
      "application/vnd.jupyter.widget-view+json": {
       "model_id": "",
       "version_major": 2,
       "version_minor": 0
      },
      "text/plain": [
       "Map:   0%|          | 0/743 [00:00<?, ? examples/s]"
      ]
     },
     "metadata": {},
     "output_type": "display_data"
    },
    {
     "data": {
      "application/vnd.jupyter.widget-view+json": {
       "model_id": "",
       "version_major": 2,
       "version_minor": 0
      },
      "text/plain": [
       "Map:   0%|          | 0/743 [00:00<?, ? examples/s]"
      ]
     },
     "metadata": {},
     "output_type": "display_data"
    },
    {
     "data": {
      "application/vnd.jupyter.widget-view+json": {
       "model_id": "",
       "version_major": 2,
       "version_minor": 0
      },
      "text/plain": [
       "Map:   0%|          | 0/585 [00:00<?, ? examples/s]"
      ]
     },
     "metadata": {},
     "output_type": "display_data"
    },
    {
     "data": {
      "application/vnd.jupyter.widget-view+json": {
       "model_id": "",
       "version_major": 2,
       "version_minor": 0
      },
      "text/plain": [
       "Map:   0%|          | 0/222 [00:00<?, ? examples/s]"
      ]
     },
     "metadata": {},
     "output_type": "display_data"
    },
    {
     "data": {
      "application/vnd.jupyter.widget-view+json": {
       "model_id": "",
       "version_major": 2,
       "version_minor": 0
      },
      "text/plain": [
       "Map:   0%|          | 0/743 [00:00<?, ? examples/s]"
      ]
     },
     "metadata": {},
     "output_type": "display_data"
    },
    {
     "data": {
      "application/vnd.jupyter.widget-view+json": {
       "model_id": "",
       "version_major": 2,
       "version_minor": 0
      },
      "text/plain": [
       "Map:   0%|          | 0/743 [00:00<?, ? examples/s]"
      ]
     },
     "metadata": {},
     "output_type": "display_data"
    },
    {
     "data": {
      "application/vnd.jupyter.widget-view+json": {
       "model_id": "",
       "version_major": 2,
       "version_minor": 0
      },
      "text/plain": [
       "Map:   0%|          | 0/743 [00:00<?, ? examples/s]"
      ]
     },
     "metadata": {},
     "output_type": "display_data"
    },
    {
     "data": {
      "application/vnd.jupyter.widget-view+json": {
       "model_id": "",
       "version_major": 2,
       "version_minor": 0
      },
      "text/plain": [
       "Saving the dataset (0/1 shards):   0%|          | 0/743 [00:00<?, ? examples/s]"
      ]
     },
     "metadata": {},
     "output_type": "display_data"
    },
    {
     "data": {
      "application/vnd.jupyter.widget-view+json": {
       "model_id": "",
       "version_major": 2,
       "version_minor": 0
      },
      "text/plain": [
       "Saving the dataset (0/1 shards):   0%|          | 0/743 [00:00<?, ? examples/s]"
      ]
     },
     "metadata": {},
     "output_type": "display_data"
    },
    {
     "data": {
      "application/vnd.jupyter.widget-view+json": {
       "model_id": "",
       "version_major": 2,
       "version_minor": 0
      },
      "text/plain": [
       "Saving the dataset (0/1 shards):   0%|          | 0/658 [00:00<?, ? examples/s]"
      ]
     },
     "metadata": {},
     "output_type": "display_data"
    },
    {
     "data": {
      "application/vnd.jupyter.widget-view+json": {
       "model_id": "",
       "version_major": 2,
       "version_minor": 0
      },
      "text/plain": [
       "Saving the dataset (0/1 shards):   0%|          | 0/743 [00:00<?, ? examples/s]"
      ]
     },
     "metadata": {},
     "output_type": "display_data"
    },
    {
     "data": {
      "application/vnd.jupyter.widget-view+json": {
       "model_id": "",
       "version_major": 2,
       "version_minor": 0
      },
      "text/plain": [
       "Saving the dataset (0/1 shards):   0%|          | 0/743 [00:00<?, ? examples/s]"
      ]
     },
     "metadata": {},
     "output_type": "display_data"
    },
    {
     "data": {
      "application/vnd.jupyter.widget-view+json": {
       "model_id": "",
       "version_major": 2,
       "version_minor": 0
      },
      "text/plain": [
       "Saving the dataset (0/1 shards):   0%|          | 0/585 [00:00<?, ? examples/s]"
      ]
     },
     "metadata": {},
     "output_type": "display_data"
    },
    {
     "data": {
      "application/vnd.jupyter.widget-view+json": {
       "model_id": "",
       "version_major": 2,
       "version_minor": 0
      },
      "text/plain": [
       "Saving the dataset (0/1 shards):   0%|          | 0/222 [00:00<?, ? examples/s]"
      ]
     },
     "metadata": {},
     "output_type": "display_data"
    },
    {
     "data": {
      "application/vnd.jupyter.widget-view+json": {
       "model_id": "",
       "version_major": 2,
       "version_minor": 0
      },
      "text/plain": [
       "Saving the dataset (0/1 shards):   0%|          | 0/743 [00:00<?, ? examples/s]"
      ]
     },
     "metadata": {},
     "output_type": "display_data"
    },
    {
     "data": {
      "application/vnd.jupyter.widget-view+json": {
       "model_id": "",
       "version_major": 2,
       "version_minor": 0
      },
      "text/plain": [
       "Saving the dataset (0/1 shards):   0%|          | 0/743 [00:00<?, ? examples/s]"
      ]
     },
     "metadata": {},
     "output_type": "display_data"
    },
    {
     "data": {
      "application/vnd.jupyter.widget-view+json": {
       "model_id": "",
       "version_major": 2,
       "version_minor": 0
      },
      "text/plain": [
       "Saving the dataset (0/1 shards):   0%|          | 0/743 [00:00<?, ? examples/s]"
      ]
     },
     "metadata": {},
     "output_type": "display_data"
    },
    {
     "data": {
      "application/vnd.jupyter.widget-view+json": {
       "model_id": "",
       "version_major": 2,
       "version_minor": 0
      },
      "text/plain": [
       "Map:   0%|          | 0/743 [00:00<?, ? examples/s]"
      ]
     },
     "metadata": {},
     "output_type": "display_data"
    },
    {
     "data": {
      "application/vnd.jupyter.widget-view+json": {
       "model_id": "",
       "version_major": 2,
       "version_minor": 0
      },
      "text/plain": [
       "Map:   0%|          | 0/743 [00:00<?, ? examples/s]"
      ]
     },
     "metadata": {},
     "output_type": "display_data"
    },
    {
     "data": {
      "application/vnd.jupyter.widget-view+json": {
       "model_id": "",
       "version_major": 2,
       "version_minor": 0
      },
      "text/plain": [
       "Map:   0%|          | 0/658 [00:00<?, ? examples/s]"
      ]
     },
     "metadata": {},
     "output_type": "display_data"
    },
    {
     "data": {
      "application/vnd.jupyter.widget-view+json": {
       "model_id": "",
       "version_major": 2,
       "version_minor": 0
      },
      "text/plain": [
       "Map:   0%|          | 0/743 [00:00<?, ? examples/s]"
      ]
     },
     "metadata": {},
     "output_type": "display_data"
    },
    {
     "data": {
      "application/vnd.jupyter.widget-view+json": {
       "model_id": "",
       "version_major": 2,
       "version_minor": 0
      },
      "text/plain": [
       "Map:   0%|          | 0/743 [00:00<?, ? examples/s]"
      ]
     },
     "metadata": {},
     "output_type": "display_data"
    },
    {
     "data": {
      "application/vnd.jupyter.widget-view+json": {
       "model_id": "",
       "version_major": 2,
       "version_minor": 0
      },
      "text/plain": [
       "Map:   0%|          | 0/585 [00:00<?, ? examples/s]"
      ]
     },
     "metadata": {},
     "output_type": "display_data"
    },
    {
     "data": {
      "application/vnd.jupyter.widget-view+json": {
       "model_id": "",
       "version_major": 2,
       "version_minor": 0
      },
      "text/plain": [
       "Map:   0%|          | 0/222 [00:00<?, ? examples/s]"
      ]
     },
     "metadata": {},
     "output_type": "display_data"
    },
    {
     "data": {
      "application/vnd.jupyter.widget-view+json": {
       "model_id": "",
       "version_major": 2,
       "version_minor": 0
      },
      "text/plain": [
       "Map:   0%|          | 0/743 [00:00<?, ? examples/s]"
      ]
     },
     "metadata": {},
     "output_type": "display_data"
    },
    {
     "data": {
      "application/vnd.jupyter.widget-view+json": {
       "model_id": "",
       "version_major": 2,
       "version_minor": 0
      },
      "text/plain": [
       "Map:   0%|          | 0/743 [00:00<?, ? examples/s]"
      ]
     },
     "metadata": {},
     "output_type": "display_data"
    },
    {
     "data": {
      "application/vnd.jupyter.widget-view+json": {
       "model_id": "",
       "version_major": 2,
       "version_minor": 0
      },
      "text/plain": [
       "Map:   0%|          | 0/743 [00:00<?, ? examples/s]"
      ]
     },
     "metadata": {},
     "output_type": "display_data"
    },
    {
     "data": {
      "application/vnd.jupyter.widget-view+json": {
       "model_id": "",
       "version_major": 2,
       "version_minor": 0
      },
      "text/plain": [
       "Saving the dataset (0/1 shards):   0%|          | 0/743 [00:00<?, ? examples/s]"
      ]
     },
     "metadata": {},
     "output_type": "display_data"
    },
    {
     "data": {
      "application/vnd.jupyter.widget-view+json": {
       "model_id": "",
       "version_major": 2,
       "version_minor": 0
      },
      "text/plain": [
       "Saving the dataset (0/1 shards):   0%|          | 0/743 [00:00<?, ? examples/s]"
      ]
     },
     "metadata": {},
     "output_type": "display_data"
    },
    {
     "data": {
      "application/vnd.jupyter.widget-view+json": {
       "model_id": "",
       "version_major": 2,
       "version_minor": 0
      },
      "text/plain": [
       "Saving the dataset (0/1 shards):   0%|          | 0/658 [00:00<?, ? examples/s]"
      ]
     },
     "metadata": {},
     "output_type": "display_data"
    },
    {
     "data": {
      "application/vnd.jupyter.widget-view+json": {
       "model_id": "",
       "version_major": 2,
       "version_minor": 0
      },
      "text/plain": [
       "Saving the dataset (0/1 shards):   0%|          | 0/743 [00:00<?, ? examples/s]"
      ]
     },
     "metadata": {},
     "output_type": "display_data"
    },
    {
     "data": {
      "application/vnd.jupyter.widget-view+json": {
       "model_id": "",
       "version_major": 2,
       "version_minor": 0
      },
      "text/plain": [
       "Saving the dataset (0/1 shards):   0%|          | 0/743 [00:00<?, ? examples/s]"
      ]
     },
     "metadata": {},
     "output_type": "display_data"
    },
    {
     "data": {
      "application/vnd.jupyter.widget-view+json": {
       "model_id": "",
       "version_major": 2,
       "version_minor": 0
      },
      "text/plain": [
       "Saving the dataset (0/1 shards):   0%|          | 0/585 [00:00<?, ? examples/s]"
      ]
     },
     "metadata": {},
     "output_type": "display_data"
    },
    {
     "data": {
      "application/vnd.jupyter.widget-view+json": {
       "model_id": "",
       "version_major": 2,
       "version_minor": 0
      },
      "text/plain": [
       "Saving the dataset (0/1 shards):   0%|          | 0/222 [00:00<?, ? examples/s]"
      ]
     },
     "metadata": {},
     "output_type": "display_data"
    },
    {
     "data": {
      "application/vnd.jupyter.widget-view+json": {
       "model_id": "",
       "version_major": 2,
       "version_minor": 0
      },
      "text/plain": [
       "Saving the dataset (0/1 shards):   0%|          | 0/743 [00:00<?, ? examples/s]"
      ]
     },
     "metadata": {},
     "output_type": "display_data"
    },
    {
     "data": {
      "application/vnd.jupyter.widget-view+json": {
       "model_id": "",
       "version_major": 2,
       "version_minor": 0
      },
      "text/plain": [
       "Saving the dataset (0/1 shards):   0%|          | 0/743 [00:00<?, ? examples/s]"
      ]
     },
     "metadata": {},
     "output_type": "display_data"
    },
    {
     "data": {
      "application/vnd.jupyter.widget-view+json": {
       "model_id": "",
       "version_major": 2,
       "version_minor": 0
      },
      "text/plain": [
       "Saving the dataset (0/1 shards):   0%|          | 0/743 [00:00<?, ? examples/s]"
      ]
     },
     "metadata": {},
     "output_type": "display_data"
    }
   ],
   "source": [
    "####\n",
    "# AmericasNLI - XNLI Combined\n",
    "####\n",
    "\n",
    "# Spanish\n",
    "save_path = '.'\n",
    "\n",
    "# Cannot use the XNLI from HuggingFace, somehow the results are not aligned,\n",
    "# so we use the original XNLI file (https://dl.fbaipublicfiles.com/XNLI/XNLI-1.0.zip) instead\n",
    "xnli_df = pd.read_csv('XNLI-1.0/xnli.dev.tsv', sep='\\t').reset_index()\n",
    "americasnli_combined_spa_dset = {}\n",
    "for key in americasnli_dset.keys():\n",
    "    anli_df = pd.read_csv(f'https://github.com/abteen/americasnli/raw/main/data/anli_final/dev/{key}.tsv', sep='\\t')\n",
    "    anli_dset = datasets.Dataset.from_pandas(\n",
    "        anli_df[['premise', 'hypothesis', 'label']].rename({\n",
    "            'premise': 'premise_1', 'hypothesis': 'hypothesis_1'\n",
    "        }, axis='columns')\n",
    "    )    \n",
    "    \n",
    "    xnli_dset = datasets.Dataset.from_pandas(\n",
    "        xnli_df.loc[anli_df.id-1, ['sentence1', 'sentence2']].rename({\n",
    "            'sentence1': 'premise_2', 'sentence2': 'hypothesis_2'\n",
    "        }, axis='columns')\n",
    "    ).remove_columns('__index_level_0__')\n",
    "    americasnli_combined_spa_dset[key] = datasets.concatenate_datasets([anli_dset, xnli_dset], axis=1)\n",
    "americasnli_combined_spa_dset = datasets.DatasetDict(americasnli_combined_spa_dset)\n",
    "americasnli_combined_spa_dset = americasnli_combined_spa_dset.map(label_eng2spa)\n",
    "americasnli_combined_spa_dset.save_to_disk(f'{save_path}/americasnli_combined_dev_spa_dset')\n",
    "\n",
    "# English\n",
    "xnli_df = pd.read_csv('XNLI-1.0/xnli.dev.tsv', sep='\\t').reset_index()\n",
    "americasnli_combined_eng_dset = {}\n",
    "for key in americasnli_dset.keys():\n",
    "    anli_df = pd.read_csv(f'https://github.com/abteen/americasnli/raw/main/data/anli_final/dev/{key}.tsv', sep='\\t')\n",
    "    anli_dset = datasets.Dataset.from_pandas(\n",
    "        anli_df[['premise', 'hypothesis', 'label']].rename({\n",
    "            'premise': 'premise_1', 'hypothesis': 'hypothesis_1'\n",
    "        }, axis='columns')\n",
    "    )    \n",
    "    \n",
    "    xnli_dset = datasets.Dataset.from_pandas(\n",
    "        xnli_df.loc[anli_df.id-2491, ['sentence1', 'sentence2']].rename({\n",
    "            'sentence1': 'premise_2', 'sentence2': 'hypothesis_2'\n",
    "        }, axis='columns')\n",
    "    ).remove_columns('__index_level_0__')\n",
    "    americasnli_combined_eng_dset[key] = datasets.concatenate_datasets([anli_dset, xnli_dset], axis=1)\n",
    "americasnli_combined_eng_dset = datasets.DatasetDict(americasnli_combined_spa_dset)\n",
    "americasnli_combined_eng_dset.save_to_disk(f'{save_path}/americasnli_combined_dev_eng_dset')"
   ]
  },
  {
   "cell_type": "code",
   "execution_count": 10,
   "id": "bec039f4-a7d9-4cf8-960a-dbeaebd57df1",
   "metadata": {
    "tags": []
   },
   "outputs": [
    {
     "data": {
      "application/vnd.jupyter.widget-view+json": {
       "model_id": "",
       "version_major": 2,
       "version_minor": 0
      },
      "text/plain": [
       "Saving the dataset (0/1 shards):   0%|          | 0/1936 [00:00<?, ? examples/s]"
      ]
     },
     "metadata": {},
     "output_type": "display_data"
    },
    {
     "data": {
      "application/vnd.jupyter.widget-view+json": {
       "model_id": "",
       "version_major": 2,
       "version_minor": 0
      },
      "text/plain": [
       "Saving the dataset (0/1 shards):   0%|          | 0/8665 [00:00<?, ? examples/s]"
      ]
     },
     "metadata": {},
     "output_type": "display_data"
    },
    {
     "data": {
      "application/vnd.jupyter.widget-view+json": {
       "model_id": "",
       "version_major": 2,
       "version_minor": 0
      },
      "text/plain": [
       "Saving the dataset (0/1 shards):   0%|          | 0/9998 [00:00<?, ? examples/s]"
      ]
     },
     "metadata": {},
     "output_type": "display_data"
    },
    {
     "data": {
      "application/vnd.jupyter.widget-view+json": {
       "model_id": "",
       "version_major": 2,
       "version_minor": 0
      },
      "text/plain": [
       "Saving the dataset (0/1 shards):   0%|          | 0/7075 [00:00<?, ? examples/s]"
      ]
     },
     "metadata": {},
     "output_type": "display_data"
    },
    {
     "data": {
      "application/vnd.jupyter.widget-view+json": {
       "model_id": "",
       "version_major": 2,
       "version_minor": 0
      },
      "text/plain": [
       "Saving the dataset (0/1 shards):   0%|          | 0/7838 [00:00<?, ? examples/s]"
      ]
     },
     "metadata": {},
     "output_type": "display_data"
    },
    {
     "data": {
      "application/vnd.jupyter.widget-view+json": {
       "model_id": "",
       "version_major": 2,
       "version_minor": 0
      },
      "text/plain": [
       "Saving the dataset (0/1 shards):   0%|          | 0/1561 [00:00<?, ? examples/s]"
      ]
     },
     "metadata": {},
     "output_type": "display_data"
    },
    {
     "data": {
      "application/vnd.jupyter.widget-view+json": {
       "model_id": "",
       "version_major": 2,
       "version_minor": 0
      },
      "text/plain": [
       "Saving the dataset (0/1 shards):   0%|          | 0/34408 [00:00<?, ? examples/s]"
      ]
     },
     "metadata": {},
     "output_type": "display_data"
    },
    {
     "data": {
      "application/vnd.jupyter.widget-view+json": {
       "model_id": "",
       "version_major": 2,
       "version_minor": 0
      },
      "text/plain": [
       "Saving the dataset (0/1 shards):   0%|          | 0/1488 [00:00<?, ? examples/s]"
      ]
     },
     "metadata": {},
     "output_type": "display_data"
    },
    {
     "data": {
      "application/vnd.jupyter.widget-view+json": {
       "model_id": "",
       "version_major": 2,
       "version_minor": 0
      },
      "text/plain": [
       "Saving the dataset (0/1 shards):   0%|          | 0/9746 [00:00<?, ? examples/s]"
      ]
     },
     "metadata": {},
     "output_type": "display_data"
    }
   ],
   "source": [
    "####\n",
    "# MAFAND Random Label\n",
    "####\n",
    "random.seed(12345)\n",
    "save_path = '.'\n",
    "\n",
    "# Process MAFAND\n",
    "mafand_dset_clean = {}\n",
    "for key in mafand_dset.keys():\n",
    "    label_names = masakhanews_dset[key]['train'].features['label'].names\n",
    "    tmp_dset = {'text_1': [], 'text_2': [], 'label': []}\n",
    "    for split in mafand_dset[key].keys():        \n",
    "        for i in range(len(mafand_dset[key][split])):\n",
    "            tmp_dset['text_1'].append(mafand_dset[key][split][i]['translation'][key])\n",
    "            tmp_dset['text_2'].append(mafand_dset[key][split][i]['translation']['en'])\n",
    "            tmp_dset['label'].append(random.choice(label_names))\n",
    "    mafand_dset_clean[key] = datasets.Dataset.from_dict(tmp_dset)\n",
    "mafand_dset_clean = datasets.DatasetDict(mafand_dset_clean)\n",
    "mafand_dset_clean.save_to_disk(f'{save_path}/mafand_rand_label_dset')"
   ]
  },
  {
   "cell_type": "code",
   "execution_count": 23,
   "id": "4a64e0f9-b8ef-4679-b805-cc19fb960a0d",
   "metadata": {},
   "outputs": [
    {
     "data": {
      "application/vnd.jupyter.widget-view+json": {
       "model_id": "",
       "version_major": 2,
       "version_minor": 0
      },
      "text/plain": [
       "Map:   0%|          | 0/743 [00:00<?, ? examples/s]"
      ]
     },
     "metadata": {},
     "output_type": "display_data"
    },
    {
     "data": {
      "application/vnd.jupyter.widget-view+json": {
       "model_id": "",
       "version_major": 2,
       "version_minor": 0
      },
      "text/plain": [
       "Map:   0%|          | 0/743 [00:00<?, ? examples/s]"
      ]
     },
     "metadata": {},
     "output_type": "display_data"
    },
    {
     "data": {
      "application/vnd.jupyter.widget-view+json": {
       "model_id": "",
       "version_major": 2,
       "version_minor": 0
      },
      "text/plain": [
       "Map:   0%|          | 0/658 [00:00<?, ? examples/s]"
      ]
     },
     "metadata": {},
     "output_type": "display_data"
    },
    {
     "data": {
      "application/vnd.jupyter.widget-view+json": {
       "model_id": "",
       "version_major": 2,
       "version_minor": 0
      },
      "text/plain": [
       "Map:   0%|          | 0/743 [00:00<?, ? examples/s]"
      ]
     },
     "metadata": {},
     "output_type": "display_data"
    },
    {
     "data": {
      "application/vnd.jupyter.widget-view+json": {
       "model_id": "",
       "version_major": 2,
       "version_minor": 0
      },
      "text/plain": [
       "Map:   0%|          | 0/743 [00:00<?, ? examples/s]"
      ]
     },
     "metadata": {},
     "output_type": "display_data"
    },
    {
     "data": {
      "application/vnd.jupyter.widget-view+json": {
       "model_id": "",
       "version_major": 2,
       "version_minor": 0
      },
      "text/plain": [
       "Map:   0%|          | 0/585 [00:00<?, ? examples/s]"
      ]
     },
     "metadata": {},
     "output_type": "display_data"
    },
    {
     "data": {
      "application/vnd.jupyter.widget-view+json": {
       "model_id": "",
       "version_major": 2,
       "version_minor": 0
      },
      "text/plain": [
       "Map:   0%|          | 0/222 [00:00<?, ? examples/s]"
      ]
     },
     "metadata": {},
     "output_type": "display_data"
    },
    {
     "data": {
      "application/vnd.jupyter.widget-view+json": {
       "model_id": "",
       "version_major": 2,
       "version_minor": 0
      },
      "text/plain": [
       "Map:   0%|          | 0/743 [00:00<?, ? examples/s]"
      ]
     },
     "metadata": {},
     "output_type": "display_data"
    },
    {
     "data": {
      "application/vnd.jupyter.widget-view+json": {
       "model_id": "",
       "version_major": 2,
       "version_minor": 0
      },
      "text/plain": [
       "Map:   0%|          | 0/743 [00:00<?, ? examples/s]"
      ]
     },
     "metadata": {},
     "output_type": "display_data"
    },
    {
     "data": {
      "application/vnd.jupyter.widget-view+json": {
       "model_id": "",
       "version_major": 2,
       "version_minor": 0
      },
      "text/plain": [
       "Map:   0%|          | 0/743 [00:00<?, ? examples/s]"
      ]
     },
     "metadata": {},
     "output_type": "display_data"
    },
    {
     "data": {
      "application/vnd.jupyter.widget-view+json": {
       "model_id": "",
       "version_major": 2,
       "version_minor": 0
      },
      "text/plain": [
       "Saving the dataset (0/1 shards):   0%|          | 0/743 [00:00<?, ? examples/s]"
      ]
     },
     "metadata": {},
     "output_type": "display_data"
    },
    {
     "data": {
      "application/vnd.jupyter.widget-view+json": {
       "model_id": "",
       "version_major": 2,
       "version_minor": 0
      },
      "text/plain": [
       "Saving the dataset (0/1 shards):   0%|          | 0/743 [00:00<?, ? examples/s]"
      ]
     },
     "metadata": {},
     "output_type": "display_data"
    },
    {
     "data": {
      "application/vnd.jupyter.widget-view+json": {
       "model_id": "",
       "version_major": 2,
       "version_minor": 0
      },
      "text/plain": [
       "Saving the dataset (0/1 shards):   0%|          | 0/658 [00:00<?, ? examples/s]"
      ]
     },
     "metadata": {},
     "output_type": "display_data"
    },
    {
     "data": {
      "application/vnd.jupyter.widget-view+json": {
       "model_id": "",
       "version_major": 2,
       "version_minor": 0
      },
      "text/plain": [
       "Saving the dataset (0/1 shards):   0%|          | 0/743 [00:00<?, ? examples/s]"
      ]
     },
     "metadata": {},
     "output_type": "display_data"
    },
    {
     "data": {
      "application/vnd.jupyter.widget-view+json": {
       "model_id": "",
       "version_major": 2,
       "version_minor": 0
      },
      "text/plain": [
       "Saving the dataset (0/1 shards):   0%|          | 0/743 [00:00<?, ? examples/s]"
      ]
     },
     "metadata": {},
     "output_type": "display_data"
    },
    {
     "data": {
      "application/vnd.jupyter.widget-view+json": {
       "model_id": "",
       "version_major": 2,
       "version_minor": 0
      },
      "text/plain": [
       "Saving the dataset (0/1 shards):   0%|          | 0/585 [00:00<?, ? examples/s]"
      ]
     },
     "metadata": {},
     "output_type": "display_data"
    },
    {
     "data": {
      "application/vnd.jupyter.widget-view+json": {
       "model_id": "",
       "version_major": 2,
       "version_minor": 0
      },
      "text/plain": [
       "Saving the dataset (0/1 shards):   0%|          | 0/222 [00:00<?, ? examples/s]"
      ]
     },
     "metadata": {},
     "output_type": "display_data"
    },
    {
     "data": {
      "application/vnd.jupyter.widget-view+json": {
       "model_id": "",
       "version_major": 2,
       "version_minor": 0
      },
      "text/plain": [
       "Saving the dataset (0/1 shards):   0%|          | 0/743 [00:00<?, ? examples/s]"
      ]
     },
     "metadata": {},
     "output_type": "display_data"
    },
    {
     "data": {
      "application/vnd.jupyter.widget-view+json": {
       "model_id": "",
       "version_major": 2,
       "version_minor": 0
      },
      "text/plain": [
       "Saving the dataset (0/1 shards):   0%|          | 0/743 [00:00<?, ? examples/s]"
      ]
     },
     "metadata": {},
     "output_type": "display_data"
    },
    {
     "data": {
      "application/vnd.jupyter.widget-view+json": {
       "model_id": "",
       "version_major": 2,
       "version_minor": 0
      },
      "text/plain": [
       "Saving the dataset (0/1 shards):   0%|          | 0/743 [00:00<?, ? examples/s]"
      ]
     },
     "metadata": {},
     "output_type": "display_data"
    },
    {
     "data": {
      "application/vnd.jupyter.widget-view+json": {
       "model_id": "",
       "version_major": 2,
       "version_minor": 0
      },
      "text/plain": [
       "Saving the dataset (0/1 shards):   0%|          | 0/743 [00:00<?, ? examples/s]"
      ]
     },
     "metadata": {},
     "output_type": "display_data"
    },
    {
     "data": {
      "application/vnd.jupyter.widget-view+json": {
       "model_id": "",
       "version_major": 2,
       "version_minor": 0
      },
      "text/plain": [
       "Saving the dataset (0/1 shards):   0%|          | 0/743 [00:00<?, ? examples/s]"
      ]
     },
     "metadata": {},
     "output_type": "display_data"
    },
    {
     "data": {
      "application/vnd.jupyter.widget-view+json": {
       "model_id": "",
       "version_major": 2,
       "version_minor": 0
      },
      "text/plain": [
       "Saving the dataset (0/1 shards):   0%|          | 0/658 [00:00<?, ? examples/s]"
      ]
     },
     "metadata": {},
     "output_type": "display_data"
    },
    {
     "data": {
      "application/vnd.jupyter.widget-view+json": {
       "model_id": "",
       "version_major": 2,
       "version_minor": 0
      },
      "text/plain": [
       "Saving the dataset (0/1 shards):   0%|          | 0/743 [00:00<?, ? examples/s]"
      ]
     },
     "metadata": {},
     "output_type": "display_data"
    },
    {
     "data": {
      "application/vnd.jupyter.widget-view+json": {
       "model_id": "",
       "version_major": 2,
       "version_minor": 0
      },
      "text/plain": [
       "Saving the dataset (0/1 shards):   0%|          | 0/743 [00:00<?, ? examples/s]"
      ]
     },
     "metadata": {},
     "output_type": "display_data"
    },
    {
     "data": {
      "application/vnd.jupyter.widget-view+json": {
       "model_id": "",
       "version_major": 2,
       "version_minor": 0
      },
      "text/plain": [
       "Saving the dataset (0/1 shards):   0%|          | 0/585 [00:00<?, ? examples/s]"
      ]
     },
     "metadata": {},
     "output_type": "display_data"
    },
    {
     "data": {
      "application/vnd.jupyter.widget-view+json": {
       "model_id": "",
       "version_major": 2,
       "version_minor": 0
      },
      "text/plain": [
       "Saving the dataset (0/1 shards):   0%|          | 0/222 [00:00<?, ? examples/s]"
      ]
     },
     "metadata": {},
     "output_type": "display_data"
    },
    {
     "data": {
      "application/vnd.jupyter.widget-view+json": {
       "model_id": "",
       "version_major": 2,
       "version_minor": 0
      },
      "text/plain": [
       "Saving the dataset (0/1 shards):   0%|          | 0/743 [00:00<?, ? examples/s]"
      ]
     },
     "metadata": {},
     "output_type": "display_data"
    },
    {
     "data": {
      "application/vnd.jupyter.widget-view+json": {
       "model_id": "",
       "version_major": 2,
       "version_minor": 0
      },
      "text/plain": [
       "Saving the dataset (0/1 shards):   0%|          | 0/743 [00:00<?, ? examples/s]"
      ]
     },
     "metadata": {},
     "output_type": "display_data"
    },
    {
     "data": {
      "application/vnd.jupyter.widget-view+json": {
       "model_id": "",
       "version_major": 2,
       "version_minor": 0
      },
      "text/plain": [
       "Saving the dataset (0/1 shards):   0%|          | 0/743 [00:00<?, ? examples/s]"
      ]
     },
     "metadata": {},
     "output_type": "display_data"
    }
   ],
   "source": [
    "####\n",
    "# AmericasNLI - XNLI Combined\n",
    "####\n",
    "\n",
    "# Spanish\n",
    "save_path = '.'\n",
    "\n",
    "# Cannot use the XNLI from HuggingFace, somehow the results are not aligned,\n",
    "# so we use the original XNLI file (https://dl.fbaipublicfiles.com/XNLI/XNLI-1.0.zip) instead\n",
    "xnli_df = pd.read_csv('XNLI-1.0/xnli.dev.tsv', sep='\\t').reset_index()\n",
    "americasnli_combined_spa_dset = {}\n",
    "for key in americasnli_dset.keys():\n",
    "    anli_df = pd.read_csv(f'https://github.com/abteen/americasnli/raw/main/data/anli_final/dev/{key}.tsv', sep='\\t')\n",
    "    anli_dset = datasets.Dataset.from_pandas(\n",
    "        anli_df[['premise', 'hypothesis', 'label']].rename({\n",
    "            'premise': 'premise_1', 'hypothesis': 'hypothesis_1'\n",
    "        }, axis='columns')\n",
    "    )    \n",
    "    \n",
    "    xnli_dset = datasets.Dataset.from_pandas(\n",
    "        xnli_df.loc[anli_df.id-1, ['sentence1', 'sentence2']].rename({\n",
    "            'sentence1': 'premise_2', 'sentence2': 'hypothesis_2'\n",
    "        }, axis='columns')\n",
    "    ).remove_columns('__index_level_0__')\n",
    "    americasnli_combined_spa_dset[key] = datasets.concatenate_datasets([anli_dset, xnli_dset], axis=1)\n",
    "americasnli_combined_spa_dset = datasets.DatasetDict(americasnli_combined_spa_dset)\n",
    "americasnli_combined_spa_dset = americasnli_combined_spa_dset.map(label_eng2spa)\n",
    "americasnli_combined_spa_dset.save_to_disk(f'{save_path}/americasnli_combined_dev_spa_dset')\n",
    "\n",
    "# English\n",
    "xnli_df = pd.read_csv('XNLI-1.0/xnli.dev.tsv', sep='\\t').reset_index()\n",
    "americasnli_combined_eng_dset = {}\n",
    "for key in americasnli_dset.keys():\n",
    "    anli_df = pd.read_csv(f'https://github.com/abteen/americasnli/raw/main/data/anli_final/dev/{key}.tsv', sep='\\t')\n",
    "    anli_dset = datasets.Dataset.from_pandas(\n",
    "        anli_df[['premise', 'hypothesis', 'label']].rename({\n",
    "            'premise': 'premise_1', 'hypothesis': 'hypothesis_1'\n",
    "        }, axis='columns')\n",
    "    )    \n",
    "    \n",
    "    xnli_dset = datasets.Dataset.from_pandas(\n",
    "        xnli_df.loc[anli_df.id-2491, ['sentence1', 'sentence2']].rename({\n",
    "            'sentence1': 'premise_2', 'sentence2': 'hypothesis_2'\n",
    "        }, axis='columns')\n",
    "    ).remove_columns('__index_level_0__')\n",
    "    americasnli_combined_eng_dset[key] = datasets.concatenate_datasets([anli_dset, xnli_dset], axis=1)\n",
    "americasnli_combined_eng_dset = datasets.DatasetDict(americasnli_combined_eng_dset)\n",
    "americasnli_combined_eng_dset.save_to_disk(f'{save_path}/americasnli_combined_dev_eng_dset')"
   ]
  },
  {
   "cell_type": "code",
   "execution_count": null,
   "id": "322b2a7c-f703-474a-8a04-99135596f379",
   "metadata": {},
   "outputs": [],
   "source": []
  }
 ],
 "metadata": {
  "kernelspec": {
   "display_name": "Python (env_instruct_align)",
   "language": "python",
   "name": "env_instruct_align"
  },
  "language_info": {
   "codemirror_mode": {
    "name": "ipython",
    "version": 3
   },
   "file_extension": ".py",
   "mimetype": "text/x-python",
   "name": "python",
   "nbconvert_exporter": "python",
   "pygments_lexer": "ipython3",
   "version": "3.10.4"
  }
 },
 "nbformat": 4,
 "nbformat_minor": 5
}
