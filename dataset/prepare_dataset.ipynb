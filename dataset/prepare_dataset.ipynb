{
 "cells": [
  {
   "cell_type": "code",
   "execution_count": 1,
   "id": "54f39529-44af-440d-b721-a06d1424fce4",
   "metadata": {},
   "outputs": [],
   "source": [
    "import os, sys\n",
    "import pandas as pd\n",
    "import numpy as np\n",
    "import torch\n",
    "import datasets\n",
    "from datasets import load_dataset"
   ]
  },
  {
   "cell_type": "code",
   "execution_count": 2,
   "id": "ba7fe3d9-884c-4465-a513-c25631bb119b",
   "metadata": {},
   "outputs": [],
   "source": [
    "# Download XNLI Data\n",
    "!wget https://dl.fbaipublicfiles.com/XNLI/XNLI-1.0.zip\n",
    "!unzip XNLI-1.0.zip"
   ]
  },
  {
   "cell_type": "markdown",
   "id": "7538b05f-6644-4ef2-9b03-127cc5d5e65e",
   "metadata": {},
   "source": [
    "# Load Dataset"
   ]
  },
  {
   "cell_type": "code",
   "execution_count": null,
   "id": "a738ba5a-624f-4428-8f13-992fcf9d977f",
   "metadata": {
    "tags": []
   },
   "outputs": [
    {
     "name": "stderr",
     "output_type": "stream",
     "text": [
      "Found cached dataset nusatranslation_senti (/home/samuel/.cache/huggingface/datasets/indonlp___nusatranslation_senti/nusatranslation_senti_btk_nusantara_text/1.0.0/84380b9fe1509e8d8d8c7c3c6d475f39181456c63a2fad48e88ceb95a642c952)\n"
     ]
    },
    {
     "data": {
      "application/vnd.jupyter.widget-view+json": {
       "model_id": "302ae6ef4f704306878c424e8c8a0d95",
       "version_major": 2,
       "version_minor": 0
      },
      "text/plain": [
       "  0%|          | 0/3 [00:00<?, ?it/s]"
      ]
     },
     "metadata": {},
     "output_type": "display_data"
    },
    {
     "name": "stderr",
     "output_type": "stream",
     "text": [
      "Found cached dataset nusatranslation_senti (/home/samuel/.cache/huggingface/datasets/indonlp___nusatranslation_senti/nusatranslation_senti_sun_nusantara_text/1.0.0/84380b9fe1509e8d8d8c7c3c6d475f39181456c63a2fad48e88ceb95a642c952)\n"
     ]
    },
    {
     "data": {
      "application/vnd.jupyter.widget-view+json": {
       "model_id": "c5377c520c514b21b94a99ba8839050a",
       "version_major": 2,
       "version_minor": 0
      },
      "text/plain": [
       "  0%|          | 0/3 [00:00<?, ?it/s]"
      ]
     },
     "metadata": {},
     "output_type": "display_data"
    },
    {
     "name": "stderr",
     "output_type": "stream",
     "text": [
      "Found cached dataset nusatranslation_senti (/home/samuel/.cache/huggingface/datasets/indonlp___nusatranslation_senti/nusatranslation_senti_jav_nusantara_text/1.0.0/84380b9fe1509e8d8d8c7c3c6d475f39181456c63a2fad48e88ceb95a642c952)\n"
     ]
    },
    {
     "data": {
      "application/vnd.jupyter.widget-view+json": {
       "model_id": "5228bcad1d8f4b9a8d9724c2dcb68ec1",
       "version_major": 2,
       "version_minor": 0
      },
      "text/plain": [
       "  0%|          | 0/3 [00:00<?, ?it/s]"
      ]
     },
     "metadata": {},
     "output_type": "display_data"
    },
    {
     "name": "stderr",
     "output_type": "stream",
     "text": [
      "Found cached dataset nusatranslation_senti (/home/samuel/.cache/huggingface/datasets/indonlp___nusatranslation_senti/nusatranslation_senti_mad_nusantara_text/1.0.0/84380b9fe1509e8d8d8c7c3c6d475f39181456c63a2fad48e88ceb95a642c952)\n"
     ]
    },
    {
     "data": {
      "application/vnd.jupyter.widget-view+json": {
       "model_id": "f5f58454bb0c43ae92bf69c90d8d1d91",
       "version_major": 2,
       "version_minor": 0
      },
      "text/plain": [
       "  0%|          | 0/3 [00:00<?, ?it/s]"
      ]
     },
     "metadata": {},
     "output_type": "display_data"
    },
    {
     "name": "stderr",
     "output_type": "stream",
     "text": [
      "Found cached dataset nusatranslation_senti (/home/samuel/.cache/huggingface/datasets/indonlp___nusatranslation_senti/nusatranslation_senti_mak_nusantara_text/1.0.0/84380b9fe1509e8d8d8c7c3c6d475f39181456c63a2fad48e88ceb95a642c952)\n"
     ]
    },
    {
     "data": {
      "application/vnd.jupyter.widget-view+json": {
       "model_id": "3ba84b33f917408988ca40fa755e9b6c",
       "version_major": 2,
       "version_minor": 0
      },
      "text/plain": [
       "  0%|          | 0/3 [00:00<?, ?it/s]"
      ]
     },
     "metadata": {},
     "output_type": "display_data"
    },
    {
     "name": "stderr",
     "output_type": "stream",
     "text": [
      "Found cached dataset nusatranslation_senti (/home/samuel/.cache/huggingface/datasets/indonlp___nusatranslation_senti/nusatranslation_senti_min_nusantara_text/1.0.0/84380b9fe1509e8d8d8c7c3c6d475f39181456c63a2fad48e88ceb95a642c952)\n"
     ]
    },
    {
     "data": {
      "application/vnd.jupyter.widget-view+json": {
       "model_id": "d2c41bc13052409796d732ebc18c90d7",
       "version_major": 2,
       "version_minor": 0
      },
      "text/plain": [
       "  0%|          | 0/3 [00:00<?, ?it/s]"
      ]
     },
     "metadata": {},
     "output_type": "display_data"
    },
    {
     "name": "stderr",
     "output_type": "stream",
     "text": [
      "Found cached dataset nusatranslation_mt (/home/samuel/.cache/huggingface/datasets/indonlp___nusatranslation_mt/nusatranslation_mt_btk_ind_nusantara_t2t/1.0.0/7bc55ca0431a2e37367c37eaadf3eb41305c25f22713b09932865f27d6b4c005)\n"
     ]
    },
    {
     "data": {
      "application/vnd.jupyter.widget-view+json": {
       "model_id": "68ab849f57e94b5c933aaedf838fec13",
       "version_major": 2,
       "version_minor": 0
      },
      "text/plain": [
       "  0%|          | 0/3 [00:00<?, ?it/s]"
      ]
     },
     "metadata": {},
     "output_type": "display_data"
    },
    {
     "name": "stderr",
     "output_type": "stream",
     "text": [
      "Found cached dataset nusatranslation_mt (/home/samuel/.cache/huggingface/datasets/indonlp___nusatranslation_mt/nusatranslation_mt_sun_ind_nusantara_t2t/1.0.0/7bc55ca0431a2e37367c37eaadf3eb41305c25f22713b09932865f27d6b4c005)\n"
     ]
    },
    {
     "data": {
      "application/vnd.jupyter.widget-view+json": {
       "model_id": "01112e2684514beeab3d34e62b507a98",
       "version_major": 2,
       "version_minor": 0
      },
      "text/plain": [
       "  0%|          | 0/3 [00:00<?, ?it/s]"
      ]
     },
     "metadata": {},
     "output_type": "display_data"
    },
    {
     "name": "stderr",
     "output_type": "stream",
     "text": [
      "Found cached dataset nusatranslation_mt (/home/samuel/.cache/huggingface/datasets/indonlp___nusatranslation_mt/nusatranslation_mt_jav_ind_nusantara_t2t/1.0.0/7bc55ca0431a2e37367c37eaadf3eb41305c25f22713b09932865f27d6b4c005)\n"
     ]
    },
    {
     "data": {
      "application/vnd.jupyter.widget-view+json": {
       "model_id": "7e4e32621cde4c16a7872256faa36747",
       "version_major": 2,
       "version_minor": 0
      },
      "text/plain": [
       "  0%|          | 0/3 [00:00<?, ?it/s]"
      ]
     },
     "metadata": {},
     "output_type": "display_data"
    },
    {
     "name": "stderr",
     "output_type": "stream",
     "text": [
      "Found cached dataset nusatranslation_mt (/home/samuel/.cache/huggingface/datasets/indonlp___nusatranslation_mt/nusatranslation_mt_mad_ind_nusantara_t2t/1.0.0/7bc55ca0431a2e37367c37eaadf3eb41305c25f22713b09932865f27d6b4c005)\n"
     ]
    },
    {
     "data": {
      "application/vnd.jupyter.widget-view+json": {
       "model_id": "7e905bf5e7034bd0827f53830334608c",
       "version_major": 2,
       "version_minor": 0
      },
      "text/plain": [
       "  0%|          | 0/3 [00:00<?, ?it/s]"
      ]
     },
     "metadata": {},
     "output_type": "display_data"
    },
    {
     "name": "stderr",
     "output_type": "stream",
     "text": [
      "Found cached dataset nusatranslation_mt (/home/samuel/.cache/huggingface/datasets/indonlp___nusatranslation_mt/nusatranslation_mt_mak_ind_nusantara_t2t/1.0.0/7bc55ca0431a2e37367c37eaadf3eb41305c25f22713b09932865f27d6b4c005)\n"
     ]
    },
    {
     "data": {
      "application/vnd.jupyter.widget-view+json": {
       "model_id": "8957f26737104fe3b0e20e9bbfb08270",
       "version_major": 2,
       "version_minor": 0
      },
      "text/plain": [
       "  0%|          | 0/3 [00:00<?, ?it/s]"
      ]
     },
     "metadata": {},
     "output_type": "display_data"
    },
    {
     "name": "stderr",
     "output_type": "stream",
     "text": [
      "Found cached dataset nusatranslation_mt (/home/samuel/.cache/huggingface/datasets/indonlp___nusatranslation_mt/nusatranslation_mt_min_ind_nusantara_t2t/1.0.0/7bc55ca0431a2e37367c37eaadf3eb41305c25f22713b09932865f27d6b4c005)\n"
     ]
    },
    {
     "data": {
      "application/vnd.jupyter.widget-view+json": {
       "model_id": "7a5df926dd194dc784fe528b5d33d68b",
       "version_major": 2,
       "version_minor": 0
      },
      "text/plain": [
       "  0%|          | 0/3 [00:00<?, ?it/s]"
      ]
     },
     "metadata": {},
     "output_type": "display_data"
    },
    {
     "name": "stderr",
     "output_type": "stream",
     "text": [
      "Found cached dataset nusa_x-senti (/home/samuel/.cache/huggingface/datasets/indonlp___nusa_x-senti/bbc/1.0.0/3477a395c5c7a09a74d897ceb96ebd2c3afbd1d7fad0c11d8b8026b8b08e3af5)\n"
     ]
    },
    {
     "data": {
      "application/vnd.jupyter.widget-view+json": {
       "model_id": "a1d69d0e12144e5b97473392236586d2",
       "version_major": 2,
       "version_minor": 0
      },
      "text/plain": [
       "  0%|          | 0/3 [00:00<?, ?it/s]"
      ]
     },
     "metadata": {},
     "output_type": "display_data"
    },
    {
     "name": "stderr",
     "output_type": "stream",
     "text": [
      "Found cached dataset nusa_x-senti (/home/samuel/.cache/huggingface/datasets/indonlp___nusa_x-senti/sun/1.0.0/3477a395c5c7a09a74d897ceb96ebd2c3afbd1d7fad0c11d8b8026b8b08e3af5)\n"
     ]
    },
    {
     "data": {
      "application/vnd.jupyter.widget-view+json": {
       "model_id": "ff31b90b63d74c7486ee93ec54c7aea6",
       "version_major": 2,
       "version_minor": 0
      },
      "text/plain": [
       "  0%|          | 0/3 [00:00<?, ?it/s]"
      ]
     },
     "metadata": {},
     "output_type": "display_data"
    },
    {
     "name": "stderr",
     "output_type": "stream",
     "text": [
      "Found cached dataset nusa_x-senti (/home/samuel/.cache/huggingface/datasets/indonlp___nusa_x-senti/jav/1.0.0/3477a395c5c7a09a74d897ceb96ebd2c3afbd1d7fad0c11d8b8026b8b08e3af5)\n"
     ]
    },
    {
     "data": {
      "application/vnd.jupyter.widget-view+json": {
       "model_id": "872fd3bcd9cd4dfaad1a8fb61be4bad0",
       "version_major": 2,
       "version_minor": 0
      },
      "text/plain": [
       "  0%|          | 0/3 [00:00<?, ?it/s]"
      ]
     },
     "metadata": {},
     "output_type": "display_data"
    },
    {
     "name": "stderr",
     "output_type": "stream",
     "text": [
      "Found cached dataset nusa_x-senti (/home/samuel/.cache/huggingface/datasets/indonlp___nusa_x-senti/mad/1.0.0/3477a395c5c7a09a74d897ceb96ebd2c3afbd1d7fad0c11d8b8026b8b08e3af5)\n"
     ]
    },
    {
     "data": {
      "application/vnd.jupyter.widget-view+json": {
       "model_id": "4b80cc76daf748489ce7e34752fda7d4",
       "version_major": 2,
       "version_minor": 0
      },
      "text/plain": [
       "  0%|          | 0/3 [00:00<?, ?it/s]"
      ]
     },
     "metadata": {},
     "output_type": "display_data"
    },
    {
     "name": "stderr",
     "output_type": "stream",
     "text": [
      "Found cached dataset nusa_x-senti (/home/samuel/.cache/huggingface/datasets/indonlp___nusa_x-senti/bug/1.0.0/3477a395c5c7a09a74d897ceb96ebd2c3afbd1d7fad0c11d8b8026b8b08e3af5)\n"
     ]
    },
    {
     "data": {
      "application/vnd.jupyter.widget-view+json": {
       "model_id": "c83c8d22031c4e9689c875b1edd8ed84",
       "version_major": 2,
       "version_minor": 0
      },
      "text/plain": [
       "  0%|          | 0/3 [00:00<?, ?it/s]"
      ]
     },
     "metadata": {},
     "output_type": "display_data"
    },
    {
     "name": "stderr",
     "output_type": "stream",
     "text": [
      "Found cached dataset nusa_x-senti (/home/samuel/.cache/huggingface/datasets/indonlp___nusa_x-senti/min/1.0.0/3477a395c5c7a09a74d897ceb96ebd2c3afbd1d7fad0c11d8b8026b8b08e3af5)\n"
     ]
    },
    {
     "data": {
      "application/vnd.jupyter.widget-view+json": {
       "model_id": "18444b39244c4017bb07097e99c168a7",
       "version_major": 2,
       "version_minor": 0
      },
      "text/plain": [
       "  0%|          | 0/3 [00:00<?, ?it/s]"
      ]
     },
     "metadata": {},
     "output_type": "display_data"
    },
    {
     "name": "stderr",
     "output_type": "stream",
     "text": [
      "Found cached dataset nusa_x-mt (/home/samuel/.cache/huggingface/datasets/indonlp___nusa_x-mt/bbc-ind/1.0.0/875114470acfddba36384fe519329688cdf068ecbffed136c7d2a4c63f8e60d0)\n"
     ]
    },
    {
     "data": {
      "application/vnd.jupyter.widget-view+json": {
       "model_id": "746085d86f0247258ded1b5c2ec0d26d",
       "version_major": 2,
       "version_minor": 0
      },
      "text/plain": [
       "  0%|          | 0/3 [00:00<?, ?it/s]"
      ]
     },
     "metadata": {},
     "output_type": "display_data"
    },
    {
     "name": "stderr",
     "output_type": "stream",
     "text": [
      "Found cached dataset nusa_x-mt (/home/samuel/.cache/huggingface/datasets/indonlp___nusa_x-mt/sun-ind/1.0.0/875114470acfddba36384fe519329688cdf068ecbffed136c7d2a4c63f8e60d0)\n"
     ]
    },
    {
     "data": {
      "application/vnd.jupyter.widget-view+json": {
       "model_id": "95f246b74dd74dfdaf675fd534970892",
       "version_major": 2,
       "version_minor": 0
      },
      "text/plain": [
       "  0%|          | 0/3 [00:00<?, ?it/s]"
      ]
     },
     "metadata": {},
     "output_type": "display_data"
    },
    {
     "name": "stderr",
     "output_type": "stream",
     "text": [
      "Found cached dataset nusa_x-mt (/home/samuel/.cache/huggingface/datasets/indonlp___nusa_x-mt/jav-ind/1.0.0/875114470acfddba36384fe519329688cdf068ecbffed136c7d2a4c63f8e60d0)\n"
     ]
    },
    {
     "data": {
      "application/vnd.jupyter.widget-view+json": {
       "model_id": "27cdd29abb1846f28478f5aec2032f20",
       "version_major": 2,
       "version_minor": 0
      },
      "text/plain": [
       "  0%|          | 0/3 [00:00<?, ?it/s]"
      ]
     },
     "metadata": {},
     "output_type": "display_data"
    },
    {
     "name": "stderr",
     "output_type": "stream",
     "text": [
      "Found cached dataset nusa_x-mt (/home/samuel/.cache/huggingface/datasets/indonlp___nusa_x-mt/mad-ind/1.0.0/875114470acfddba36384fe519329688cdf068ecbffed136c7d2a4c63f8e60d0)\n"
     ]
    },
    {
     "data": {
      "application/vnd.jupyter.widget-view+json": {
       "model_id": "009650d67d8647c1aacf405b286a5888",
       "version_major": 2,
       "version_minor": 0
      },
      "text/plain": [
       "  0%|          | 0/3 [00:00<?, ?it/s]"
      ]
     },
     "metadata": {},
     "output_type": "display_data"
    }
   ],
   "source": [
    "# NusaTranslation Senti\n",
    "nt_senti_dset = {\n",
    "\t\"btk\": load_dataset(\"indonlp/nusatranslation_senti\", name=\"nusatranslation_senti_btk_nusantara_text\"),\n",
    "\t\"sun\": load_dataset(\"indonlp/nusatranslation_senti\", name=\"nusatranslation_senti_sun_nusantara_text\"),\n",
    "\t\"jav\": load_dataset(\"indonlp/nusatranslation_senti\", name=\"nusatranslation_senti_jav_nusantara_text\"),\n",
    "\t\"mad\": load_dataset(\"indonlp/nusatranslation_senti\", name=\"nusatranslation_senti_mad_nusantara_text\"),\n",
    "\t\"mak\": load_dataset(\"indonlp/nusatranslation_senti\", name=\"nusatranslation_senti_mak_nusantara_text\"),\n",
    "\t\"min\": load_dataset(\"indonlp/nusatranslation_senti\", name=\"nusatranslation_senti_min_nusantara_text\"),\n",
    "}\n",
    "\n",
    "# NusaTranslation MT\n",
    "nt_mt_dset = {\n",
    "\t\"btk\": load_dataset(\"indonlp/nusatranslation_mt\", name=\"nusatranslation_mt_btk_ind_nusantara_t2t\"),\n",
    "\t\"sun\": load_dataset(\"indonlp/nusatranslation_mt\", name=\"nusatranslation_mt_sun_ind_nusantara_t2t\"),\n",
    "\t\"jav\": load_dataset(\"indonlp/nusatranslation_mt\", name=\"nusatranslation_mt_jav_ind_nusantara_t2t\"),\n",
    "\t\"mad\": load_dataset(\"indonlp/nusatranslation_mt\", name=\"nusatranslation_mt_mad_ind_nusantara_t2t\"),\n",
    "\t\"mak\": load_dataset(\"indonlp/nusatranslation_mt\", name=\"nusatranslation_mt_mak_ind_nusantara_t2t\"),\n",
    "\t\"min\": load_dataset(\"indonlp/nusatranslation_mt\", name=\"nusatranslation_mt_min_ind_nusantara_t2t\"),\n",
    "}\n",
    "\n",
    "# NusaX Senti\n",
    "nusax_senti_dset = {\n",
    "\t\"btk\": load_dataset(\"indonlp/NusaX-senti\", name=\"bbc\"),\n",
    "\t\"sun\": load_dataset(\"indonlp/NusaX-senti\", name=\"sun\"),\n",
    "\t\"jav\": load_dataset(\"indonlp/NusaX-senti\", name=\"jav\"),\n",
    "\t\"mad\": load_dataset(\"indonlp/NusaX-senti\", name=\"mad\"),\n",
    "\t\"mak\": load_dataset(\"indonlp/NusaX-senti\", name=\"bug\"),\n",
    "\t\"min\": load_dataset(\"indonlp/NusaX-senti\", name=\"min\"),\n",
    "}\n",
    "\n",
    "# NusaX MT ind\n",
    "nusax_mt_ind_dset = {\n",
    "\t\"btk\": load_dataset(\"indonlp/NusaX-MT\", name=\"bbc-ind\"),\n",
    "\t\"sun\": load_dataset(\"indonlp/NusaX-MT\", name=\"sun-ind\"),\n",
    "\t\"jav\": load_dataset(\"indonlp/NusaX-MT\", name=\"jav-ind\"),\n",
    "\t\"mad\": load_dataset(\"indonlp/NusaX-MT\", name=\"mad-ind\"),\n",
    "\t\"mak\": load_dataset(\"indonlp/NusaX-MT\", name=\"bug-ind\"),\n",
    "\t\"min\": load_dataset(\"indonlp/NusaX-MT\", name=\"min-ind\"),\n",
    "}\n",
    "\n",
    "# NusaX MT eng (Extended experiment)\n",
    "nusax_mt_eng_dset = {\n",
    "\t\"btk\": load_dataset(\"indonlp/NusaX-MT\", name=\"bbc-eng\"),\n",
    "\t\"sun\": load_dataset(\"indonlp/NusaX-MT\", name=\"sun-eng\"),\n",
    "\t\"jav\": load_dataset(\"indonlp/NusaX-MT\", name=\"jav-eng\"),\n",
    "\t\"mad\": load_dataset(\"indonlp/NusaX-MT\", name=\"mad-eng\"),\n",
    "\t\"mak\": load_dataset(\"indonlp/NusaX-MT\", name=\"bug-eng\"),\n",
    "\t\"min\": load_dataset(\"indonlp/NusaX-MT\", name=\"min-eng\"),\n",
    "}\n",
    "\n",
    "# MasakhaNews\n",
    "masakhanews_dset = {\n",
    "\t\"amh\": load_dataset(\"masakhane/masakhanews\", name=\"amh\"),\n",
    "\t\"hau\": load_dataset(\"masakhane/masakhanews\", name=\"hau\"),\n",
    "\t\"ibo\": load_dataset(\"masakhane/masakhanews\", name=\"ibo\"),\n",
    "\t\"lug\": load_dataset(\"masakhane/masakhanews\", name=\"lug\"),\n",
    "\t\"pcm\": load_dataset(\"masakhane/masakhanews\", name=\"pcm\"),\n",
    "\t\"sna\": load_dataset(\"masakhane/masakhanews\", name=\"sna\"),\n",
    "\t\"swa\": load_dataset(\"masakhane/masakhanews\", name=\"swa\"),\n",
    "\t\"xho\": load_dataset(\"masakhane/masakhanews\", name=\"xho\"),\n",
    "\t\"yor\": load_dataset(\"masakhane/masakhanews\", name=\"yor\"),\n",
    "}\n",
    "# MAFAND\n",
    "mafand_dset = {\n",
    "\t\"amh\": load_dataset(\"masakhane/mafand\", name=\"en-amh\"),\n",
    "\t\"hau\": load_dataset(\"masakhane/mafand\", name=\"en-hau\"),\n",
    "\t\"ibo\": load_dataset(\"masakhane/mafand\", name=\"en-ibo\"),\n",
    "\t\"lug\": load_dataset(\"masakhane/mafand\", name=\"en-lug\"),\n",
    "\t\"pcm\": load_dataset(\"masakhane/mafand\", name=\"en-pcm\"),\n",
    "\t\"sna\": load_dataset(\"masakhane/mafand\", name=\"en-sna\"),\n",
    "\t\"swa\": load_dataset(\"masakhane/mafand\", name=\"en-swa\"),\n",
    "\t\"xho\": load_dataset(\"masakhane/mafand\", name=\"en-xho\"),\n",
    "\t\"yor\": load_dataset(\"masakhane/mafand\", name=\"en-yor\"),\n",
    "}\n",
    "\n",
    "# AmericasNLI\n",
    "americasnli_dset = {\n",
    "\t\"aym\": load_dataset(\"americas_nli\", name=\"aym\"),\n",
    "\t\"bzd\": load_dataset(\"americas_nli\", name=\"bzd\"),\n",
    "\t\"cni\": load_dataset(\"americas_nli\", name=\"cni\"),\n",
    "\t\"gn\": load_dataset(\"americas_nli\", name=\"gn\"),\n",
    "\t\"hch\": load_dataset(\"americas_nli\", name=\"hch\"),\n",
    "\t\"nah\": load_dataset(\"americas_nli\", name=\"nah\"),\n",
    "\t\"oto\": load_dataset(\"americas_nli\", name=\"oto\"),\n",
    "\t\"quy\": load_dataset(\"americas_nli\", name=\"quy\"),\n",
    "\t\"shp\": load_dataset(\"americas_nli\", name=\"shp\"),\n",
    "\t\"tar\": load_dataset(\"americas_nli\", name=\"tar\"),\n",
    "}\n",
    "\n",
    "# XNLI (es)\n",
    "xnli_es_dset = load_dataset(\"xnli\", name=\"es\")"
   ]
  },
  {
   "cell_type": "markdown",
   "id": "046006c2-fc6d-4667-b731-dc2b6a1ed104",
   "metadata": {},
   "source": [
    "# Standardize Dataset"
   ]
  },
  {
   "cell_type": "markdown",
   "id": "d1e76ea2-4a43-44a7-8588-61463aa32a3d",
   "metadata": {},
   "source": [
    "### NLU Dataset"
   ]
  },
  {
   "cell_type": "code",
   "execution_count": null,
   "id": "c5d4369c-91ca-4ea7-8da7-7781585286c4",
   "metadata": {},
   "outputs": [],
   "source": [
    "####\n",
    "# Single-Sentence Classification [text, label]\n",
    "# Pair-Sentence Classification [text_1, text_2, label]\n",
    "####\n",
    "save_path = './'\n",
    "\n",
    "# Process NusaTranslation Senti\n",
    "nt_senti_dset_clean = {}\n",
    "for key in nt_senti_dset.keys():\n",
    "    dset = nt_senti_dset[key]['test'].remove_columns(['id'])\n",
    "    nt_senti_dset_clean[key] = dset\n",
    "nt_senti_dset_clean = datasets.DatasetDict(nt_senti_dset_clean)\n",
    "\n",
    "# Process NusaX Senti\n",
    "nusax_senti_dset_clean = {}\n",
    "for key in nusax_senti_dset.keys():\n",
    "    dset = nusax_senti_dset[key]['test'].remove_columns(['id', 'lang'])\n",
    "    nusax_senti_dset_clean[key] = dset\n",
    "nusax_senti_dset_clean = datasets.DatasetDict(nusax_senti_dset_clean)\n",
    "\n",
    "# Process MasakhaNews Senti\n",
    "masakhanews_dset_clean = {}\n",
    "for key in masakhanews_dset.keys():\n",
    "    dset = masakhanews_dset[key]['test'].remove_columns(['text', 'headline_text', 'url'])\n",
    "    dset = dset.rename_columns({'headline': 'text'})\n",
    "    masakhanews_dset_clean[key] = dset\n",
    "masakhanews_dset_clean = datasets.DatasetDict(masakhanews_dset_clean)\n",
    "\n",
    "# Process AmericasNLI Senti\n",
    "americasnli_dset_clean = {}\n",
    "for key in americasnli_dset.keys():\n",
    "    dset = americasnli_dset[key]['test']\n",
    "    americasnli_dset_clean[key] = dset\n",
    "americasnli_dset_clean = datasets.DatasetDict(americasnli_dset_clean)\n",
    "\n",
    "# xnli_es_dset_clean = xnli_es_dset['test'].rename_columns({'premise': 'text_1', 'hypothesis': 'text_2'})\n",
    "\n",
    "nt_senti_dset_clean.save_to_disk(f'{save_path}/nt_senti_dset_clean')\n",
    "nusax_senti_dset_clean.save_to_disk(f'{save_path}/nusax_senti_dset_clean')\n",
    "masakhanews_dset_clean.save_to_disk(f'{save_path}/masakhanews_dset_clean')\n",
    "americasnli_dset_clean.save_to_disk(f'{save_path}/americasnli_dset_clean')"
   ]
  },
  {
   "cell_type": "markdown",
   "id": "29044d0b-cd2e-4e7d-95f8-cab94b36c64c",
   "metadata": {
    "tags": []
   },
   "source": [
    "### MT Dataset"
   ]
  },
  {
   "cell_type": "code",
   "execution_count": null,
   "id": "72498d8a-7e67-40d6-acfd-05ba36e4f7b6",
   "metadata": {},
   "outputs": [],
   "source": [
    "####\n",
    "# MT [text_1, text_2]\n",
    "####\n",
    "save_path = './'\n",
    "\n",
    "# Process NusaTranslation MT\n",
    "nt_mt_dset_clean = {}\n",
    "for key in nt_mt_dset.keys():\n",
    "    dset = []\n",
    "    for split in nt_mt_dset[key].keys():\n",
    "        dset.append(nt_mt_dset[key][split].remove_columns(['id', 'text_1_name', 'text_2_name']))\n",
    "    nt_mt_dset_clean[key] = datasets.concatenate_datasets(dset)\n",
    "nt_mt_dset_clean = datasets.DatasetDict(nt_mt_dset_clean)\n",
    "\n",
    "# Process NusaX MT ind\n",
    "nusax_mt_ind_dset_clean = {}\n",
    "for key in nusax_mt_ind_dset.keys():\n",
    "    dset = []\n",
    "    for split in nusax_mt_ind_dset[key].keys():\n",
    "        dset.append(nusax_mt_ind_dset[key][split].remove_columns(['id', 'text_1_lang', 'text_2_lang']))\n",
    "    nusax_mt_ind_dset_clean[key] = datasets.concatenate_datasets(dset)\n",
    "nusax_mt_ind_dset_clean = datasets.DatasetDict(nusax_mt_ind_dset_clean)\n",
    "\n",
    "# Process NusaX MT eng\n",
    "nusax_mt_eng_dset_clean = {}\n",
    "for key in nusax_mt_eng_dset.keys():\n",
    "    dset = []\n",
    "    for split in nusax_mt_eng_dset[key].keys():\n",
    "        dset.append(nusax_mt_eng_dset[key][split].remove_columns(['id', 'text_1_lang', 'text_2_lang']))\n",
    "    nusax_mt_eng_dset_clean[key] = datasets.concatenate_datasets(dset)\n",
    "nusax_mt_eng_dset_clean = datasets.DatasetDict(nusax_mt_eng_dset_clean)\n",
    "\n",
    "# Process MAFAND\n",
    "mafand_dset_clean = {}\n",
    "for key in mafand_dset.keys():\n",
    "    tmp_dset = {'text_1': [], 'text_2': []}\n",
    "    for split in mafand_dset[key].keys():        \n",
    "        for i in range(len(mafand_dset[key][split])):\n",
    "            tmp_dset['text_1'].append(mafand_dset[key][split][i]['translation'][key])\n",
    "            tmp_dset['text_2'].append(mafand_dset[key][split][i]['translation']['en'])\n",
    "    mafand_dset_clean[key] = datasets.Dataset.from_dict(tmp_dset)\n",
    "mafand_dset_clean = datasets.DatasetDict(mafand_dset_clean)\n",
    "\n",
    "# Save all datasets\n",
    "nt_mt_dset_clean.save_to_disk(f'{save_path}/nt_mt_dset_clean')\n",
    "nusax_mt_ind_dset_clean.save_to_disk(f'{save_path}/nusax_mt_ind_dset_clean')\n",
    "nusax_mt_eng_dset_clean.save_to_disk(f'{save_path}/nusax_mt_eng_dset_clean')\n",
    "mafand_dset_clean.save_to_disk(f'{save_path}/mafand_dset_clean')"
   ]
  },
  {
   "cell_type": "markdown",
   "id": "d38f5fb6-5b14-4425-b8c9-d59a81c739d4",
   "metadata": {},
   "source": [
    "### Merge Dataset"
   ]
  },
  {
   "cell_type": "code",
   "execution_count": null,
   "id": "54aebc90-4457-4b0f-b3f4-fb1772d3a037",
   "metadata": {},
   "outputs": [],
   "source": [
    "####\n",
    "# Combined [text_1, text_2, label]\n",
    "####\n",
    "# Process NusaX Combined ind\n",
    "nusax_combined_ind_dset = {}\n",
    "for key in nusax_senti_dset.keys():\n",
    "    dset = []\n",
    "    for split in nusax_senti_dset[key].keys():\n",
    "        dset.append(nusax_senti_dset[key][split].remove_columns(['id', 'lang', 'text']))\n",
    "    nusax_combined_ind_dset[key] = datasets.concatenate_datasets([\n",
    "        datasets.concatenate_datasets(dset),\n",
    "        nusax_mt_ind_dset_clean[key]\n",
    "    ], axis=1)\n",
    "nusax_combined_ind_dset = datasets.DatasetDict(nusax_combined_ind_dset)\n",
    "\n",
    "# Process NusaX Combined ind\n",
    "nusax_combined_eng_dset = {}\n",
    "for key in nusax_senti_dset.keys():\n",
    "    dset = []\n",
    "    for split in nusax_senti_dset[key].keys():\n",
    "        dset.append(nusax_senti_dset[key][split].remove_columns(['id', 'lang', 'text']))\n",
    "    nusax_combined_eng_dset[key] = datasets.concatenate_datasets([\n",
    "        datasets.concatenate_datasets(dset),\n",
    "        nusax_mt_eng_dset_clean[key]\n",
    "    ], axis=1)\n",
    "nusax_combined_eng_dset = datasets.DatasetDict(nusax_combined_eng_dset)\n",
    "\n",
    "nusax_combined_ind_dset.save_to_disk(f'{save_path}/nusax_combined_ind_dset')\n",
    "nusax_combined_eng_dset.save_to_disk(f'{save_path}/nusax_combined_eng_dset')"
   ]
  },
  {
   "cell_type": "code",
   "execution_count": null,
   "id": "66fcab5b-ee4a-4993-9869-9488b2853d48",
   "metadata": {
    "tags": []
   },
   "outputs": [],
   "source": [
    "####\n",
    "# Process AmericasNLI - XNLI Combined\n",
    "####\n",
    "\n",
    "# Row offset from the original XNLI dataset == id in the original AmericasNLI\n",
    "# We need to substract the id by the row offset (12450) to get the relative index from HF XNLI spanish data \n",
    "offset_idx = 12450 # https://github.com/abteen/americasnli/blob/main/data/anli_final/dev/aym.tsv\n",
    "xnli_df = pd.read_csv('XNLI-1.0/xnli.dev.tsv', sep='\\t').reset_index()\n",
    "americasnli_combined_dset = {}\n",
    "for key in americasnli_dset.keys():\n",
    "    anli_df = pd.read_csv(f'https://github.com/abteen/americasnli/raw/main/data/anli_final/dev/{key}.tsv', sep='\\t')\n",
    "    anli_dset = datasets.Dataset.from_pandas(\n",
    "        anli_df[['premise', 'hypothesis', 'label']].rename({\n",
    "            'premise': 'premise_1', 'hypothesis': 'hypothesis_1'\n",
    "        }, axis='columns')\n",
    "    )    \n",
    "    \n",
    "    xnli_idxs = (anli_df.id - offset_idx).tolist()\n",
    "    xnli_dset = datasets.Dataset.from_pandas(\n",
    "        xnli_df.loc[anli_df.id-1, ['sentence1', 'sentence2']].rename({\n",
    "            'sentence1': 'premise_2', 'sentence2': 'hypothesis_2'\n",
    "        }, axis='columns')\n",
    "    ).remove_columns('__index_level_0__')\n",
    "    americasnli_combined_dset[key] = datasets.concatenate_datasets([anli_dset, xnli_dset], axis=1)\n",
    "americasnli_combined_dset = datasets.DatasetDict(americasnli_combined_dset)\n",
    "americasnli_combined_dset.save_to_disk(f'{save_path}/americasnli_combined_dset')"
   ]
  },
  {
   "cell_type": "code",
   "execution_count": null,
   "id": "4658cfc0-5c42-44bd-9ad7-24b66eff6a9b",
   "metadata": {},
   "outputs": [],
   "source": []
  }
 ],
 "metadata": {
  "kernelspec": {
   "display_name": "Python (env_instruct_align)",
   "language": "python",
   "name": "env_instruct_align"
  },
  "language_info": {
   "codemirror_mode": {
    "name": "ipython",
    "version": 3
   },
   "file_extension": ".py",
   "mimetype": "text/x-python",
   "name": "python",
   "nbconvert_exporter": "python",
   "pygments_lexer": "ipython3",
   "version": "3.10.4"
  }
 },
 "nbformat": 4,
 "nbformat_minor": 5
}
